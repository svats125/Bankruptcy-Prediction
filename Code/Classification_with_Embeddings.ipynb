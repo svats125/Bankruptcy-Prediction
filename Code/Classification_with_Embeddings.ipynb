{
 "cells": [
  {
   "cell_type": "markdown",
   "id": "a9df1f6d",
   "metadata": {},
   "source": [
    "**Generation of Embeddings**"
   ]
  },
  {
   "cell_type": "code",
   "execution_count": 1,
   "id": "13fe6939",
   "metadata": {},
   "outputs": [
    {
     "name": "stderr",
     "output_type": "stream",
     "text": [
      "C:\\Users\\raksh\\anaconda3\\lib\\site-packages\\scipy\\__init__.py:146: UserWarning: A NumPy version >=1.16.5 and <1.23.0 is required for this version of SciPy (detected version 1.24.4\n",
      "  warnings.warn(f\"A NumPy version >={np_minversion} and <{np_maxversion}\"\n",
      "Reconstructing all label-based triples. This is expensive and rarely needed.\n",
      "No random seed is specified. Setting to 2811408364.\n"
     ]
    },
    {
     "name": "stdout",
     "output_type": "stream",
     "text": [
      "0 AA01_triplets.csv\n"
     ]
    },
    {
     "data": {
      "application/vnd.jupyter.widget-view+json": {
       "model_id": "a26f51996a064305b2815223e0373a96",
       "version_major": 2,
       "version_minor": 0
      },
      "text/plain": [
       "Training epochs on cuda:0:   0%|          | 0/25 [00:00<?, ?epoch/s]"
      ]
     },
     "metadata": {},
     "output_type": "display_data"
    },
    {
     "data": {
      "application/vnd.jupyter.widget-view+json": {
       "model_id": "f8164dc296324de29e0bd56641f7246f",
       "version_major": 2,
       "version_minor": 0
      },
      "text/plain": [
       "Evaluating on cuda:0:   0%|          | 0.00/55.0 [00:00<?, ?triple/s]"
      ]
     },
     "metadata": {},
     "output_type": "display_data"
    },
    {
     "name": "stderr",
     "output_type": "stream",
     "text": [
      "INFO:pykeen.evaluation.evaluator:Evaluation took 0.30s seconds\n",
      "WARNING:pykeen.pipeline.api:No random seed is specified. Setting to 3203241656.\n",
      "INFO:pykeen.pipeline.api:Using device: None\n"
     ]
    },
    {
     "data": {
      "application/vnd.jupyter.widget-view+json": {
       "model_id": "ff6b0be9ac8e4ea288ab3d71571bb249",
       "version_major": 2,
       "version_minor": 0
      },
      "text/plain": [
       "Training epochs on cuda:0:   0%|          | 0/25 [00:00<?, ?epoch/s]"
      ]
     },
     "metadata": {},
     "output_type": "display_data"
    },
    {
     "data": {
      "application/vnd.jupyter.widget-view+json": {
       "model_id": "7e21e53367e44609bbe0f24941833c42",
       "version_major": 2,
       "version_minor": 0
      },
      "text/plain": [
       "Evaluating on cuda:0:   0%|          | 0.00/55.0 [00:00<?, ?triple/s]"
      ]
     },
     "metadata": {},
     "output_type": "display_data"
    },
    {
     "name": "stderr",
     "output_type": "stream",
     "text": [
      "INFO:pykeen.evaluation.evaluator:Evaluation took 0.10s seconds\n",
      "WARNING:pykeen.triples.triples_factory:Reconstructing all label-based triples. This is expensive and rarely needed.\n",
      "WARNING:pykeen.pipeline.api:No random seed is specified. Setting to 3203241656.\n",
      "INFO:pykeen.pipeline.api:Using device: None\n"
     ]
    },
    {
     "name": "stdout",
     "output_type": "stream",
     "text": [
      "1 ABG01_triplets.csv\n"
     ]
    },
    {
     "data": {
      "application/vnd.jupyter.widget-view+json": {
       "model_id": "5e9edec83aac4533b07fa4f03107c827",
       "version_major": 2,
       "version_minor": 0
      },
      "text/plain": [
       "Training epochs on cuda:0:   0%|          | 0/25 [00:00<?, ?epoch/s]"
      ]
     },
     "metadata": {},
     "output_type": "display_data"
    },
    {
     "data": {
      "application/vnd.jupyter.widget-view+json": {
       "model_id": "34d46c4ce9a3436491b9d7d78c812e51",
       "version_major": 2,
       "version_minor": 0
      },
      "text/plain": [
       "Evaluating on cuda:0:   0%|          | 0.00/31.0 [00:00<?, ?triple/s]"
      ]
     },
     "metadata": {},
     "output_type": "display_data"
    },
    {
     "name": "stderr",
     "output_type": "stream",
     "text": [
      "INFO:pykeen.evaluation.evaluator:Evaluation took 0.11s seconds\n",
      "WARNING:pykeen.pipeline.api:No random seed is specified. Setting to 3203241656.\n",
      "INFO:pykeen.pipeline.api:Using device: None\n"
     ]
    },
    {
     "data": {
      "application/vnd.jupyter.widget-view+json": {
       "model_id": "d33fb6f125274a94bfdb64d1e44cc6be",
       "version_major": 2,
       "version_minor": 0
      },
      "text/plain": [
       "Training epochs on cuda:0:   0%|          | 0/25 [00:00<?, ?epoch/s]"
      ]
     },
     "metadata": {},
     "output_type": "display_data"
    },
    {
     "data": {
      "application/vnd.jupyter.widget-view+json": {
       "model_id": "808fa52800e147d8abef18cbcecbb425",
       "version_major": 2,
       "version_minor": 0
      },
      "text/plain": [
       "Evaluating on cuda:0:   0%|          | 0.00/31.0 [00:00<?, ?triple/s]"
      ]
     },
     "metadata": {},
     "output_type": "display_data"
    },
    {
     "name": "stderr",
     "output_type": "stream",
     "text": [
      "INFO:pykeen.evaluation.evaluator:Evaluation took 0.11s seconds\n",
      "WARNING:pykeen.triples.triples_factory:Reconstructing all label-based triples. This is expensive and rarely needed.\n",
      "WARNING:pykeen.pipeline.api:No random seed is specified. Setting to 3203241656.\n",
      "INFO:pykeen.pipeline.api:Using device: None\n"
     ]
    },
    {
     "name": "stdout",
     "output_type": "stream",
     "text": [
      "2 AC12_triplets.csv\n"
     ]
    },
    {
     "data": {
      "application/vnd.jupyter.widget-view+json": {
       "model_id": "ca69035bddb24fa3a8c0748e71455f26",
       "version_major": 2,
       "version_minor": 0
      },
      "text/plain": [
       "Training epochs on cuda:0:   0%|          | 0/25 [00:00<?, ?epoch/s]"
      ]
     },
     "metadata": {},
     "output_type": "display_data"
    },
    {
     "data": {
      "application/vnd.jupyter.widget-view+json": {
       "model_id": "6de9a45944b8480a8c0e1cbd68acb127",
       "version_major": 2,
       "version_minor": 0
      },
      "text/plain": [
       "Evaluating on cuda:0:   0%|          | 0.00/51.0 [00:00<?, ?triple/s]"
      ]
     },
     "metadata": {},
     "output_type": "display_data"
    },
    {
     "name": "stderr",
     "output_type": "stream",
     "text": [
      "INFO:pykeen.evaluation.evaluator:Evaluation took 0.10s seconds\n",
      "WARNING:pykeen.pipeline.api:No random seed is specified. Setting to 3203241656.\n",
      "INFO:pykeen.pipeline.api:Using device: None\n"
     ]
    },
    {
     "data": {
      "application/vnd.jupyter.widget-view+json": {
       "model_id": "d771e7ebdc284882821a13a73508555e",
       "version_major": 2,
       "version_minor": 0
      },
      "text/plain": [
       "Training epochs on cuda:0:   0%|          | 0/25 [00:00<?, ?epoch/s]"
      ]
     },
     "metadata": {},
     "output_type": "display_data"
    },
    {
     "data": {
      "application/vnd.jupyter.widget-view+json": {
       "model_id": "bbf393e959c147158d4e6aab90b3e97e",
       "version_major": 2,
       "version_minor": 0
      },
      "text/plain": [
       "Evaluating on cuda:0:   0%|          | 0.00/51.0 [00:00<?, ?triple/s]"
      ]
     },
     "metadata": {},
     "output_type": "display_data"
    },
    {
     "name": "stderr",
     "output_type": "stream",
     "text": [
      "INFO:pykeen.evaluation.evaluator:Evaluation took 0.10s seconds\n",
      "WARNING:pykeen.triples.triples_factory:Reconstructing all label-based triples. This is expensive and rarely needed.\n",
      "WARNING:pykeen.pipeline.api:No random seed is specified. Setting to 3203241656.\n",
      "INFO:pykeen.pipeline.api:Using device: None\n"
     ]
    },
    {
     "name": "stdout",
     "output_type": "stream",
     "text": [
      "3 ADANI54145_triplets.csv\n"
     ]
    },
    {
     "data": {
      "application/vnd.jupyter.widget-view+json": {
       "model_id": "4b69d554df6b470cb85ae085182a8f3d",
       "version_major": 2,
       "version_minor": 0
      },
      "text/plain": [
       "Training epochs on cuda:0:   0%|          | 0/25 [00:00<?, ?epoch/s]"
      ]
     },
     "metadata": {},
     "output_type": "display_data"
    },
    {
     "data": {
      "application/vnd.jupyter.widget-view+json": {
       "model_id": "36f1e0734fe84cb7b9c0949c00f6a654",
       "version_major": 2,
       "version_minor": 0
      },
      "text/plain": [
       "Evaluating on cuda:0:   0%|          | 0.00/64.0 [00:00<?, ?triple/s]"
      ]
     },
     "metadata": {},
     "output_type": "display_data"
    },
    {
     "name": "stderr",
     "output_type": "stream",
     "text": [
      "INFO:pykeen.evaluation.evaluator:Evaluation took 0.13s seconds\n",
      "WARNING:pykeen.pipeline.api:No random seed is specified. Setting to 3203241656.\n",
      "INFO:pykeen.pipeline.api:Using device: None\n"
     ]
    },
    {
     "data": {
      "application/vnd.jupyter.widget-view+json": {
       "model_id": "b02682d0d59e4f9b9c97c05d405dc7a6",
       "version_major": 2,
       "version_minor": 0
      },
      "text/plain": [
       "Training epochs on cuda:0:   0%|          | 0/25 [00:00<?, ?epoch/s]"
      ]
     },
     "metadata": {},
     "output_type": "display_data"
    },
    {
     "data": {
      "application/vnd.jupyter.widget-view+json": {
       "model_id": "5eb57dbf1da34680b878558730e3103e",
       "version_major": 2,
       "version_minor": 0
      },
      "text/plain": [
       "Evaluating on cuda:0:   0%|          | 0.00/64.0 [00:00<?, ?triple/s]"
      ]
     },
     "metadata": {},
     "output_type": "display_data"
    },
    {
     "name": "stderr",
     "output_type": "stream",
     "text": [
      "INFO:pykeen.evaluation.evaluator:Evaluation took 0.08s seconds\n",
      "WARNING:pykeen.triples.triples_factory:Reconstructing all label-based triples. This is expensive and rarely needed.\n",
      "WARNING:pykeen.pipeline.api:No random seed is specified. Setting to 3203241656.\n",
      "INFO:pykeen.pipeline.api:Using device: None\n"
     ]
    },
    {
     "name": "stdout",
     "output_type": "stream",
     "text": [
      "4 AE01_triplets.csv\n"
     ]
    },
    {
     "data": {
      "application/vnd.jupyter.widget-view+json": {
       "model_id": "1a52a235299e4230974d067d17097b5b",
       "version_major": 2,
       "version_minor": 0
      },
      "text/plain": [
       "Training epochs on cuda:0:   0%|          | 0/25 [00:00<?, ?epoch/s]"
      ]
     },
     "metadata": {},
     "output_type": "display_data"
    },
    {
     "data": {
      "application/vnd.jupyter.widget-view+json": {
       "model_id": "4c14e9148ba0482b9f39ba4ba055bd7b",
       "version_major": 2,
       "version_minor": 0
      },
      "text/plain": [
       "Evaluating on cuda:0:   0%|          | 0.00/61.0 [00:00<?, ?triple/s]"
      ]
     },
     "metadata": {},
     "output_type": "display_data"
    },
    {
     "name": "stderr",
     "output_type": "stream",
     "text": [
      "INFO:pykeen.evaluation.evaluator:Evaluation took 0.13s seconds\n",
      "WARNING:pykeen.pipeline.api:No random seed is specified. Setting to 3203241656.\n",
      "INFO:pykeen.pipeline.api:Using device: None\n"
     ]
    },
    {
     "data": {
      "application/vnd.jupyter.widget-view+json": {
       "model_id": "beac3b87ef074028a3e840d5f01378af",
       "version_major": 2,
       "version_minor": 0
      },
      "text/plain": [
       "Training epochs on cuda:0:   0%|          | 0/25 [00:00<?, ?epoch/s]"
      ]
     },
     "metadata": {},
     "output_type": "display_data"
    },
    {
     "data": {
      "application/vnd.jupyter.widget-view+json": {
       "model_id": "7fbc2f5988e2421fad99cadd6cb745da",
       "version_major": 2,
       "version_minor": 0
      },
      "text/plain": [
       "Evaluating on cuda:0:   0%|          | 0.00/61.0 [00:00<?, ?triple/s]"
      ]
     },
     "metadata": {},
     "output_type": "display_data"
    },
    {
     "name": "stderr",
     "output_type": "stream",
     "text": [
      "INFO:pykeen.evaluation.evaluator:Evaluation took 0.13s seconds\n",
      "WARNING:pykeen.triples.triples_factory:Reconstructing all label-based triples. This is expensive and rarely needed.\n",
      "WARNING:pykeen.pipeline.api:No random seed is specified. Setting to 3203241656.\n",
      "INFO:pykeen.pipeline.api:Using device: None\n"
     ]
    },
    {
     "name": "stdout",
     "output_type": "stream",
     "text": [
      "5 AI49_triplets.csv\n"
     ]
    },
    {
     "data": {
      "application/vnd.jupyter.widget-view+json": {
       "model_id": "da56ecf43ccf49039d0ebed80aef60e3",
       "version_major": 2,
       "version_minor": 0
      },
      "text/plain": [
       "Training epochs on cuda:0:   0%|          | 0/25 [00:00<?, ?epoch/s]"
      ]
     },
     "metadata": {},
     "output_type": "display_data"
    },
    {
     "data": {
      "application/vnd.jupyter.widget-view+json": {
       "model_id": "62976d9a786b4425895d8aad57a9c479",
       "version_major": 2,
       "version_minor": 0
      },
      "text/plain": [
       "Evaluating on cuda:0:   0%|          | 0.00/53.0 [00:00<?, ?triple/s]"
      ]
     },
     "metadata": {},
     "output_type": "display_data"
    },
    {
     "name": "stderr",
     "output_type": "stream",
     "text": [
      "INFO:pykeen.evaluation.evaluator:Evaluation took 0.09s seconds\n",
      "WARNING:pykeen.pipeline.api:No random seed is specified. Setting to 3203241656.\n",
      "INFO:pykeen.pipeline.api:Using device: None\n"
     ]
    },
    {
     "data": {
      "application/vnd.jupyter.widget-view+json": {
       "model_id": "fc91675ceb6543cb80a93c56ab470ff0",
       "version_major": 2,
       "version_minor": 0
      },
      "text/plain": [
       "Training epochs on cuda:0:   0%|          | 0/25 [00:00<?, ?epoch/s]"
      ]
     },
     "metadata": {},
     "output_type": "display_data"
    },
    {
     "data": {
      "application/vnd.jupyter.widget-view+json": {
       "model_id": "e414d4f596694fbf8f08f9301bfe30ff",
       "version_major": 2,
       "version_minor": 0
      },
      "text/plain": [
       "Evaluating on cuda:0:   0%|          | 0.00/53.0 [00:00<?, ?triple/s]"
      ]
     },
     "metadata": {},
     "output_type": "display_data"
    },
    {
     "name": "stderr",
     "output_type": "stream",
     "text": [
      "INFO:pykeen.evaluation.evaluator:Evaluation took 0.11s seconds\n",
      "WARNING:pykeen.triples.triples_factory:Reconstructing all label-based triples. This is expensive and rarely needed.\n",
      "WARNING:pykeen.pipeline.api:No random seed is specified. Setting to 3203241656.\n",
      "INFO:pykeen.pipeline.api:Using device: None\n"
     ]
    },
    {
     "name": "stdout",
     "output_type": "stream",
     "text": [
      "6 AM07_triplets.csv\n"
     ]
    },
    {
     "data": {
      "application/vnd.jupyter.widget-view+json": {
       "model_id": "b939c1617aaf4fd5a46cb04b4190ef82",
       "version_major": 2,
       "version_minor": 0
      },
      "text/plain": [
       "Training epochs on cuda:0:   0%|          | 0/25 [00:00<?, ?epoch/s]"
      ]
     },
     "metadata": {},
     "output_type": "display_data"
    },
    {
     "data": {
      "application/vnd.jupyter.widget-view+json": {
       "model_id": "a00b8fe99cff41d58b383b1141ebabd1",
       "version_major": 2,
       "version_minor": 0
      },
      "text/plain": [
       "Evaluating on cuda:0:   0%|          | 0.00/45.0 [00:00<?, ?triple/s]"
      ]
     },
     "metadata": {},
     "output_type": "display_data"
    },
    {
     "name": "stderr",
     "output_type": "stream",
     "text": [
      "INFO:pykeen.evaluation.evaluator:Evaluation took 0.12s seconds\n",
      "WARNING:pykeen.pipeline.api:No random seed is specified. Setting to 3203241656.\n",
      "INFO:pykeen.pipeline.api:Using device: None\n"
     ]
    },
    {
     "data": {
      "application/vnd.jupyter.widget-view+json": {
       "model_id": "a25a7a623544449692b2128b38972fb6",
       "version_major": 2,
       "version_minor": 0
      },
      "text/plain": [
       "Training epochs on cuda:0:   0%|          | 0/25 [00:00<?, ?epoch/s]"
      ]
     },
     "metadata": {},
     "output_type": "display_data"
    },
    {
     "data": {
      "application/vnd.jupyter.widget-view+json": {
       "model_id": "39916b6fef1a446dbb860cb3d4f754a6",
       "version_major": 2,
       "version_minor": 0
      },
      "text/plain": [
       "Evaluating on cuda:0:   0%|          | 0.00/45.0 [00:00<?, ?triple/s]"
      ]
     },
     "metadata": {},
     "output_type": "display_data"
    },
    {
     "name": "stderr",
     "output_type": "stream",
     "text": [
      "INFO:pykeen.evaluation.evaluator:Evaluation took 0.13s seconds\n",
      "WARNING:pykeen.triples.triples_factory:Reconstructing all label-based triples. This is expensive and rarely needed.\n",
      "WARNING:pykeen.pipeline.api:No random seed is specified. Setting to 3203241656.\n",
      "INFO:pykeen.pipeline.api:Using device: None\n"
     ]
    },
    {
     "name": "stdout",
     "output_type": "stream",
     "text": [
      "7 AM9_triplets.csv\n"
     ]
    },
    {
     "data": {
      "application/vnd.jupyter.widget-view+json": {
       "model_id": "43d223246a5340a5b3c252734fbe1d82",
       "version_major": 2,
       "version_minor": 0
      },
      "text/plain": [
       "Training epochs on cuda:0:   0%|          | 0/25 [00:00<?, ?epoch/s]"
      ]
     },
     "metadata": {},
     "output_type": "display_data"
    },
    {
     "data": {
      "application/vnd.jupyter.widget-view+json": {
       "model_id": "460bf217bfe6499a90e263285644f9bb",
       "version_major": 2,
       "version_minor": 0
      },
      "text/plain": [
       "Evaluating on cuda:0:   0%|          | 0.00/36.0 [00:00<?, ?triple/s]"
      ]
     },
     "metadata": {},
     "output_type": "display_data"
    },
    {
     "name": "stderr",
     "output_type": "stream",
     "text": [
      "INFO:pykeen.evaluation.evaluator:Evaluation took 0.11s seconds\n",
      "WARNING:pykeen.pipeline.api:No random seed is specified. Setting to 3203241656.\n",
      "INFO:pykeen.pipeline.api:Using device: None\n"
     ]
    },
    {
     "data": {
      "application/vnd.jupyter.widget-view+json": {
       "model_id": "92b505c804fa4370ba8ab91c3a55bb0d",
       "version_major": 2,
       "version_minor": 0
      },
      "text/plain": [
       "Training epochs on cuda:0:   0%|          | 0/25 [00:00<?, ?epoch/s]"
      ]
     },
     "metadata": {},
     "output_type": "display_data"
    },
    {
     "data": {
      "application/vnd.jupyter.widget-view+json": {
       "model_id": "dcb1bdcdfd034f7dbbe299b858a63cba",
       "version_major": 2,
       "version_minor": 0
      },
      "text/plain": [
       "Evaluating on cuda:0:   0%|          | 0.00/36.0 [00:00<?, ?triple/s]"
      ]
     },
     "metadata": {},
     "output_type": "display_data"
    },
    {
     "name": "stderr",
     "output_type": "stream",
     "text": [
      "INFO:pykeen.evaluation.evaluator:Evaluation took 0.11s seconds\n",
      "WARNING:pykeen.triples.triples_factory:Reconstructing all label-based triples. This is expensive and rarely needed.\n",
      "WARNING:pykeen.pipeline.api:No random seed is specified. Setting to 3203241656.\n",
      "INFO:pykeen.pipeline.api:Using device: None\n"
     ]
    },
    {
     "name": "stdout",
     "output_type": "stream",
     "text": [
      "8 API_triplets.csv\n"
     ]
    },
    {
     "data": {
      "application/vnd.jupyter.widget-view+json": {
       "model_id": "7bcf9be9859f48e5a63ca9b1d81041f7",
       "version_major": 2,
       "version_minor": 0
      },
      "text/plain": [
       "Training epochs on cuda:0:   0%|          | 0/25 [00:00<?, ?epoch/s]"
      ]
     },
     "metadata": {},
     "output_type": "display_data"
    },
    {
     "data": {
      "application/vnd.jupyter.widget-view+json": {
       "model_id": "bf16e63609014685be14571acffa1533",
       "version_major": 2,
       "version_minor": 0
      },
      "text/plain": [
       "Evaluating on cuda:0:   0%|          | 0.00/47.0 [00:00<?, ?triple/s]"
      ]
     },
     "metadata": {},
     "output_type": "display_data"
    },
    {
     "name": "stderr",
     "output_type": "stream",
     "text": [
      "INFO:pykeen.evaluation.evaluator:Evaluation took 0.14s seconds\n",
      "WARNING:pykeen.pipeline.api:No random seed is specified. Setting to 3203241656.\n",
      "INFO:pykeen.pipeline.api:Using device: None\n"
     ]
    },
    {
     "data": {
      "application/vnd.jupyter.widget-view+json": {
       "model_id": "d39a31f8914e48ef92d88e7b6613d05b",
       "version_major": 2,
       "version_minor": 0
      },
      "text/plain": [
       "Training epochs on cuda:0:   0%|          | 0/25 [00:00<?, ?epoch/s]"
      ]
     },
     "metadata": {},
     "output_type": "display_data"
    },
    {
     "data": {
      "application/vnd.jupyter.widget-view+json": {
       "model_id": "72ea71526ed44393b900318c8048272f",
       "version_major": 2,
       "version_minor": 0
      },
      "text/plain": [
       "Evaluating on cuda:0:   0%|          | 0.00/47.0 [00:00<?, ?triple/s]"
      ]
     },
     "metadata": {},
     "output_type": "display_data"
    },
    {
     "name": "stderr",
     "output_type": "stream",
     "text": [
      "INFO:pykeen.evaluation.evaluator:Evaluation took 0.13s seconds\n",
      "WARNING:pykeen.triples.triples_factory:Reconstructing all label-based triples. This is expensive and rarely needed.\n",
      "WARNING:pykeen.pipeline.api:No random seed is specified. Setting to 3203241656.\n",
      "INFO:pykeen.pipeline.api:Using device: None\n"
     ]
    },
    {
     "name": "stdout",
     "output_type": "stream",
     "text": [
      "9 AS28_triplets.csv\n"
     ]
    },
    {
     "data": {
      "application/vnd.jupyter.widget-view+json": {
       "model_id": "9627a32e01a14b80a186a9a74565d33e",
       "version_major": 2,
       "version_minor": 0
      },
      "text/plain": [
       "Training epochs on cuda:0:   0%|          | 0/25 [00:00<?, ?epoch/s]"
      ]
     },
     "metadata": {},
     "output_type": "display_data"
    },
    {
     "data": {
      "application/vnd.jupyter.widget-view+json": {
       "model_id": "0fbe7a89ec7e487f8d3a40e0318ea6b4",
       "version_major": 2,
       "version_minor": 0
      },
      "text/plain": [
       "Evaluating on cuda:0:   0%|          | 0.00/45.0 [00:00<?, ?triple/s]"
      ]
     },
     "metadata": {},
     "output_type": "display_data"
    },
    {
     "name": "stderr",
     "output_type": "stream",
     "text": [
      "INFO:pykeen.evaluation.evaluator:Evaluation took 0.11s seconds\n",
      "WARNING:pykeen.pipeline.api:No random seed is specified. Setting to 3203241656.\n",
      "INFO:pykeen.pipeline.api:Using device: None\n"
     ]
    },
    {
     "data": {
      "application/vnd.jupyter.widget-view+json": {
       "model_id": "0659e080e28847789db42d5899911f19",
       "version_major": 2,
       "version_minor": 0
      },
      "text/plain": [
       "Training epochs on cuda:0:   0%|          | 0/25 [00:00<?, ?epoch/s]"
      ]
     },
     "metadata": {},
     "output_type": "display_data"
    },
    {
     "data": {
      "application/vnd.jupyter.widget-view+json": {
       "model_id": "4addbbb6d43f434d991e0539dba12b47",
       "version_major": 2,
       "version_minor": 0
      },
      "text/plain": [
       "Evaluating on cuda:0:   0%|          | 0.00/45.0 [00:00<?, ?triple/s]"
      ]
     },
     "metadata": {},
     "output_type": "display_data"
    },
    {
     "name": "stderr",
     "output_type": "stream",
     "text": [
      "INFO:pykeen.evaluation.evaluator:Evaluation took 0.13s seconds\n",
      "WARNING:pykeen.triples.triples_factory:Reconstructing all label-based triples. This is expensive and rarely needed.\n",
      "WARNING:pykeen.pipeline.api:No random seed is specified. Setting to 3203241656.\n",
      "INFO:pykeen.pipeline.api:Using device: None\n"
     ]
    },
    {
     "name": "stdout",
     "output_type": "stream",
     "text": [
      "10 ATI_triplets.csv\n"
     ]
    },
    {
     "data": {
      "application/vnd.jupyter.widget-view+json": {
       "model_id": "edb6acf5e27d44878c6129fc91fda9cb",
       "version_major": 2,
       "version_minor": 0
      },
      "text/plain": [
       "Training epochs on cuda:0:   0%|          | 0/25 [00:00<?, ?epoch/s]"
      ]
     },
     "metadata": {},
     "output_type": "display_data"
    },
    {
     "data": {
      "application/vnd.jupyter.widget-view+json": {
       "model_id": "ebadb1aac7a7449eafba304491ade420",
       "version_major": 2,
       "version_minor": 0
      },
      "text/plain": [
       "Evaluating on cuda:0:   0%|          | 0.00/55.0 [00:00<?, ?triple/s]"
      ]
     },
     "metadata": {},
     "output_type": "display_data"
    },
    {
     "name": "stderr",
     "output_type": "stream",
     "text": [
      "INFO:pykeen.evaluation.evaluator:Evaluation took 0.11s seconds\n",
      "WARNING:pykeen.pipeline.api:No random seed is specified. Setting to 3203241656.\n",
      "INFO:pykeen.pipeline.api:Using device: None\n"
     ]
    },
    {
     "data": {
      "application/vnd.jupyter.widget-view+json": {
       "model_id": "dc687948801f40418298dde9a71fc0f0",
       "version_major": 2,
       "version_minor": 0
      },
      "text/plain": [
       "Training epochs on cuda:0:   0%|          | 0/25 [00:00<?, ?epoch/s]"
      ]
     },
     "metadata": {},
     "output_type": "display_data"
    },
    {
     "data": {
      "application/vnd.jupyter.widget-view+json": {
       "model_id": "1420066cc5d34429bb257874a419654c",
       "version_major": 2,
       "version_minor": 0
      },
      "text/plain": [
       "Evaluating on cuda:0:   0%|          | 0.00/55.0 [00:00<?, ?triple/s]"
      ]
     },
     "metadata": {},
     "output_type": "display_data"
    },
    {
     "name": "stderr",
     "output_type": "stream",
     "text": [
      "INFO:pykeen.evaluation.evaluator:Evaluation took 0.13s seconds\n",
      "WARNING:pykeen.triples.triples_factory:Reconstructing all label-based triples. This is expensive and rarely needed.\n",
      "WARNING:pykeen.pipeline.api:No random seed is specified. Setting to 3203241656.\n",
      "INFO:pykeen.pipeline.api:Using device: None\n"
     ]
    },
    {
     "name": "stdout",
     "output_type": "stream",
     "text": [
      "11 BA06_triplets.csv\n"
     ]
    },
    {
     "data": {
      "application/vnd.jupyter.widget-view+json": {
       "model_id": "79fce6dccb66436abf4e35eda7d1d315",
       "version_major": 2,
       "version_minor": 0
      },
      "text/plain": [
       "Training epochs on cuda:0:   0%|          | 0/25 [00:00<?, ?epoch/s]"
      ]
     },
     "metadata": {},
     "output_type": "display_data"
    },
    {
     "data": {
      "application/vnd.jupyter.widget-view+json": {
       "model_id": "7b7e9d0b6156404db4008b028f0500bc",
       "version_major": 2,
       "version_minor": 0
      },
      "text/plain": [
       "Evaluating on cuda:0:   0%|          | 0.00/48.0 [00:00<?, ?triple/s]"
      ]
     },
     "metadata": {},
     "output_type": "display_data"
    },
    {
     "name": "stderr",
     "output_type": "stream",
     "text": [
      "INFO:pykeen.evaluation.evaluator:Evaluation took 0.11s seconds\n",
      "WARNING:pykeen.pipeline.api:No random seed is specified. Setting to 3203241656.\n",
      "INFO:pykeen.pipeline.api:Using device: None\n"
     ]
    },
    {
     "data": {
      "application/vnd.jupyter.widget-view+json": {
       "model_id": "155221c5e6804a37879475ff1ddbe888",
       "version_major": 2,
       "version_minor": 0
      },
      "text/plain": [
       "Training epochs on cuda:0:   0%|          | 0/25 [00:00<?, ?epoch/s]"
      ]
     },
     "metadata": {},
     "output_type": "display_data"
    },
    {
     "data": {
      "application/vnd.jupyter.widget-view+json": {
       "model_id": "b16ebf85cb014796a8b8889f03621de2",
       "version_major": 2,
       "version_minor": 0
      },
      "text/plain": [
       "Evaluating on cuda:0:   0%|          | 0.00/48.0 [00:00<?, ?triple/s]"
      ]
     },
     "metadata": {},
     "output_type": "display_data"
    },
    {
     "name": "stderr",
     "output_type": "stream",
     "text": [
      "INFO:pykeen.evaluation.evaluator:Evaluation took 0.13s seconds\n",
      "WARNING:pykeen.triples.triples_factory:Reconstructing all label-based triples. This is expensive and rarely needed.\n",
      "WARNING:pykeen.pipeline.api:No random seed is specified. Setting to 3203241656.\n",
      "INFO:pykeen.pipeline.api:Using device: None\n"
     ]
    },
    {
     "name": "stdout",
     "output_type": "stream",
     "text": [
      "12 BAF_triplets.csv\n"
     ]
    },
    {
     "data": {
      "application/vnd.jupyter.widget-view+json": {
       "model_id": "84fb1aa0eb4b4fd48192b02bda5e52fb",
       "version_major": 2,
       "version_minor": 0
      },
      "text/plain": [
       "Training epochs on cuda:0:   0%|          | 0/25 [00:00<?, ?epoch/s]"
      ]
     },
     "metadata": {},
     "output_type": "display_data"
    },
    {
     "data": {
      "application/vnd.jupyter.widget-view+json": {
       "model_id": "b4060369d31e4809af8f504f9849753d",
       "version_major": 2,
       "version_minor": 0
      },
      "text/plain": [
       "Evaluating on cuda:0:   0%|          | 0.00/38.0 [00:00<?, ?triple/s]"
      ]
     },
     "metadata": {},
     "output_type": "display_data"
    },
    {
     "name": "stderr",
     "output_type": "stream",
     "text": [
      "INFO:pykeen.evaluation.evaluator:Evaluation took 0.12s seconds\n",
      "WARNING:pykeen.pipeline.api:No random seed is specified. Setting to 3203241656.\n",
      "INFO:pykeen.pipeline.api:Using device: None\n"
     ]
    },
    {
     "data": {
      "application/vnd.jupyter.widget-view+json": {
       "model_id": "248baea93f544d05a6b464bffca6e56b",
       "version_major": 2,
       "version_minor": 0
      },
      "text/plain": [
       "Training epochs on cuda:0:   0%|          | 0/25 [00:00<?, ?epoch/s]"
      ]
     },
     "metadata": {},
     "output_type": "display_data"
    },
    {
     "data": {
      "application/vnd.jupyter.widget-view+json": {
       "model_id": "e142d18bfbef42b8af07dabb87d58140",
       "version_major": 2,
       "version_minor": 0
      },
      "text/plain": [
       "Evaluating on cuda:0:   0%|          | 0.00/38.0 [00:00<?, ?triple/s]"
      ]
     },
     "metadata": {},
     "output_type": "display_data"
    },
    {
     "name": "stderr",
     "output_type": "stream",
     "text": [
      "INFO:pykeen.evaluation.evaluator:Evaluation took 0.11s seconds\n",
      "WARNING:pykeen.triples.triples_factory:Reconstructing all label-based triples. This is expensive and rarely needed.\n",
      "WARNING:pykeen.pipeline.api:No random seed is specified. Setting to 3203241656.\n",
      "INFO:pykeen.pipeline.api:Using device: None\n"
     ]
    },
    {
     "name": "stdout",
     "output_type": "stream",
     "text": [
      "13 BF04_triplets.csv\n"
     ]
    },
    {
     "data": {
      "application/vnd.jupyter.widget-view+json": {
       "model_id": "d551665844a44958a3a758dcec395d2f",
       "version_major": 2,
       "version_minor": 0
      },
      "text/plain": [
       "Training epochs on cuda:0:   0%|          | 0/25 [00:00<?, ?epoch/s]"
      ]
     },
     "metadata": {},
     "output_type": "display_data"
    },
    {
     "data": {
      "application/vnd.jupyter.widget-view+json": {
       "model_id": "4d9f33bf133443f2a55468bed2a46d6a",
       "version_major": 2,
       "version_minor": 0
      },
      "text/plain": [
       "Evaluating on cuda:0:   0%|          | 0.00/27.0 [00:00<?, ?triple/s]"
      ]
     },
     "metadata": {},
     "output_type": "display_data"
    },
    {
     "name": "stderr",
     "output_type": "stream",
     "text": [
      "INFO:pykeen.evaluation.evaluator:Evaluation took 0.12s seconds\n",
      "WARNING:pykeen.pipeline.api:No random seed is specified. Setting to 3203241656.\n",
      "INFO:pykeen.pipeline.api:Using device: None\n"
     ]
    },
    {
     "data": {
      "application/vnd.jupyter.widget-view+json": {
       "model_id": "2223872e9eba4f90b2b155cb87b20a93",
       "version_major": 2,
       "version_minor": 0
      },
      "text/plain": [
       "Training epochs on cuda:0:   0%|          | 0/25 [00:00<?, ?epoch/s]"
      ]
     },
     "metadata": {},
     "output_type": "display_data"
    },
    {
     "data": {
      "application/vnd.jupyter.widget-view+json": {
       "model_id": "3a0c01ecd9bb4448a6b876608d1b76f4",
       "version_major": 2,
       "version_minor": 0
      },
      "text/plain": [
       "Evaluating on cuda:0:   0%|          | 0.00/27.0 [00:00<?, ?triple/s]"
      ]
     },
     "metadata": {},
     "output_type": "display_data"
    },
    {
     "name": "stderr",
     "output_type": "stream",
     "text": [
      "INFO:pykeen.evaluation.evaluator:Evaluation took 0.08s seconds\n",
      "WARNING:pykeen.triples.triples_factory:Reconstructing all label-based triples. This is expensive and rarely needed.\n",
      "WARNING:pykeen.pipeline.api:No random seed is specified. Setting to 3203241656.\n",
      "INFO:pykeen.pipeline.api:Using device: None\n"
     ]
    },
    {
     "name": "stdout",
     "output_type": "stream",
     "text": [
      "14 BHE_triplets.csv\n"
     ]
    },
    {
     "data": {
      "application/vnd.jupyter.widget-view+json": {
       "model_id": "9bf795a4e96f48ca86e7658f0079f3eb",
       "version_major": 2,
       "version_minor": 0
      },
      "text/plain": [
       "Training epochs on cuda:0:   0%|          | 0/25 [00:00<?, ?epoch/s]"
      ]
     },
     "metadata": {},
     "output_type": "display_data"
    },
    {
     "data": {
      "application/vnd.jupyter.widget-view+json": {
       "model_id": "4f0b3c926dcd47f785972c4eed812e9b",
       "version_major": 2,
       "version_minor": 0
      },
      "text/plain": [
       "Evaluating on cuda:0:   0%|          | 0.00/62.0 [00:00<?, ?triple/s]"
      ]
     },
     "metadata": {},
     "output_type": "display_data"
    },
    {
     "name": "stderr",
     "output_type": "stream",
     "text": [
      "INFO:pykeen.evaluation.evaluator:Evaluation took 0.12s seconds\n",
      "WARNING:pykeen.pipeline.api:No random seed is specified. Setting to 3203241656.\n",
      "INFO:pykeen.pipeline.api:Using device: None\n"
     ]
    },
    {
     "data": {
      "application/vnd.jupyter.widget-view+json": {
       "model_id": "0438e7ce7d4d4fd6a85d5a64f5f644a9",
       "version_major": 2,
       "version_minor": 0
      },
      "text/plain": [
       "Training epochs on cuda:0:   0%|          | 0/25 [00:00<?, ?epoch/s]"
      ]
     },
     "metadata": {},
     "output_type": "display_data"
    },
    {
     "data": {
      "application/vnd.jupyter.widget-view+json": {
       "model_id": "e20ccedc81824757b1ad274cf8010ecf",
       "version_major": 2,
       "version_minor": 0
      },
      "text/plain": [
       "Evaluating on cuda:0:   0%|          | 0.00/62.0 [00:00<?, ?triple/s]"
      ]
     },
     "metadata": {},
     "output_type": "display_data"
    },
    {
     "name": "stderr",
     "output_type": "stream",
     "text": [
      "INFO:pykeen.evaluation.evaluator:Evaluation took 0.11s seconds\n",
      "WARNING:pykeen.triples.triples_factory:Reconstructing all label-based triples. This is expensive and rarely needed.\n",
      "WARNING:pykeen.pipeline.api:No random seed is specified. Setting to 3203241656.\n",
      "INFO:pykeen.pipeline.api:Using device: None\n"
     ]
    },
    {
     "name": "stdout",
     "output_type": "stream",
     "text": [
      "15 BI26_triplets.csv\n"
     ]
    },
    {
     "data": {
      "application/vnd.jupyter.widget-view+json": {
       "model_id": "23a61332d0544b1d81fc3f071428956c",
       "version_major": 2,
       "version_minor": 0
      },
      "text/plain": [
       "Training epochs on cuda:0:   0%|          | 0/25 [00:00<?, ?epoch/s]"
      ]
     },
     "metadata": {},
     "output_type": "display_data"
    },
    {
     "data": {
      "application/vnd.jupyter.widget-view+json": {
       "model_id": "3ebb6290e33442a48abd04c59c5a5b6c",
       "version_major": 2,
       "version_minor": 0
      },
      "text/plain": [
       "Evaluating on cuda:0:   0%|          | 0.00/35.0 [00:00<?, ?triple/s]"
      ]
     },
     "metadata": {},
     "output_type": "display_data"
    },
    {
     "name": "stderr",
     "output_type": "stream",
     "text": [
      "INFO:pykeen.evaluation.evaluator:Evaluation took 0.11s seconds\n",
      "WARNING:pykeen.pipeline.api:No random seed is specified. Setting to 3203241656.\n",
      "INFO:pykeen.pipeline.api:Using device: None\n"
     ]
    },
    {
     "data": {
      "application/vnd.jupyter.widget-view+json": {
       "model_id": "33bb461c9b094a1fa134c504d6cd5b65",
       "version_major": 2,
       "version_minor": 0
      },
      "text/plain": [
       "Training epochs on cuda:0:   0%|          | 0/25 [00:00<?, ?epoch/s]"
      ]
     },
     "metadata": {},
     "output_type": "display_data"
    },
    {
     "data": {
      "application/vnd.jupyter.widget-view+json": {
       "model_id": "fc9303575ff140a18621d924d701dcdb",
       "version_major": 2,
       "version_minor": 0
      },
      "text/plain": [
       "Evaluating on cuda:0:   0%|          | 0.00/35.0 [00:00<?, ?triple/s]"
      ]
     },
     "metadata": {},
     "output_type": "display_data"
    },
    {
     "name": "stderr",
     "output_type": "stream",
     "text": [
      "INFO:pykeen.evaluation.evaluator:Evaluation took 0.09s seconds\n",
      "WARNING:pykeen.triples.triples_factory:Reconstructing all label-based triples. This is expensive and rarely needed.\n",
      "WARNING:pykeen.pipeline.api:No random seed is specified. Setting to 3203241656.\n",
      "INFO:pykeen.pipeline.api:Using device: None\n"
     ]
    },
    {
     "name": "stdout",
     "output_type": "stream",
     "text": [
      "16 BI_triplets.csv\n"
     ]
    },
    {
     "data": {
      "application/vnd.jupyter.widget-view+json": {
       "model_id": "a842f170fb31444eba696ac414c42d22",
       "version_major": 2,
       "version_minor": 0
      },
      "text/plain": [
       "Training epochs on cuda:0:   0%|          | 0/25 [00:00<?, ?epoch/s]"
      ]
     },
     "metadata": {},
     "output_type": "display_data"
    },
    {
     "data": {
      "application/vnd.jupyter.widget-view+json": {
       "model_id": "a943118d85964676b75fce388f0547ff",
       "version_major": 2,
       "version_minor": 0
      },
      "text/plain": [
       "Evaluating on cuda:0:   0%|          | 0.00/39.0 [00:00<?, ?triple/s]"
      ]
     },
     "metadata": {},
     "output_type": "display_data"
    },
    {
     "name": "stderr",
     "output_type": "stream",
     "text": [
      "INFO:pykeen.evaluation.evaluator:Evaluation took 0.14s seconds\n",
      "WARNING:pykeen.pipeline.api:No random seed is specified. Setting to 3203241656.\n",
      "INFO:pykeen.pipeline.api:Using device: None\n"
     ]
    },
    {
     "data": {
      "application/vnd.jupyter.widget-view+json": {
       "model_id": "bc4b31758f2a4fd2b06a46d9ad2d83b0",
       "version_major": 2,
       "version_minor": 0
      },
      "text/plain": [
       "Training epochs on cuda:0:   0%|          | 0/25 [00:00<?, ?epoch/s]"
      ]
     },
     "metadata": {},
     "output_type": "display_data"
    },
    {
     "data": {
      "application/vnd.jupyter.widget-view+json": {
       "model_id": "6e7648c2e40b4b9d9a6f064368485a99",
       "version_major": 2,
       "version_minor": 0
      },
      "text/plain": [
       "Evaluating on cuda:0:   0%|          | 0.00/39.0 [00:00<?, ?triple/s]"
      ]
     },
     "metadata": {},
     "output_type": "display_data"
    },
    {
     "name": "stderr",
     "output_type": "stream",
     "text": [
      "INFO:pykeen.evaluation.evaluator:Evaluation took 0.10s seconds\n",
      "WARNING:pykeen.triples.triples_factory:Reconstructing all label-based triples. This is expensive and rarely needed.\n",
      "WARNING:pykeen.pipeline.api:No random seed is specified. Setting to 3203241656.\n",
      "INFO:pykeen.pipeline.api:Using device: None\n"
     ]
    },
    {
     "name": "stdout",
     "output_type": "stream",
     "text": [
      "17 BP11_triplets.csv\n"
     ]
    },
    {
     "data": {
      "application/vnd.jupyter.widget-view+json": {
       "model_id": "00afbf99cd774b6ab1eb78fc9fb49bc9",
       "version_major": 2,
       "version_minor": 0
      },
      "text/plain": [
       "Training epochs on cuda:0:   0%|          | 0/25 [00:00<?, ?epoch/s]"
      ]
     },
     "metadata": {},
     "output_type": "display_data"
    },
    {
     "data": {
      "application/vnd.jupyter.widget-view+json": {
       "model_id": "110bc781ebc3440a93d750b0cfb22217",
       "version_major": 2,
       "version_minor": 0
      },
      "text/plain": [
       "Evaluating on cuda:0:   0%|          | 0.00/43.0 [00:00<?, ?triple/s]"
      ]
     },
     "metadata": {},
     "output_type": "display_data"
    },
    {
     "name": "stderr",
     "output_type": "stream",
     "text": [
      "INFO:pykeen.evaluation.evaluator:Evaluation took 0.13s seconds\n",
      "WARNING:pykeen.pipeline.api:No random seed is specified. Setting to 3203241656.\n",
      "INFO:pykeen.pipeline.api:Using device: None\n"
     ]
    },
    {
     "data": {
      "application/vnd.jupyter.widget-view+json": {
       "model_id": "4c26732dbbf9435cb3ff813e3beb46c5",
       "version_major": 2,
       "version_minor": 0
      },
      "text/plain": [
       "Training epochs on cuda:0:   0%|          | 0/25 [00:00<?, ?epoch/s]"
      ]
     },
     "metadata": {},
     "output_type": "display_data"
    },
    {
     "data": {
      "application/vnd.jupyter.widget-view+json": {
       "model_id": "c5a631b36e9441dd8e2e44a9ac3ea8fa",
       "version_major": 2,
       "version_minor": 0
      },
      "text/plain": [
       "Evaluating on cuda:0:   0%|          | 0.00/43.0 [00:00<?, ?triple/s]"
      ]
     },
     "metadata": {},
     "output_type": "display_data"
    },
    {
     "name": "stderr",
     "output_type": "stream",
     "text": [
      "INFO:pykeen.evaluation.evaluator:Evaluation took 0.12s seconds\n",
      "WARNING:pykeen.triples.triples_factory:Reconstructing all label-based triples. This is expensive and rarely needed.\n",
      "WARNING:pykeen.pipeline.api:No random seed is specified. Setting to 3203241656.\n",
      "INFO:pykeen.pipeline.api:Using device: None\n"
     ]
    },
    {
     "name": "stdout",
     "output_type": "stream",
     "text": [
      "18 BS13_triplets.csv\n"
     ]
    },
    {
     "data": {
      "application/vnd.jupyter.widget-view+json": {
       "model_id": "89078ea10e5b49289774d1e6d5e87e29",
       "version_major": 2,
       "version_minor": 0
      },
      "text/plain": [
       "Training epochs on cuda:0:   0%|          | 0/25 [00:00<?, ?epoch/s]"
      ]
     },
     "metadata": {},
     "output_type": "display_data"
    },
    {
     "data": {
      "application/vnd.jupyter.widget-view+json": {
       "model_id": "03b9f6178ce84ec4b6c57fc62faca996",
       "version_major": 2,
       "version_minor": 0
      },
      "text/plain": [
       "Evaluating on cuda:0:   0%|          | 0.00/47.0 [00:00<?, ?triple/s]"
      ]
     },
     "metadata": {},
     "output_type": "display_data"
    },
    {
     "name": "stderr",
     "output_type": "stream",
     "text": [
      "INFO:pykeen.evaluation.evaluator:Evaluation took 0.12s seconds\n",
      "WARNING:pykeen.pipeline.api:No random seed is specified. Setting to 3203241656.\n",
      "INFO:pykeen.pipeline.api:Using device: None\n"
     ]
    },
    {
     "data": {
      "application/vnd.jupyter.widget-view+json": {
       "model_id": "8de742ec196f419fa60cd8e8c32b729a",
       "version_major": 2,
       "version_minor": 0
      },
      "text/plain": [
       "Training epochs on cuda:0:   0%|          | 0/25 [00:00<?, ?epoch/s]"
      ]
     },
     "metadata": {},
     "output_type": "display_data"
    },
    {
     "data": {
      "application/vnd.jupyter.widget-view+json": {
       "model_id": "78022d79f12746a88e26c5ce602ab89f",
       "version_major": 2,
       "version_minor": 0
      },
      "text/plain": [
       "Evaluating on cuda:0:   0%|          | 0.00/47.0 [00:00<?, ?triple/s]"
      ]
     },
     "metadata": {},
     "output_type": "display_data"
    },
    {
     "name": "stderr",
     "output_type": "stream",
     "text": [
      "INFO:pykeen.evaluation.evaluator:Evaluation took 0.10s seconds\n",
      "WARNING:pykeen.triples.triples_factory:Reconstructing all label-based triples. This is expensive and rarely needed.\n",
      "WARNING:pykeen.pipeline.api:No random seed is specified. Setting to 3203241656.\n",
      "INFO:pykeen.pipeline.api:Using device: None\n"
     ]
    },
    {
     "name": "stdout",
     "output_type": "stream",
     "text": [
      "19 BT08_triplets.csv\n"
     ]
    },
    {
     "data": {
      "application/vnd.jupyter.widget-view+json": {
       "model_id": "c685001044484a338d8b0e0f1811921d",
       "version_major": 2,
       "version_minor": 0
      },
      "text/plain": [
       "Training epochs on cuda:0:   0%|          | 0/25 [00:00<?, ?epoch/s]"
      ]
     },
     "metadata": {},
     "output_type": "display_data"
    },
    {
     "data": {
      "application/vnd.jupyter.widget-view+json": {
       "model_id": "f482a043b0d74b25aeb0262384644a8a",
       "version_major": 2,
       "version_minor": 0
      },
      "text/plain": [
       "Evaluating on cuda:0:   0%|          | 0.00/46.0 [00:00<?, ?triple/s]"
      ]
     },
     "metadata": {},
     "output_type": "display_data"
    },
    {
     "name": "stderr",
     "output_type": "stream",
     "text": [
      "INFO:pykeen.evaluation.evaluator:Evaluation took 0.12s seconds\n",
      "WARNING:pykeen.pipeline.api:No random seed is specified. Setting to 3203241656.\n",
      "INFO:pykeen.pipeline.api:Using device: None\n"
     ]
    },
    {
     "data": {
      "application/vnd.jupyter.widget-view+json": {
       "model_id": "3347e3a908fa42a49d2edba6b149fb82",
       "version_major": 2,
       "version_minor": 0
      },
      "text/plain": [
       "Training epochs on cuda:0:   0%|          | 0/25 [00:00<?, ?epoch/s]"
      ]
     },
     "metadata": {},
     "output_type": "display_data"
    },
    {
     "data": {
      "application/vnd.jupyter.widget-view+json": {
       "model_id": "7a8da81662b3443da954322d49cddf1d",
       "version_major": 2,
       "version_minor": 0
      },
      "text/plain": [
       "Evaluating on cuda:0:   0%|          | 0.00/46.0 [00:00<?, ?triple/s]"
      ]
     },
     "metadata": {},
     "output_type": "display_data"
    },
    {
     "name": "stderr",
     "output_type": "stream",
     "text": [
      "INFO:pykeen.evaluation.evaluator:Evaluation took 0.10s seconds\n",
      "WARNING:pykeen.triples.triples_factory:Reconstructing all label-based triples. This is expensive and rarely needed.\n",
      "WARNING:pykeen.pipeline.api:No random seed is specified. Setting to 3203241656.\n",
      "INFO:pykeen.pipeline.api:Using device: None\n"
     ]
    },
    {
     "name": "stdout",
     "output_type": "stream",
     "text": [
      "20 BTV_triplets.csv\n"
     ]
    },
    {
     "data": {
      "application/vnd.jupyter.widget-view+json": {
       "model_id": "556ac3bedce743b4ad710135b018dfa5",
       "version_major": 2,
       "version_minor": 0
      },
      "text/plain": [
       "Training epochs on cuda:0:   0%|          | 0/25 [00:00<?, ?epoch/s]"
      ]
     },
     "metadata": {},
     "output_type": "display_data"
    },
    {
     "data": {
      "application/vnd.jupyter.widget-view+json": {
       "model_id": "bb8a56e169424d0f9220a5ddd2489398",
       "version_major": 2,
       "version_minor": 0
      },
      "text/plain": [
       "Evaluating on cuda:0:   0%|          | 0.00/61.0 [00:00<?, ?triple/s]"
      ]
     },
     "metadata": {},
     "output_type": "display_data"
    },
    {
     "name": "stderr",
     "output_type": "stream",
     "text": [
      "INFO:pykeen.evaluation.evaluator:Evaluation took 0.09s seconds\n",
      "WARNING:pykeen.pipeline.api:No random seed is specified. Setting to 3203241656.\n",
      "INFO:pykeen.pipeline.api:Using device: None\n"
     ]
    },
    {
     "data": {
      "application/vnd.jupyter.widget-view+json": {
       "model_id": "ee4e483a9b3f4379959da27fa6fc497b",
       "version_major": 2,
       "version_minor": 0
      },
      "text/plain": [
       "Training epochs on cuda:0:   0%|          | 0/25 [00:00<?, ?epoch/s]"
      ]
     },
     "metadata": {},
     "output_type": "display_data"
    },
    {
     "data": {
      "application/vnd.jupyter.widget-view+json": {
       "model_id": "3dc6289f82574a3db2db8341b7e7e1d1",
       "version_major": 2,
       "version_minor": 0
      },
      "text/plain": [
       "Evaluating on cuda:0:   0%|          | 0.00/61.0 [00:00<?, ?triple/s]"
      ]
     },
     "metadata": {},
     "output_type": "display_data"
    },
    {
     "name": "stderr",
     "output_type": "stream",
     "text": [
      "INFO:pykeen.evaluation.evaluator:Evaluation took 0.09s seconds\n",
      "WARNING:pykeen.triples.triples_factory:Reconstructing all label-based triples. This is expensive and rarely needed.\n",
      "WARNING:pykeen.pipeline.api:No random seed is specified. Setting to 3203241656.\n",
      "INFO:pykeen.pipeline.api:Using device: None\n"
     ]
    },
    {
     "name": "stdout",
     "output_type": "stream",
     "text": [
      "21 CI29_triplets.csv\n"
     ]
    },
    {
     "data": {
      "application/vnd.jupyter.widget-view+json": {
       "model_id": "a7b58dc738ed4825b5682e4b2c798f98",
       "version_major": 2,
       "version_minor": 0
      },
      "text/plain": [
       "Training epochs on cuda:0:   0%|          | 0/25 [00:00<?, ?epoch/s]"
      ]
     },
     "metadata": {},
     "output_type": "display_data"
    },
    {
     "data": {
      "application/vnd.jupyter.widget-view+json": {
       "model_id": "09a857e2e0964302ab62739d1b1b2e84",
       "version_major": 2,
       "version_minor": 0
      },
      "text/plain": [
       "Evaluating on cuda:0:   0%|          | 0.00/53.0 [00:00<?, ?triple/s]"
      ]
     },
     "metadata": {},
     "output_type": "display_data"
    },
    {
     "name": "stderr",
     "output_type": "stream",
     "text": [
      "INFO:pykeen.evaluation.evaluator:Evaluation took 0.10s seconds\n",
      "WARNING:pykeen.pipeline.api:No random seed is specified. Setting to 3203241656.\n",
      "INFO:pykeen.pipeline.api:Using device: None\n"
     ]
    },
    {
     "data": {
      "application/vnd.jupyter.widget-view+json": {
       "model_id": "ddcd1e8ca30c4b81bef1b8b2bf468d04",
       "version_major": 2,
       "version_minor": 0
      },
      "text/plain": [
       "Training epochs on cuda:0:   0%|          | 0/25 [00:00<?, ?epoch/s]"
      ]
     },
     "metadata": {},
     "output_type": "display_data"
    },
    {
     "data": {
      "application/vnd.jupyter.widget-view+json": {
       "model_id": "617d56c73a2747aba957b99cbc90d021",
       "version_major": 2,
       "version_minor": 0
      },
      "text/plain": [
       "Evaluating on cuda:0:   0%|          | 0.00/53.0 [00:00<?, ?triple/s]"
      ]
     },
     "metadata": {},
     "output_type": "display_data"
    },
    {
     "name": "stderr",
     "output_type": "stream",
     "text": [
      "INFO:pykeen.evaluation.evaluator:Evaluation took 0.08s seconds\n",
      "WARNING:pykeen.triples.triples_factory:Reconstructing all label-based triples. This is expensive and rarely needed.\n",
      "WARNING:pykeen.pipeline.api:No random seed is specified. Setting to 3203241656.\n",
      "INFO:pykeen.pipeline.api:Using device: None\n"
     ]
    },
    {
     "name": "stdout",
     "output_type": "stream",
     "text": [
      "22 C_triplets.csv\n"
     ]
    },
    {
     "data": {
      "application/vnd.jupyter.widget-view+json": {
       "model_id": "8e930032f3a74ff6bb6bdd2a26a5e5e3",
       "version_major": 2,
       "version_minor": 0
      },
      "text/plain": [
       "Training epochs on cuda:0:   0%|          | 0/25 [00:00<?, ?epoch/s]"
      ]
     },
     "metadata": {},
     "output_type": "display_data"
    },
    {
     "data": {
      "application/vnd.jupyter.widget-view+json": {
       "model_id": "5abbba1b14864184b5470ddfe6cf0e32",
       "version_major": 2,
       "version_minor": 0
      },
      "text/plain": [
       "Evaluating on cuda:0:   0%|          | 0.00/49.0 [00:00<?, ?triple/s]"
      ]
     },
     "metadata": {},
     "output_type": "display_data"
    },
    {
     "name": "stderr",
     "output_type": "stream",
     "text": [
      "INFO:pykeen.evaluation.evaluator:Evaluation took 0.13s seconds\n",
      "WARNING:pykeen.pipeline.api:No random seed is specified. Setting to 3203241656.\n",
      "INFO:pykeen.pipeline.api:Using device: None\n"
     ]
    },
    {
     "data": {
      "application/vnd.jupyter.widget-view+json": {
       "model_id": "707c72ff0e6c4d62ab4376c12f530b90",
       "version_major": 2,
       "version_minor": 0
      },
      "text/plain": [
       "Training epochs on cuda:0:   0%|          | 0/25 [00:00<?, ?epoch/s]"
      ]
     },
     "metadata": {},
     "output_type": "display_data"
    },
    {
     "data": {
      "application/vnd.jupyter.widget-view+json": {
       "model_id": "23e0e0046e3d42f9be53b9ecdd53395b",
       "version_major": 2,
       "version_minor": 0
      },
      "text/plain": [
       "Evaluating on cuda:0:   0%|          | 0.00/49.0 [00:00<?, ?triple/s]"
      ]
     },
     "metadata": {},
     "output_type": "display_data"
    },
    {
     "name": "stderr",
     "output_type": "stream",
     "text": [
      "INFO:pykeen.evaluation.evaluator:Evaluation took 0.15s seconds\n",
      "WARNING:pykeen.triples.triples_factory:Reconstructing all label-based triples. This is expensive and rarely needed.\n",
      "WARNING:pykeen.pipeline.api:No random seed is specified. Setting to 3203241656.\n",
      "INFO:pykeen.pipeline.api:Using device: None\n"
     ]
    },
    {
     "name": "stdout",
     "output_type": "stream",
     "text": [
      "23 D04_triplets.csv\n"
     ]
    },
    {
     "data": {
      "application/vnd.jupyter.widget-view+json": {
       "model_id": "29242639c4e7488eb59401f3aeb51321",
       "version_major": 2,
       "version_minor": 0
      },
      "text/plain": [
       "Training epochs on cuda:0:   0%|          | 0/25 [00:00<?, ?epoch/s]"
      ]
     },
     "metadata": {},
     "output_type": "display_data"
    },
    {
     "data": {
      "application/vnd.jupyter.widget-view+json": {
       "model_id": "139da1e56cd54fafbec15abc9192ffa5",
       "version_major": 2,
       "version_minor": 0
      },
      "text/plain": [
       "Evaluating on cuda:0:   0%|          | 0.00/38.0 [00:00<?, ?triple/s]"
      ]
     },
     "metadata": {},
     "output_type": "display_data"
    },
    {
     "name": "stderr",
     "output_type": "stream",
     "text": [
      "INFO:pykeen.evaluation.evaluator:Evaluation took 0.06s seconds\n",
      "WARNING:pykeen.pipeline.api:No random seed is specified. Setting to 3203241656.\n",
      "INFO:pykeen.pipeline.api:Using device: None\n"
     ]
    },
    {
     "data": {
      "application/vnd.jupyter.widget-view+json": {
       "model_id": "6cf71b03fe93427c9a95d5df6e7d5ccc",
       "version_major": 2,
       "version_minor": 0
      },
      "text/plain": [
       "Training epochs on cuda:0:   0%|          | 0/25 [00:00<?, ?epoch/s]"
      ]
     },
     "metadata": {},
     "output_type": "display_data"
    },
    {
     "data": {
      "application/vnd.jupyter.widget-view+json": {
       "model_id": "414e3aea7ab346028608852c9ec43b91",
       "version_major": 2,
       "version_minor": 0
      },
      "text/plain": [
       "Evaluating on cuda:0:   0%|          | 0.00/38.0 [00:00<?, ?triple/s]"
      ]
     },
     "metadata": {},
     "output_type": "display_data"
    },
    {
     "name": "stderr",
     "output_type": "stream",
     "text": [
      "INFO:pykeen.evaluation.evaluator:Evaluation took 0.10s seconds\n",
      "WARNING:pykeen.triples.triples_factory:Reconstructing all label-based triples. This is expensive and rarely needed.\n",
      "WARNING:pykeen.pipeline.api:No random seed is specified. Setting to 3203241656.\n",
      "INFO:pykeen.pipeline.api:Using device: None\n"
     ]
    },
    {
     "name": "stdout",
     "output_type": "stream",
     "text": [
      "24 DC05_triplets.csv\n"
     ]
    },
    {
     "data": {
      "application/vnd.jupyter.widget-view+json": {
       "model_id": "1a6871b7ba26486ba6f85d46825a250d",
       "version_major": 2,
       "version_minor": 0
      },
      "text/plain": [
       "Training epochs on cuda:0:   0%|          | 0/25 [00:00<?, ?epoch/s]"
      ]
     },
     "metadata": {},
     "output_type": "display_data"
    },
    {
     "data": {
      "application/vnd.jupyter.widget-view+json": {
       "model_id": "ae9fb364e61f44beba77b8d0443d4316",
       "version_major": 2,
       "version_minor": 0
      },
      "text/plain": [
       "Evaluating on cuda:0:   0%|          | 0.00/42.0 [00:00<?, ?triple/s]"
      ]
     },
     "metadata": {},
     "output_type": "display_data"
    },
    {
     "name": "stderr",
     "output_type": "stream",
     "text": [
      "INFO:pykeen.evaluation.evaluator:Evaluation took 0.12s seconds\n",
      "WARNING:pykeen.pipeline.api:No random seed is specified. Setting to 3203241656.\n",
      "INFO:pykeen.pipeline.api:Using device: None\n"
     ]
    },
    {
     "data": {
      "application/vnd.jupyter.widget-view+json": {
       "model_id": "3745177983a042e1b3d55ccfab7e08fa",
       "version_major": 2,
       "version_minor": 0
      },
      "text/plain": [
       "Training epochs on cuda:0:   0%|          | 0/25 [00:00<?, ?epoch/s]"
      ]
     },
     "metadata": {},
     "output_type": "display_data"
    },
    {
     "data": {
      "application/vnd.jupyter.widget-view+json": {
       "model_id": "360d2817ba6043b68f2608eb7478ef31",
       "version_major": 2,
       "version_minor": 0
      },
      "text/plain": [
       "Evaluating on cuda:0:   0%|          | 0.00/42.0 [00:00<?, ?triple/s]"
      ]
     },
     "metadata": {},
     "output_type": "display_data"
    },
    {
     "name": "stderr",
     "output_type": "stream",
     "text": [
      "INFO:pykeen.evaluation.evaluator:Evaluation took 0.12s seconds\n",
      "WARNING:pykeen.triples.triples_factory:Reconstructing all label-based triples. This is expensive and rarely needed.\n",
      "WARNING:pykeen.pipeline.api:No random seed is specified. Setting to 3203241656.\n",
      "INFO:pykeen.pipeline.api:Using device: None\n"
     ]
    },
    {
     "name": "stdout",
     "output_type": "stream",
     "text": [
      "25 EC7_triplets.csv\n"
     ]
    },
    {
     "data": {
      "application/vnd.jupyter.widget-view+json": {
       "model_id": "b454dd612e934ab885ba204ea6ad521a",
       "version_major": 2,
       "version_minor": 0
      },
      "text/plain": [
       "Training epochs on cuda:0:   0%|          | 0/25 [00:00<?, ?epoch/s]"
      ]
     },
     "metadata": {},
     "output_type": "display_data"
    },
    {
     "data": {
      "application/vnd.jupyter.widget-view+json": {
       "model_id": "2be45a545b5a49f2bf2b023225223d20",
       "version_major": 2,
       "version_minor": 0
      },
      "text/plain": [
       "Evaluating on cuda:0:   0%|          | 0.00/50.0 [00:00<?, ?triple/s]"
      ]
     },
     "metadata": {},
     "output_type": "display_data"
    },
    {
     "name": "stderr",
     "output_type": "stream",
     "text": [
      "INFO:pykeen.evaluation.evaluator:Evaluation took 0.12s seconds\n",
      "WARNING:pykeen.pipeline.api:No random seed is specified. Setting to 3203241656.\n",
      "INFO:pykeen.pipeline.api:Using device: None\n"
     ]
    },
    {
     "data": {
      "application/vnd.jupyter.widget-view+json": {
       "model_id": "ae6679f7dbd445adaae2e58d3cf74a88",
       "version_major": 2,
       "version_minor": 0
      },
      "text/plain": [
       "Training epochs on cuda:0:   0%|          | 0/25 [00:00<?, ?epoch/s]"
      ]
     },
     "metadata": {},
     "output_type": "display_data"
    },
    {
     "data": {
      "application/vnd.jupyter.widget-view+json": {
       "model_id": "581a3e829fc841fda21cc2c54218e553",
       "version_major": 2,
       "version_minor": 0
      },
      "text/plain": [
       "Evaluating on cuda:0:   0%|          | 0.00/50.0 [00:00<?, ?triple/s]"
      ]
     },
     "metadata": {},
     "output_type": "display_data"
    },
    {
     "name": "stderr",
     "output_type": "stream",
     "text": [
      "INFO:pykeen.evaluation.evaluator:Evaluation took 0.10s seconds\n",
      "WARNING:pykeen.triples.triples_factory:Reconstructing all label-based triples. This is expensive and rarely needed.\n",
      "WARNING:pykeen.pipeline.api:No random seed is specified. Setting to 3203241656.\n",
      "INFO:pykeen.pipeline.api:Using device: None\n"
     ]
    },
    {
     "name": "stdout",
     "output_type": "stream",
     "text": [
      "26 ED_triplets.csv\n"
     ]
    },
    {
     "data": {
      "application/vnd.jupyter.widget-view+json": {
       "model_id": "586d68d7b6b54818893ea7b6d2df73dc",
       "version_major": 2,
       "version_minor": 0
      },
      "text/plain": [
       "Training epochs on cuda:0:   0%|          | 0/25 [00:00<?, ?epoch/s]"
      ]
     },
     "metadata": {},
     "output_type": "display_data"
    },
    {
     "data": {
      "application/vnd.jupyter.widget-view+json": {
       "model_id": "92225b57dbf946b7a5db0e8d47ed5b18",
       "version_major": 2,
       "version_minor": 0
      },
      "text/plain": [
       "Evaluating on cuda:0:   0%|          | 0.00/41.0 [00:00<?, ?triple/s]"
      ]
     },
     "metadata": {},
     "output_type": "display_data"
    },
    {
     "name": "stderr",
     "output_type": "stream",
     "text": [
      "INFO:pykeen.evaluation.evaluator:Evaluation took 0.10s seconds\n",
      "WARNING:pykeen.pipeline.api:No random seed is specified. Setting to 3203241656.\n",
      "INFO:pykeen.pipeline.api:Using device: None\n"
     ]
    },
    {
     "data": {
      "application/vnd.jupyter.widget-view+json": {
       "model_id": "529a93bc1f334f0b8c081c2ab845e93f",
       "version_major": 2,
       "version_minor": 0
      },
      "text/plain": [
       "Training epochs on cuda:0:   0%|          | 0/25 [00:00<?, ?epoch/s]"
      ]
     },
     "metadata": {},
     "output_type": "display_data"
    },
    {
     "data": {
      "application/vnd.jupyter.widget-view+json": {
       "model_id": "8de5c72c641143cf99e6a7c168329067",
       "version_major": 2,
       "version_minor": 0
      },
      "text/plain": [
       "Evaluating on cuda:0:   0%|          | 0.00/41.0 [00:00<?, ?triple/s]"
      ]
     },
     "metadata": {},
     "output_type": "display_data"
    },
    {
     "name": "stderr",
     "output_type": "stream",
     "text": [
      "INFO:pykeen.evaluation.evaluator:Evaluation took 0.10s seconds\n",
      "WARNING:pykeen.triples.triples_factory:Reconstructing all label-based triples. This is expensive and rarely needed.\n",
      "WARNING:pykeen.pipeline.api:No random seed is specified. Setting to 3203241656.\n",
      "INFO:pykeen.pipeline.api:Using device: None\n"
     ]
    },
    {
     "name": "stdout",
     "output_type": "stream",
     "text": [
      "27 EM_triplets.csv\n"
     ]
    },
    {
     "data": {
      "application/vnd.jupyter.widget-view+json": {
       "model_id": "fffad24e265c43ea85c1dcdb6b1fb347",
       "version_major": 2,
       "version_minor": 0
      },
      "text/plain": [
       "Training epochs on cuda:0:   0%|          | 0/25 [00:00<?, ?epoch/s]"
      ]
     },
     "metadata": {},
     "output_type": "display_data"
    },
    {
     "data": {
      "application/vnd.jupyter.widget-view+json": {
       "model_id": "fc943a1eb4644b53a7cacb7c6a35ceeb",
       "version_major": 2,
       "version_minor": 0
      },
      "text/plain": [
       "Evaluating on cuda:0:   0%|          | 0.00/37.0 [00:00<?, ?triple/s]"
      ]
     },
     "metadata": {},
     "output_type": "display_data"
    },
    {
     "name": "stderr",
     "output_type": "stream",
     "text": [
      "INFO:pykeen.evaluation.evaluator:Evaluation took 0.14s seconds\n",
      "WARNING:pykeen.pipeline.api:No random seed is specified. Setting to 3203241656.\n",
      "INFO:pykeen.pipeline.api:Using device: None\n"
     ]
    },
    {
     "data": {
      "application/vnd.jupyter.widget-view+json": {
       "model_id": "5906894524f945d285232f107992464b",
       "version_major": 2,
       "version_minor": 0
      },
      "text/plain": [
       "Training epochs on cuda:0:   0%|          | 0/25 [00:00<?, ?epoch/s]"
      ]
     },
     "metadata": {},
     "output_type": "display_data"
    },
    {
     "data": {
      "application/vnd.jupyter.widget-view+json": {
       "model_id": "463c680ae87f4bca8b8aa70ab8d6a54f",
       "version_major": 2,
       "version_minor": 0
      },
      "text/plain": [
       "Evaluating on cuda:0:   0%|          | 0.00/37.0 [00:00<?, ?triple/s]"
      ]
     },
     "metadata": {},
     "output_type": "display_data"
    },
    {
     "name": "stderr",
     "output_type": "stream",
     "text": [
      "INFO:pykeen.evaluation.evaluator:Evaluation took 0.14s seconds\n",
      "WARNING:pykeen.triples.triples_factory:Reconstructing all label-based triples. This is expensive and rarely needed.\n",
      "WARNING:pykeen.pipeline.api:No random seed is specified. Setting to 3203241656.\n",
      "INFO:pykeen.pipeline.api:Using device: None\n"
     ]
    },
    {
     "name": "stdout",
     "output_type": "stream",
     "text": [
      "28 ES8_triplets.csv\n"
     ]
    },
    {
     "data": {
      "application/vnd.jupyter.widget-view+json": {
       "model_id": "08ec5813721549669e6c2c521ce208b6",
       "version_major": 2,
       "version_minor": 0
      },
      "text/plain": [
       "Training epochs on cuda:0:   0%|          | 0/25 [00:00<?, ?epoch/s]"
      ]
     },
     "metadata": {},
     "output_type": "display_data"
    },
    {
     "data": {
      "application/vnd.jupyter.widget-view+json": {
       "model_id": "9fa63d92f3654ce4aeb2990e16bbe898",
       "version_major": 2,
       "version_minor": 0
      },
      "text/plain": [
       "Evaluating on cuda:0:   0%|          | 0.00/59.0 [00:00<?, ?triple/s]"
      ]
     },
     "metadata": {},
     "output_type": "display_data"
    },
    {
     "name": "stderr",
     "output_type": "stream",
     "text": [
      "INFO:pykeen.evaluation.evaluator:Evaluation took 0.13s seconds\n",
      "WARNING:pykeen.pipeline.api:No random seed is specified. Setting to 3203241656.\n",
      "INFO:pykeen.pipeline.api:Using device: None\n"
     ]
    },
    {
     "data": {
      "application/vnd.jupyter.widget-view+json": {
       "model_id": "666287b44fcd4a36874f3141021145a9",
       "version_major": 2,
       "version_minor": 0
      },
      "text/plain": [
       "Training epochs on cuda:0:   0%|          | 0/25 [00:00<?, ?epoch/s]"
      ]
     },
     "metadata": {},
     "output_type": "display_data"
    },
    {
     "data": {
      "application/vnd.jupyter.widget-view+json": {
       "model_id": "5caace4402b641e4bbea975cec6e2675",
       "version_major": 2,
       "version_minor": 0
      },
      "text/plain": [
       "Evaluating on cuda:0:   0%|          | 0.00/59.0 [00:00<?, ?triple/s]"
      ]
     },
     "metadata": {},
     "output_type": "display_data"
    },
    {
     "name": "stderr",
     "output_type": "stream",
     "text": [
      "INFO:pykeen.evaluation.evaluator:Evaluation took 0.10s seconds\n",
      "WARNING:pykeen.triples.triples_factory:Reconstructing all label-based triples. This is expensive and rarely needed.\n",
      "WARNING:pykeen.pipeline.api:No random seed is specified. Setting to 3203241656.\n",
      "INFO:pykeen.pipeline.api:Using device: None\n"
     ]
    },
    {
     "name": "stdout",
     "output_type": "stream",
     "text": [
      "29 GAI_triplets.csv\n"
     ]
    },
    {
     "data": {
      "application/vnd.jupyter.widget-view+json": {
       "model_id": "edb9b029f5a642d7afbb3e520e88c2ba",
       "version_major": 2,
       "version_minor": 0
      },
      "text/plain": [
       "Training epochs on cuda:0:   0%|          | 0/25 [00:00<?, ?epoch/s]"
      ]
     },
     "metadata": {},
     "output_type": "display_data"
    },
    {
     "data": {
      "application/vnd.jupyter.widget-view+json": {
       "model_id": "831fe147a5764d8aa076818924675bf5",
       "version_major": 2,
       "version_minor": 0
      },
      "text/plain": [
       "Evaluating on cuda:0:   0%|          | 0.00/36.0 [00:00<?, ?triple/s]"
      ]
     },
     "metadata": {},
     "output_type": "display_data"
    },
    {
     "name": "stderr",
     "output_type": "stream",
     "text": [
      "INFO:pykeen.evaluation.evaluator:Evaluation took 0.10s seconds\n",
      "WARNING:pykeen.pipeline.api:No random seed is specified. Setting to 3203241656.\n",
      "INFO:pykeen.pipeline.api:Using device: None\n"
     ]
    },
    {
     "data": {
      "application/vnd.jupyter.widget-view+json": {
       "model_id": "479b2e5032214bcdb7b7d0ad2b0ffcf8",
       "version_major": 2,
       "version_minor": 0
      },
      "text/plain": [
       "Training epochs on cuda:0:   0%|          | 0/25 [00:00<?, ?epoch/s]"
      ]
     },
     "metadata": {},
     "output_type": "display_data"
    },
    {
     "data": {
      "application/vnd.jupyter.widget-view+json": {
       "model_id": "7758ba935b9342159d2d3a8749f36522",
       "version_major": 2,
       "version_minor": 0
      },
      "text/plain": [
       "Evaluating on cuda:0:   0%|          | 0.00/36.0 [00:00<?, ?triple/s]"
      ]
     },
     "metadata": {},
     "output_type": "display_data"
    },
    {
     "name": "stderr",
     "output_type": "stream",
     "text": [
      "INFO:pykeen.evaluation.evaluator:Evaluation took 0.09s seconds\n",
      "WARNING:pykeen.triples.triples_factory:Reconstructing all label-based triples. This is expensive and rarely needed.\n",
      "WARNING:pykeen.pipeline.api:No random seed is specified. Setting to 3203241656.\n",
      "INFO:pykeen.pipeline.api:Using device: None\n"
     ]
    },
    {
     "name": "stdout",
     "output_type": "stream",
     "text": [
      "30 GG03_triplets.csv\n"
     ]
    },
    {
     "data": {
      "application/vnd.jupyter.widget-view+json": {
       "model_id": "4bf849f44a0646d08f490fcd70f27275",
       "version_major": 2,
       "version_minor": 0
      },
      "text/plain": [
       "Training epochs on cuda:0:   0%|          | 0/25 [00:00<?, ?epoch/s]"
      ]
     },
     "metadata": {},
     "output_type": "display_data"
    },
    {
     "data": {
      "application/vnd.jupyter.widget-view+json": {
       "model_id": "74121a4ec6c146278b4f84bba0a27928",
       "version_major": 2,
       "version_minor": 0
      },
      "text/plain": [
       "Evaluating on cuda:0:   0%|          | 0.00/57.0 [00:00<?, ?triple/s]"
      ]
     },
     "metadata": {},
     "output_type": "display_data"
    },
    {
     "name": "stderr",
     "output_type": "stream",
     "text": [
      "INFO:pykeen.evaluation.evaluator:Evaluation took 0.14s seconds\n",
      "WARNING:pykeen.pipeline.api:No random seed is specified. Setting to 3203241656.\n",
      "INFO:pykeen.pipeline.api:Using device: None\n"
     ]
    },
    {
     "data": {
      "application/vnd.jupyter.widget-view+json": {
       "model_id": "fb3cf0f45eca4aae8e6416a2c58296df",
       "version_major": 2,
       "version_minor": 0
      },
      "text/plain": [
       "Training epochs on cuda:0:   0%|          | 0/25 [00:00<?, ?epoch/s]"
      ]
     },
     "metadata": {},
     "output_type": "display_data"
    },
    {
     "data": {
      "application/vnd.jupyter.widget-view+json": {
       "model_id": "c612d473a13846b88b9fe6c7178d70dd",
       "version_major": 2,
       "version_minor": 0
      },
      "text/plain": [
       "Evaluating on cuda:0:   0%|          | 0.00/57.0 [00:00<?, ?triple/s]"
      ]
     },
     "metadata": {},
     "output_type": "display_data"
    },
    {
     "name": "stderr",
     "output_type": "stream",
     "text": [
      "INFO:pykeen.evaluation.evaluator:Evaluation took 0.11s seconds\n",
      "WARNING:pykeen.triples.triples_factory:Reconstructing all label-based triples. This is expensive and rarely needed.\n",
      "WARNING:pykeen.pipeline.api:No random seed is specified. Setting to 3203241656.\n",
      "INFO:pykeen.pipeline.api:Using device: None\n"
     ]
    },
    {
     "name": "stdout",
     "output_type": "stream",
     "text": [
      "31 GIF_triplets.csv\n"
     ]
    },
    {
     "data": {
      "application/vnd.jupyter.widget-view+json": {
       "model_id": "992a2196698c495bb7bc077b7fba6fde",
       "version_major": 2,
       "version_minor": 0
      },
      "text/plain": [
       "Training epochs on cuda:0:   0%|          | 0/25 [00:00<?, ?epoch/s]"
      ]
     },
     "metadata": {},
     "output_type": "display_data"
    },
    {
     "data": {
      "application/vnd.jupyter.widget-view+json": {
       "model_id": "48d161f0ad9d4d44b0ad1a16954b292d",
       "version_major": 2,
       "version_minor": 0
      },
      "text/plain": [
       "Evaluating on cuda:0:   0%|          | 0.00/25.0 [00:00<?, ?triple/s]"
      ]
     },
     "metadata": {},
     "output_type": "display_data"
    },
    {
     "name": "stderr",
     "output_type": "stream",
     "text": [
      "INFO:pykeen.evaluation.evaluator:Evaluation took 0.12s seconds\n",
      "WARNING:pykeen.pipeline.api:No random seed is specified. Setting to 3203241656.\n",
      "INFO:pykeen.pipeline.api:Using device: None\n"
     ]
    },
    {
     "data": {
      "application/vnd.jupyter.widget-view+json": {
       "model_id": "41b67612bdec4d0098adaf42c4d2290f",
       "version_major": 2,
       "version_minor": 0
      },
      "text/plain": [
       "Training epochs on cuda:0:   0%|          | 0/25 [00:00<?, ?epoch/s]"
      ]
     },
     "metadata": {},
     "output_type": "display_data"
    },
    {
     "data": {
      "application/vnd.jupyter.widget-view+json": {
       "model_id": "1d06a5b996f6482d91d7d4df5ddb0bb3",
       "version_major": 2,
       "version_minor": 0
      },
      "text/plain": [
       "Evaluating on cuda:0:   0%|          | 0.00/25.0 [00:00<?, ?triple/s]"
      ]
     },
     "metadata": {},
     "output_type": "display_data"
    },
    {
     "name": "stderr",
     "output_type": "stream",
     "text": [
      "INFO:pykeen.evaluation.evaluator:Evaluation took 0.11s seconds\n",
      "WARNING:pykeen.triples.triples_factory:Reconstructing all label-based triples. This is expensive and rarely needed.\n",
      "WARNING:pykeen.pipeline.api:No random seed is specified. Setting to 3203241656.\n",
      "INFO:pykeen.pipeline.api:Using device: None\n"
     ]
    },
    {
     "name": "stdout",
     "output_type": "stream",
     "text": [
      "32 HCL02_triplets.csv\n"
     ]
    },
    {
     "data": {
      "application/vnd.jupyter.widget-view+json": {
       "model_id": "8a449b697ba7432eba2d30c21cb7a546",
       "version_major": 2,
       "version_minor": 0
      },
      "text/plain": [
       "Training epochs on cuda:0:   0%|          | 0/25 [00:00<?, ?epoch/s]"
      ]
     },
     "metadata": {},
     "output_type": "display_data"
    },
    {
     "data": {
      "application/vnd.jupyter.widget-view+json": {
       "model_id": "6a4662575a0046a6942d4b147ae9986f",
       "version_major": 2,
       "version_minor": 0
      },
      "text/plain": [
       "Evaluating on cuda:0:   0%|          | 0.00/53.0 [00:00<?, ?triple/s]"
      ]
     },
     "metadata": {},
     "output_type": "display_data"
    },
    {
     "name": "stderr",
     "output_type": "stream",
     "text": [
      "INFO:pykeen.evaluation.evaluator:Evaluation took 0.12s seconds\n",
      "WARNING:pykeen.pipeline.api:No random seed is specified. Setting to 3203241656.\n",
      "INFO:pykeen.pipeline.api:Using device: None\n"
     ]
    },
    {
     "data": {
      "application/vnd.jupyter.widget-view+json": {
       "model_id": "92cd438ef1ac4080973bab2512d7cb8f",
       "version_major": 2,
       "version_minor": 0
      },
      "text/plain": [
       "Training epochs on cuda:0:   0%|          | 0/25 [00:00<?, ?epoch/s]"
      ]
     },
     "metadata": {},
     "output_type": "display_data"
    },
    {
     "data": {
      "application/vnd.jupyter.widget-view+json": {
       "model_id": "f88ac0907bf640acbc989a844195901d",
       "version_major": 2,
       "version_minor": 0
      },
      "text/plain": [
       "Evaluating on cuda:0:   0%|          | 0.00/53.0 [00:00<?, ?triple/s]"
      ]
     },
     "metadata": {},
     "output_type": "display_data"
    },
    {
     "name": "stderr",
     "output_type": "stream",
     "text": [
      "INFO:pykeen.evaluation.evaluator:Evaluation took 0.13s seconds\n",
      "WARNING:pykeen.triples.triples_factory:Reconstructing all label-based triples. This is expensive and rarely needed.\n",
      "WARNING:pykeen.pipeline.api:No random seed is specified. Setting to 3203241656.\n",
      "INFO:pykeen.pipeline.api:Using device: None\n"
     ]
    },
    {
     "name": "stdout",
     "output_type": "stream",
     "text": [
      "33 HDF01_triplets.csv\n"
     ]
    },
    {
     "data": {
      "application/vnd.jupyter.widget-view+json": {
       "model_id": "1921209d5bad4d33a2ef22686ef6b793",
       "version_major": 2,
       "version_minor": 0
      },
      "text/plain": [
       "Training epochs on cuda:0:   0%|          | 0/25 [00:00<?, ?epoch/s]"
      ]
     },
     "metadata": {},
     "output_type": "display_data"
    },
    {
     "data": {
      "application/vnd.jupyter.widget-view+json": {
       "model_id": "4ee23c8bc80e4b29ae36508d0c35755b",
       "version_major": 2,
       "version_minor": 0
      },
      "text/plain": [
       "Evaluating on cuda:0:   0%|          | 0.00/56.0 [00:00<?, ?triple/s]"
      ]
     },
     "metadata": {},
     "output_type": "display_data"
    },
    {
     "name": "stderr",
     "output_type": "stream",
     "text": [
      "INFO:pykeen.evaluation.evaluator:Evaluation took 0.11s seconds\n",
      "WARNING:pykeen.pipeline.api:No random seed is specified. Setting to 3203241656.\n",
      "INFO:pykeen.pipeline.api:Using device: None\n"
     ]
    },
    {
     "data": {
      "application/vnd.jupyter.widget-view+json": {
       "model_id": "21ab651765ab46c6b5fa3ba52d41a7ce",
       "version_major": 2,
       "version_minor": 0
      },
      "text/plain": [
       "Training epochs on cuda:0:   0%|          | 0/25 [00:00<?, ?epoch/s]"
      ]
     },
     "metadata": {},
     "output_type": "display_data"
    },
    {
     "data": {
      "application/vnd.jupyter.widget-view+json": {
       "model_id": "4148aa2ca4fb4c6baf53c3a80a9893f0",
       "version_major": 2,
       "version_minor": 0
      },
      "text/plain": [
       "Evaluating on cuda:0:   0%|          | 0.00/56.0 [00:00<?, ?triple/s]"
      ]
     },
     "metadata": {},
     "output_type": "display_data"
    },
    {
     "name": "stderr",
     "output_type": "stream",
     "text": [
      "INFO:pykeen.evaluation.evaluator:Evaluation took 0.12s seconds\n",
      "WARNING:pykeen.triples.triples_factory:Reconstructing all label-based triples. This is expensive and rarely needed.\n",
      "WARNING:pykeen.pipeline.api:No random seed is specified. Setting to 3203241656.\n",
      "INFO:pykeen.pipeline.api:Using device: None\n"
     ]
    },
    {
     "name": "stdout",
     "output_type": "stream",
     "text": [
      "34 HDF_triplets.csv\n"
     ]
    },
    {
     "data": {
      "application/vnd.jupyter.widget-view+json": {
       "model_id": "dc6ffc12e6e84a5ca814f4d6adbc1bfe",
       "version_major": 2,
       "version_minor": 0
      },
      "text/plain": [
       "Training epochs on cuda:0:   0%|          | 0/25 [00:00<?, ?epoch/s]"
      ]
     },
     "metadata": {},
     "output_type": "display_data"
    },
    {
     "data": {
      "application/vnd.jupyter.widget-view+json": {
       "model_id": "a44996075bd845cabb6d534795d14cf1",
       "version_major": 2,
       "version_minor": 0
      },
      "text/plain": [
       "Evaluating on cuda:0:   0%|          | 0.00/47.0 [00:00<?, ?triple/s]"
      ]
     },
     "metadata": {},
     "output_type": "display_data"
    },
    {
     "name": "stderr",
     "output_type": "stream",
     "text": [
      "INFO:pykeen.evaluation.evaluator:Evaluation took 0.12s seconds\n",
      "WARNING:pykeen.pipeline.api:No random seed is specified. Setting to 3203241656.\n",
      "INFO:pykeen.pipeline.api:Using device: None\n"
     ]
    },
    {
     "data": {
      "application/vnd.jupyter.widget-view+json": {
       "model_id": "1e44ef74d20543318bead1e817decf8c",
       "version_major": 2,
       "version_minor": 0
      },
      "text/plain": [
       "Training epochs on cuda:0:   0%|          | 0/25 [00:00<?, ?epoch/s]"
      ]
     },
     "metadata": {},
     "output_type": "display_data"
    },
    {
     "data": {
      "application/vnd.jupyter.widget-view+json": {
       "model_id": "ed92aee6e53c426e9a3d91710a170e9a",
       "version_major": 2,
       "version_minor": 0
      },
      "text/plain": [
       "Evaluating on cuda:0:   0%|          | 0.00/47.0 [00:00<?, ?triple/s]"
      ]
     },
     "metadata": {},
     "output_type": "display_data"
    },
    {
     "name": "stderr",
     "output_type": "stream",
     "text": [
      "INFO:pykeen.evaluation.evaluator:Evaluation took 0.12s seconds\n",
      "WARNING:pykeen.triples.triples_factory:Reconstructing all label-based triples. This is expensive and rarely needed.\n",
      "WARNING:pykeen.pipeline.api:No random seed is specified. Setting to 3203241656.\n",
      "INFO:pykeen.pipeline.api:Using device: None\n"
     ]
    },
    {
     "name": "stdout",
     "output_type": "stream",
     "text": [
      "35 HDO_triplets.csv\n"
     ]
    },
    {
     "data": {
      "application/vnd.jupyter.widget-view+json": {
       "model_id": "e6910f6eb4bb45c3a6ac4d61da4fefa1",
       "version_major": 2,
       "version_minor": 0
      },
      "text/plain": [
       "Training epochs on cuda:0:   0%|          | 0/25 [00:00<?, ?epoch/s]"
      ]
     },
     "metadata": {},
     "output_type": "display_data"
    },
    {
     "data": {
      "application/vnd.jupyter.widget-view+json": {
       "model_id": "66c5436ae0de4f0abb98d155ac28d04e",
       "version_major": 2,
       "version_minor": 0
      },
      "text/plain": [
       "Evaluating on cuda:0:   0%|          | 0.00/49.0 [00:00<?, ?triple/s]"
      ]
     },
     "metadata": {},
     "output_type": "display_data"
    },
    {
     "name": "stderr",
     "output_type": "stream",
     "text": [
      "INFO:pykeen.evaluation.evaluator:Evaluation took 0.13s seconds\n",
      "WARNING:pykeen.pipeline.api:No random seed is specified. Setting to 3203241656.\n",
      "INFO:pykeen.pipeline.api:Using device: None\n"
     ]
    },
    {
     "data": {
      "application/vnd.jupyter.widget-view+json": {
       "model_id": "7fbc438ad0b64c22955eefc2a0764186",
       "version_major": 2,
       "version_minor": 0
      },
      "text/plain": [
       "Training epochs on cuda:0:   0%|          | 0/25 [00:00<?, ?epoch/s]"
      ]
     },
     "metadata": {},
     "output_type": "display_data"
    },
    {
     "data": {
      "application/vnd.jupyter.widget-view+json": {
       "model_id": "f4e950de0be84cf5a1fc47faf6dddd3c",
       "version_major": 2,
       "version_minor": 0
      },
      "text/plain": [
       "Evaluating on cuda:0:   0%|          | 0.00/49.0 [00:00<?, ?triple/s]"
      ]
     },
     "metadata": {},
     "output_type": "display_data"
    },
    {
     "name": "stderr",
     "output_type": "stream",
     "text": [
      "INFO:pykeen.evaluation.evaluator:Evaluation took 0.11s seconds\n",
      "WARNING:pykeen.triples.triples_factory:Reconstructing all label-based triples. This is expensive and rarely needed.\n",
      "WARNING:pykeen.pipeline.api:No random seed is specified. Setting to 3203241656.\n",
      "INFO:pykeen.pipeline.api:Using device: None\n"
     ]
    },
    {
     "name": "stdout",
     "output_type": "stream",
     "text": [
      "36 HL_triplets.csv\n"
     ]
    },
    {
     "data": {
      "application/vnd.jupyter.widget-view+json": {
       "model_id": "61fca6a8951b4257b5c611e02d4627ac",
       "version_major": 2,
       "version_minor": 0
      },
      "text/plain": [
       "Training epochs on cuda:0:   0%|          | 0/25 [00:00<?, ?epoch/s]"
      ]
     },
     "metadata": {},
     "output_type": "display_data"
    },
    {
     "data": {
      "application/vnd.jupyter.widget-view+json": {
       "model_id": "25e93adc79064f3c83d0c31af027bcab",
       "version_major": 2,
       "version_minor": 0
      },
      "text/plain": [
       "Evaluating on cuda:0:   0%|          | 0.00/47.0 [00:00<?, ?triple/s]"
      ]
     },
     "metadata": {},
     "output_type": "display_data"
    },
    {
     "name": "stderr",
     "output_type": "stream",
     "text": [
      "INFO:pykeen.evaluation.evaluator:Evaluation took 0.11s seconds\n",
      "WARNING:pykeen.pipeline.api:No random seed is specified. Setting to 3203241656.\n",
      "INFO:pykeen.pipeline.api:Using device: None\n"
     ]
    },
    {
     "data": {
      "application/vnd.jupyter.widget-view+json": {
       "model_id": "07fae30da0c049a2bd653c2bbf5c2c8e",
       "version_major": 2,
       "version_minor": 0
      },
      "text/plain": [
       "Training epochs on cuda:0:   0%|          | 0/25 [00:00<?, ?epoch/s]"
      ]
     },
     "metadata": {},
     "output_type": "display_data"
    },
    {
     "data": {
      "application/vnd.jupyter.widget-view+json": {
       "model_id": "f9a8244f18cc4bf1880a48bf36c3fe8b",
       "version_major": 2,
       "version_minor": 0
      },
      "text/plain": [
       "Evaluating on cuda:0:   0%|          | 0.00/47.0 [00:00<?, ?triple/s]"
      ]
     },
     "metadata": {},
     "output_type": "display_data"
    },
    {
     "name": "stderr",
     "output_type": "stream",
     "text": [
      "INFO:pykeen.evaluation.evaluator:Evaluation took 0.12s seconds\n",
      "WARNING:pykeen.triples.triples_factory:Reconstructing all label-based triples. This is expensive and rarely needed.\n",
      "WARNING:pykeen.pipeline.api:No random seed is specified. Setting to 3203241656.\n",
      "INFO:pykeen.pipeline.api:Using device: None\n"
     ]
    },
    {
     "name": "stdout",
     "output_type": "stream",
     "text": [
      "37 HSL01_triplets.csv\n"
     ]
    },
    {
     "data": {
      "application/vnd.jupyter.widget-view+json": {
       "model_id": "2d36f4301e0941cd96d9d179c8d57942",
       "version_major": 2,
       "version_minor": 0
      },
      "text/plain": [
       "Training epochs on cuda:0:   0%|          | 0/25 [00:00<?, ?epoch/s]"
      ]
     },
     "metadata": {},
     "output_type": "display_data"
    },
    {
     "data": {
      "application/vnd.jupyter.widget-view+json": {
       "model_id": "eb9adab38c1f494d8a20665e37347f28",
       "version_major": 2,
       "version_minor": 0
      },
      "text/plain": [
       "Evaluating on cuda:0:   0%|          | 0.00/42.0 [00:00<?, ?triple/s]"
      ]
     },
     "metadata": {},
     "output_type": "display_data"
    },
    {
     "name": "stderr",
     "output_type": "stream",
     "text": [
      "INFO:pykeen.evaluation.evaluator:Evaluation took 0.11s seconds\n",
      "WARNING:pykeen.pipeline.api:No random seed is specified. Setting to 3203241656.\n",
      "INFO:pykeen.pipeline.api:Using device: None\n"
     ]
    },
    {
     "data": {
      "application/vnd.jupyter.widget-view+json": {
       "model_id": "24b41211ad3a40fa95248f67531264fa",
       "version_major": 2,
       "version_minor": 0
      },
      "text/plain": [
       "Training epochs on cuda:0:   0%|          | 0/25 [00:00<?, ?epoch/s]"
      ]
     },
     "metadata": {},
     "output_type": "display_data"
    },
    {
     "data": {
      "application/vnd.jupyter.widget-view+json": {
       "model_id": "258408f28fa244f49b885f000efca9ab",
       "version_major": 2,
       "version_minor": 0
      },
      "text/plain": [
       "Evaluating on cuda:0:   0%|          | 0.00/42.0 [00:00<?, ?triple/s]"
      ]
     },
     "metadata": {},
     "output_type": "display_data"
    },
    {
     "name": "stderr",
     "output_type": "stream",
     "text": [
      "INFO:pykeen.evaluation.evaluator:Evaluation took 0.14s seconds\n",
      "WARNING:pykeen.triples.triples_factory:Reconstructing all label-based triples. This is expensive and rarely needed.\n",
      "WARNING:pykeen.pipeline.api:No random seed is specified. Setting to 3203241656.\n",
      "INFO:pykeen.pipeline.api:Using device: None\n"
     ]
    },
    {
     "name": "stdout",
     "output_type": "stream",
     "text": [
      "38 IPL01_triplets.csv\n"
     ]
    },
    {
     "data": {
      "application/vnd.jupyter.widget-view+json": {
       "model_id": "5c7767bb2e73458b85b42c34a87f6efa",
       "version_major": 2,
       "version_minor": 0
      },
      "text/plain": [
       "Training epochs on cuda:0:   0%|          | 0/25 [00:00<?, ?epoch/s]"
      ]
     },
     "metadata": {},
     "output_type": "display_data"
    },
    {
     "data": {
      "application/vnd.jupyter.widget-view+json": {
       "model_id": "bd26515caa9e4e92bb3bd68c9930b7cb",
       "version_major": 2,
       "version_minor": 0
      },
      "text/plain": [
       "Evaluating on cuda:0:   0%|          | 0.00/36.0 [00:00<?, ?triple/s]"
      ]
     },
     "metadata": {},
     "output_type": "display_data"
    },
    {
     "name": "stderr",
     "output_type": "stream",
     "text": [
      "INFO:pykeen.evaluation.evaluator:Evaluation took 0.09s seconds\n",
      "WARNING:pykeen.pipeline.api:No random seed is specified. Setting to 3203241656.\n",
      "INFO:pykeen.pipeline.api:Using device: None\n"
     ]
    },
    {
     "data": {
      "application/vnd.jupyter.widget-view+json": {
       "model_id": "2ac986fa954a4f41994d1531e954e455",
       "version_major": 2,
       "version_minor": 0
      },
      "text/plain": [
       "Training epochs on cuda:0:   0%|          | 0/25 [00:00<?, ?epoch/s]"
      ]
     },
     "metadata": {},
     "output_type": "display_data"
    },
    {
     "data": {
      "application/vnd.jupyter.widget-view+json": {
       "model_id": "754c036dcb374e45be7bb19d34d2f7cb",
       "version_major": 2,
       "version_minor": 0
      },
      "text/plain": [
       "Evaluating on cuda:0:   0%|          | 0.00/36.0 [00:00<?, ?triple/s]"
      ]
     },
     "metadata": {},
     "output_type": "display_data"
    },
    {
     "name": "stderr",
     "output_type": "stream",
     "text": [
      "INFO:pykeen.evaluation.evaluator:Evaluation took 0.10s seconds\n",
      "WARNING:pykeen.triples.triples_factory:Reconstructing all label-based triples. This is expensive and rarely needed.\n",
      "WARNING:pykeen.pipeline.api:No random seed is specified. Setting to 3203241656.\n",
      "INFO:pykeen.pipeline.api:Using device: None\n"
     ]
    },
    {
     "name": "stdout",
     "output_type": "stream",
     "text": [
      "39 ITC_triplets.csv\n"
     ]
    },
    {
     "data": {
      "application/vnd.jupyter.widget-view+json": {
       "model_id": "680df20cbc2b4ff7b7a55e7f61e90278",
       "version_major": 2,
       "version_minor": 0
      },
      "text/plain": [
       "Training epochs on cuda:0:   0%|          | 0/25 [00:00<?, ?epoch/s]"
      ]
     },
     "metadata": {},
     "output_type": "display_data"
    },
    {
     "data": {
      "application/vnd.jupyter.widget-view+json": {
       "model_id": "d5f643cd0c524831afbca50ee423d859",
       "version_major": 2,
       "version_minor": 0
      },
      "text/plain": [
       "Evaluating on cuda:0:   0%|          | 0.00/43.0 [00:00<?, ?triple/s]"
      ]
     },
     "metadata": {},
     "output_type": "display_data"
    },
    {
     "name": "stderr",
     "output_type": "stream",
     "text": [
      "INFO:pykeen.evaluation.evaluator:Evaluation took 0.12s seconds\n",
      "WARNING:pykeen.pipeline.api:No random seed is specified. Setting to 3203241656.\n",
      "INFO:pykeen.pipeline.api:Using device: None\n"
     ]
    },
    {
     "data": {
      "application/vnd.jupyter.widget-view+json": {
       "model_id": "14790e741a93465d8b9762ef815cee6f",
       "version_major": 2,
       "version_minor": 0
      },
      "text/plain": [
       "Training epochs on cuda:0:   0%|          | 0/25 [00:00<?, ?epoch/s]"
      ]
     },
     "metadata": {},
     "output_type": "display_data"
    },
    {
     "data": {
      "application/vnd.jupyter.widget-view+json": {
       "model_id": "20996a9f35e94eecaa96dd33f6744952",
       "version_major": 2,
       "version_minor": 0
      },
      "text/plain": [
       "Evaluating on cuda:0:   0%|          | 0.00/43.0 [00:00<?, ?triple/s]"
      ]
     },
     "metadata": {},
     "output_type": "display_data"
    },
    {
     "name": "stderr",
     "output_type": "stream",
     "text": [
      "INFO:pykeen.evaluation.evaluator:Evaluation took 0.13s seconds\n",
      "WARNING:pykeen.triples.triples_factory:Reconstructing all label-based triples. This is expensive and rarely needed.\n",
      "WARNING:pykeen.pipeline.api:No random seed is specified. Setting to 3203241656.\n",
      "INFO:pykeen.pipeline.api:Using device: None\n"
     ]
    },
    {
     "name": "stdout",
     "output_type": "stream",
     "text": [
      "40 IT_triplets.csv\n"
     ]
    },
    {
     "data": {
      "application/vnd.jupyter.widget-view+json": {
       "model_id": "c01ba110be0c4feba8d5850ce3096c19",
       "version_major": 2,
       "version_minor": 0
      },
      "text/plain": [
       "Training epochs on cuda:0:   0%|          | 0/25 [00:00<?, ?epoch/s]"
      ]
     },
     "metadata": {},
     "output_type": "display_data"
    },
    {
     "data": {
      "application/vnd.jupyter.widget-view+json": {
       "model_id": "3da47c61f3354b878f8b343930a3d524",
       "version_major": 2,
       "version_minor": 0
      },
      "text/plain": [
       "Evaluating on cuda:0:   0%|          | 0.00/46.0 [00:00<?, ?triple/s]"
      ]
     },
     "metadata": {},
     "output_type": "display_data"
    },
    {
     "name": "stderr",
     "output_type": "stream",
     "text": [
      "INFO:pykeen.evaluation.evaluator:Evaluation took 0.10s seconds\n",
      "WARNING:pykeen.pipeline.api:No random seed is specified. Setting to 3203241656.\n",
      "INFO:pykeen.pipeline.api:Using device: None\n"
     ]
    },
    {
     "data": {
      "application/vnd.jupyter.widget-view+json": {
       "model_id": "3dcd9ddb7eea4d0589f3d7c3f06796be",
       "version_major": 2,
       "version_minor": 0
      },
      "text/plain": [
       "Training epochs on cuda:0:   0%|          | 0/25 [00:00<?, ?epoch/s]"
      ]
     },
     "metadata": {},
     "output_type": "display_data"
    },
    {
     "data": {
      "application/vnd.jupyter.widget-view+json": {
       "model_id": "d7f07c1ddabc4d23a53fa282e96c606c",
       "version_major": 2,
       "version_minor": 0
      },
      "text/plain": [
       "Evaluating on cuda:0:   0%|          | 0.00/46.0 [00:00<?, ?triple/s]"
      ]
     },
     "metadata": {},
     "output_type": "display_data"
    },
    {
     "name": "stderr",
     "output_type": "stream",
     "text": [
      "INFO:pykeen.evaluation.evaluator:Evaluation took 0.11s seconds\n",
      "WARNING:pykeen.triples.triples_factory:Reconstructing all label-based triples. This is expensive and rarely needed.\n",
      "WARNING:pykeen.pipeline.api:No random seed is specified. Setting to 3203241656.\n",
      "INFO:pykeen.pipeline.api:Using device: None\n"
     ]
    },
    {
     "name": "stdout",
     "output_type": "stream",
     "text": [
      "41 IVR_triplets.csv\n"
     ]
    },
    {
     "data": {
      "application/vnd.jupyter.widget-view+json": {
       "model_id": "2a84d0ceb02a49ada2844f54338f86cd",
       "version_major": 2,
       "version_minor": 0
      },
      "text/plain": [
       "Training epochs on cuda:0:   0%|          | 0/25 [00:00<?, ?epoch/s]"
      ]
     },
     "metadata": {},
     "output_type": "display_data"
    },
    {
     "data": {
      "application/vnd.jupyter.widget-view+json": {
       "model_id": "495b74cc8cac429cb7c749064fe58bd9",
       "version_major": 2,
       "version_minor": 0
      },
      "text/plain": [
       "Evaluating on cuda:0:   0%|          | 0.00/58.0 [00:00<?, ?triple/s]"
      ]
     },
     "metadata": {},
     "output_type": "display_data"
    },
    {
     "name": "stderr",
     "output_type": "stream",
     "text": [
      "INFO:pykeen.evaluation.evaluator:Evaluation took 0.11s seconds\n",
      "WARNING:pykeen.pipeline.api:No random seed is specified. Setting to 3203241656.\n",
      "INFO:pykeen.pipeline.api:Using device: None\n"
     ]
    },
    {
     "data": {
      "application/vnd.jupyter.widget-view+json": {
       "model_id": "04e8a3c7e9334e33912dbede3a4dd67a",
       "version_major": 2,
       "version_minor": 0
      },
      "text/plain": [
       "Training epochs on cuda:0:   0%|          | 0/25 [00:00<?, ?epoch/s]"
      ]
     },
     "metadata": {},
     "output_type": "display_data"
    },
    {
     "data": {
      "application/vnd.jupyter.widget-view+json": {
       "model_id": "0c1f8ce835944e228298d7be5b4382f1",
       "version_major": 2,
       "version_minor": 0
      },
      "text/plain": [
       "Evaluating on cuda:0:   0%|          | 0.00/58.0 [00:00<?, ?triple/s]"
      ]
     },
     "metadata": {},
     "output_type": "display_data"
    },
    {
     "name": "stderr",
     "output_type": "stream",
     "text": [
      "INFO:pykeen.evaluation.evaluator:Evaluation took 0.12s seconds\n",
      "WARNING:pykeen.triples.triples_factory:Reconstructing all label-based triples. This is expensive and rarely needed.\n",
      "WARNING:pykeen.pipeline.api:No random seed is specified. Setting to 3203241656.\n",
      "INFO:pykeen.pipeline.api:Using device: None\n"
     ]
    },
    {
     "name": "stdout",
     "output_type": "stream",
     "text": [
      "42 JFS_triplets.csv\n"
     ]
    },
    {
     "data": {
      "application/vnd.jupyter.widget-view+json": {
       "model_id": "0c7bf51d760949febf215fe1c15669d4",
       "version_major": 2,
       "version_minor": 0
      },
      "text/plain": [
       "Training epochs on cuda:0:   0%|          | 0/25 [00:00<?, ?epoch/s]"
      ]
     },
     "metadata": {},
     "output_type": "display_data"
    },
    {
     "data": {
      "application/vnd.jupyter.widget-view+json": {
       "model_id": "aff9000753c74d4a9f947929b4abfb5a",
       "version_major": 2,
       "version_minor": 0
      },
      "text/plain": [
       "Evaluating on cuda:0:   0%|          | 0.00/21.0 [00:00<?, ?triple/s]"
      ]
     },
     "metadata": {},
     "output_type": "display_data"
    },
    {
     "name": "stderr",
     "output_type": "stream",
     "text": [
      "INFO:pykeen.evaluation.evaluator:Evaluation took 0.10s seconds\n",
      "WARNING:pykeen.pipeline.api:No random seed is specified. Setting to 3203241656.\n",
      "INFO:pykeen.pipeline.api:Using device: None\n"
     ]
    },
    {
     "data": {
      "application/vnd.jupyter.widget-view+json": {
       "model_id": "103aa0dc8d8043da981d20e43076765b",
       "version_major": 2,
       "version_minor": 0
      },
      "text/plain": [
       "Training epochs on cuda:0:   0%|          | 0/25 [00:00<?, ?epoch/s]"
      ]
     },
     "metadata": {},
     "output_type": "display_data"
    },
    {
     "data": {
      "application/vnd.jupyter.widget-view+json": {
       "model_id": "7e34766ce0344895998b23a77507e4aa",
       "version_major": 2,
       "version_minor": 0
      },
      "text/plain": [
       "Evaluating on cuda:0:   0%|          | 0.00/21.0 [00:00<?, ?triple/s]"
      ]
     },
     "metadata": {},
     "output_type": "display_data"
    },
    {
     "name": "stderr",
     "output_type": "stream",
     "text": [
      "INFO:pykeen.evaluation.evaluator:Evaluation took 0.12s seconds\n",
      "WARNING:pykeen.triples.triples_factory:Reconstructing all label-based triples. This is expensive and rarely needed.\n",
      "WARNING:pykeen.pipeline.api:No random seed is specified. Setting to 3203241656.\n",
      "INFO:pykeen.pipeline.api:Using device: None\n"
     ]
    },
    {
     "name": "stdout",
     "output_type": "stream",
     "text": [
      "43 JI07_triplets.csv\n"
     ]
    },
    {
     "data": {
      "application/vnd.jupyter.widget-view+json": {
       "model_id": "a48e4416c13c4b28b5113282c7136db6",
       "version_major": 2,
       "version_minor": 0
      },
      "text/plain": [
       "Training epochs on cuda:0:   0%|          | 0/25 [00:00<?, ?epoch/s]"
      ]
     },
     "metadata": {},
     "output_type": "display_data"
    },
    {
     "data": {
      "application/vnd.jupyter.widget-view+json": {
       "model_id": "98704a909d3f4ef9a6fec912b79623a5",
       "version_major": 2,
       "version_minor": 0
      },
      "text/plain": [
       "Evaluating on cuda:0:   0%|          | 0.00/55.0 [00:00<?, ?triple/s]"
      ]
     },
     "metadata": {},
     "output_type": "display_data"
    },
    {
     "name": "stderr",
     "output_type": "stream",
     "text": [
      "INFO:pykeen.evaluation.evaluator:Evaluation took 0.10s seconds\n",
      "WARNING:pykeen.pipeline.api:No random seed is specified. Setting to 3203241656.\n",
      "INFO:pykeen.pipeline.api:Using device: None\n"
     ]
    },
    {
     "data": {
      "application/vnd.jupyter.widget-view+json": {
       "model_id": "73c4a4ccba5547c58260c6575a5913cb",
       "version_major": 2,
       "version_minor": 0
      },
      "text/plain": [
       "Training epochs on cuda:0:   0%|          | 0/25 [00:00<?, ?epoch/s]"
      ]
     },
     "metadata": {},
     "output_type": "display_data"
    },
    {
     "data": {
      "application/vnd.jupyter.widget-view+json": {
       "model_id": "b408dd3fbcb54e44aecf8a3df0a50f0e",
       "version_major": 2,
       "version_minor": 0
      },
      "text/plain": [
       "Evaluating on cuda:0:   0%|          | 0.00/55.0 [00:00<?, ?triple/s]"
      ]
     },
     "metadata": {},
     "output_type": "display_data"
    },
    {
     "name": "stderr",
     "output_type": "stream",
     "text": [
      "INFO:pykeen.evaluation.evaluator:Evaluation took 0.11s seconds\n",
      "WARNING:pykeen.triples.triples_factory:Reconstructing all label-based triples. This is expensive and rarely needed.\n",
      "WARNING:pykeen.pipeline.api:No random seed is specified. Setting to 3203241656.\n",
      "INFO:pykeen.pipeline.api:Using device: None\n"
     ]
    },
    {
     "name": "stdout",
     "output_type": "stream",
     "text": [
      "44 JS03_triplets.csv\n"
     ]
    },
    {
     "data": {
      "application/vnd.jupyter.widget-view+json": {
       "model_id": "266729fa6c464e64951249910c48a71e",
       "version_major": 2,
       "version_minor": 0
      },
      "text/plain": [
       "Training epochs on cuda:0:   0%|          | 0/25 [00:00<?, ?epoch/s]"
      ]
     },
     "metadata": {},
     "output_type": "display_data"
    },
    {
     "data": {
      "application/vnd.jupyter.widget-view+json": {
       "model_id": "514e64afb0784daeb37c0135096df021",
       "version_major": 2,
       "version_minor": 0
      },
      "text/plain": [
       "Evaluating on cuda:0:   0%|          | 0.00/51.0 [00:00<?, ?triple/s]"
      ]
     },
     "metadata": {},
     "output_type": "display_data"
    },
    {
     "name": "stderr",
     "output_type": "stream",
     "text": [
      "INFO:pykeen.evaluation.evaluator:Evaluation took 0.12s seconds\n",
      "WARNING:pykeen.pipeline.api:No random seed is specified. Setting to 3203241656.\n",
      "INFO:pykeen.pipeline.api:Using device: None\n"
     ]
    },
    {
     "data": {
      "application/vnd.jupyter.widget-view+json": {
       "model_id": "3a3188e2b85d4bc781cf4656dfbc8117",
       "version_major": 2,
       "version_minor": 0
      },
      "text/plain": [
       "Training epochs on cuda:0:   0%|          | 0/25 [00:00<?, ?epoch/s]"
      ]
     },
     "metadata": {},
     "output_type": "display_data"
    },
    {
     "data": {
      "application/vnd.jupyter.widget-view+json": {
       "model_id": "8090c3a86b5e4e08b607097735cf83ab",
       "version_major": 2,
       "version_minor": 0
      },
      "text/plain": [
       "Evaluating on cuda:0:   0%|          | 0.00/51.0 [00:00<?, ?triple/s]"
      ]
     },
     "metadata": {},
     "output_type": "display_data"
    },
    {
     "name": "stderr",
     "output_type": "stream",
     "text": [
      "INFO:pykeen.evaluation.evaluator:Evaluation took 0.13s seconds\n",
      "WARNING:pykeen.triples.triples_factory:Reconstructing all label-based triples. This is expensive and rarely needed.\n",
      "WARNING:pykeen.pipeline.api:No random seed is specified. Setting to 3203241656.\n",
      "INFO:pykeen.pipeline.api:Using device: None\n"
     ]
    },
    {
     "name": "stdout",
     "output_type": "stream",
     "text": [
      "45 JV01_triplets.csv\n"
     ]
    },
    {
     "data": {
      "application/vnd.jupyter.widget-view+json": {
       "model_id": "a4a3ea0e5fb945adac352e4f6f7a17e2",
       "version_major": 2,
       "version_minor": 0
      },
      "text/plain": [
       "Training epochs on cuda:0:   0%|          | 0/25 [00:00<?, ?epoch/s]"
      ]
     },
     "metadata": {},
     "output_type": "display_data"
    },
    {
     "data": {
      "application/vnd.jupyter.widget-view+json": {
       "model_id": "0927f1adbf94448088cafe1096c2adbe",
       "version_major": 2,
       "version_minor": 0
      },
      "text/plain": [
       "Evaluating on cuda:0:   0%|          | 0.00/31.0 [00:00<?, ?triple/s]"
      ]
     },
     "metadata": {},
     "output_type": "display_data"
    },
    {
     "name": "stderr",
     "output_type": "stream",
     "text": [
      "INFO:pykeen.evaluation.evaluator:Evaluation took 0.10s seconds\n",
      "WARNING:pykeen.pipeline.api:No random seed is specified. Setting to 3203241656.\n",
      "INFO:pykeen.pipeline.api:Using device: None\n"
     ]
    },
    {
     "data": {
      "application/vnd.jupyter.widget-view+json": {
       "model_id": "3fd27602a66543efafb5a5bd199bd70f",
       "version_major": 2,
       "version_minor": 0
      },
      "text/plain": [
       "Training epochs on cuda:0:   0%|          | 0/25 [00:00<?, ?epoch/s]"
      ]
     },
     "metadata": {},
     "output_type": "display_data"
    },
    {
     "data": {
      "application/vnd.jupyter.widget-view+json": {
       "model_id": "86e88286c66044eb9d7ebf8c26a5e136",
       "version_major": 2,
       "version_minor": 0
      },
      "text/plain": [
       "Evaluating on cuda:0:   0%|          | 0.00/31.0 [00:00<?, ?triple/s]"
      ]
     },
     "metadata": {},
     "output_type": "display_data"
    },
    {
     "name": "stderr",
     "output_type": "stream",
     "text": [
      "INFO:pykeen.evaluation.evaluator:Evaluation took 0.13s seconds\n",
      "WARNING:pykeen.triples.triples_factory:Reconstructing all label-based triples. This is expensive and rarely needed.\n",
      "WARNING:pykeen.pipeline.api:No random seed is specified. Setting to 3203241656.\n",
      "INFO:pykeen.pipeline.api:Using device: None\n"
     ]
    },
    {
     "name": "stdout",
     "output_type": "stream",
     "text": [
      "46 KDI01_triplets.csv\n"
     ]
    },
    {
     "data": {
      "application/vnd.jupyter.widget-view+json": {
       "model_id": "d6abf5561c034f34b6df95df44b3abca",
       "version_major": 2,
       "version_minor": 0
      },
      "text/plain": [
       "Training epochs on cuda:0:   0%|          | 0/25 [00:00<?, ?epoch/s]"
      ]
     },
     "metadata": {},
     "output_type": "display_data"
    },
    {
     "data": {
      "application/vnd.jupyter.widget-view+json": {
       "model_id": "b968da6d01b246d1b6d48fe8976b0133",
       "version_major": 2,
       "version_minor": 0
      },
      "text/plain": [
       "Evaluating on cuda:0:   0%|          | 0.00/55.0 [00:00<?, ?triple/s]"
      ]
     },
     "metadata": {},
     "output_type": "display_data"
    },
    {
     "name": "stderr",
     "output_type": "stream",
     "text": [
      "INFO:pykeen.evaluation.evaluator:Evaluation took 0.10s seconds\n",
      "WARNING:pykeen.pipeline.api:No random seed is specified. Setting to 3203241656.\n",
      "INFO:pykeen.pipeline.api:Using device: None\n"
     ]
    },
    {
     "data": {
      "application/vnd.jupyter.widget-view+json": {
       "model_id": "4ebbfef87d354d0e82fda5621dbd8638",
       "version_major": 2,
       "version_minor": 0
      },
      "text/plain": [
       "Training epochs on cuda:0:   0%|          | 0/25 [00:00<?, ?epoch/s]"
      ]
     },
     "metadata": {},
     "output_type": "display_data"
    },
    {
     "data": {
      "application/vnd.jupyter.widget-view+json": {
       "model_id": "4e8b183a008c4c95a7053e376fc12453",
       "version_major": 2,
       "version_minor": 0
      },
      "text/plain": [
       "Evaluating on cuda:0:   0%|          | 0.00/55.0 [00:00<?, ?triple/s]"
      ]
     },
     "metadata": {},
     "output_type": "display_data"
    },
    {
     "name": "stderr",
     "output_type": "stream",
     "text": [
      "INFO:pykeen.evaluation.evaluator:Evaluation took 0.14s seconds\n",
      "WARNING:pykeen.triples.triples_factory:Reconstructing all label-based triples. This is expensive and rarely needed.\n",
      "WARNING:pykeen.pipeline.api:No random seed is specified. Setting to 3203241656.\n",
      "INFO:pykeen.pipeline.api:Using device: None\n"
     ]
    },
    {
     "name": "stdout",
     "output_type": "stream",
     "text": [
      "47 LI09_triplets.csv\n"
     ]
    },
    {
     "data": {
      "application/vnd.jupyter.widget-view+json": {
       "model_id": "2b39ae828b414288897326bafc08c278",
       "version_major": 2,
       "version_minor": 0
      },
      "text/plain": [
       "Training epochs on cuda:0:   0%|          | 0/25 [00:00<?, ?epoch/s]"
      ]
     },
     "metadata": {},
     "output_type": "display_data"
    },
    {
     "data": {
      "application/vnd.jupyter.widget-view+json": {
       "model_id": "23010e5326874abf85c69ec7b4afb27d",
       "version_major": 2,
       "version_minor": 0
      },
      "text/plain": [
       "Evaluating on cuda:0:   0%|          | 0.00/41.0 [00:00<?, ?triple/s]"
      ]
     },
     "metadata": {},
     "output_type": "display_data"
    },
    {
     "name": "stderr",
     "output_type": "stream",
     "text": [
      "INFO:pykeen.evaluation.evaluator:Evaluation took 0.13s seconds\n",
      "WARNING:pykeen.pipeline.api:No random seed is specified. Setting to 3203241656.\n",
      "INFO:pykeen.pipeline.api:Using device: None\n"
     ]
    },
    {
     "data": {
      "application/vnd.jupyter.widget-view+json": {
       "model_id": "06c25afeac2d4c729584cdacf60071f1",
       "version_major": 2,
       "version_minor": 0
      },
      "text/plain": [
       "Training epochs on cuda:0:   0%|          | 0/25 [00:00<?, ?epoch/s]"
      ]
     },
     "metadata": {},
     "output_type": "display_data"
    },
    {
     "data": {
      "application/vnd.jupyter.widget-view+json": {
       "model_id": "a38d33fb000a4964bd0e5a184723201f",
       "version_major": 2,
       "version_minor": 0
      },
      "text/plain": [
       "Evaluating on cuda:0:   0%|          | 0.00/41.0 [00:00<?, ?triple/s]"
      ]
     },
     "metadata": {},
     "output_type": "display_data"
    },
    {
     "name": "stderr",
     "output_type": "stream",
     "text": [
      "INFO:pykeen.evaluation.evaluator:Evaluation took 0.13s seconds\n",
      "WARNING:pykeen.triples.triples_factory:Reconstructing all label-based triples. This is expensive and rarely needed.\n",
      "WARNING:pykeen.pipeline.api:No random seed is specified. Setting to 3203241656.\n",
      "INFO:pykeen.pipeline.api:Using device: None\n"
     ]
    },
    {
     "name": "stdout",
     "output_type": "stream",
     "text": [
      "48 LI10_triplets.csv\n"
     ]
    },
    {
     "data": {
      "application/vnd.jupyter.widget-view+json": {
       "model_id": "8eae982a01d045b7bb0428d96fe3205d",
       "version_major": 2,
       "version_minor": 0
      },
      "text/plain": [
       "Training epochs on cuda:0:   0%|          | 0/25 [00:00<?, ?epoch/s]"
      ]
     },
     "metadata": {},
     "output_type": "display_data"
    },
    {
     "data": {
      "application/vnd.jupyter.widget-view+json": {
       "model_id": "fca80bdcb96d469c829fcd2e6baf5cd0",
       "version_major": 2,
       "version_minor": 0
      },
      "text/plain": [
       "Evaluating on cuda:0:   0%|          | 0.00/60.0 [00:00<?, ?triple/s]"
      ]
     },
     "metadata": {},
     "output_type": "display_data"
    },
    {
     "name": "stderr",
     "output_type": "stream",
     "text": [
      "INFO:pykeen.evaluation.evaluator:Evaluation took 0.14s seconds\n",
      "WARNING:pykeen.pipeline.api:No random seed is specified. Setting to 3203241656.\n",
      "INFO:pykeen.pipeline.api:Using device: None\n"
     ]
    },
    {
     "data": {
      "application/vnd.jupyter.widget-view+json": {
       "model_id": "813cf0c507f14c99864fd39ced1e353e",
       "version_major": 2,
       "version_minor": 0
      },
      "text/plain": [
       "Training epochs on cuda:0:   0%|          | 0/25 [00:00<?, ?epoch/s]"
      ]
     },
     "metadata": {},
     "output_type": "display_data"
    },
    {
     "data": {
      "application/vnd.jupyter.widget-view+json": {
       "model_id": "af6407dd58af47aba06b9e6e391908de",
       "version_major": 2,
       "version_minor": 0
      },
      "text/plain": [
       "Evaluating on cuda:0:   0%|          | 0.00/60.0 [00:00<?, ?triple/s]"
      ]
     },
     "metadata": {},
     "output_type": "display_data"
    },
    {
     "name": "stderr",
     "output_type": "stream",
     "text": [
      "INFO:pykeen.evaluation.evaluator:Evaluation took 0.11s seconds\n",
      "WARNING:pykeen.triples.triples_factory:Reconstructing all label-based triples. This is expensive and rarely needed.\n",
      "WARNING:pykeen.pipeline.api:No random seed is specified. Setting to 3203241656.\n",
      "INFO:pykeen.pipeline.api:Using device: None\n"
     ]
    },
    {
     "name": "stdout",
     "output_type": "stream",
     "text": [
      "49 LIC09_triplets.csv\n"
     ]
    },
    {
     "data": {
      "application/vnd.jupyter.widget-view+json": {
       "model_id": "360cfb03572f426ea99fa863e1a7488d",
       "version_major": 2,
       "version_minor": 0
      },
      "text/plain": [
       "Training epochs on cuda:0:   0%|          | 0/25 [00:00<?, ?epoch/s]"
      ]
     },
     "metadata": {},
     "output_type": "display_data"
    },
    {
     "data": {
      "application/vnd.jupyter.widget-view+json": {
       "model_id": "e0fb2b4243a249d38ea8f93439fd0d32",
       "version_major": 2,
       "version_minor": 0
      },
      "text/plain": [
       "Evaluating on cuda:0:   0%|          | 0.00/48.0 [00:00<?, ?triple/s]"
      ]
     },
     "metadata": {},
     "output_type": "display_data"
    },
    {
     "name": "stderr",
     "output_type": "stream",
     "text": [
      "INFO:pykeen.evaluation.evaluator:Evaluation took 0.14s seconds\n",
      "WARNING:pykeen.pipeline.api:No random seed is specified. Setting to 3203241656.\n",
      "INFO:pykeen.pipeline.api:Using device: None\n"
     ]
    },
    {
     "data": {
      "application/vnd.jupyter.widget-view+json": {
       "model_id": "a088ce867864426a898207ee7e1d48b4",
       "version_major": 2,
       "version_minor": 0
      },
      "text/plain": [
       "Training epochs on cuda:0:   0%|          | 0/25 [00:00<?, ?epoch/s]"
      ]
     },
     "metadata": {},
     "output_type": "display_data"
    },
    {
     "data": {
      "application/vnd.jupyter.widget-view+json": {
       "model_id": "e2e349cc7abf49fab4861356311bc7d8",
       "version_major": 2,
       "version_minor": 0
      },
      "text/plain": [
       "Evaluating on cuda:0:   0%|          | 0.00/48.0 [00:00<?, ?triple/s]"
      ]
     },
     "metadata": {},
     "output_type": "display_data"
    },
    {
     "name": "stderr",
     "output_type": "stream",
     "text": [
      "INFO:pykeen.evaluation.evaluator:Evaluation took 0.11s seconds\n",
      "WARNING:pykeen.triples.triples_factory:Reconstructing all label-based triples. This is expensive and rarely needed.\n",
      "WARNING:pykeen.pipeline.api:No random seed is specified. Setting to 3203241656.\n",
      "INFO:pykeen.pipeline.api:Using device: None\n"
     ]
    },
    {
     "name": "stdout",
     "output_type": "stream",
     "text": [
      "50 LPS_triplets.csv\n"
     ]
    },
    {
     "data": {
      "application/vnd.jupyter.widget-view+json": {
       "model_id": "c4bf16e8e81c4012b57869da45a11499",
       "version_major": 2,
       "version_minor": 0
      },
      "text/plain": [
       "Training epochs on cuda:0:   0%|          | 0/25 [00:00<?, ?epoch/s]"
      ]
     },
     "metadata": {},
     "output_type": "display_data"
    },
    {
     "data": {
      "application/vnd.jupyter.widget-view+json": {
       "model_id": "bcc716ec7d5f4404bfd2ea3a6ddcb7c5",
       "version_major": 2,
       "version_minor": 0
      },
      "text/plain": [
       "Evaluating on cuda:0:   0%|          | 0.00/48.0 [00:00<?, ?triple/s]"
      ]
     },
     "metadata": {},
     "output_type": "display_data"
    },
    {
     "name": "stderr",
     "output_type": "stream",
     "text": [
      "INFO:pykeen.evaluation.evaluator:Evaluation took 0.13s seconds\n",
      "WARNING:pykeen.pipeline.api:No random seed is specified. Setting to 3203241656.\n",
      "INFO:pykeen.pipeline.api:Using device: None\n"
     ]
    },
    {
     "data": {
      "application/vnd.jupyter.widget-view+json": {
       "model_id": "6d21ce243b024ab2beffef59aebd2689",
       "version_major": 2,
       "version_minor": 0
      },
      "text/plain": [
       "Training epochs on cuda:0:   0%|          | 0/25 [00:00<?, ?epoch/s]"
      ]
     },
     "metadata": {},
     "output_type": "display_data"
    },
    {
     "data": {
      "application/vnd.jupyter.widget-view+json": {
       "model_id": "6bd3132b8a09484a995ab324c8ee8b61",
       "version_major": 2,
       "version_minor": 0
      },
      "text/plain": [
       "Evaluating on cuda:0:   0%|          | 0.00/48.0 [00:00<?, ?triple/s]"
      ]
     },
     "metadata": {},
     "output_type": "display_data"
    },
    {
     "name": "stderr",
     "output_type": "stream",
     "text": [
      "INFO:pykeen.evaluation.evaluator:Evaluation took 0.13s seconds\n",
      "WARNING:pykeen.triples.triples_factory:Reconstructing all label-based triples. This is expensive and rarely needed.\n",
      "WARNING:pykeen.pipeline.api:No random seed is specified. Setting to 3203241656.\n",
      "INFO:pykeen.pipeline.api:Using device: None\n"
     ]
    },
    {
     "name": "stdout",
     "output_type": "stream",
     "text": [
      "51 LTS_triplets.csv\n"
     ]
    },
    {
     "data": {
      "application/vnd.jupyter.widget-view+json": {
       "model_id": "4012b441777b4246a29752cd9726d843",
       "version_major": 2,
       "version_minor": 0
      },
      "text/plain": [
       "Training epochs on cuda:0:   0%|          | 0/25 [00:00<?, ?epoch/s]"
      ]
     },
     "metadata": {},
     "output_type": "display_data"
    },
    {
     "data": {
      "application/vnd.jupyter.widget-view+json": {
       "model_id": "0c478602184f4b63b4efa697cdefe347",
       "version_major": 2,
       "version_minor": 0
      },
      "text/plain": [
       "Evaluating on cuda:0:   0%|          | 0.00/26.0 [00:00<?, ?triple/s]"
      ]
     },
     "metadata": {},
     "output_type": "display_data"
    },
    {
     "name": "stderr",
     "output_type": "stream",
     "text": [
      "INFO:pykeen.evaluation.evaluator:Evaluation took 0.12s seconds\n",
      "WARNING:pykeen.pipeline.api:No random seed is specified. Setting to 3203241656.\n",
      "INFO:pykeen.pipeline.api:Using device: None\n"
     ]
    },
    {
     "data": {
      "application/vnd.jupyter.widget-view+json": {
       "model_id": "b96819bb15c24b069ecd8a768a7883b5",
       "version_major": 2,
       "version_minor": 0
      },
      "text/plain": [
       "Training epochs on cuda:0:   0%|          | 0/25 [00:00<?, ?epoch/s]"
      ]
     },
     "metadata": {},
     "output_type": "display_data"
    },
    {
     "data": {
      "application/vnd.jupyter.widget-view+json": {
       "model_id": "f310837d64194a54ad1c755d4c499f6a",
       "version_major": 2,
       "version_minor": 0
      },
      "text/plain": [
       "Evaluating on cuda:0:   0%|          | 0.00/26.0 [00:00<?, ?triple/s]"
      ]
     },
     "metadata": {},
     "output_type": "display_data"
    },
    {
     "name": "stderr",
     "output_type": "stream",
     "text": [
      "INFO:pykeen.evaluation.evaluator:Evaluation took 0.13s seconds\n",
      "WARNING:pykeen.triples.triples_factory:Reconstructing all label-based triples. This is expensive and rarely needed.\n",
      "WARNING:pykeen.pipeline.api:No random seed is specified. Setting to 3203241656.\n",
      "INFO:pykeen.pipeline.api:Using device: None\n"
     ]
    },
    {
     "name": "stdout",
     "output_type": "stream",
     "text": [
      "52 MBI_triplets.csv\n"
     ]
    },
    {
     "data": {
      "application/vnd.jupyter.widget-view+json": {
       "model_id": "791bb0aad49849cc8dbe7c034a6ce64a",
       "version_major": 2,
       "version_minor": 0
      },
      "text/plain": [
       "Training epochs on cuda:0:   0%|          | 0/25 [00:00<?, ?epoch/s]"
      ]
     },
     "metadata": {},
     "output_type": "display_data"
    },
    {
     "data": {
      "application/vnd.jupyter.widget-view+json": {
       "model_id": "9bc56078b90a407da9cd47baa5880e4b",
       "version_major": 2,
       "version_minor": 0
      },
      "text/plain": [
       "Evaluating on cuda:0:   0%|          | 0.00/48.0 [00:00<?, ?triple/s]"
      ]
     },
     "metadata": {},
     "output_type": "display_data"
    },
    {
     "name": "stderr",
     "output_type": "stream",
     "text": [
      "INFO:pykeen.evaluation.evaluator:Evaluation took 0.14s seconds\n",
      "WARNING:pykeen.pipeline.api:No random seed is specified. Setting to 3203241656.\n",
      "INFO:pykeen.pipeline.api:Using device: None\n"
     ]
    },
    {
     "data": {
      "application/vnd.jupyter.widget-view+json": {
       "model_id": "1c283942d5a54ae5aadfe6dae340a8ba",
       "version_major": 2,
       "version_minor": 0
      },
      "text/plain": [
       "Training epochs on cuda:0:   0%|          | 0/25 [00:00<?, ?epoch/s]"
      ]
     },
     "metadata": {},
     "output_type": "display_data"
    },
    {
     "data": {
      "application/vnd.jupyter.widget-view+json": {
       "model_id": "95d3a3e6388b422fba45357c2910bdad",
       "version_major": 2,
       "version_minor": 0
      },
      "text/plain": [
       "Evaluating on cuda:0:   0%|          | 0.00/48.0 [00:00<?, ?triple/s]"
      ]
     },
     "metadata": {},
     "output_type": "display_data"
    },
    {
     "name": "stderr",
     "output_type": "stream",
     "text": [
      "INFO:pykeen.evaluation.evaluator:Evaluation took 0.15s seconds\n",
      "WARNING:pykeen.triples.triples_factory:Reconstructing all label-based triples. This is expensive and rarely needed.\n",
      "WARNING:pykeen.pipeline.api:No random seed is specified. Setting to 3203241656.\n",
      "INFO:pykeen.pipeline.api:Using device: None\n"
     ]
    },
    {
     "name": "stdout",
     "output_type": "stream",
     "text": [
      "53 MC20_triplets.csv\n"
     ]
    },
    {
     "data": {
      "application/vnd.jupyter.widget-view+json": {
       "model_id": "68fa03363cdd4471bbabcf207513450a",
       "version_major": 2,
       "version_minor": 0
      },
      "text/plain": [
       "Training epochs on cuda:0:   0%|          | 0/25 [00:00<?, ?epoch/s]"
      ]
     },
     "metadata": {},
     "output_type": "display_data"
    },
    {
     "data": {
      "application/vnd.jupyter.widget-view+json": {
       "model_id": "02635601efb74b0299110c4d11a1dc09",
       "version_major": 2,
       "version_minor": 0
      },
      "text/plain": [
       "Evaluating on cuda:0:   0%|          | 0.00/41.0 [00:00<?, ?triple/s]"
      ]
     },
     "metadata": {},
     "output_type": "display_data"
    },
    {
     "name": "stderr",
     "output_type": "stream",
     "text": [
      "INFO:pykeen.evaluation.evaluator:Evaluation took 0.12s seconds\n",
      "WARNING:pykeen.pipeline.api:No random seed is specified. Setting to 3203241656.\n",
      "INFO:pykeen.pipeline.api:Using device: None\n"
     ]
    },
    {
     "data": {
      "application/vnd.jupyter.widget-view+json": {
       "model_id": "cfcee8c5e3664e2bb4c4e1573d1bffda",
       "version_major": 2,
       "version_minor": 0
      },
      "text/plain": [
       "Training epochs on cuda:0:   0%|          | 0/25 [00:00<?, ?epoch/s]"
      ]
     },
     "metadata": {},
     "output_type": "display_data"
    },
    {
     "data": {
      "application/vnd.jupyter.widget-view+json": {
       "model_id": "82d41dcd3dce44f58ec8b879e82148f1",
       "version_major": 2,
       "version_minor": 0
      },
      "text/plain": [
       "Evaluating on cuda:0:   0%|          | 0.00/41.0 [00:00<?, ?triple/s]"
      ]
     },
     "metadata": {},
     "output_type": "display_data"
    },
    {
     "name": "stderr",
     "output_type": "stream",
     "text": [
      "INFO:pykeen.evaluation.evaluator:Evaluation took 0.12s seconds\n",
      "WARNING:pykeen.triples.triples_factory:Reconstructing all label-based triples. This is expensive and rarely needed.\n",
      "WARNING:pykeen.pipeline.api:No random seed is specified. Setting to 3203241656.\n",
      "INFO:pykeen.pipeline.api:Using device: None\n"
     ]
    },
    {
     "name": "stdout",
     "output_type": "stream",
     "text": [
      "54 ME12_triplets.csv\n"
     ]
    },
    {
     "data": {
      "application/vnd.jupyter.widget-view+json": {
       "model_id": "8c6f0168027f41839afbc013c1ca9233",
       "version_major": 2,
       "version_minor": 0
      },
      "text/plain": [
       "Training epochs on cuda:0:   0%|          | 0/25 [00:00<?, ?epoch/s]"
      ]
     },
     "metadata": {},
     "output_type": "display_data"
    },
    {
     "data": {
      "application/vnd.jupyter.widget-view+json": {
       "model_id": "14ac5aacf712449f84b926b802c074ef",
       "version_major": 2,
       "version_minor": 0
      },
      "text/plain": [
       "Evaluating on cuda:0:   0%|          | 0.00/31.0 [00:00<?, ?triple/s]"
      ]
     },
     "metadata": {},
     "output_type": "display_data"
    },
    {
     "name": "stderr",
     "output_type": "stream",
     "text": [
      "INFO:pykeen.evaluation.evaluator:Evaluation took 0.13s seconds\n",
      "WARNING:pykeen.pipeline.api:No random seed is specified. Setting to 3203241656.\n",
      "INFO:pykeen.pipeline.api:Using device: None\n"
     ]
    },
    {
     "data": {
      "application/vnd.jupyter.widget-view+json": {
       "model_id": "b433f6ef7cc94266906e5bbb33cc5965",
       "version_major": 2,
       "version_minor": 0
      },
      "text/plain": [
       "Training epochs on cuda:0:   0%|          | 0/25 [00:00<?, ?epoch/s]"
      ]
     },
     "metadata": {},
     "output_type": "display_data"
    },
    {
     "data": {
      "application/vnd.jupyter.widget-view+json": {
       "model_id": "652676cca08245638894aa5b2b2721d0",
       "version_major": 2,
       "version_minor": 0
      },
      "text/plain": [
       "Evaluating on cuda:0:   0%|          | 0.00/31.0 [00:00<?, ?triple/s]"
      ]
     },
     "metadata": {},
     "output_type": "display_data"
    },
    {
     "name": "stderr",
     "output_type": "stream",
     "text": [
      "INFO:pykeen.evaluation.evaluator:Evaluation took 0.11s seconds\n",
      "WARNING:pykeen.triples.triples_factory:Reconstructing all label-based triples. This is expensive and rarely needed.\n",
      "WARNING:pykeen.pipeline.api:No random seed is specified. Setting to 3203241656.\n",
      "INFO:pykeen.pipeline.api:Using device: None\n"
     ]
    },
    {
     "name": "stdout",
     "output_type": "stream",
     "text": [
      "55 MSI08_triplets.csv\n"
     ]
    },
    {
     "data": {
      "application/vnd.jupyter.widget-view+json": {
       "model_id": "865fcf7f98a940efa075d79351eda7c5",
       "version_major": 2,
       "version_minor": 0
      },
      "text/plain": [
       "Training epochs on cuda:0:   0%|          | 0/25 [00:00<?, ?epoch/s]"
      ]
     },
     "metadata": {},
     "output_type": "display_data"
    },
    {
     "data": {
      "application/vnd.jupyter.widget-view+json": {
       "model_id": "b73549c5a50d4611833a911457a38015",
       "version_major": 2,
       "version_minor": 0
      },
      "text/plain": [
       "Evaluating on cuda:0:   0%|          | 0.00/53.0 [00:00<?, ?triple/s]"
      ]
     },
     "metadata": {},
     "output_type": "display_data"
    },
    {
     "name": "stderr",
     "output_type": "stream",
     "text": [
      "INFO:pykeen.evaluation.evaluator:Evaluation took 0.12s seconds\n",
      "WARNING:pykeen.pipeline.api:No random seed is specified. Setting to 3203241656.\n",
      "INFO:pykeen.pipeline.api:Using device: None\n"
     ]
    },
    {
     "data": {
      "application/vnd.jupyter.widget-view+json": {
       "model_id": "b7903981f9a54d87927a8381f8ef8729",
       "version_major": 2,
       "version_minor": 0
      },
      "text/plain": [
       "Training epochs on cuda:0:   0%|          | 0/25 [00:00<?, ?epoch/s]"
      ]
     },
     "metadata": {},
     "output_type": "display_data"
    },
    {
     "data": {
      "application/vnd.jupyter.widget-view+json": {
       "model_id": "b3c0a953420e43c0a1b39159ebbb60bf",
       "version_major": 2,
       "version_minor": 0
      },
      "text/plain": [
       "Evaluating on cuda:0:   0%|          | 0.00/53.0 [00:00<?, ?triple/s]"
      ]
     },
     "metadata": {},
     "output_type": "display_data"
    },
    {
     "name": "stderr",
     "output_type": "stream",
     "text": [
      "INFO:pykeen.evaluation.evaluator:Evaluation took 0.10s seconds\n",
      "WARNING:pykeen.triples.triples_factory:Reconstructing all label-based triples. This is expensive and rarely needed.\n",
      "WARNING:pykeen.pipeline.api:No random seed is specified. Setting to 3203241656.\n",
      "INFO:pykeen.pipeline.api:Using device: None\n"
     ]
    },
    {
     "name": "stdout",
     "output_type": "stream",
     "text": [
      "56 MU01_triplets.csv\n"
     ]
    },
    {
     "data": {
      "application/vnd.jupyter.widget-view+json": {
       "model_id": "09514977b5334368b289a444ad221afb",
       "version_major": 2,
       "version_minor": 0
      },
      "text/plain": [
       "Training epochs on cuda:0:   0%|          | 0/25 [00:00<?, ?epoch/s]"
      ]
     },
     "metadata": {},
     "output_type": "display_data"
    },
    {
     "data": {
      "application/vnd.jupyter.widget-view+json": {
       "model_id": "cb1240fd76a34d3aa4f110db6df21097",
       "version_major": 2,
       "version_minor": 0
      },
      "text/plain": [
       "Evaluating on cuda:0:   0%|          | 0.00/47.0 [00:00<?, ?triple/s]"
      ]
     },
     "metadata": {},
     "output_type": "display_data"
    },
    {
     "name": "stderr",
     "output_type": "stream",
     "text": [
      "INFO:pykeen.evaluation.evaluator:Evaluation took 0.12s seconds\n",
      "WARNING:pykeen.pipeline.api:No random seed is specified. Setting to 3203241656.\n",
      "INFO:pykeen.pipeline.api:Using device: None\n"
     ]
    },
    {
     "data": {
      "application/vnd.jupyter.widget-view+json": {
       "model_id": "30d722cb6ef64cf38dcdc79ddcf427a4",
       "version_major": 2,
       "version_minor": 0
      },
      "text/plain": [
       "Training epochs on cuda:0:   0%|          | 0/25 [00:00<?, ?epoch/s]"
      ]
     },
     "metadata": {},
     "output_type": "display_data"
    },
    {
     "data": {
      "application/vnd.jupyter.widget-view+json": {
       "model_id": "4ca54a650cfc40a480f1e0f2f9039160",
       "version_major": 2,
       "version_minor": 0
      },
      "text/plain": [
       "Evaluating on cuda:0:   0%|          | 0.00/47.0 [00:00<?, ?triple/s]"
      ]
     },
     "metadata": {},
     "output_type": "display_data"
    },
    {
     "name": "stderr",
     "output_type": "stream",
     "text": [
      "INFO:pykeen.evaluation.evaluator:Evaluation took 0.10s seconds\n",
      "WARNING:pykeen.triples.triples_factory:Reconstructing all label-based triples. This is expensive and rarely needed.\n",
      "WARNING:pykeen.pipeline.api:No random seed is specified. Setting to 3203241656.\n",
      "INFO:pykeen.pipeline.api:Using device: None\n"
     ]
    },
    {
     "name": "stdout",
     "output_type": "stream",
     "text": [
      "57 MU02_triplets.csv\n"
     ]
    },
    {
     "data": {
      "application/vnd.jupyter.widget-view+json": {
       "model_id": "c6c42f82ce5a4d25835468143e9bba4d",
       "version_major": 2,
       "version_minor": 0
      },
      "text/plain": [
       "Training epochs on cuda:0:   0%|          | 0/25 [00:00<?, ?epoch/s]"
      ]
     },
     "metadata": {},
     "output_type": "display_data"
    },
    {
     "data": {
      "application/vnd.jupyter.widget-view+json": {
       "model_id": "bc99f215f15e470797d731c2a3c51db7",
       "version_major": 2,
       "version_minor": 0
      },
      "text/plain": [
       "Evaluating on cuda:0:   0%|          | 0.00/51.0 [00:00<?, ?triple/s]"
      ]
     },
     "metadata": {},
     "output_type": "display_data"
    },
    {
     "name": "stderr",
     "output_type": "stream",
     "text": [
      "INFO:pykeen.evaluation.evaluator:Evaluation took 0.12s seconds\n",
      "WARNING:pykeen.pipeline.api:No random seed is specified. Setting to 3203241656.\n",
      "INFO:pykeen.pipeline.api:Using device: None\n"
     ]
    },
    {
     "data": {
      "application/vnd.jupyter.widget-view+json": {
       "model_id": "da93b569eaf94fa89b5dfa7ac5489716",
       "version_major": 2,
       "version_minor": 0
      },
      "text/plain": [
       "Training epochs on cuda:0:   0%|          | 0/25 [00:00<?, ?epoch/s]"
      ]
     },
     "metadata": {},
     "output_type": "display_data"
    },
    {
     "data": {
      "application/vnd.jupyter.widget-view+json": {
       "model_id": "6daa2aa93d7d43efbd2b3bcddb9ef565",
       "version_major": 2,
       "version_minor": 0
      },
      "text/plain": [
       "Evaluating on cuda:0:   0%|          | 0.00/51.0 [00:00<?, ?triple/s]"
      ]
     },
     "metadata": {},
     "output_type": "display_data"
    },
    {
     "name": "stderr",
     "output_type": "stream",
     "text": [
      "INFO:pykeen.evaluation.evaluator:Evaluation took 0.12s seconds\n",
      "WARNING:pykeen.triples.triples_factory:Reconstructing all label-based triples. This is expensive and rarely needed.\n",
      "WARNING:pykeen.pipeline.api:No random seed is specified. Setting to 3203241656.\n",
      "INFO:pykeen.pipeline.api:Using device: None\n"
     ]
    },
    {
     "name": "stdout",
     "output_type": "stream",
     "text": [
      "58 MV01_triplets.csv\n"
     ]
    },
    {
     "data": {
      "application/vnd.jupyter.widget-view+json": {
       "model_id": "82c2172c14584e3896db0a62942ce450",
       "version_major": 2,
       "version_minor": 0
      },
      "text/plain": [
       "Training epochs on cuda:0:   0%|          | 0/25 [00:00<?, ?epoch/s]"
      ]
     },
     "metadata": {},
     "output_type": "display_data"
    },
    {
     "data": {
      "application/vnd.jupyter.widget-view+json": {
       "model_id": "c52dfe1912fe4f7399b2bc78d287f679",
       "version_major": 2,
       "version_minor": 0
      },
      "text/plain": [
       "Evaluating on cuda:0:   0%|          | 0.00/35.0 [00:00<?, ?triple/s]"
      ]
     },
     "metadata": {},
     "output_type": "display_data"
    },
    {
     "name": "stderr",
     "output_type": "stream",
     "text": [
      "INFO:pykeen.evaluation.evaluator:Evaluation took 0.11s seconds\n",
      "WARNING:pykeen.pipeline.api:No random seed is specified. Setting to 3203241656.\n",
      "INFO:pykeen.pipeline.api:Using device: None\n"
     ]
    },
    {
     "data": {
      "application/vnd.jupyter.widget-view+json": {
       "model_id": "cd5f6d546c254b63ac0bad2b256f2d0a",
       "version_major": 2,
       "version_minor": 0
      },
      "text/plain": [
       "Training epochs on cuda:0:   0%|          | 0/25 [00:00<?, ?epoch/s]"
      ]
     },
     "metadata": {},
     "output_type": "display_data"
    },
    {
     "data": {
      "application/vnd.jupyter.widget-view+json": {
       "model_id": "8f63e4ea3550424ca959218b6192a00e",
       "version_major": 2,
       "version_minor": 0
      },
      "text/plain": [
       "Evaluating on cuda:0:   0%|          | 0.00/35.0 [00:00<?, ?triple/s]"
      ]
     },
     "metadata": {},
     "output_type": "display_data"
    },
    {
     "name": "stderr",
     "output_type": "stream",
     "text": [
      "INFO:pykeen.evaluation.evaluator:Evaluation took 0.14s seconds\n",
      "WARNING:pykeen.triples.triples_factory:Reconstructing all label-based triples. This is expensive and rarely needed.\n",
      "WARNING:pykeen.pipeline.api:No random seed is specified. Setting to 3203241656.\n",
      "INFO:pykeen.pipeline.api:Using device: None\n"
     ]
    },
    {
     "name": "stdout",
     "output_type": "stream",
     "text": [
      "59 NOR_triplets.csv\n"
     ]
    },
    {
     "data": {
      "application/vnd.jupyter.widget-view+json": {
       "model_id": "ac14f135493f464997dc760ab50a34e2",
       "version_major": 2,
       "version_minor": 0
      },
      "text/plain": [
       "Training epochs on cuda:0:   0%|          | 0/25 [00:00<?, ?epoch/s]"
      ]
     },
     "metadata": {},
     "output_type": "display_data"
    },
    {
     "data": {
      "application/vnd.jupyter.widget-view+json": {
       "model_id": "99eb35c0b9a0475c9d29b66021ff8342",
       "version_major": 2,
       "version_minor": 0
      },
      "text/plain": [
       "Evaluating on cuda:0:   0%|          | 0.00/47.0 [00:00<?, ?triple/s]"
      ]
     },
     "metadata": {},
     "output_type": "display_data"
    },
    {
     "name": "stderr",
     "output_type": "stream",
     "text": [
      "INFO:pykeen.evaluation.evaluator:Evaluation took 0.12s seconds\n",
      "WARNING:pykeen.pipeline.api:No random seed is specified. Setting to 3203241656.\n",
      "INFO:pykeen.pipeline.api:Using device: None\n"
     ]
    },
    {
     "data": {
      "application/vnd.jupyter.widget-view+json": {
       "model_id": "5b48c265da4d4c989bed697c2f9cb1de",
       "version_major": 2,
       "version_minor": 0
      },
      "text/plain": [
       "Training epochs on cuda:0:   0%|          | 0/25 [00:00<?, ?epoch/s]"
      ]
     },
     "metadata": {},
     "output_type": "display_data"
    },
    {
     "data": {
      "application/vnd.jupyter.widget-view+json": {
       "model_id": "beee79b38a294f5cb3abeaad2518fc98",
       "version_major": 2,
       "version_minor": 0
      },
      "text/plain": [
       "Evaluating on cuda:0:   0%|          | 0.00/47.0 [00:00<?, ?triple/s]"
      ]
     },
     "metadata": {},
     "output_type": "display_data"
    },
    {
     "name": "stderr",
     "output_type": "stream",
     "text": [
      "INFO:pykeen.evaluation.evaluator:Evaluation took 0.12s seconds\n",
      "WARNING:pykeen.triples.triples_factory:Reconstructing all label-based triples. This is expensive and rarely needed.\n",
      "WARNING:pykeen.pipeline.api:No random seed is specified. Setting to 3203241656.\n",
      "INFO:pykeen.pipeline.api:Using device: None\n"
     ]
    },
    {
     "name": "stdout",
     "output_type": "stream",
     "text": [
      "60 NTP_triplets.csv\n"
     ]
    },
    {
     "data": {
      "application/vnd.jupyter.widget-view+json": {
       "model_id": "59d5b99a416d436590063297fbbde756",
       "version_major": 2,
       "version_minor": 0
      },
      "text/plain": [
       "Training epochs on cuda:0:   0%|          | 0/25 [00:00<?, ?epoch/s]"
      ]
     },
     "metadata": {},
     "output_type": "display_data"
    },
    {
     "data": {
      "application/vnd.jupyter.widget-view+json": {
       "model_id": "618af9746e9e4e2da61d4b3ee89e77be",
       "version_major": 2,
       "version_minor": 0
      },
      "text/plain": [
       "Evaluating on cuda:0:   0%|          | 0.00/54.0 [00:00<?, ?triple/s]"
      ]
     },
     "metadata": {},
     "output_type": "display_data"
    },
    {
     "name": "stderr",
     "output_type": "stream",
     "text": [
      "INFO:pykeen.evaluation.evaluator:Evaluation took 0.10s seconds\n",
      "WARNING:pykeen.pipeline.api:No random seed is specified. Setting to 3203241656.\n",
      "INFO:pykeen.pipeline.api:Using device: None\n"
     ]
    },
    {
     "data": {
      "application/vnd.jupyter.widget-view+json": {
       "model_id": "da71358aa1d14accab287f060540d087",
       "version_major": 2,
       "version_minor": 0
      },
      "text/plain": [
       "Training epochs on cuda:0:   0%|          | 0/25 [00:00<?, ?epoch/s]"
      ]
     },
     "metadata": {},
     "output_type": "display_data"
    },
    {
     "data": {
      "application/vnd.jupyter.widget-view+json": {
       "model_id": "6af884ae6bfa4e9ba2b4977bfd792f46",
       "version_major": 2,
       "version_minor": 0
      },
      "text/plain": [
       "Evaluating on cuda:0:   0%|          | 0.00/54.0 [00:00<?, ?triple/s]"
      ]
     },
     "metadata": {},
     "output_type": "display_data"
    },
    {
     "name": "stderr",
     "output_type": "stream",
     "text": [
      "INFO:pykeen.evaluation.evaluator:Evaluation took 0.11s seconds\n",
      "WARNING:pykeen.triples.triples_factory:Reconstructing all label-based triples. This is expensive and rarely needed.\n",
      "WARNING:pykeen.pipeline.api:No random seed is specified. Setting to 3203241656.\n",
      "INFO:pykeen.pipeline.api:Using device: None\n"
     ]
    },
    {
     "name": "stdout",
     "output_type": "stream",
     "text": [
      "61 OC13_triplets.csv\n"
     ]
    },
    {
     "data": {
      "application/vnd.jupyter.widget-view+json": {
       "model_id": "763fa86dcf174e42a7d0e59cc3033e13",
       "version_major": 2,
       "version_minor": 0
      },
      "text/plain": [
       "Training epochs on cuda:0:   0%|          | 0/25 [00:00<?, ?epoch/s]"
      ]
     },
     "metadata": {},
     "output_type": "display_data"
    },
    {
     "data": {
      "application/vnd.jupyter.widget-view+json": {
       "model_id": "9b8e337b335644128a90788389f8b258",
       "version_major": 2,
       "version_minor": 0
      },
      "text/plain": [
       "Evaluating on cuda:0:   0%|          | 0.00/43.0 [00:00<?, ?triple/s]"
      ]
     },
     "metadata": {},
     "output_type": "display_data"
    },
    {
     "name": "stderr",
     "output_type": "stream",
     "text": [
      "INFO:pykeen.evaluation.evaluator:Evaluation took 0.09s seconds\n",
      "WARNING:pykeen.pipeline.api:No random seed is specified. Setting to 3203241656.\n",
      "INFO:pykeen.pipeline.api:Using device: None\n"
     ]
    },
    {
     "data": {
      "application/vnd.jupyter.widget-view+json": {
       "model_id": "5a179caa480d4e8b9d90cd224bff0c40",
       "version_major": 2,
       "version_minor": 0
      },
      "text/plain": [
       "Training epochs on cuda:0:   0%|          | 0/25 [00:00<?, ?epoch/s]"
      ]
     },
     "metadata": {},
     "output_type": "display_data"
    },
    {
     "data": {
      "application/vnd.jupyter.widget-view+json": {
       "model_id": "5ffe77a1ce564840b8aba158217ac523",
       "version_major": 2,
       "version_minor": 0
      },
      "text/plain": [
       "Evaluating on cuda:0:   0%|          | 0.00/43.0 [00:00<?, ?triple/s]"
      ]
     },
     "metadata": {},
     "output_type": "display_data"
    },
    {
     "name": "stderr",
     "output_type": "stream",
     "text": [
      "INFO:pykeen.evaluation.evaluator:Evaluation took 0.12s seconds\n",
      "WARNING:pykeen.triples.triples_factory:Reconstructing all label-based triples. This is expensive and rarely needed.\n",
      "WARNING:pykeen.pipeline.api:No random seed is specified. Setting to 3203241656.\n",
      "INFO:pykeen.pipeline.api:Using device: None\n"
     ]
    },
    {
     "name": "stdout",
     "output_type": "stream",
     "text": [
      "62 OCP_triplets.csv\n"
     ]
    },
    {
     "data": {
      "application/vnd.jupyter.widget-view+json": {
       "model_id": "5a3f7f69dfd34ad2b5b8851b52406178",
       "version_major": 2,
       "version_minor": 0
      },
      "text/plain": [
       "Training epochs on cuda:0:   0%|          | 0/25 [00:00<?, ?epoch/s]"
      ]
     },
     "metadata": {},
     "output_type": "display_data"
    },
    {
     "data": {
      "application/vnd.jupyter.widget-view+json": {
       "model_id": "cdf224b9377a4461b3ad33269d74db17",
       "version_major": 2,
       "version_minor": 0
      },
      "text/plain": [
       "Evaluating on cuda:0:   0%|          | 0.00/53.0 [00:00<?, ?triple/s]"
      ]
     },
     "metadata": {},
     "output_type": "display_data"
    },
    {
     "name": "stderr",
     "output_type": "stream",
     "text": [
      "INFO:pykeen.evaluation.evaluator:Evaluation took 0.10s seconds\n",
      "WARNING:pykeen.pipeline.api:No random seed is specified. Setting to 3203241656.\n",
      "INFO:pykeen.pipeline.api:Using device: None\n"
     ]
    },
    {
     "data": {
      "application/vnd.jupyter.widget-view+json": {
       "model_id": "299644a3aa4c4d00be7e41d0006363af",
       "version_major": 2,
       "version_minor": 0
      },
      "text/plain": [
       "Training epochs on cuda:0:   0%|          | 0/25 [00:00<?, ?epoch/s]"
      ]
     },
     "metadata": {},
     "output_type": "display_data"
    },
    {
     "data": {
      "application/vnd.jupyter.widget-view+json": {
       "model_id": "add2ba5bde904a7d9a0d0e3fabeb1d5d",
       "version_major": 2,
       "version_minor": 0
      },
      "text/plain": [
       "Evaluating on cuda:0:   0%|          | 0.00/53.0 [00:00<?, ?triple/s]"
      ]
     },
     "metadata": {},
     "output_type": "display_data"
    },
    {
     "name": "stderr",
     "output_type": "stream",
     "text": [
      "INFO:pykeen.evaluation.evaluator:Evaluation took 0.11s seconds\n",
      "WARNING:pykeen.triples.triples_factory:Reconstructing all label-based triples. This is expensive and rarely needed.\n",
      "WARNING:pykeen.pipeline.api:No random seed is specified. Setting to 3203241656.\n",
      "INFO:pykeen.pipeline.api:Using device: None\n"
     ]
    },
    {
     "name": "stdout",
     "output_type": "stream",
     "text": [
      "63 ONG_triplets.csv\n"
     ]
    },
    {
     "data": {
      "application/vnd.jupyter.widget-view+json": {
       "model_id": "3647889ec8c84f539c4b2555a1059869",
       "version_major": 2,
       "version_minor": 0
      },
      "text/plain": [
       "Training epochs on cuda:0:   0%|          | 0/25 [00:00<?, ?epoch/s]"
      ]
     },
     "metadata": {},
     "output_type": "display_data"
    },
    {
     "data": {
      "application/vnd.jupyter.widget-view+json": {
       "model_id": "9ec7f09740734468a1e1a707c6c1e38a",
       "version_major": 2,
       "version_minor": 0
      },
      "text/plain": [
       "Evaluating on cuda:0:   0%|          | 0.00/50.0 [00:00<?, ?triple/s]"
      ]
     },
     "metadata": {},
     "output_type": "display_data"
    },
    {
     "name": "stderr",
     "output_type": "stream",
     "text": [
      "INFO:pykeen.evaluation.evaluator:Evaluation took 0.11s seconds\n",
      "WARNING:pykeen.pipeline.api:No random seed is specified. Setting to 3203241656.\n",
      "INFO:pykeen.pipeline.api:Using device: None\n"
     ]
    },
    {
     "data": {
      "application/vnd.jupyter.widget-view+json": {
       "model_id": "76b18232b74a47aebe8ec9ac3a5c65cb",
       "version_major": 2,
       "version_minor": 0
      },
      "text/plain": [
       "Training epochs on cuda:0:   0%|          | 0/25 [00:00<?, ?epoch/s]"
      ]
     },
     "metadata": {},
     "output_type": "display_data"
    },
    {
     "data": {
      "application/vnd.jupyter.widget-view+json": {
       "model_id": "9063acf1b3dc4104bce2d65c8e94b790",
       "version_major": 2,
       "version_minor": 0
      },
      "text/plain": [
       "Evaluating on cuda:0:   0%|          | 0.00/50.0 [00:00<?, ?triple/s]"
      ]
     },
     "metadata": {},
     "output_type": "display_data"
    },
    {
     "name": "stderr",
     "output_type": "stream",
     "text": [
      "INFO:pykeen.evaluation.evaluator:Evaluation took 0.07s seconds\n",
      "WARNING:pykeen.triples.triples_factory:Reconstructing all label-based triples. This is expensive and rarely needed.\n",
      "WARNING:pykeen.pipeline.api:No random seed is specified. Setting to 3203241656.\n",
      "INFO:pykeen.pipeline.api:Using device: None\n"
     ]
    },
    {
     "name": "stdout",
     "output_type": "stream",
     "text": [
      "64 PD06_triplets.csv\n"
     ]
    },
    {
     "data": {
      "application/vnd.jupyter.widget-view+json": {
       "model_id": "196245f5e5824459bdff71d8fcb8d8c7",
       "version_major": 2,
       "version_minor": 0
      },
      "text/plain": [
       "Training epochs on cuda:0:   0%|          | 0/25 [00:00<?, ?epoch/s]"
      ]
     },
     "metadata": {},
     "output_type": "display_data"
    },
    {
     "data": {
      "application/vnd.jupyter.widget-view+json": {
       "model_id": "f5c10c23ec9c4ad78dba24fbc775104a",
       "version_major": 2,
       "version_minor": 0
      },
      "text/plain": [
       "Evaluating on cuda:0:   0%|          | 0.00/40.0 [00:00<?, ?triple/s]"
      ]
     },
     "metadata": {},
     "output_type": "display_data"
    },
    {
     "name": "stderr",
     "output_type": "stream",
     "text": [
      "INFO:pykeen.evaluation.evaluator:Evaluation took 0.12s seconds\n",
      "WARNING:pykeen.pipeline.api:No random seed is specified. Setting to 3203241656.\n",
      "INFO:pykeen.pipeline.api:Using device: None\n"
     ]
    },
    {
     "data": {
      "application/vnd.jupyter.widget-view+json": {
       "model_id": "aab80ded12264d7498062ec8f438b165",
       "version_major": 2,
       "version_minor": 0
      },
      "text/plain": [
       "Training epochs on cuda:0:   0%|          | 0/25 [00:00<?, ?epoch/s]"
      ]
     },
     "metadata": {},
     "output_type": "display_data"
    },
    {
     "data": {
      "application/vnd.jupyter.widget-view+json": {
       "model_id": "ed1f98e6f8844743ae80664227e594df",
       "version_major": 2,
       "version_minor": 0
      },
      "text/plain": [
       "Evaluating on cuda:0:   0%|          | 0.00/40.0 [00:00<?, ?triple/s]"
      ]
     },
     "metadata": {},
     "output_type": "display_data"
    },
    {
     "name": "stderr",
     "output_type": "stream",
     "text": [
      "INFO:pykeen.evaluation.evaluator:Evaluation took 0.14s seconds\n",
      "WARNING:pykeen.triples.triples_factory:Reconstructing all label-based triples. This is expensive and rarely needed.\n",
      "WARNING:pykeen.pipeline.api:No random seed is specified. Setting to 3203241656.\n",
      "INFO:pykeen.pipeline.api:Using device: None\n"
     ]
    },
    {
     "name": "stdout",
     "output_type": "stream",
     "text": [
      "65 PGC_triplets.csv\n"
     ]
    },
    {
     "data": {
      "application/vnd.jupyter.widget-view+json": {
       "model_id": "11845af20e8c46b5afe44dee51c33747",
       "version_major": 2,
       "version_minor": 0
      },
      "text/plain": [
       "Training epochs on cuda:0:   0%|          | 0/25 [00:00<?, ?epoch/s]"
      ]
     },
     "metadata": {},
     "output_type": "display_data"
    },
    {
     "data": {
      "application/vnd.jupyter.widget-view+json": {
       "model_id": "375a391c5f8440279984c3209e609ce0",
       "version_major": 2,
       "version_minor": 0
      },
      "text/plain": [
       "Evaluating on cuda:0:   0%|          | 0.00/41.0 [00:00<?, ?triple/s]"
      ]
     },
     "metadata": {},
     "output_type": "display_data"
    },
    {
     "name": "stderr",
     "output_type": "stream",
     "text": [
      "INFO:pykeen.evaluation.evaluator:Evaluation took 0.12s seconds\n",
      "WARNING:pykeen.pipeline.api:No random seed is specified. Setting to 3203241656.\n",
      "INFO:pykeen.pipeline.api:Using device: None\n"
     ]
    },
    {
     "data": {
      "application/vnd.jupyter.widget-view+json": {
       "model_id": "dc22de569aaf4c94aa2c5404d9a1e041",
       "version_major": 2,
       "version_minor": 0
      },
      "text/plain": [
       "Training epochs on cuda:0:   0%|          | 0/25 [00:00<?, ?epoch/s]"
      ]
     },
     "metadata": {},
     "output_type": "display_data"
    },
    {
     "data": {
      "application/vnd.jupyter.widget-view+json": {
       "model_id": "23349116de774739923bf71ee1b50d9c",
       "version_major": 2,
       "version_minor": 0
      },
      "text/plain": [
       "Evaluating on cuda:0:   0%|          | 0.00/41.0 [00:00<?, ?triple/s]"
      ]
     },
     "metadata": {},
     "output_type": "display_data"
    },
    {
     "name": "stderr",
     "output_type": "stream",
     "text": [
      "INFO:pykeen.evaluation.evaluator:Evaluation took 0.12s seconds\n",
      "WARNING:pykeen.triples.triples_factory:Reconstructing all label-based triples. This is expensive and rarely needed.\n",
      "WARNING:pykeen.pipeline.api:No random seed is specified. Setting to 3203241656.\n",
      "INFO:pykeen.pipeline.api:Using device: None\n"
     ]
    },
    {
     "name": "stdout",
     "output_type": "stream",
     "text": [
      "66 PHH_triplets.csv\n"
     ]
    },
    {
     "data": {
      "application/vnd.jupyter.widget-view+json": {
       "model_id": "e12b8b85d0a74d8d8799780677ef9e4c",
       "version_major": 2,
       "version_minor": 0
      },
      "text/plain": [
       "Training epochs on cuda:0:   0%|          | 0/25 [00:00<?, ?epoch/s]"
      ]
     },
     "metadata": {},
     "output_type": "display_data"
    },
    {
     "data": {
      "application/vnd.jupyter.widget-view+json": {
       "model_id": "93aef04eb74d4c00b6e5d8d1ffee5f7b",
       "version_major": 2,
       "version_minor": 0
      },
      "text/plain": [
       "Evaluating on cuda:0:   0%|          | 0.00/52.0 [00:00<?, ?triple/s]"
      ]
     },
     "metadata": {},
     "output_type": "display_data"
    },
    {
     "name": "stderr",
     "output_type": "stream",
     "text": [
      "INFO:pykeen.evaluation.evaluator:Evaluation took 0.12s seconds\n",
      "WARNING:pykeen.pipeline.api:No random seed is specified. Setting to 3203241656.\n",
      "INFO:pykeen.pipeline.api:Using device: None\n"
     ]
    },
    {
     "data": {
      "application/vnd.jupyter.widget-view+json": {
       "model_id": "362334aa612f44068a87633818d7038a",
       "version_major": 2,
       "version_minor": 0
      },
      "text/plain": [
       "Training epochs on cuda:0:   0%|          | 0/25 [00:00<?, ?epoch/s]"
      ]
     },
     "metadata": {},
     "output_type": "display_data"
    },
    {
     "data": {
      "application/vnd.jupyter.widget-view+json": {
       "model_id": "08103fec14134e238f7189cacc82f31b",
       "version_major": 2,
       "version_minor": 0
      },
      "text/plain": [
       "Evaluating on cuda:0:   0%|          | 0.00/52.0 [00:00<?, ?triple/s]"
      ]
     },
     "metadata": {},
     "output_type": "display_data"
    },
    {
     "name": "stderr",
     "output_type": "stream",
     "text": [
      "INFO:pykeen.evaluation.evaluator:Evaluation took 0.12s seconds\n",
      "WARNING:pykeen.triples.triples_factory:Reconstructing all label-based triples. This is expensive and rarely needed.\n",
      "WARNING:pykeen.pipeline.api:No random seed is specified. Setting to 3203241656.\n",
      "INFO:pykeen.pipeline.api:Using device: None\n"
     ]
    },
    {
     "name": "stdout",
     "output_type": "stream",
     "text": [
      "67 PI31_triplets.csv\n"
     ]
    },
    {
     "data": {
      "application/vnd.jupyter.widget-view+json": {
       "model_id": "24ced6aaed444a0f8e80118d7b30087c",
       "version_major": 2,
       "version_minor": 0
      },
      "text/plain": [
       "Training epochs on cuda:0:   0%|          | 0/25 [00:00<?, ?epoch/s]"
      ]
     },
     "metadata": {},
     "output_type": "display_data"
    },
    {
     "data": {
      "application/vnd.jupyter.widget-view+json": {
       "model_id": "1eb1b1d84d384498ba7cde1162618e3e",
       "version_major": 2,
       "version_minor": 0
      },
      "text/plain": [
       "Evaluating on cuda:0:   0%|          | 0.00/48.0 [00:00<?, ?triple/s]"
      ]
     },
     "metadata": {},
     "output_type": "display_data"
    },
    {
     "name": "stderr",
     "output_type": "stream",
     "text": [
      "INFO:pykeen.evaluation.evaluator:Evaluation took 0.11s seconds\n",
      "WARNING:pykeen.pipeline.api:No random seed is specified. Setting to 3203241656.\n",
      "INFO:pykeen.pipeline.api:Using device: None\n"
     ]
    },
    {
     "data": {
      "application/vnd.jupyter.widget-view+json": {
       "model_id": "a2bfbd4f3e724b9cbb6f4966ec69d0aa",
       "version_major": 2,
       "version_minor": 0
      },
      "text/plain": [
       "Training epochs on cuda:0:   0%|          | 0/25 [00:00<?, ?epoch/s]"
      ]
     },
     "metadata": {},
     "output_type": "display_data"
    },
    {
     "data": {
      "application/vnd.jupyter.widget-view+json": {
       "model_id": "76696dc519594d05b9f37719dcd0f916",
       "version_major": 2,
       "version_minor": 0
      },
      "text/plain": [
       "Evaluating on cuda:0:   0%|          | 0.00/48.0 [00:00<?, ?triple/s]"
      ]
     },
     "metadata": {},
     "output_type": "display_data"
    },
    {
     "name": "stderr",
     "output_type": "stream",
     "text": [
      "INFO:pykeen.evaluation.evaluator:Evaluation took 0.09s seconds\n",
      "WARNING:pykeen.triples.triples_factory:Reconstructing all label-based triples. This is expensive and rarely needed.\n",
      "WARNING:pykeen.pipeline.api:No random seed is specified. Setting to 3203241656.\n",
      "INFO:pykeen.pipeline.api:Using device: None\n"
     ]
    },
    {
     "name": "stdout",
     "output_type": "stream",
     "text": [
      "68 PI33_triplets.csv\n"
     ]
    },
    {
     "data": {
      "application/vnd.jupyter.widget-view+json": {
       "model_id": "23dbc427fc194d86a6bcc62ad69b7bf6",
       "version_major": 2,
       "version_minor": 0
      },
      "text/plain": [
       "Training epochs on cuda:0:   0%|          | 0/25 [00:00<?, ?epoch/s]"
      ]
     },
     "metadata": {},
     "output_type": "display_data"
    },
    {
     "data": {
      "application/vnd.jupyter.widget-view+json": {
       "model_id": "9d3df698f29c4d128a49176b17fd572a",
       "version_major": 2,
       "version_minor": 0
      },
      "text/plain": [
       "Evaluating on cuda:0:   0%|          | 0.00/44.0 [00:00<?, ?triple/s]"
      ]
     },
     "metadata": {},
     "output_type": "display_data"
    },
    {
     "name": "stderr",
     "output_type": "stream",
     "text": [
      "INFO:pykeen.evaluation.evaluator:Evaluation took 0.06s seconds\n",
      "WARNING:pykeen.pipeline.api:No random seed is specified. Setting to 3203241656.\n",
      "INFO:pykeen.pipeline.api:Using device: None\n"
     ]
    },
    {
     "data": {
      "application/vnd.jupyter.widget-view+json": {
       "model_id": "228ce27a507042d0a695eb20a9b6dad6",
       "version_major": 2,
       "version_minor": 0
      },
      "text/plain": [
       "Training epochs on cuda:0:   0%|          | 0/25 [00:00<?, ?epoch/s]"
      ]
     },
     "metadata": {},
     "output_type": "display_data"
    },
    {
     "data": {
      "application/vnd.jupyter.widget-view+json": {
       "model_id": "f02b55ad466c49218c22ec213ff3c4b3",
       "version_major": 2,
       "version_minor": 0
      },
      "text/plain": [
       "Evaluating on cuda:0:   0%|          | 0.00/44.0 [00:00<?, ?triple/s]"
      ]
     },
     "metadata": {},
     "output_type": "display_data"
    },
    {
     "name": "stderr",
     "output_type": "stream",
     "text": [
      "INFO:pykeen.evaluation.evaluator:Evaluation took 0.12s seconds\n",
      "WARNING:pykeen.triples.triples_factory:Reconstructing all label-based triples. This is expensive and rarely needed.\n",
      "WARNING:pykeen.pipeline.api:No random seed is specified. Setting to 3203241656.\n",
      "INFO:pykeen.pipeline.api:Using device: None\n"
     ]
    },
    {
     "name": "stdout",
     "output_type": "stream",
     "text": [
      "69 PL9_triplets.csv\n"
     ]
    },
    {
     "data": {
      "application/vnd.jupyter.widget-view+json": {
       "model_id": "82181544b88f4df2b585d46d60e90327",
       "version_major": 2,
       "version_minor": 0
      },
      "text/plain": [
       "Training epochs on cuda:0:   0%|          | 0/25 [00:00<?, ?epoch/s]"
      ]
     },
     "metadata": {},
     "output_type": "display_data"
    },
    {
     "data": {
      "application/vnd.jupyter.widget-view+json": {
       "model_id": "d94533eddffd4cc789f77309de4414bf",
       "version_major": 2,
       "version_minor": 0
      },
      "text/plain": [
       "Evaluating on cuda:0:   0%|          | 0.00/54.0 [00:00<?, ?triple/s]"
      ]
     },
     "metadata": {},
     "output_type": "display_data"
    },
    {
     "name": "stderr",
     "output_type": "stream",
     "text": [
      "INFO:pykeen.evaluation.evaluator:Evaluation took 0.09s seconds\n",
      "WARNING:pykeen.pipeline.api:No random seed is specified. Setting to 3203241656.\n",
      "INFO:pykeen.pipeline.api:Using device: None\n"
     ]
    },
    {
     "data": {
      "application/vnd.jupyter.widget-view+json": {
       "model_id": "19b52687349a475d930dad22ea03a96d",
       "version_major": 2,
       "version_minor": 0
      },
      "text/plain": [
       "Training epochs on cuda:0:   0%|          | 0/25 [00:00<?, ?epoch/s]"
      ]
     },
     "metadata": {},
     "output_type": "display_data"
    },
    {
     "data": {
      "application/vnd.jupyter.widget-view+json": {
       "model_id": "ea49018699754502b97103c98dbe075e",
       "version_major": 2,
       "version_minor": 0
      },
      "text/plain": [
       "Evaluating on cuda:0:   0%|          | 0.00/54.0 [00:00<?, ?triple/s]"
      ]
     },
     "metadata": {},
     "output_type": "display_data"
    },
    {
     "name": "stderr",
     "output_type": "stream",
     "text": [
      "INFO:pykeen.evaluation.evaluator:Evaluation took 0.13s seconds\n",
      "WARNING:pykeen.triples.triples_factory:Reconstructing all label-based triples. This is expensive and rarely needed.\n",
      "WARNING:pykeen.pipeline.api:No random seed is specified. Setting to 3203241656.\n",
      "INFO:pykeen.pipeline.api:Using device: None\n"
     ]
    },
    {
     "name": "stdout",
     "output_type": "stream",
     "text": [
      "70 PS15_triplets.csv\n"
     ]
    },
    {
     "data": {
      "application/vnd.jupyter.widget-view+json": {
       "model_id": "c3315ba3789f47c1883b51b7a56fe278",
       "version_major": 2,
       "version_minor": 0
      },
      "text/plain": [
       "Training epochs on cuda:0:   0%|          | 0/25 [00:00<?, ?epoch/s]"
      ]
     },
     "metadata": {},
     "output_type": "display_data"
    },
    {
     "data": {
      "application/vnd.jupyter.widget-view+json": {
       "model_id": "b43a76d270294f82977c70d8d6f25dcd",
       "version_major": 2,
       "version_minor": 0
      },
      "text/plain": [
       "Evaluating on cuda:0:   0%|          | 0.00/31.0 [00:00<?, ?triple/s]"
      ]
     },
     "metadata": {},
     "output_type": "display_data"
    },
    {
     "name": "stderr",
     "output_type": "stream",
     "text": [
      "INFO:pykeen.evaluation.evaluator:Evaluation took 0.12s seconds\n",
      "WARNING:pykeen.pipeline.api:No random seed is specified. Setting to 3203241656.\n",
      "INFO:pykeen.pipeline.api:Using device: None\n"
     ]
    },
    {
     "data": {
      "application/vnd.jupyter.widget-view+json": {
       "model_id": "a44d3083201641dbb5972f0cf038560c",
       "version_major": 2,
       "version_minor": 0
      },
      "text/plain": [
       "Training epochs on cuda:0:   0%|          | 0/25 [00:00<?, ?epoch/s]"
      ]
     },
     "metadata": {},
     "output_type": "display_data"
    },
    {
     "data": {
      "application/vnd.jupyter.widget-view+json": {
       "model_id": "6c0935fa993b4f449abe1742ec99d068",
       "version_major": 2,
       "version_minor": 0
      },
      "text/plain": [
       "Evaluating on cuda:0:   0%|          | 0.00/31.0 [00:00<?, ?triple/s]"
      ]
     },
     "metadata": {},
     "output_type": "display_data"
    },
    {
     "name": "stderr",
     "output_type": "stream",
     "text": [
      "INFO:pykeen.evaluation.evaluator:Evaluation took 0.11s seconds\n",
      "WARNING:pykeen.triples.triples_factory:Reconstructing all label-based triples. This is expensive and rarely needed.\n",
      "WARNING:pykeen.pipeline.api:No random seed is specified. Setting to 3203241656.\n",
      "INFO:pykeen.pipeline.api:Using device: None\n"
     ]
    },
    {
     "name": "stdout",
     "output_type": "stream",
     "text": [
      "71 PSL_triplets.csv\n"
     ]
    },
    {
     "data": {
      "application/vnd.jupyter.widget-view+json": {
       "model_id": "2ae0fa2797174b45b78e33f2441b04df",
       "version_major": 2,
       "version_minor": 0
      },
      "text/plain": [
       "Training epochs on cuda:0:   0%|          | 0/25 [00:00<?, ?epoch/s]"
      ]
     },
     "metadata": {},
     "output_type": "display_data"
    },
    {
     "data": {
      "application/vnd.jupyter.widget-view+json": {
       "model_id": "aff619becd694c9581f3ff9f20f7511e",
       "version_major": 2,
       "version_minor": 0
      },
      "text/plain": [
       "Evaluating on cuda:0:   0%|          | 0.00/43.0 [00:00<?, ?triple/s]"
      ]
     },
     "metadata": {},
     "output_type": "display_data"
    },
    {
     "name": "stderr",
     "output_type": "stream",
     "text": [
      "INFO:pykeen.evaluation.evaluator:Evaluation took 0.12s seconds\n",
      "WARNING:pykeen.pipeline.api:No random seed is specified. Setting to 3203241656.\n",
      "INFO:pykeen.pipeline.api:Using device: None\n"
     ]
    },
    {
     "data": {
      "application/vnd.jupyter.widget-view+json": {
       "model_id": "bd147b8c872a4c9598d3cb2e7ae860de",
       "version_major": 2,
       "version_minor": 0
      },
      "text/plain": [
       "Training epochs on cuda:0:   0%|          | 0/25 [00:00<?, ?epoch/s]"
      ]
     },
     "metadata": {},
     "output_type": "display_data"
    },
    {
     "data": {
      "application/vnd.jupyter.widget-view+json": {
       "model_id": "8282d9ee78564d6f9932338fa2c58595",
       "version_major": 2,
       "version_minor": 0
      },
      "text/plain": [
       "Evaluating on cuda:0:   0%|          | 0.00/43.0 [00:00<?, ?triple/s]"
      ]
     },
     "metadata": {},
     "output_type": "display_data"
    },
    {
     "name": "stderr",
     "output_type": "stream",
     "text": [
      "INFO:pykeen.evaluation.evaluator:Evaluation took 0.11s seconds\n",
      "WARNING:pykeen.triples.triples_factory:Reconstructing all label-based triples. This is expensive and rarely needed.\n",
      "WARNING:pykeen.pipeline.api:No random seed is specified. Setting to 3203241656.\n",
      "INFO:pykeen.pipeline.api:Using device: None\n"
     ]
    },
    {
     "name": "stdout",
     "output_type": "stream",
     "text": [
      "72 RA06_triplets.csv\n"
     ]
    },
    {
     "data": {
      "application/vnd.jupyter.widget-view+json": {
       "model_id": "916a36c0110549fdb06efebb4089659b",
       "version_major": 2,
       "version_minor": 0
      },
      "text/plain": [
       "Training epochs on cuda:0:   0%|          | 0/25 [00:00<?, ?epoch/s]"
      ]
     },
     "metadata": {},
     "output_type": "display_data"
    },
    {
     "data": {
      "application/vnd.jupyter.widget-view+json": {
       "model_id": "1ec925a480f542c1a60740fffabb1cea",
       "version_major": 2,
       "version_minor": 0
      },
      "text/plain": [
       "Evaluating on cuda:0:   0%|          | 0.00/47.0 [00:00<?, ?triple/s]"
      ]
     },
     "metadata": {},
     "output_type": "display_data"
    },
    {
     "name": "stderr",
     "output_type": "stream",
     "text": [
      "INFO:pykeen.evaluation.evaluator:Evaluation took 0.10s seconds\n",
      "WARNING:pykeen.pipeline.api:No random seed is specified. Setting to 3203241656.\n",
      "INFO:pykeen.pipeline.api:Using device: None\n"
     ]
    },
    {
     "data": {
      "application/vnd.jupyter.widget-view+json": {
       "model_id": "7c5023c56b0d4cdcb3ac9308ba886ef4",
       "version_major": 2,
       "version_minor": 0
      },
      "text/plain": [
       "Training epochs on cuda:0:   0%|          | 0/25 [00:00<?, ?epoch/s]"
      ]
     },
     "metadata": {},
     "output_type": "display_data"
    },
    {
     "data": {
      "application/vnd.jupyter.widget-view+json": {
       "model_id": "1a2c4feb14444458a371d770cd7657ad",
       "version_major": 2,
       "version_minor": 0
      },
      "text/plain": [
       "Evaluating on cuda:0:   0%|          | 0.00/47.0 [00:00<?, ?triple/s]"
      ]
     },
     "metadata": {},
     "output_type": "display_data"
    },
    {
     "name": "stderr",
     "output_type": "stream",
     "text": [
      "INFO:pykeen.evaluation.evaluator:Evaluation took 0.10s seconds\n",
      "WARNING:pykeen.triples.triples_factory:Reconstructing all label-based triples. This is expensive and rarely needed.\n",
      "WARNING:pykeen.pipeline.api:No random seed is specified. Setting to 3203241656.\n",
      "INFO:pykeen.pipeline.api:Using device: None\n"
     ]
    },
    {
     "name": "stdout",
     "output_type": "stream",
     "text": [
      "73 RCV02_triplets.csv\n"
     ]
    },
    {
     "data": {
      "application/vnd.jupyter.widget-view+json": {
       "model_id": "03b2542fa0a14a9d8fadfadd78117036",
       "version_major": 2,
       "version_minor": 0
      },
      "text/plain": [
       "Training epochs on cuda:0:   0%|          | 0/25 [00:00<?, ?epoch/s]"
      ]
     },
     "metadata": {},
     "output_type": "display_data"
    },
    {
     "data": {
      "application/vnd.jupyter.widget-view+json": {
       "model_id": "15c61ac3077e47eaa60ee7bee58658f3",
       "version_major": 2,
       "version_minor": 0
      },
      "text/plain": [
       "Evaluating on cuda:0:   0%|          | 0.00/55.0 [00:00<?, ?triple/s]"
      ]
     },
     "metadata": {},
     "output_type": "display_data"
    },
    {
     "name": "stderr",
     "output_type": "stream",
     "text": [
      "INFO:pykeen.evaluation.evaluator:Evaluation took 0.11s seconds\n",
      "WARNING:pykeen.pipeline.api:No random seed is specified. Setting to 3203241656.\n",
      "INFO:pykeen.pipeline.api:Using device: None\n"
     ]
    },
    {
     "data": {
      "application/vnd.jupyter.widget-view+json": {
       "model_id": "4978755d83f041c0a55ad38bec579a40",
       "version_major": 2,
       "version_minor": 0
      },
      "text/plain": [
       "Training epochs on cuda:0:   0%|          | 0/25 [00:00<?, ?epoch/s]"
      ]
     },
     "metadata": {},
     "output_type": "display_data"
    },
    {
     "data": {
      "application/vnd.jupyter.widget-view+json": {
       "model_id": "1017fb3b07dc462caf4a3400082109d9",
       "version_major": 2,
       "version_minor": 0
      },
      "text/plain": [
       "Evaluating on cuda:0:   0%|          | 0.00/55.0 [00:00<?, ?triple/s]"
      ]
     },
     "metadata": {},
     "output_type": "display_data"
    },
    {
     "name": "stderr",
     "output_type": "stream",
     "text": [
      "INFO:pykeen.evaluation.evaluator:Evaluation took 0.14s seconds\n",
      "WARNING:pykeen.triples.triples_factory:Reconstructing all label-based triples. This is expensive and rarely needed.\n",
      "WARNING:pykeen.pipeline.api:No random seed is specified. Setting to 3203241656.\n",
      "INFO:pykeen.pipeline.api:Using device: None\n"
     ]
    },
    {
     "name": "stdout",
     "output_type": "stream",
     "text": [
      "74 RI_triplets.csv\n"
     ]
    },
    {
     "data": {
      "application/vnd.jupyter.widget-view+json": {
       "model_id": "b20976dc140f4212b35a51af23d4f993",
       "version_major": 2,
       "version_minor": 0
      },
      "text/plain": [
       "Training epochs on cuda:0:   0%|          | 0/25 [00:00<?, ?epoch/s]"
      ]
     },
     "metadata": {},
     "output_type": "display_data"
    },
    {
     "data": {
      "application/vnd.jupyter.widget-view+json": {
       "model_id": "1219474d313d40ea8cf9a2d4b7603290",
       "version_major": 2,
       "version_minor": 0
      },
      "text/plain": [
       "Evaluating on cuda:0:   0%|          | 0.00/58.0 [00:00<?, ?triple/s]"
      ]
     },
     "metadata": {},
     "output_type": "display_data"
    },
    {
     "name": "stderr",
     "output_type": "stream",
     "text": [
      "INFO:pykeen.evaluation.evaluator:Evaluation took 0.13s seconds\n",
      "WARNING:pykeen.pipeline.api:No random seed is specified. Setting to 3203241656.\n",
      "INFO:pykeen.pipeline.api:Using device: None\n"
     ]
    },
    {
     "data": {
      "application/vnd.jupyter.widget-view+json": {
       "model_id": "fa6b9424bc294352a473deb6335dbd0a",
       "version_major": 2,
       "version_minor": 0
      },
      "text/plain": [
       "Training epochs on cuda:0:   0%|          | 0/25 [00:00<?, ?epoch/s]"
      ]
     },
     "metadata": {},
     "output_type": "display_data"
    },
    {
     "data": {
      "application/vnd.jupyter.widget-view+json": {
       "model_id": "c54f570046494161ad8eab0aa8cd4099",
       "version_major": 2,
       "version_minor": 0
      },
      "text/plain": [
       "Evaluating on cuda:0:   0%|          | 0.00/58.0 [00:00<?, ?triple/s]"
      ]
     },
     "metadata": {},
     "output_type": "display_data"
    },
    {
     "name": "stderr",
     "output_type": "stream",
     "text": [
      "INFO:pykeen.evaluation.evaluator:Evaluation took 0.15s seconds\n",
      "WARNING:pykeen.triples.triples_factory:Reconstructing all label-based triples. This is expensive and rarely needed.\n",
      "WARNING:pykeen.pipeline.api:No random seed is specified. Setting to 3203241656.\n",
      "INFO:pykeen.pipeline.api:Using device: None\n"
     ]
    },
    {
     "name": "stdout",
     "output_type": "stream",
     "text": [
      "75 RP01_triplets.csv\n"
     ]
    },
    {
     "data": {
      "application/vnd.jupyter.widget-view+json": {
       "model_id": "f23b081a031942ea90bc8378f2145c22",
       "version_major": 2,
       "version_minor": 0
      },
      "text/plain": [
       "Training epochs on cuda:0:   0%|          | 0/25 [00:00<?, ?epoch/s]"
      ]
     },
     "metadata": {},
     "output_type": "display_data"
    },
    {
     "data": {
      "application/vnd.jupyter.widget-view+json": {
       "model_id": "8668d93c47b44925992cff48e129e563",
       "version_major": 2,
       "version_minor": 0
      },
      "text/plain": [
       "Evaluating on cuda:0:   0%|          | 0.00/35.0 [00:00<?, ?triple/s]"
      ]
     },
     "metadata": {},
     "output_type": "display_data"
    },
    {
     "name": "stderr",
     "output_type": "stream",
     "text": [
      "INFO:pykeen.evaluation.evaluator:Evaluation took 0.07s seconds\n",
      "WARNING:pykeen.pipeline.api:No random seed is specified. Setting to 3203241656.\n",
      "INFO:pykeen.pipeline.api:Using device: None\n"
     ]
    },
    {
     "data": {
      "application/vnd.jupyter.widget-view+json": {
       "model_id": "5c5a8919de8e4c0d993650cc8ac113a7",
       "version_major": 2,
       "version_minor": 0
      },
      "text/plain": [
       "Training epochs on cuda:0:   0%|          | 0/25 [00:00<?, ?epoch/s]"
      ]
     },
     "metadata": {},
     "output_type": "display_data"
    },
    {
     "data": {
      "application/vnd.jupyter.widget-view+json": {
       "model_id": "3ba749ce2a4545f18a0614f82e0b84f5",
       "version_major": 2,
       "version_minor": 0
      },
      "text/plain": [
       "Evaluating on cuda:0:   0%|          | 0.00/35.0 [00:00<?, ?triple/s]"
      ]
     },
     "metadata": {},
     "output_type": "display_data"
    },
    {
     "name": "stderr",
     "output_type": "stream",
     "text": [
      "INFO:pykeen.evaluation.evaluator:Evaluation took 0.13s seconds\n",
      "WARNING:pykeen.triples.triples_factory:Reconstructing all label-based triples. This is expensive and rarely needed.\n",
      "WARNING:pykeen.pipeline.api:No random seed is specified. Setting to 3203241656.\n",
      "INFO:pykeen.pipeline.api:Using device: None\n"
     ]
    },
    {
     "name": "stdout",
     "output_type": "stream",
     "text": [
      "76 S15_triplets.csv\n"
     ]
    },
    {
     "data": {
      "application/vnd.jupyter.widget-view+json": {
       "model_id": "caf87566621c462fbddc88b46f4e5d05",
       "version_major": 2,
       "version_minor": 0
      },
      "text/plain": [
       "Training epochs on cuda:0:   0%|          | 0/25 [00:00<?, ?epoch/s]"
      ]
     },
     "metadata": {},
     "output_type": "display_data"
    },
    {
     "data": {
      "application/vnd.jupyter.widget-view+json": {
       "model_id": "92a9e80cbd9e42e7a0ab02a2deacd762",
       "version_major": 2,
       "version_minor": 0
      },
      "text/plain": [
       "Evaluating on cuda:0:   0%|          | 0.00/42.0 [00:00<?, ?triple/s]"
      ]
     },
     "metadata": {},
     "output_type": "display_data"
    },
    {
     "name": "stderr",
     "output_type": "stream",
     "text": [
      "INFO:pykeen.evaluation.evaluator:Evaluation took 0.09s seconds\n",
      "WARNING:pykeen.pipeline.api:No random seed is specified. Setting to 3203241656.\n",
      "INFO:pykeen.pipeline.api:Using device: None\n"
     ]
    },
    {
     "data": {
      "application/vnd.jupyter.widget-view+json": {
       "model_id": "4a753bd306ad4b4ab22edca19f893755",
       "version_major": 2,
       "version_minor": 0
      },
      "text/plain": [
       "Training epochs on cuda:0:   0%|          | 0/25 [00:00<?, ?epoch/s]"
      ]
     },
     "metadata": {},
     "output_type": "display_data"
    },
    {
     "data": {
      "application/vnd.jupyter.widget-view+json": {
       "model_id": "d639daf1afe241e8a7ec65c68cb21e72",
       "version_major": 2,
       "version_minor": 0
      },
      "text/plain": [
       "Evaluating on cuda:0:   0%|          | 0.00/42.0 [00:00<?, ?triple/s]"
      ]
     },
     "metadata": {},
     "output_type": "display_data"
    },
    {
     "name": "stderr",
     "output_type": "stream",
     "text": [
      "INFO:pykeen.evaluation.evaluator:Evaluation took 0.09s seconds\n",
      "WARNING:pykeen.triples.triples_factory:Reconstructing all label-based triples. This is expensive and rarely needed.\n",
      "WARNING:pykeen.pipeline.api:No random seed is specified. Setting to 3203241656.\n",
      "INFO:pykeen.pipeline.api:Using device: None\n"
     ]
    },
    {
     "name": "stdout",
     "output_type": "stream",
     "text": [
      "77 SBM01_triplets.csv\n"
     ]
    },
    {
     "data": {
      "application/vnd.jupyter.widget-view+json": {
       "model_id": "c99210cbd422442180e41b246faabc09",
       "version_major": 2,
       "version_minor": 0
      },
      "text/plain": [
       "Training epochs on cuda:0:   0%|          | 0/25 [00:00<?, ?epoch/s]"
      ]
     },
     "metadata": {},
     "output_type": "display_data"
    },
    {
     "data": {
      "application/vnd.jupyter.widget-view+json": {
       "model_id": "4d00c90516c644f19a401b7cd49f6771",
       "version_major": 2,
       "version_minor": 0
      },
      "text/plain": [
       "Evaluating on cuda:0:   0%|          | 0.00/49.0 [00:00<?, ?triple/s]"
      ]
     },
     "metadata": {},
     "output_type": "display_data"
    },
    {
     "name": "stderr",
     "output_type": "stream",
     "text": [
      "INFO:pykeen.evaluation.evaluator:Evaluation took 0.07s seconds\n",
      "WARNING:pykeen.pipeline.api:No random seed is specified. Setting to 3203241656.\n",
      "INFO:pykeen.pipeline.api:Using device: None\n"
     ]
    },
    {
     "data": {
      "application/vnd.jupyter.widget-view+json": {
       "model_id": "0d73489edf7a4718b563e1c4dc0b057c",
       "version_major": 2,
       "version_minor": 0
      },
      "text/plain": [
       "Training epochs on cuda:0:   0%|          | 0/25 [00:00<?, ?epoch/s]"
      ]
     },
     "metadata": {},
     "output_type": "display_data"
    },
    {
     "data": {
      "application/vnd.jupyter.widget-view+json": {
       "model_id": "d15a7b9772334c18af52f0605b843cec",
       "version_major": 2,
       "version_minor": 0
      },
      "text/plain": [
       "Evaluating on cuda:0:   0%|          | 0.00/49.0 [00:00<?, ?triple/s]"
      ]
     },
     "metadata": {},
     "output_type": "display_data"
    },
    {
     "name": "stderr",
     "output_type": "stream",
     "text": [
      "INFO:pykeen.evaluation.evaluator:Evaluation took 0.11s seconds\n",
      "WARNING:pykeen.triples.triples_factory:Reconstructing all label-based triples. This is expensive and rarely needed.\n",
      "WARNING:pykeen.pipeline.api:No random seed is specified. Setting to 3203241656.\n",
      "INFO:pykeen.pipeline.api:Using device: None\n"
     ]
    },
    {
     "name": "stdout",
     "output_type": "stream",
     "text": [
      "78 SCT02_triplets.csv\n"
     ]
    },
    {
     "data": {
      "application/vnd.jupyter.widget-view+json": {
       "model_id": "c9c3416ab43e41b4a187ff353f575c20",
       "version_major": 2,
       "version_minor": 0
      },
      "text/plain": [
       "Training epochs on cuda:0:   0%|          | 0/25 [00:00<?, ?epoch/s]"
      ]
     },
     "metadata": {},
     "output_type": "display_data"
    },
    {
     "data": {
      "application/vnd.jupyter.widget-view+json": {
       "model_id": "7006a8eecbae4e709531c0577468c2d9",
       "version_major": 2,
       "version_minor": 0
      },
      "text/plain": [
       "Evaluating on cuda:0:   0%|          | 0.00/50.0 [00:00<?, ?triple/s]"
      ]
     },
     "metadata": {},
     "output_type": "display_data"
    },
    {
     "name": "stderr",
     "output_type": "stream",
     "text": [
      "INFO:pykeen.evaluation.evaluator:Evaluation took 0.09s seconds\n",
      "WARNING:pykeen.pipeline.api:No random seed is specified. Setting to 3203241656.\n",
      "INFO:pykeen.pipeline.api:Using device: None\n"
     ]
    },
    {
     "data": {
      "application/vnd.jupyter.widget-view+json": {
       "model_id": "02720496d8814a33b583456436c58941",
       "version_major": 2,
       "version_minor": 0
      },
      "text/plain": [
       "Training epochs on cuda:0:   0%|          | 0/25 [00:00<?, ?epoch/s]"
      ]
     },
     "metadata": {},
     "output_type": "display_data"
    },
    {
     "data": {
      "application/vnd.jupyter.widget-view+json": {
       "model_id": "bc5f48140d7941f5a851fecbca0f9da5",
       "version_major": 2,
       "version_minor": 0
      },
      "text/plain": [
       "Evaluating on cuda:0:   0%|          | 0.00/50.0 [00:00<?, ?triple/s]"
      ]
     },
     "metadata": {},
     "output_type": "display_data"
    },
    {
     "name": "stderr",
     "output_type": "stream",
     "text": [
      "INFO:pykeen.evaluation.evaluator:Evaluation took 0.13s seconds\n",
      "WARNING:pykeen.triples.triples_factory:Reconstructing all label-based triples. This is expensive and rarely needed.\n",
      "WARNING:pykeen.pipeline.api:No random seed is specified. Setting to 3203241656.\n",
      "INFO:pykeen.pipeline.api:Using device: None\n"
     ]
    },
    {
     "name": "stdout",
     "output_type": "stream",
     "text": [
      "79 SFC_triplets.csv\n"
     ]
    },
    {
     "data": {
      "application/vnd.jupyter.widget-view+json": {
       "model_id": "2940983c090646f28090228e324c0eef",
       "version_major": 2,
       "version_minor": 0
      },
      "text/plain": [
       "Training epochs on cuda:0:   0%|          | 0/25 [00:00<?, ?epoch/s]"
      ]
     },
     "metadata": {},
     "output_type": "display_data"
    },
    {
     "data": {
      "application/vnd.jupyter.widget-view+json": {
       "model_id": "80ad567618b6454799acfdebb35f6a7e",
       "version_major": 2,
       "version_minor": 0
      },
      "text/plain": [
       "Evaluating on cuda:0:   0%|          | 0.00/46.0 [00:00<?, ?triple/s]"
      ]
     },
     "metadata": {},
     "output_type": "display_data"
    },
    {
     "name": "stderr",
     "output_type": "stream",
     "text": [
      "INFO:pykeen.evaluation.evaluator:Evaluation took 0.09s seconds\n",
      "WARNING:pykeen.pipeline.api:No random seed is specified. Setting to 3203241656.\n",
      "INFO:pykeen.pipeline.api:Using device: None\n"
     ]
    },
    {
     "data": {
      "application/vnd.jupyter.widget-view+json": {
       "model_id": "a27a0ad291344ed7a56b7a8d804f15f7",
       "version_major": 2,
       "version_minor": 0
      },
      "text/plain": [
       "Training epochs on cuda:0:   0%|          | 0/25 [00:00<?, ?epoch/s]"
      ]
     },
     "metadata": {},
     "output_type": "display_data"
    },
    {
     "data": {
      "application/vnd.jupyter.widget-view+json": {
       "model_id": "d38a1c2f601f435c82ce8f41ceab74fa",
       "version_major": 2,
       "version_minor": 0
      },
      "text/plain": [
       "Evaluating on cuda:0:   0%|          | 0.00/46.0 [00:00<?, ?triple/s]"
      ]
     },
     "metadata": {},
     "output_type": "display_data"
    },
    {
     "name": "stderr",
     "output_type": "stream",
     "text": [
      "INFO:pykeen.evaluation.evaluator:Evaluation took 0.08s seconds\n",
      "WARNING:pykeen.triples.triples_factory:Reconstructing all label-based triples. This is expensive and rarely needed.\n",
      "WARNING:pykeen.pipeline.api:No random seed is specified. Setting to 3203241656.\n",
      "INFO:pykeen.pipeline.api:Using device: None\n"
     ]
    },
    {
     "name": "stdout",
     "output_type": "stream",
     "text": [
      "80 SG_triplets.csv\n"
     ]
    },
    {
     "data": {
      "application/vnd.jupyter.widget-view+json": {
       "model_id": "1e90cb29e399407795229abf267af821",
       "version_major": 2,
       "version_minor": 0
      },
      "text/plain": [
       "Training epochs on cuda:0:   0%|          | 0/25 [00:00<?, ?epoch/s]"
      ]
     },
     "metadata": {},
     "output_type": "display_data"
    },
    {
     "data": {
      "application/vnd.jupyter.widget-view+json": {
       "model_id": "aeed050f92e3452e967fbb9dd0099c42",
       "version_major": 2,
       "version_minor": 0
      },
      "text/plain": [
       "Evaluating on cuda:0:   0%|          | 0.00/51.0 [00:00<?, ?triple/s]"
      ]
     },
     "metadata": {},
     "output_type": "display_data"
    },
    {
     "name": "stderr",
     "output_type": "stream",
     "text": [
      "INFO:pykeen.evaluation.evaluator:Evaluation took 0.12s seconds\n",
      "WARNING:pykeen.pipeline.api:No random seed is specified. Setting to 3203241656.\n",
      "INFO:pykeen.pipeline.api:Using device: None\n"
     ]
    },
    {
     "data": {
      "application/vnd.jupyter.widget-view+json": {
       "model_id": "f6d5087ca420469bb52edb0b428c1303",
       "version_major": 2,
       "version_minor": 0
      },
      "text/plain": [
       "Training epochs on cuda:0:   0%|          | 0/25 [00:00<?, ?epoch/s]"
      ]
     },
     "metadata": {},
     "output_type": "display_data"
    },
    {
     "data": {
      "application/vnd.jupyter.widget-view+json": {
       "model_id": "a15a634db0ff4ecc829d84a172b512bf",
       "version_major": 2,
       "version_minor": 0
      },
      "text/plain": [
       "Evaluating on cuda:0:   0%|          | 0.00/51.0 [00:00<?, ?triple/s]"
      ]
     },
     "metadata": {},
     "output_type": "display_data"
    },
    {
     "name": "stderr",
     "output_type": "stream",
     "text": [
      "INFO:pykeen.evaluation.evaluator:Evaluation took 0.12s seconds\n",
      "WARNING:pykeen.triples.triples_factory:Reconstructing all label-based triples. This is expensive and rarely needed.\n",
      "WARNING:pykeen.pipeline.api:No random seed is specified. Setting to 3203241656.\n",
      "INFO:pykeen.pipeline.api:Using device: None\n"
     ]
    },
    {
     "name": "stdout",
     "output_type": "stream",
     "text": [
      "81 SHE_triplets.csv\n"
     ]
    },
    {
     "data": {
      "application/vnd.jupyter.widget-view+json": {
       "model_id": "aa60b322306c44d1af92df85ebf2cbbe",
       "version_major": 2,
       "version_minor": 0
      },
      "text/plain": [
       "Training epochs on cuda:0:   0%|          | 0/25 [00:00<?, ?epoch/s]"
      ]
     },
     "metadata": {},
     "output_type": "display_data"
    },
    {
     "data": {
      "application/vnd.jupyter.widget-view+json": {
       "model_id": "fd044e57a62f412ca59c1c64864a5429",
       "version_major": 2,
       "version_minor": 0
      },
      "text/plain": [
       "Evaluating on cuda:0:   0%|          | 0.00/51.0 [00:00<?, ?triple/s]"
      ]
     },
     "metadata": {},
     "output_type": "display_data"
    },
    {
     "name": "stderr",
     "output_type": "stream",
     "text": [
      "INFO:pykeen.evaluation.evaluator:Evaluation took 0.09s seconds\n",
      "WARNING:pykeen.pipeline.api:No random seed is specified. Setting to 3203241656.\n",
      "INFO:pykeen.pipeline.api:Using device: None\n"
     ]
    },
    {
     "data": {
      "application/vnd.jupyter.widget-view+json": {
       "model_id": "4be9d907946f471b988e1903f9e69985",
       "version_major": 2,
       "version_minor": 0
      },
      "text/plain": [
       "Training epochs on cuda:0:   0%|          | 0/25 [00:00<?, ?epoch/s]"
      ]
     },
     "metadata": {},
     "output_type": "display_data"
    },
    {
     "data": {
      "application/vnd.jupyter.widget-view+json": {
       "model_id": "61b184a1a3da4a4584673ba8bfbd1549",
       "version_major": 2,
       "version_minor": 0
      },
      "text/plain": [
       "Evaluating on cuda:0:   0%|          | 0.00/51.0 [00:00<?, ?triple/s]"
      ]
     },
     "metadata": {},
     "output_type": "display_data"
    },
    {
     "name": "stderr",
     "output_type": "stream",
     "text": [
      "INFO:pykeen.evaluation.evaluator:Evaluation took 0.13s seconds\n",
      "WARNING:pykeen.triples.triples_factory:Reconstructing all label-based triples. This is expensive and rarely needed.\n",
      "WARNING:pykeen.pipeline.api:No random seed is specified. Setting to 3203241656.\n",
      "INFO:pykeen.pipeline.api:Using device: None\n"
     ]
    },
    {
     "name": "stdout",
     "output_type": "stream",
     "text": [
      "82 SM14_triplets.csv\n"
     ]
    },
    {
     "data": {
      "application/vnd.jupyter.widget-view+json": {
       "model_id": "eb0f03a920d94683bd4a8b254f99112b",
       "version_major": 2,
       "version_minor": 0
      },
      "text/plain": [
       "Training epochs on cuda:0:   0%|          | 0/25 [00:00<?, ?epoch/s]"
      ]
     },
     "metadata": {},
     "output_type": "display_data"
    },
    {
     "data": {
      "application/vnd.jupyter.widget-view+json": {
       "model_id": "4d6b4fb2054a44498b00af234cf877ce",
       "version_major": 2,
       "version_minor": 0
      },
      "text/plain": [
       "Evaluating on cuda:0:   0%|          | 0.00/46.0 [00:00<?, ?triple/s]"
      ]
     },
     "metadata": {},
     "output_type": "display_data"
    },
    {
     "name": "stderr",
     "output_type": "stream",
     "text": [
      "INFO:pykeen.evaluation.evaluator:Evaluation took 0.11s seconds\n",
      "WARNING:pykeen.pipeline.api:No random seed is specified. Setting to 3203241656.\n",
      "INFO:pykeen.pipeline.api:Using device: None\n"
     ]
    },
    {
     "data": {
      "application/vnd.jupyter.widget-view+json": {
       "model_id": "fcc171279cef47d68d7fc27741d6d76d",
       "version_major": 2,
       "version_minor": 0
      },
      "text/plain": [
       "Training epochs on cuda:0:   0%|          | 0/25 [00:00<?, ?epoch/s]"
      ]
     },
     "metadata": {},
     "output_type": "display_data"
    },
    {
     "data": {
      "application/vnd.jupyter.widget-view+json": {
       "model_id": "c1fdd541585f4d728afebda126b5b2b5",
       "version_major": 2,
       "version_minor": 0
      },
      "text/plain": [
       "Evaluating on cuda:0:   0%|          | 0.00/46.0 [00:00<?, ?triple/s]"
      ]
     },
     "metadata": {},
     "output_type": "display_data"
    },
    {
     "name": "stderr",
     "output_type": "stream",
     "text": [
      "INFO:pykeen.evaluation.evaluator:Evaluation took 0.16s seconds\n",
      "WARNING:pykeen.triples.triples_factory:Reconstructing all label-based triples. This is expensive and rarely needed.\n",
      "WARNING:pykeen.pipeline.api:No random seed is specified. Setting to 3203241656.\n",
      "INFO:pykeen.pipeline.api:Using device: None\n"
     ]
    },
    {
     "name": "stdout",
     "output_type": "stream",
     "text": [
      "83 SMC05_triplets.csv\n"
     ]
    },
    {
     "data": {
      "application/vnd.jupyter.widget-view+json": {
       "model_id": "5e21e03f410a484ea5df9a7e1e06e18f",
       "version_major": 2,
       "version_minor": 0
      },
      "text/plain": [
       "Training epochs on cuda:0:   0%|          | 0/25 [00:00<?, ?epoch/s]"
      ]
     },
     "metadata": {},
     "output_type": "display_data"
    },
    {
     "data": {
      "application/vnd.jupyter.widget-view+json": {
       "model_id": "975ed858fca24d6e93ce0e0d168ad77c",
       "version_major": 2,
       "version_minor": 0
      },
      "text/plain": [
       "Evaluating on cuda:0:   0%|          | 0.00/54.0 [00:00<?, ?triple/s]"
      ]
     },
     "metadata": {},
     "output_type": "display_data"
    },
    {
     "name": "stderr",
     "output_type": "stream",
     "text": [
      "INFO:pykeen.evaluation.evaluator:Evaluation took 0.12s seconds\n",
      "WARNING:pykeen.pipeline.api:No random seed is specified. Setting to 3203241656.\n",
      "INFO:pykeen.pipeline.api:Using device: None\n"
     ]
    },
    {
     "data": {
      "application/vnd.jupyter.widget-view+json": {
       "model_id": "92cfdad54ebe424c8e85e51bca15f6ee",
       "version_major": 2,
       "version_minor": 0
      },
      "text/plain": [
       "Training epochs on cuda:0:   0%|          | 0/25 [00:00<?, ?epoch/s]"
      ]
     },
     "metadata": {},
     "output_type": "display_data"
    },
    {
     "data": {
      "application/vnd.jupyter.widget-view+json": {
       "model_id": "3d176a7d68f54834a0cf23552650c8f3",
       "version_major": 2,
       "version_minor": 0
      },
      "text/plain": [
       "Evaluating on cuda:0:   0%|          | 0.00/54.0 [00:00<?, ?triple/s]"
      ]
     },
     "metadata": {},
     "output_type": "display_data"
    },
    {
     "name": "stderr",
     "output_type": "stream",
     "text": [
      "INFO:pykeen.evaluation.evaluator:Evaluation took 0.11s seconds\n",
      "WARNING:pykeen.triples.triples_factory:Reconstructing all label-based triples. This is expensive and rarely needed.\n",
      "WARNING:pykeen.pipeline.api:No random seed is specified. Setting to 3203241656.\n",
      "INFO:pykeen.pipeline.api:Using device: None\n"
     ]
    },
    {
     "name": "stdout",
     "output_type": "stream",
     "text": [
      "84 SPI_triplets.csv\n"
     ]
    },
    {
     "data": {
      "application/vnd.jupyter.widget-view+json": {
       "model_id": "1eabb19529fd448397c34f4d69164809",
       "version_major": 2,
       "version_minor": 0
      },
      "text/plain": [
       "Training epochs on cuda:0:   0%|          | 0/25 [00:00<?, ?epoch/s]"
      ]
     },
     "metadata": {},
     "output_type": "display_data"
    },
    {
     "data": {
      "application/vnd.jupyter.widget-view+json": {
       "model_id": "20e5c22c629e4a59a609902683078557",
       "version_major": 2,
       "version_minor": 0
      },
      "text/plain": [
       "Evaluating on cuda:0:   0%|          | 0.00/56.0 [00:00<?, ?triple/s]"
      ]
     },
     "metadata": {},
     "output_type": "display_data"
    },
    {
     "name": "stderr",
     "output_type": "stream",
     "text": [
      "INFO:pykeen.evaluation.evaluator:Evaluation took 0.09s seconds\n",
      "WARNING:pykeen.pipeline.api:No random seed is specified. Setting to 3203241656.\n",
      "INFO:pykeen.pipeline.api:Using device: None\n"
     ]
    },
    {
     "data": {
      "application/vnd.jupyter.widget-view+json": {
       "model_id": "bf6d0ae76367453da4ac4ee79a8ac9f1",
       "version_major": 2,
       "version_minor": 0
      },
      "text/plain": [
       "Training epochs on cuda:0:   0%|          | 0/25 [00:00<?, ?epoch/s]"
      ]
     },
     "metadata": {},
     "output_type": "display_data"
    },
    {
     "data": {
      "application/vnd.jupyter.widget-view+json": {
       "model_id": "3136e461002a48459c1514a1a2fd9e77",
       "version_major": 2,
       "version_minor": 0
      },
      "text/plain": [
       "Evaluating on cuda:0:   0%|          | 0.00/56.0 [00:00<?, ?triple/s]"
      ]
     },
     "metadata": {},
     "output_type": "display_data"
    },
    {
     "name": "stderr",
     "output_type": "stream",
     "text": [
      "INFO:pykeen.evaluation.evaluator:Evaluation took 0.08s seconds\n",
      "WARNING:pykeen.triples.triples_factory:Reconstructing all label-based triples. This is expensive and rarely needed.\n",
      "WARNING:pykeen.pipeline.api:No random seed is specified. Setting to 3203241656.\n",
      "INFO:pykeen.pipeline.api:Using device: None\n"
     ]
    },
    {
     "name": "stdout",
     "output_type": "stream",
     "text": [
      "85 SS28_triplets.csv\n"
     ]
    },
    {
     "data": {
      "application/vnd.jupyter.widget-view+json": {
       "model_id": "218ceaf432ac45fc84ff09899f7238a8",
       "version_major": 2,
       "version_minor": 0
      },
      "text/plain": [
       "Training epochs on cuda:0:   0%|          | 0/25 [00:00<?, ?epoch/s]"
      ]
     },
     "metadata": {},
     "output_type": "display_data"
    },
    {
     "data": {
      "application/vnd.jupyter.widget-view+json": {
       "model_id": "cf286e0979f248b48a81f81a11848bc0",
       "version_major": 2,
       "version_minor": 0
      },
      "text/plain": [
       "Evaluating on cuda:0:   0%|          | 0.00/34.0 [00:00<?, ?triple/s]"
      ]
     },
     "metadata": {},
     "output_type": "display_data"
    },
    {
     "name": "stderr",
     "output_type": "stream",
     "text": [
      "INFO:pykeen.evaluation.evaluator:Evaluation took 0.07s seconds\n",
      "WARNING:pykeen.pipeline.api:No random seed is specified. Setting to 3203241656.\n",
      "INFO:pykeen.pipeline.api:Using device: None\n"
     ]
    },
    {
     "data": {
      "application/vnd.jupyter.widget-view+json": {
       "model_id": "508ae100eaaa4b989d1f957a1d85ca95",
       "version_major": 2,
       "version_minor": 0
      },
      "text/plain": [
       "Training epochs on cuda:0:   0%|          | 0/25 [00:00<?, ?epoch/s]"
      ]
     },
     "metadata": {},
     "output_type": "display_data"
    },
    {
     "data": {
      "application/vnd.jupyter.widget-view+json": {
       "model_id": "c7096ca6226a4638a26ef3c2c07652d9",
       "version_major": 2,
       "version_minor": 0
      },
      "text/plain": [
       "Evaluating on cuda:0:   0%|          | 0.00/34.0 [00:00<?, ?triple/s]"
      ]
     },
     "metadata": {},
     "output_type": "display_data"
    },
    {
     "name": "stderr",
     "output_type": "stream",
     "text": [
      "INFO:pykeen.evaluation.evaluator:Evaluation took 0.13s seconds\n",
      "WARNING:pykeen.triples.triples_factory:Reconstructing all label-based triples. This is expensive and rarely needed.\n",
      "WARNING:pykeen.pipeline.api:No random seed is specified. Setting to 3203241656.\n",
      "INFO:pykeen.pipeline.api:Using device: None\n"
     ]
    },
    {
     "name": "stdout",
     "output_type": "stream",
     "text": [
      "86 TC15_triplets.csv\n"
     ]
    },
    {
     "data": {
      "application/vnd.jupyter.widget-view+json": {
       "model_id": "d71cd1d0fa674471ac803c2d5c228d34",
       "version_major": 2,
       "version_minor": 0
      },
      "text/plain": [
       "Training epochs on cuda:0:   0%|          | 0/25 [00:00<?, ?epoch/s]"
      ]
     },
     "metadata": {},
     "output_type": "display_data"
    },
    {
     "data": {
      "application/vnd.jupyter.widget-view+json": {
       "model_id": "9435623911744ce3aa0bdf3b9dd83910",
       "version_major": 2,
       "version_minor": 0
      },
      "text/plain": [
       "Evaluating on cuda:0:   0%|          | 0.00/42.0 [00:00<?, ?triple/s]"
      ]
     },
     "metadata": {},
     "output_type": "display_data"
    },
    {
     "name": "stderr",
     "output_type": "stream",
     "text": [
      "INFO:pykeen.evaluation.evaluator:Evaluation took 0.12s seconds\n",
      "WARNING:pykeen.pipeline.api:No random seed is specified. Setting to 3203241656.\n",
      "INFO:pykeen.pipeline.api:Using device: None\n"
     ]
    },
    {
     "data": {
      "application/vnd.jupyter.widget-view+json": {
       "model_id": "801b965bc66a438ba9052fe5646026a0",
       "version_major": 2,
       "version_minor": 0
      },
      "text/plain": [
       "Training epochs on cuda:0:   0%|          | 0/25 [00:00<?, ?epoch/s]"
      ]
     },
     "metadata": {},
     "output_type": "display_data"
    },
    {
     "data": {
      "application/vnd.jupyter.widget-view+json": {
       "model_id": "d10fcec732e44832a2cd83645bcf2157",
       "version_major": 2,
       "version_minor": 0
      },
      "text/plain": [
       "Evaluating on cuda:0:   0%|          | 0.00/42.0 [00:00<?, ?triple/s]"
      ]
     },
     "metadata": {},
     "output_type": "display_data"
    },
    {
     "name": "stderr",
     "output_type": "stream",
     "text": [
      "INFO:pykeen.evaluation.evaluator:Evaluation took 0.12s seconds\n",
      "WARNING:pykeen.triples.triples_factory:Reconstructing all label-based triples. This is expensive and rarely needed.\n",
      "WARNING:pykeen.pipeline.api:No random seed is specified. Setting to 3203241656.\n",
      "INFO:pykeen.pipeline.api:Using device: None\n"
     ]
    },
    {
     "name": "stdout",
     "output_type": "stream",
     "text": [
      "87 TCS_triplets.csv\n"
     ]
    },
    {
     "data": {
      "application/vnd.jupyter.widget-view+json": {
       "model_id": "033dc024e0304329a065ffd4afd2e78e",
       "version_major": 2,
       "version_minor": 0
      },
      "text/plain": [
       "Training epochs on cuda:0:   0%|          | 0/25 [00:00<?, ?epoch/s]"
      ]
     },
     "metadata": {},
     "output_type": "display_data"
    },
    {
     "data": {
      "application/vnd.jupyter.widget-view+json": {
       "model_id": "43ab874d98e14b20a358eac9d6c87786",
       "version_major": 2,
       "version_minor": 0
      },
      "text/plain": [
       "Evaluating on cuda:0:   0%|          | 0.00/58.0 [00:00<?, ?triple/s]"
      ]
     },
     "metadata": {},
     "output_type": "display_data"
    },
    {
     "name": "stderr",
     "output_type": "stream",
     "text": [
      "INFO:pykeen.evaluation.evaluator:Evaluation took 0.13s seconds\n",
      "WARNING:pykeen.pipeline.api:No random seed is specified. Setting to 3203241656.\n",
      "INFO:pykeen.pipeline.api:Using device: None\n"
     ]
    },
    {
     "data": {
      "application/vnd.jupyter.widget-view+json": {
       "model_id": "e2bc023557b64b109434615111fa259e",
       "version_major": 2,
       "version_minor": 0
      },
      "text/plain": [
       "Training epochs on cuda:0:   0%|          | 0/25 [00:00<?, ?epoch/s]"
      ]
     },
     "metadata": {},
     "output_type": "display_data"
    },
    {
     "data": {
      "application/vnd.jupyter.widget-view+json": {
       "model_id": "da35d1fa892b421dbbc708417c204d33",
       "version_major": 2,
       "version_minor": 0
      },
      "text/plain": [
       "Evaluating on cuda:0:   0%|          | 0.00/58.0 [00:00<?, ?triple/s]"
      ]
     },
     "metadata": {},
     "output_type": "display_data"
    },
    {
     "name": "stderr",
     "output_type": "stream",
     "text": [
      "INFO:pykeen.evaluation.evaluator:Evaluation took 0.12s seconds\n",
      "WARNING:pykeen.triples.triples_factory:Reconstructing all label-based triples. This is expensive and rarely needed.\n",
      "WARNING:pykeen.pipeline.api:No random seed is specified. Setting to 3203241656.\n",
      "INFO:pykeen.pipeline.api:Using device: None\n"
     ]
    },
    {
     "name": "stdout",
     "output_type": "stream",
     "text": [
      "88 TE11_triplets.csv\n"
     ]
    },
    {
     "data": {
      "application/vnd.jupyter.widget-view+json": {
       "model_id": "9bca677dfc8947c7bed91530d1dee531",
       "version_major": 2,
       "version_minor": 0
      },
      "text/plain": [
       "Training epochs on cuda:0:   0%|          | 0/25 [00:00<?, ?epoch/s]"
      ]
     },
     "metadata": {},
     "output_type": "display_data"
    },
    {
     "data": {
      "application/vnd.jupyter.widget-view+json": {
       "model_id": "f73959203102429da466efada891d0c7",
       "version_major": 2,
       "version_minor": 0
      },
      "text/plain": [
       "Evaluating on cuda:0:   0%|          | 0.00/48.0 [00:00<?, ?triple/s]"
      ]
     },
     "metadata": {},
     "output_type": "display_data"
    },
    {
     "name": "stderr",
     "output_type": "stream",
     "text": [
      "INFO:pykeen.evaluation.evaluator:Evaluation took 0.08s seconds\n",
      "WARNING:pykeen.pipeline.api:No random seed is specified. Setting to 3203241656.\n",
      "INFO:pykeen.pipeline.api:Using device: None\n"
     ]
    },
    {
     "data": {
      "application/vnd.jupyter.widget-view+json": {
       "model_id": "057988a2c6774b12af1b3aad523bd339",
       "version_major": 2,
       "version_minor": 0
      },
      "text/plain": [
       "Training epochs on cuda:0:   0%|          | 0/25 [00:00<?, ?epoch/s]"
      ]
     },
     "metadata": {},
     "output_type": "display_data"
    },
    {
     "data": {
      "application/vnd.jupyter.widget-view+json": {
       "model_id": "a999aa280e8141978b1df9a11d549217",
       "version_major": 2,
       "version_minor": 0
      },
      "text/plain": [
       "Evaluating on cuda:0:   0%|          | 0.00/48.0 [00:00<?, ?triple/s]"
      ]
     },
     "metadata": {},
     "output_type": "display_data"
    },
    {
     "name": "stderr",
     "output_type": "stream",
     "text": [
      "INFO:pykeen.evaluation.evaluator:Evaluation took 0.13s seconds\n",
      "WARNING:pykeen.triples.triples_factory:Reconstructing all label-based triples. This is expensive and rarely needed.\n",
      "WARNING:pykeen.pipeline.api:No random seed is specified. Setting to 3203241656.\n",
      "INFO:pykeen.pipeline.api:Using device: None\n"
     ]
    },
    {
     "name": "stdout",
     "output_type": "stream",
     "text": [
      "89 TEI_triplets.csv\n"
     ]
    },
    {
     "data": {
      "application/vnd.jupyter.widget-view+json": {
       "model_id": "4a6c42b2119d4546bf12b8ad6a353aa8",
       "version_major": 2,
       "version_minor": 0
      },
      "text/plain": [
       "Training epochs on cuda:0:   0%|          | 0/25 [00:00<?, ?epoch/s]"
      ]
     },
     "metadata": {},
     "output_type": "display_data"
    },
    {
     "data": {
      "application/vnd.jupyter.widget-view+json": {
       "model_id": "94598b8ab7cc476bb1ac3559ecc8a5d5",
       "version_major": 2,
       "version_minor": 0
      },
      "text/plain": [
       "Evaluating on cuda:0:   0%|          | 0.00/34.0 [00:00<?, ?triple/s]"
      ]
     },
     "metadata": {},
     "output_type": "display_data"
    },
    {
     "name": "stderr",
     "output_type": "stream",
     "text": [
      "INFO:pykeen.evaluation.evaluator:Evaluation took 0.08s seconds\n",
      "WARNING:pykeen.pipeline.api:No random seed is specified. Setting to 3203241656.\n",
      "INFO:pykeen.pipeline.api:Using device: None\n"
     ]
    },
    {
     "data": {
      "application/vnd.jupyter.widget-view+json": {
       "model_id": "09fa8b1804304b26a73a8f965d1bc61d",
       "version_major": 2,
       "version_minor": 0
      },
      "text/plain": [
       "Training epochs on cuda:0:   0%|          | 0/25 [00:00<?, ?epoch/s]"
      ]
     },
     "metadata": {},
     "output_type": "display_data"
    },
    {
     "data": {
      "application/vnd.jupyter.widget-view+json": {
       "model_id": "69794af6cdb2482e8d268e545455dc15",
       "version_major": 2,
       "version_minor": 0
      },
      "text/plain": [
       "Evaluating on cuda:0:   0%|          | 0.00/34.0 [00:00<?, ?triple/s]"
      ]
     },
     "metadata": {},
     "output_type": "display_data"
    },
    {
     "name": "stderr",
     "output_type": "stream",
     "text": [
      "INFO:pykeen.evaluation.evaluator:Evaluation took 0.08s seconds\n",
      "WARNING:pykeen.triples.triples_factory:Reconstructing all label-based triples. This is expensive and rarely needed.\n",
      "WARNING:pykeen.pipeline.api:No random seed is specified. Setting to 3203241656.\n",
      "INFO:pykeen.pipeline.api:Using device: None\n"
     ]
    },
    {
     "name": "stdout",
     "output_type": "stream",
     "text": [
      "90 TEL_triplets.csv\n"
     ]
    },
    {
     "data": {
      "application/vnd.jupyter.widget-view+json": {
       "model_id": "5741649677704511b268fe11785108f5",
       "version_major": 2,
       "version_minor": 0
      },
      "text/plain": [
       "Training epochs on cuda:0:   0%|          | 0/25 [00:00<?, ?epoch/s]"
      ]
     },
     "metadata": {},
     "output_type": "display_data"
    },
    {
     "data": {
      "application/vnd.jupyter.widget-view+json": {
       "model_id": "f10b1203ae024be28513c98b99cf4608",
       "version_major": 2,
       "version_minor": 0
      },
      "text/plain": [
       "Evaluating on cuda:0:   0%|          | 0.00/57.0 [00:00<?, ?triple/s]"
      ]
     },
     "metadata": {},
     "output_type": "display_data"
    },
    {
     "name": "stderr",
     "output_type": "stream",
     "text": [
      "INFO:pykeen.evaluation.evaluator:Evaluation took 0.12s seconds\n",
      "WARNING:pykeen.pipeline.api:No random seed is specified. Setting to 3203241656.\n",
      "INFO:pykeen.pipeline.api:Using device: None\n"
     ]
    },
    {
     "data": {
      "application/vnd.jupyter.widget-view+json": {
       "model_id": "524501d6e38b44db80c2d27dba5cd9ae",
       "version_major": 2,
       "version_minor": 0
      },
      "text/plain": [
       "Training epochs on cuda:0:   0%|          | 0/25 [00:00<?, ?epoch/s]"
      ]
     },
     "metadata": {},
     "output_type": "display_data"
    },
    {
     "data": {
      "application/vnd.jupyter.widget-view+json": {
       "model_id": "8b7607f1b52543adb4aaa67131bcd1fb",
       "version_major": 2,
       "version_minor": 0
      },
      "text/plain": [
       "Evaluating on cuda:0:   0%|          | 0.00/57.0 [00:00<?, ?triple/s]"
      ]
     },
     "metadata": {},
     "output_type": "display_data"
    },
    {
     "name": "stderr",
     "output_type": "stream",
     "text": [
      "INFO:pykeen.evaluation.evaluator:Evaluation took 0.08s seconds\n",
      "WARNING:pykeen.triples.triples_factory:Reconstructing all label-based triples. This is expensive and rarely needed.\n",
      "WARNING:pykeen.pipeline.api:No random seed is specified. Setting to 3203241656.\n",
      "INFO:pykeen.pipeline.api:Using device: None\n"
     ]
    },
    {
     "name": "stdout",
     "output_type": "stream",
     "text": [
      "91 TI01_triplets.csv\n"
     ]
    },
    {
     "data": {
      "application/vnd.jupyter.widget-view+json": {
       "model_id": "acecc317da4e4f9990e47e59e8d34cae",
       "version_major": 2,
       "version_minor": 0
      },
      "text/plain": [
       "Training epochs on cuda:0:   0%|          | 0/25 [00:00<?, ?epoch/s]"
      ]
     },
     "metadata": {},
     "output_type": "display_data"
    },
    {
     "data": {
      "application/vnd.jupyter.widget-view+json": {
       "model_id": "61b8792a119c4d2d90295e722029c358",
       "version_major": 2,
       "version_minor": 0
      },
      "text/plain": [
       "Evaluating on cuda:0:   0%|          | 0.00/38.0 [00:00<?, ?triple/s]"
      ]
     },
     "metadata": {},
     "output_type": "display_data"
    },
    {
     "name": "stderr",
     "output_type": "stream",
     "text": [
      "INFO:pykeen.evaluation.evaluator:Evaluation took 0.13s seconds\n",
      "WARNING:pykeen.pipeline.api:No random seed is specified. Setting to 3203241656.\n",
      "INFO:pykeen.pipeline.api:Using device: None\n"
     ]
    },
    {
     "data": {
      "application/vnd.jupyter.widget-view+json": {
       "model_id": "37750484900c41ae80de4b38ff52e813",
       "version_major": 2,
       "version_minor": 0
      },
      "text/plain": [
       "Training epochs on cuda:0:   0%|          | 0/25 [00:00<?, ?epoch/s]"
      ]
     },
     "metadata": {},
     "output_type": "display_data"
    },
    {
     "data": {
      "application/vnd.jupyter.widget-view+json": {
       "model_id": "12c506e49e8a4626a829ef1c980f2789",
       "version_major": 2,
       "version_minor": 0
      },
      "text/plain": [
       "Evaluating on cuda:0:   0%|          | 0.00/38.0 [00:00<?, ?triple/s]"
      ]
     },
     "metadata": {},
     "output_type": "display_data"
    },
    {
     "name": "stderr",
     "output_type": "stream",
     "text": [
      "INFO:pykeen.evaluation.evaluator:Evaluation took 0.18s seconds\n",
      "WARNING:pykeen.triples.triples_factory:Reconstructing all label-based triples. This is expensive and rarely needed.\n",
      "WARNING:pykeen.pipeline.api:No random seed is specified. Setting to 3203241656.\n",
      "INFO:pykeen.pipeline.api:Using device: None\n"
     ]
    },
    {
     "name": "stdout",
     "output_type": "stream",
     "text": [
      "92 TJ01_triplets.csv\n"
     ]
    },
    {
     "data": {
      "application/vnd.jupyter.widget-view+json": {
       "model_id": "5e8d3fc0014445faac273c36908a7b6f",
       "version_major": 2,
       "version_minor": 0
      },
      "text/plain": [
       "Training epochs on cuda:0:   0%|          | 0/25 [00:00<?, ?epoch/s]"
      ]
     },
     "metadata": {},
     "output_type": "display_data"
    },
    {
     "data": {
      "application/vnd.jupyter.widget-view+json": {
       "model_id": "9ef821a1537e4fe39eea0aecdd0bb443",
       "version_major": 2,
       "version_minor": 0
      },
      "text/plain": [
       "Evaluating on cuda:0:   0%|          | 0.00/49.0 [00:00<?, ?triple/s]"
      ]
     },
     "metadata": {},
     "output_type": "display_data"
    },
    {
     "name": "stderr",
     "output_type": "stream",
     "text": [
      "INFO:pykeen.evaluation.evaluator:Evaluation took 0.16s seconds\n",
      "WARNING:pykeen.pipeline.api:No random seed is specified. Setting to 3203241656.\n",
      "INFO:pykeen.pipeline.api:Using device: None\n"
     ]
    },
    {
     "data": {
      "application/vnd.jupyter.widget-view+json": {
       "model_id": "537bd2bd0ab34721894314f164b2ae21",
       "version_major": 2,
       "version_minor": 0
      },
      "text/plain": [
       "Training epochs on cuda:0:   0%|          | 0/25 [00:00<?, ?epoch/s]"
      ]
     },
     "metadata": {},
     "output_type": "display_data"
    },
    {
     "data": {
      "application/vnd.jupyter.widget-view+json": {
       "model_id": "a5a8a87d00e1416ba35a3029c1cde404",
       "version_major": 2,
       "version_minor": 0
      },
      "text/plain": [
       "Evaluating on cuda:0:   0%|          | 0.00/49.0 [00:00<?, ?triple/s]"
      ]
     },
     "metadata": {},
     "output_type": "display_data"
    },
    {
     "name": "stderr",
     "output_type": "stream",
     "text": [
      "INFO:pykeen.evaluation.evaluator:Evaluation took 0.12s seconds\n",
      "WARNING:pykeen.triples.triples_factory:Reconstructing all label-based triples. This is expensive and rarely needed.\n",
      "WARNING:pykeen.pipeline.api:No random seed is specified. Setting to 3203241656.\n",
      "INFO:pykeen.pipeline.api:Using device: None\n"
     ]
    },
    {
     "name": "stdout",
     "output_type": "stream",
     "text": [
      "93 TM4_triplets.csv\n"
     ]
    },
    {
     "data": {
      "application/vnd.jupyter.widget-view+json": {
       "model_id": "fc3bd3d415934940b576d5e6e6e77e12",
       "version_major": 2,
       "version_minor": 0
      },
      "text/plain": [
       "Training epochs on cuda:0:   0%|          | 0/25 [00:00<?, ?epoch/s]"
      ]
     },
     "metadata": {},
     "output_type": "display_data"
    },
    {
     "data": {
      "application/vnd.jupyter.widget-view+json": {
       "model_id": "1920999176244d0baeba9b9e2605fc4a",
       "version_major": 2,
       "version_minor": 0
      },
      "text/plain": [
       "Evaluating on cuda:0:   0%|          | 0.00/38.0 [00:00<?, ?triple/s]"
      ]
     },
     "metadata": {},
     "output_type": "display_data"
    },
    {
     "name": "stderr",
     "output_type": "stream",
     "text": [
      "INFO:pykeen.evaluation.evaluator:Evaluation took 0.14s seconds\n",
      "WARNING:pykeen.pipeline.api:No random seed is specified. Setting to 3203241656.\n",
      "INFO:pykeen.pipeline.api:Using device: None\n"
     ]
    },
    {
     "data": {
      "application/vnd.jupyter.widget-view+json": {
       "model_id": "8d49b91aa5fa452b81f0a4490c353ffe",
       "version_major": 2,
       "version_minor": 0
      },
      "text/plain": [
       "Training epochs on cuda:0:   0%|          | 0/25 [00:00<?, ?epoch/s]"
      ]
     },
     "metadata": {},
     "output_type": "display_data"
    },
    {
     "data": {
      "application/vnd.jupyter.widget-view+json": {
       "model_id": "21918ba2c97d4c66a0e361b6443d69e7",
       "version_major": 2,
       "version_minor": 0
      },
      "text/plain": [
       "Evaluating on cuda:0:   0%|          | 0.00/38.0 [00:00<?, ?triple/s]"
      ]
     },
     "metadata": {},
     "output_type": "display_data"
    },
    {
     "name": "stderr",
     "output_type": "stream",
     "text": [
      "INFO:pykeen.evaluation.evaluator:Evaluation took 0.12s seconds\n",
      "WARNING:pykeen.triples.triples_factory:Reconstructing all label-based triples. This is expensive and rarely needed.\n",
      "WARNING:pykeen.pipeline.api:No random seed is specified. Setting to 3203241656.\n",
      "INFO:pykeen.pipeline.api:Using device: None\n"
     ]
    },
    {
     "name": "stdout",
     "output_type": "stream",
     "text": [
      "94 TW02_triplets.csv\n"
     ]
    },
    {
     "data": {
      "application/vnd.jupyter.widget-view+json": {
       "model_id": "54718695e54640b28187d4c40aa3945d",
       "version_major": 2,
       "version_minor": 0
      },
      "text/plain": [
       "Training epochs on cuda:0:   0%|          | 0/25 [00:00<?, ?epoch/s]"
      ]
     },
     "metadata": {},
     "output_type": "display_data"
    },
    {
     "data": {
      "application/vnd.jupyter.widget-view+json": {
       "model_id": "7a94dbac3eb94e74be9a19e90e1652a5",
       "version_major": 2,
       "version_minor": 0
      },
      "text/plain": [
       "Evaluating on cuda:0:   0%|          | 0.00/50.0 [00:00<?, ?triple/s]"
      ]
     },
     "metadata": {},
     "output_type": "display_data"
    },
    {
     "name": "stderr",
     "output_type": "stream",
     "text": [
      "INFO:pykeen.evaluation.evaluator:Evaluation took 0.13s seconds\n",
      "WARNING:pykeen.pipeline.api:No random seed is specified. Setting to 3203241656.\n",
      "INFO:pykeen.pipeline.api:Using device: None\n"
     ]
    },
    {
     "data": {
      "application/vnd.jupyter.widget-view+json": {
       "model_id": "5db0aa96ff1345588a401fb924ef560a",
       "version_major": 2,
       "version_minor": 0
      },
      "text/plain": [
       "Training epochs on cuda:0:   0%|          | 0/25 [00:00<?, ?epoch/s]"
      ]
     },
     "metadata": {},
     "output_type": "display_data"
    },
    {
     "data": {
      "application/vnd.jupyter.widget-view+json": {
       "model_id": "f2bf8807858746c090ffc40017151e28",
       "version_major": 2,
       "version_minor": 0
      },
      "text/plain": [
       "Evaluating on cuda:0:   0%|          | 0.00/50.0 [00:00<?, ?triple/s]"
      ]
     },
     "metadata": {},
     "output_type": "display_data"
    },
    {
     "name": "stderr",
     "output_type": "stream",
     "text": [
      "INFO:pykeen.evaluation.evaluator:Evaluation took 0.14s seconds\n",
      "WARNING:pykeen.triples.triples_factory:Reconstructing all label-based triples. This is expensive and rarely needed.\n",
      "WARNING:pykeen.pipeline.api:No random seed is specified. Setting to 3203241656.\n",
      "INFO:pykeen.pipeline.api:Using device: None\n"
     ]
    },
    {
     "name": "stdout",
     "output_type": "stream",
     "text": [
      "95 UA01_triplets.csv\n"
     ]
    },
    {
     "data": {
      "application/vnd.jupyter.widget-view+json": {
       "model_id": "cea3bff32d4f48bea551c0029a03b83c",
       "version_major": 2,
       "version_minor": 0
      },
      "text/plain": [
       "Training epochs on cuda:0:   0%|          | 0/25 [00:00<?, ?epoch/s]"
      ]
     },
     "metadata": {},
     "output_type": "display_data"
    },
    {
     "data": {
      "application/vnd.jupyter.widget-view+json": {
       "model_id": "41eb1d1eb2864128b2e865317451c010",
       "version_major": 2,
       "version_minor": 0
      },
      "text/plain": [
       "Evaluating on cuda:0:   0%|          | 0.00/55.0 [00:00<?, ?triple/s]"
      ]
     },
     "metadata": {},
     "output_type": "display_data"
    },
    {
     "name": "stderr",
     "output_type": "stream",
     "text": [
      "INFO:pykeen.evaluation.evaluator:Evaluation took 0.18s seconds\n",
      "WARNING:pykeen.pipeline.api:No random seed is specified. Setting to 3203241656.\n",
      "INFO:pykeen.pipeline.api:Using device: None\n"
     ]
    },
    {
     "data": {
      "application/vnd.jupyter.widget-view+json": {
       "model_id": "4a556d05ef644bf4a84a75c6b254f045",
       "version_major": 2,
       "version_minor": 0
      },
      "text/plain": [
       "Training epochs on cuda:0:   0%|          | 0/25 [00:00<?, ?epoch/s]"
      ]
     },
     "metadata": {},
     "output_type": "display_data"
    },
    {
     "data": {
      "application/vnd.jupyter.widget-view+json": {
       "model_id": "f5a5f6c11b904bee94b38d9feb56a60a",
       "version_major": 2,
       "version_minor": 0
      },
      "text/plain": [
       "Evaluating on cuda:0:   0%|          | 0.00/55.0 [00:00<?, ?triple/s]"
      ]
     },
     "metadata": {},
     "output_type": "display_data"
    },
    {
     "name": "stderr",
     "output_type": "stream",
     "text": [
      "INFO:pykeen.evaluation.evaluator:Evaluation took 0.14s seconds\n",
      "WARNING:pykeen.triples.triples_factory:Reconstructing all label-based triples. This is expensive and rarely needed.\n",
      "WARNING:pykeen.pipeline.api:No random seed is specified. Setting to 3203241656.\n",
      "INFO:pykeen.pipeline.api:Using device: None\n"
     ]
    },
    {
     "name": "stdout",
     "output_type": "stream",
     "text": [
      "96 UBE_triplets.csv\n"
     ]
    },
    {
     "data": {
      "application/vnd.jupyter.widget-view+json": {
       "model_id": "8a5007faad67454c932f201c3ec43d61",
       "version_major": 2,
       "version_minor": 0
      },
      "text/plain": [
       "Training epochs on cuda:0:   0%|          | 0/25 [00:00<?, ?epoch/s]"
      ]
     },
     "metadata": {},
     "output_type": "display_data"
    },
    {
     "data": {
      "application/vnd.jupyter.widget-view+json": {
       "model_id": "6254b9925925439b8ed5ec0fa80e4971",
       "version_major": 2,
       "version_minor": 0
      },
      "text/plain": [
       "Evaluating on cuda:0:   0%|          | 0.00/47.0 [00:00<?, ?triple/s]"
      ]
     },
     "metadata": {},
     "output_type": "display_data"
    },
    {
     "name": "stderr",
     "output_type": "stream",
     "text": [
      "INFO:pykeen.evaluation.evaluator:Evaluation took 0.11s seconds\n",
      "WARNING:pykeen.pipeline.api:No random seed is specified. Setting to 3203241656.\n",
      "INFO:pykeen.pipeline.api:Using device: None\n"
     ]
    },
    {
     "data": {
      "application/vnd.jupyter.widget-view+json": {
       "model_id": "4253cbe4033e41499ca2cc292430d1ad",
       "version_major": 2,
       "version_minor": 0
      },
      "text/plain": [
       "Training epochs on cuda:0:   0%|          | 0/25 [00:00<?, ?epoch/s]"
      ]
     },
     "metadata": {},
     "output_type": "display_data"
    },
    {
     "data": {
      "application/vnd.jupyter.widget-view+json": {
       "model_id": "d98d5e36b1054903a24f84513b89bf08",
       "version_major": 2,
       "version_minor": 0
      },
      "text/plain": [
       "Evaluating on cuda:0:   0%|          | 0.00/47.0 [00:00<?, ?triple/s]"
      ]
     },
     "metadata": {},
     "output_type": "display_data"
    },
    {
     "name": "stderr",
     "output_type": "stream",
     "text": [
      "INFO:pykeen.evaluation.evaluator:Evaluation took 0.12s seconds\n",
      "WARNING:pykeen.triples.triples_factory:Reconstructing all label-based triples. This is expensive and rarely needed.\n",
      "WARNING:pykeen.pipeline.api:No random seed is specified. Setting to 3203241656.\n",
      "INFO:pykeen.pipeline.api:Using device: None\n"
     ]
    },
    {
     "name": "stdout",
     "output_type": "stream",
     "text": [
      "97 UI17_triplets.csv\n"
     ]
    },
    {
     "data": {
      "application/vnd.jupyter.widget-view+json": {
       "model_id": "1c11db85b41f44c9b4b86bae6e4f9f99",
       "version_major": 2,
       "version_minor": 0
      },
      "text/plain": [
       "Training epochs on cuda:0:   0%|          | 0/25 [00:00<?, ?epoch/s]"
      ]
     },
     "metadata": {},
     "output_type": "display_data"
    },
    {
     "data": {
      "application/vnd.jupyter.widget-view+json": {
       "model_id": "53cb21401add4f78b6a66b63bdd2d3e5",
       "version_major": 2,
       "version_minor": 0
      },
      "text/plain": [
       "Evaluating on cuda:0:   0%|          | 0.00/44.0 [00:00<?, ?triple/s]"
      ]
     },
     "metadata": {},
     "output_type": "display_data"
    },
    {
     "name": "stderr",
     "output_type": "stream",
     "text": [
      "INFO:pykeen.evaluation.evaluator:Evaluation took 0.11s seconds\n",
      "WARNING:pykeen.pipeline.api:No random seed is specified. Setting to 3203241656.\n",
      "INFO:pykeen.pipeline.api:Using device: None\n"
     ]
    },
    {
     "data": {
      "application/vnd.jupyter.widget-view+json": {
       "model_id": "d8f2e71031e64bcab332514988b5eaaa",
       "version_major": 2,
       "version_minor": 0
      },
      "text/plain": [
       "Training epochs on cuda:0:   0%|          | 0/25 [00:00<?, ?epoch/s]"
      ]
     },
     "metadata": {},
     "output_type": "display_data"
    },
    {
     "data": {
      "application/vnd.jupyter.widget-view+json": {
       "model_id": "d2346abb6e22432d8dffd6e4032b4069",
       "version_major": 2,
       "version_minor": 0
      },
      "text/plain": [
       "Evaluating on cuda:0:   0%|          | 0.00/44.0 [00:00<?, ?triple/s]"
      ]
     },
     "metadata": {},
     "output_type": "display_data"
    },
    {
     "name": "stderr",
     "output_type": "stream",
     "text": [
      "INFO:pykeen.evaluation.evaluator:Evaluation took 0.14s seconds\n",
      "WARNING:pykeen.triples.triples_factory:Reconstructing all label-based triples. This is expensive and rarely needed.\n",
      "WARNING:pykeen.pipeline.api:No random seed is specified. Setting to 3203241656.\n",
      "INFO:pykeen.pipeline.api:Using device: None\n"
     ]
    },
    {
     "name": "stdout",
     "output_type": "stream",
     "text": [
      "98 UTC_triplets.csv\n"
     ]
    },
    {
     "data": {
      "application/vnd.jupyter.widget-view+json": {
       "model_id": "d1cf1da262924060909333a80f4e97ec",
       "version_major": 2,
       "version_minor": 0
      },
      "text/plain": [
       "Training epochs on cuda:0:   0%|          | 0/25 [00:00<?, ?epoch/s]"
      ]
     },
     "metadata": {},
     "output_type": "display_data"
    },
    {
     "data": {
      "application/vnd.jupyter.widget-view+json": {
       "model_id": "b047ae69c017413084d1642fbbc851f0",
       "version_major": 2,
       "version_minor": 0
      },
      "text/plain": [
       "Evaluating on cuda:0:   0%|          | 0.00/49.0 [00:00<?, ?triple/s]"
      ]
     },
     "metadata": {},
     "output_type": "display_data"
    },
    {
     "name": "stderr",
     "output_type": "stream",
     "text": [
      "INFO:pykeen.evaluation.evaluator:Evaluation took 0.13s seconds\n",
      "WARNING:pykeen.pipeline.api:No random seed is specified. Setting to 3203241656.\n",
      "INFO:pykeen.pipeline.api:Using device: None\n"
     ]
    },
    {
     "data": {
      "application/vnd.jupyter.widget-view+json": {
       "model_id": "0fda5f69db3748c2b81a54aebb18780e",
       "version_major": 2,
       "version_minor": 0
      },
      "text/plain": [
       "Training epochs on cuda:0:   0%|          | 0/25 [00:00<?, ?epoch/s]"
      ]
     },
     "metadata": {},
     "output_type": "display_data"
    },
    {
     "data": {
      "application/vnd.jupyter.widget-view+json": {
       "model_id": "76783934bd5c412b8189ce8273ec6826",
       "version_major": 2,
       "version_minor": 0
      },
      "text/plain": [
       "Evaluating on cuda:0:   0%|          | 0.00/49.0 [00:00<?, ?triple/s]"
      ]
     },
     "metadata": {},
     "output_type": "display_data"
    },
    {
     "name": "stderr",
     "output_type": "stream",
     "text": [
      "INFO:pykeen.evaluation.evaluator:Evaluation took 0.07s seconds\n",
      "WARNING:pykeen.triples.triples_factory:Reconstructing all label-based triples. This is expensive and rarely needed.\n",
      "WARNING:pykeen.pipeline.api:No random seed is specified. Setting to 3203241656.\n",
      "INFO:pykeen.pipeline.api:Using device: None\n"
     ]
    },
    {
     "name": "stdout",
     "output_type": "stream",
     "text": [
      "99 VLF_triplets.csv\n"
     ]
    },
    {
     "data": {
      "application/vnd.jupyter.widget-view+json": {
       "model_id": "9491c3191ac646eebcdb0e36d6108e5c",
       "version_major": 2,
       "version_minor": 0
      },
      "text/plain": [
       "Training epochs on cuda:0:   0%|          | 0/25 [00:00<?, ?epoch/s]"
      ]
     },
     "metadata": {},
     "output_type": "display_data"
    },
    {
     "data": {
      "application/vnd.jupyter.widget-view+json": {
       "model_id": "d31fe70127c84c5c8f8a2cb440c4fcd4",
       "version_major": 2,
       "version_minor": 0
      },
      "text/plain": [
       "Evaluating on cuda:0:   0%|          | 0.00/60.0 [00:00<?, ?triple/s]"
      ]
     },
     "metadata": {},
     "output_type": "display_data"
    },
    {
     "name": "stderr",
     "output_type": "stream",
     "text": [
      "INFO:pykeen.evaluation.evaluator:Evaluation took 0.14s seconds\n",
      "WARNING:pykeen.pipeline.api:No random seed is specified. Setting to 3203241656.\n",
      "INFO:pykeen.pipeline.api:Using device: None\n"
     ]
    },
    {
     "data": {
      "application/vnd.jupyter.widget-view+json": {
       "model_id": "163082bc7ca04ed8b3b2d17c10fb9788",
       "version_major": 2,
       "version_minor": 0
      },
      "text/plain": [
       "Training epochs on cuda:0:   0%|          | 0/25 [00:00<?, ?epoch/s]"
      ]
     },
     "metadata": {},
     "output_type": "display_data"
    },
    {
     "data": {
      "application/vnd.jupyter.widget-view+json": {
       "model_id": "db741b61501b41db9185ce14bb72e712",
       "version_major": 2,
       "version_minor": 0
      },
      "text/plain": [
       "Evaluating on cuda:0:   0%|          | 0.00/60.0 [00:00<?, ?triple/s]"
      ]
     },
     "metadata": {},
     "output_type": "display_data"
    },
    {
     "name": "stderr",
     "output_type": "stream",
     "text": [
      "INFO:pykeen.evaluation.evaluator:Evaluation took 0.13s seconds\n",
      "WARNING:pykeen.triples.triples_factory:Reconstructing all label-based triples. This is expensive and rarely needed.\n",
      "WARNING:pykeen.pipeline.api:No random seed is specified. Setting to 3203241656.\n",
      "INFO:pykeen.pipeline.api:Using device: None\n"
     ]
    },
    {
     "name": "stdout",
     "output_type": "stream",
     "text": [
      "100 W_triplets.csv\n"
     ]
    },
    {
     "data": {
      "application/vnd.jupyter.widget-view+json": {
       "model_id": "411c264a949c4079b7fd6f867802ad71",
       "version_major": 2,
       "version_minor": 0
      },
      "text/plain": [
       "Training epochs on cuda:0:   0%|          | 0/25 [00:00<?, ?epoch/s]"
      ]
     },
     "metadata": {},
     "output_type": "display_data"
    },
    {
     "data": {
      "application/vnd.jupyter.widget-view+json": {
       "model_id": "bd3351187dae44899e311da66731405d",
       "version_major": 2,
       "version_minor": 0
      },
      "text/plain": [
       "Evaluating on cuda:0:   0%|          | 0.00/46.0 [00:00<?, ?triple/s]"
      ]
     },
     "metadata": {},
     "output_type": "display_data"
    },
    {
     "name": "stderr",
     "output_type": "stream",
     "text": [
      "INFO:pykeen.evaluation.evaluator:Evaluation took 0.10s seconds\n",
      "WARNING:pykeen.pipeline.api:No random seed is specified. Setting to 3203241656.\n",
      "INFO:pykeen.pipeline.api:Using device: None\n"
     ]
    },
    {
     "data": {
      "application/vnd.jupyter.widget-view+json": {
       "model_id": "085cc964bc22405598327ef8954cf40a",
       "version_major": 2,
       "version_minor": 0
      },
      "text/plain": [
       "Training epochs on cuda:0:   0%|          | 0/25 [00:00<?, ?epoch/s]"
      ]
     },
     "metadata": {},
     "output_type": "display_data"
    },
    {
     "data": {
      "application/vnd.jupyter.widget-view+json": {
       "model_id": "3f5f8066a17246438c0e9ab5f21c8e8a",
       "version_major": 2,
       "version_minor": 0
      },
      "text/plain": [
       "Evaluating on cuda:0:   0%|          | 0.00/46.0 [00:00<?, ?triple/s]"
      ]
     },
     "metadata": {},
     "output_type": "display_data"
    },
    {
     "name": "stderr",
     "output_type": "stream",
     "text": [
      "INFO:pykeen.evaluation.evaluator:Evaluation took 0.16s seconds\n",
      "WARNING:pykeen.triples.triples_factory:Reconstructing all label-based triples. This is expensive and rarely needed.\n",
      "WARNING:pykeen.pipeline.api:No random seed is specified. Setting to 3203241656.\n",
      "INFO:pykeen.pipeline.api:Using device: None\n"
     ]
    },
    {
     "name": "stdout",
     "output_type": "stream",
     "text": [
      "101 ZT_triplets.csv\n"
     ]
    },
    {
     "data": {
      "application/vnd.jupyter.widget-view+json": {
       "model_id": "01bd833e90fc4007af9d383b3fe54ebc",
       "version_major": 2,
       "version_minor": 0
      },
      "text/plain": [
       "Training epochs on cuda:0:   0%|          | 0/25 [00:00<?, ?epoch/s]"
      ]
     },
     "metadata": {},
     "output_type": "display_data"
    },
    {
     "data": {
      "application/vnd.jupyter.widget-view+json": {
       "model_id": "eba10951a120437e9687c93e87a3ac1f",
       "version_major": 2,
       "version_minor": 0
      },
      "text/plain": [
       "Evaluating on cuda:0:   0%|          | 0.00/44.0 [00:00<?, ?triple/s]"
      ]
     },
     "metadata": {},
     "output_type": "display_data"
    },
    {
     "name": "stderr",
     "output_type": "stream",
     "text": [
      "INFO:pykeen.evaluation.evaluator:Evaluation took 0.11s seconds\n",
      "WARNING:pykeen.pipeline.api:No random seed is specified. Setting to 3203241656.\n",
      "INFO:pykeen.pipeline.api:Using device: None\n"
     ]
    },
    {
     "data": {
      "application/vnd.jupyter.widget-view+json": {
       "model_id": "7bcb90d43bc8439983085a67da929135",
       "version_major": 2,
       "version_minor": 0
      },
      "text/plain": [
       "Training epochs on cuda:0:   0%|          | 0/25 [00:00<?, ?epoch/s]"
      ]
     },
     "metadata": {},
     "output_type": "display_data"
    },
    {
     "data": {
      "application/vnd.jupyter.widget-view+json": {
       "model_id": "13a24c5f12b34a089e0503a92f37ee3c",
       "version_major": 2,
       "version_minor": 0
      },
      "text/plain": [
       "Evaluating on cuda:0:   0%|          | 0.00/44.0 [00:00<?, ?triple/s]"
      ]
     },
     "metadata": {},
     "output_type": "display_data"
    },
    {
     "name": "stderr",
     "output_type": "stream",
     "text": [
      "INFO:pykeen.evaluation.evaluator:Evaluation took 0.11s seconds\n"
     ]
    }
   ],
   "source": [
    "from pykeen.triples import TriplesFactory\n",
    "from pykeen.pipeline import pipeline\n",
    "from sklearn.decomposition import PCA\n",
    "import os\n",
    "import pandas as pd\n",
    "\n",
    "# Assuming your dataframe has columns 'subject', 'predicate', 'object'\n",
    "triplet_folder='Triplets/'\n",
    "dist_ent_emb=[]\n",
    "dist_rel_emb=[]\n",
    "trans_ent_emb=[]\n",
    "trans_rel_emb=[]\n",
    "count=0\n",
    "order=[]\n",
    "for comp in os.listdir(triplet_folder):\n",
    "    print(count,comp)\n",
    "    order.append(comp[:-4])\n",
    "    count=count+1\n",
    "    triplet_df=pd.read_csv(triplet_folder+comp)\n",
    "    triples_factory = TriplesFactory.from_labeled_triples(triplet_df[['head', 'type', 'tail']].values,)\n",
    "\n",
    "    training = triples_factory\n",
    "    validation = triples_factory\n",
    "    testing = triples_factory\n",
    "\n",
    "    d=training\n",
    "    id_to_entity={v: k for k, v in d.entity_to_id.items()}\n",
    "    id_to_relation={v: k for k, v in d.relation_to_id.items()}\n",
    "\n",
    "    for i in d.map_triples(d.triples):\n",
    "        s,p,o =int(i[0]), int(i[1]), int(i[2])\n",
    "        h,r,t = id_to_entity[s], id_to_relation[p], id_to_entity[o]\n",
    "\n",
    "    result1 = pipeline(\n",
    "        model='DistMult',\n",
    "        loss=\"softplus\",\n",
    "        training=training,\n",
    "        testing=testing,\n",
    "        validation=validation,\n",
    "        model_kwargs=dict(embedding_dim=50, random_seed=42),  # Increase the embedding dimension\n",
    "        optimizer_kwargs=dict(lr=0.1),  # Adjust the learning rate\n",
    "        training_kwargs=dict(num_epochs=25, use_tqdm_batch=False),)  # Increase the number of epochs)\n",
    "\n",
    "    result2 = pipeline(\n",
    "        model='TransE',\n",
    "        loss=\"softplus\",\n",
    "        training=training,\n",
    "        testing=testing,\n",
    "        validation=validation,\n",
    "        model_kwargs=dict(embedding_dim=50, random_seed=42),  # Increase the embedding dimension\n",
    "        optimizer_kwargs=dict(lr=0.1),  # Adjust the learning rate\n",
    "        training_kwargs=dict(num_epochs=25, use_tqdm_batch=False),  # Increase the number of epochs\n",
    "    )\n",
    "\n",
    "    # The trained model is stored in the pipeline result\n",
    "    model1 = result1.model\n",
    "    model2 = result2.model\n",
    "\n",
    "    pca = PCA(n_components=2)\n",
    "    entity_embeddings1 = model1.entity_representations[0](indices=None).detach().cpu().numpy()\n",
    "    m = pca.fit(entity_embeddings1)\n",
    "    eu = m.transform(entity_embeddings1)\n",
    "    relation_embeddings1 = model1.relation_representations[0](indices=None).detach().cpu().numpy()\n",
    "    ru = pca.transform(relation_embeddings1)\n",
    "\n",
    "    pca = PCA(n_components=2)\n",
    "    entity_embeddings2 = model2.entity_representations[0](indices=None).detach().cpu().numpy()\n",
    "    m = pca.fit(entity_embeddings2)\n",
    "    eu = m.transform(entity_embeddings2)\n",
    "    relation_embeddings2 = model2.relation_representations[0](indices=None).detach().cpu().numpy()\n",
    "    ru = pca.transform(relation_embeddings2)\n",
    "\n",
    "    dist_ent_emb.append(entity_embeddings1)\n",
    "    trans_ent_emb.append(entity_embeddings2)\n",
    "    dist_rel_emb.append(relation_embeddings1)\n",
    "    trans_rel_emb.append(relation_embeddings2)\n",
    "\n"
   ]
  },
  {
   "cell_type": "markdown",
   "id": "7fb85d2c",
   "metadata": {},
   "source": [
    "**Loading Stored Variables**"
   ]
  },
  {
   "cell_type": "code",
   "execution_count": 1,
   "id": "6de1a44e",
   "metadata": {},
   "outputs": [],
   "source": [
    "import joblib\n",
    "dist_ent_emb,dist_rel_emb,trans_ent_emb,trans_rel_emb=joblib.load('variables.joblib')"
   ]
  },
  {
   "cell_type": "code",
   "execution_count": null,
   "id": "1bc208e2",
   "metadata": {},
   "outputs": [],
   "source": [
    "**AVERAGING EMBEDDINGS**"
   ]
  },
  {
   "cell_type": "code",
   "execution_count": 2,
   "id": "aa8278dc",
   "metadata": {},
   "outputs": [],
   "source": [
    "import numpy as np\n",
    "dist_ent_avg=[]\n",
    "dist_rel_avg=[]\n",
    "trans_ent_avg=[]\n",
    "trans_rel_avg=[]\n",
    "for e in dist_ent_emb:\n",
    "    dist_ent_avg.append(np.mean(e))\n",
    "for e in dist_rel_emb:\n",
    "    dist_rel_avg.append(np.mean(e))\n",
    "for e in trans_ent_emb:\n",
    "    trans_ent_avg.append(np.mean(e))\n",
    "for e in trans_rel_emb:\n",
    "    trans_rel_avg.append(np.mean(e))\n"
   ]
  },
  {
   "cell_type": "code",
   "execution_count": 3,
   "id": "e4c78678",
   "metadata": {},
   "outputs": [
    {
     "name": "stderr",
     "output_type": "stream",
     "text": [
      "C:\\Users\\raksh\\anaconda3\\lib\\site-packages\\scipy\\__init__.py:146: UserWarning: A NumPy version >=1.16.5 and <1.23.0 is required for this version of SciPy (detected version 1.24.4\n",
      "  warnings.warn(f\"A NumPy version >={np_minversion} and <{np_maxversion}\"\n"
     ]
    }
   ],
   "source": [
    "from sklearn.preprocessing import MinMaxScaler\n",
    "\n",
    "import pandas as pd\n",
    "from sklearn.feature_selection import VarianceThreshold\n",
    "\n",
    "# Load data from CSV file\n",
    "file_path = \"Dataset - Calculated_Ratios.csv\"  # Update this with the path to your CSV file\n",
    "data = pd.read_csv(file_path)"
   ]
  },
  {
   "cell_type": "code",
   "execution_count": 4,
   "id": "86ab692c",
   "metadata": {
    "scrolled": false
   },
   "outputs": [
    {
     "data": {
      "text/html": [
       "<div>\n",
       "<style scoped>\n",
       "    .dataframe tbody tr th:only-of-type {\n",
       "        vertical-align: middle;\n",
       "    }\n",
       "\n",
       "    .dataframe tbody tr th {\n",
       "        vertical-align: top;\n",
       "    }\n",
       "\n",
       "    .dataframe thead th {\n",
       "        text-align: right;\n",
       "    }\n",
       "</style>\n",
       "<table border=\"1\" class=\"dataframe\">\n",
       "  <thead>\n",
       "    <tr style=\"text-align: right;\">\n",
       "      <th></th>\n",
       "      <th>Companies</th>\n",
       "      <th>Code</th>\n",
       "      <th>Net Working Capital/ Tot Assets</th>\n",
       "      <th>EBIDTA/ Total Assets</th>\n",
       "      <th>Market Cap/ Total Debt</th>\n",
       "      <th>Revenue/Tot Assets</th>\n",
       "      <th>Current Ratio</th>\n",
       "      <th>Quick Ratio</th>\n",
       "      <th>EBIDTA/ Revenue</th>\n",
       "      <th>D/A Ratio</th>\n",
       "      <th>...</th>\n",
       "      <th>Operating Expenses/ Total Liabilities</th>\n",
       "      <th>Current Assets/ Total Liabilities</th>\n",
       "      <th>Current Liabilities/ Total Assets</th>\n",
       "      <th>Equity/Fixed Assets</th>\n",
       "      <th>Total Expenses/ Total Revenue</th>\n",
       "      <th>Long-tern Liabilities/ Equity</th>\n",
       "      <th>Revenue/Liabilities</th>\n",
       "      <th>Revenue/Short-term Liabilities</th>\n",
       "      <th>Revenue/Fixed Assets</th>\n",
       "      <th>Label</th>\n",
       "    </tr>\n",
       "  </thead>\n",
       "  <tbody>\n",
       "    <tr>\n",
       "      <th>0</th>\n",
       "      <td>ABGSHIP</td>\n",
       "      <td>ABG01</td>\n",
       "      <td>-0.078</td>\n",
       "      <td>-0.178</td>\n",
       "      <td>0.001</td>\n",
       "      <td>0.001</td>\n",
       "      <td>0.902</td>\n",
       "      <td>0.34</td>\n",
       "      <td>-219.667</td>\n",
       "      <td>1.254</td>\n",
       "      <td>...</td>\n",
       "      <td>0.000</td>\n",
       "      <td>0.576</td>\n",
       "      <td>0.801</td>\n",
       "      <td>-0.918</td>\n",
       "      <td>368.222</td>\n",
       "      <td>-3.150</td>\n",
       "      <td>0.001</td>\n",
       "      <td>0.002</td>\n",
       "      <td>0.003</td>\n",
       "      <td>1</td>\n",
       "    </tr>\n",
       "    <tr>\n",
       "      <th>1</th>\n",
       "      <td>Adani Enterprises</td>\n",
       "      <td>AE01</td>\n",
       "      <td>-0.054</td>\n",
       "      <td>0.026</td>\n",
       "      <td>1.822</td>\n",
       "      <td>0.967</td>\n",
       "      <td>0.829</td>\n",
       "      <td>0.67</td>\n",
       "      <td>0.026</td>\n",
       "      <td>0.775</td>\n",
       "      <td>...</td>\n",
       "      <td>0.146</td>\n",
       "      <td>0.358</td>\n",
       "      <td>0.317</td>\n",
       "      <td>0.305</td>\n",
       "      <td>0.983</td>\n",
       "      <td>1.406</td>\n",
       "      <td>1.321</td>\n",
       "      <td>2.327</td>\n",
       "      <td>1.311</td>\n",
       "      <td>0</td>\n",
       "    </tr>\n",
       "    <tr>\n",
       "      <th>2</th>\n",
       "      <td>Adani Green Energy</td>\n",
       "      <td>ADANI54145</td>\n",
       "      <td>-0.009</td>\n",
       "      <td>-0.004</td>\n",
       "      <td>2.224</td>\n",
       "      <td>0.113</td>\n",
       "      <td>0.925</td>\n",
       "      <td>0.92</td>\n",
       "      <td>-0.035</td>\n",
       "      <td>0.913</td>\n",
       "      <td>...</td>\n",
       "      <td>0.000</td>\n",
       "      <td>0.130</td>\n",
       "      <td>0.125</td>\n",
       "      <td>0.099</td>\n",
       "      <td>1.137</td>\n",
       "      <td>1.436</td>\n",
       "      <td>0.127</td>\n",
       "      <td>0.148</td>\n",
       "      <td>0.128</td>\n",
       "      <td>0</td>\n",
       "    </tr>\n",
       "    <tr>\n",
       "      <th>3</th>\n",
       "      <td>ADHUNIK</td>\n",
       "      <td>AM9</td>\n",
       "      <td>-0.919</td>\n",
       "      <td>-0.026</td>\n",
       "      <td>0.000</td>\n",
       "      <td>0.000</td>\n",
       "      <td>0.101</td>\n",
       "      <td>0.06</td>\n",
       "      <td>-4648.000</td>\n",
       "      <td>2.001</td>\n",
       "      <td>...</td>\n",
       "      <td>0.000</td>\n",
       "      <td>0.052</td>\n",
       "      <td>1.022</td>\n",
       "      <td>-1.116</td>\n",
       "      <td>4689.000</td>\n",
       "      <td>-1.021</td>\n",
       "      <td>0.000</td>\n",
       "      <td>0.000</td>\n",
       "      <td>0.000</td>\n",
       "      <td>1</td>\n",
       "    </tr>\n",
       "    <tr>\n",
       "      <th>4</th>\n",
       "      <td>ALOKTEXT</td>\n",
       "      <td>ATI</td>\n",
       "      <td>-0.128</td>\n",
       "      <td>-0.122</td>\n",
       "      <td>0.234</td>\n",
       "      <td>0.930</td>\n",
       "      <td>0.640</td>\n",
       "      <td>0.27</td>\n",
       "      <td>-0.131</td>\n",
       "      <td>3.385</td>\n",
       "      <td>...</td>\n",
       "      <td>0.000</td>\n",
       "      <td>0.067</td>\n",
       "      <td>0.357</td>\n",
       "      <td>-3.091</td>\n",
       "      <td>1.150</td>\n",
       "      <td>-0.149</td>\n",
       "      <td>0.275</td>\n",
       "      <td>0.307</td>\n",
       "      <td>1.205</td>\n",
       "      <td>1</td>\n",
       "    </tr>\n",
       "  </tbody>\n",
       "</table>\n",
       "<p>5 rows × 30 columns</p>\n",
       "</div>"
      ],
      "text/plain": [
       "            Companies        Code  Net Working Capital/ Tot Assets  \\\n",
       "0             ABGSHIP       ABG01                           -0.078   \n",
       "1   Adani Enterprises        AE01                           -0.054   \n",
       "2  Adani Green Energy  ADANI54145                           -0.009   \n",
       "3             ADHUNIK         AM9                           -0.919   \n",
       "4            ALOKTEXT         ATI                           -0.128   \n",
       "\n",
       "   EBIDTA/ Total Assets  Market Cap/ Total Debt  Revenue/Tot Assets  \\\n",
       "0                -0.178                   0.001               0.001   \n",
       "1                 0.026                   1.822               0.967   \n",
       "2                -0.004                   2.224               0.113   \n",
       "3                -0.026                   0.000               0.000   \n",
       "4                -0.122                   0.234               0.930   \n",
       "\n",
       "   Current Ratio  Quick Ratio  EBIDTA/ Revenue  D/A Ratio  ...  \\\n",
       "0          0.902         0.34         -219.667      1.254  ...   \n",
       "1          0.829         0.67            0.026      0.775  ...   \n",
       "2          0.925         0.92           -0.035      0.913  ...   \n",
       "3          0.101         0.06        -4648.000      2.001  ...   \n",
       "4          0.640         0.27           -0.131      3.385  ...   \n",
       "\n",
       "   Operating Expenses/ Total Liabilities  Current Assets/ Total Liabilities  \\\n",
       "0                                  0.000                              0.576   \n",
       "1                                  0.146                              0.358   \n",
       "2                                  0.000                              0.130   \n",
       "3                                  0.000                              0.052   \n",
       "4                                  0.000                              0.067   \n",
       "\n",
       "   Current Liabilities/ Total Assets  Equity/Fixed Assets  \\\n",
       "0                              0.801               -0.918   \n",
       "1                              0.317                0.305   \n",
       "2                              0.125                0.099   \n",
       "3                              1.022               -1.116   \n",
       "4                              0.357               -3.091   \n",
       "\n",
       "   Total Expenses/ Total Revenue  Long-tern Liabilities/ Equity  \\\n",
       "0                        368.222                         -3.150   \n",
       "1                          0.983                          1.406   \n",
       "2                          1.137                          1.436   \n",
       "3                       4689.000                         -1.021   \n",
       "4                          1.150                         -0.149   \n",
       "\n",
       "   Revenue/Liabilities  Revenue/Short-term Liabilities  Revenue/Fixed Assets  \\\n",
       "0                0.001                           0.002                 0.003   \n",
       "1                1.321                           2.327                 1.311   \n",
       "2                0.127                           0.148                 0.128   \n",
       "3                0.000                           0.000                 0.000   \n",
       "4                0.275                           0.307                 1.205   \n",
       "\n",
       "   Label  \n",
       "0      1  \n",
       "1      0  \n",
       "2      0  \n",
       "3      1  \n",
       "4      1  \n",
       "\n",
       "[5 rows x 30 columns]"
      ]
     },
     "execution_count": 4,
     "metadata": {},
     "output_type": "execute_result"
    }
   ],
   "source": [
    "data.head()"
   ]
  },
  {
   "cell_type": "code",
   "execution_count": 5,
   "id": "a25c9fcb",
   "metadata": {},
   "outputs": [],
   "source": [
    "# Extract company names (assuming 'Company_Name' is the column name for company names)\n",
    "company_names = data['Companies']"
   ]
  },
  {
   "cell_type": "code",
   "execution_count": 6,
   "id": "a9361add",
   "metadata": {},
   "outputs": [],
   "source": [
    "# Extract features (assuming the first column is 'Company_Name' and the rest are features)\n",
    "features = data.drop(columns=['Companies','Label','Code'])\n",
    "labels=data['Label']"
   ]
  },
  {
   "cell_type": "code",
   "execution_count": 7,
   "id": "a1c3d988",
   "metadata": {},
   "outputs": [],
   "source": [
    "scaler=MinMaxScaler()\n",
    "norm_features=scaler.fit_transform(features)"
   ]
  },
  {
   "cell_type": "code",
   "execution_count": 8,
   "id": "8d5b4de8",
   "metadata": {},
   "outputs": [],
   "source": [
    "norm_features=pd.DataFrame(norm_features,columns=list(features.columns))"
   ]
  },
  {
   "cell_type": "markdown",
   "id": "fdcf44b7",
   "metadata": {},
   "source": [
    "**VARIANCE THRESHOLD**"
   ]
  },
  {
   "cell_type": "code",
   "execution_count": 9,
   "id": "54ffa933",
   "metadata": {},
   "outputs": [],
   "source": [
    "# Apply Variance Threshold\n",
    "threshold = 0.01  # Set the variance threshold as desired\n",
    "selector = VarianceThreshold(threshold=threshold)\n",
    "selected_features = selector.fit_transform(norm_features)"
   ]
  },
  {
   "cell_type": "code",
   "execution_count": 10,
   "id": "4ed7af5b",
   "metadata": {},
   "outputs": [],
   "source": [
    "# Get the selected feature columns based on the threshold\n",
    "selected_feature_columns = norm_features.columns[selector.get_support()]"
   ]
  },
  {
   "cell_type": "code",
   "execution_count": 11,
   "id": "a2414d2f",
   "metadata": {},
   "outputs": [],
   "source": [
    "# Create a new DataFrame with selected features\n",
    "selected_features_df = pd.DataFrame(selected_features, columns=selected_feature_columns)"
   ]
  },
  {
   "cell_type": "code",
   "execution_count": 12,
   "id": "91e8deea",
   "metadata": {},
   "outputs": [],
   "source": [
    "# Concatenate company names with selected features\n",
    "selected_data = pd.concat([company_names, selected_features_df], axis=1)"
   ]
  },
  {
   "cell_type": "code",
   "execution_count": 13,
   "id": "cf16ff48",
   "metadata": {
    "scrolled": true
   },
   "outputs": [
    {
     "data": {
      "text/html": [
       "<div>\n",
       "<style scoped>\n",
       "    .dataframe tbody tr th:only-of-type {\n",
       "        vertical-align: middle;\n",
       "    }\n",
       "\n",
       "    .dataframe tbody tr th {\n",
       "        vertical-align: top;\n",
       "    }\n",
       "\n",
       "    .dataframe thead th {\n",
       "        text-align: right;\n",
       "    }\n",
       "</style>\n",
       "<table border=\"1\" class=\"dataframe\">\n",
       "  <thead>\n",
       "    <tr style=\"text-align: right;\">\n",
       "      <th></th>\n",
       "      <th>Companies</th>\n",
       "      <th>Net Working Capital/ Tot Assets</th>\n",
       "      <th>EBIDTA/ Total Assets</th>\n",
       "      <th>Market Cap/ Total Debt</th>\n",
       "      <th>Revenue/Tot Assets</th>\n",
       "      <th>Current Ratio</th>\n",
       "      <th>Quick Ratio</th>\n",
       "      <th>D/A Ratio</th>\n",
       "      <th>Equity/Tot Assets</th>\n",
       "      <th>Gross Rev/ Curr Liabilities</th>\n",
       "      <th>...</th>\n",
       "      <th>EBIDTA/ Tot Liabilities</th>\n",
       "      <th>Net Profit/ Operating Expenses</th>\n",
       "      <th>Operating Expense/ Current Liabilities</th>\n",
       "      <th>Operating Expenses/ Total Liabilities</th>\n",
       "      <th>Current Assets/ Total Liabilities</th>\n",
       "      <th>Current Liabilities/ Total Assets</th>\n",
       "      <th>Equity/Fixed Assets</th>\n",
       "      <th>Revenue/Liabilities</th>\n",
       "      <th>Revenue/Short-term Liabilities</th>\n",
       "      <th>Revenue/Fixed Assets</th>\n",
       "    </tr>\n",
       "  </thead>\n",
       "  <tbody>\n",
       "    <tr>\n",
       "      <th>0</th>\n",
       "      <td>ABGSHIP</td>\n",
       "      <td>0.968113</td>\n",
       "      <td>0.936722</td>\n",
       "      <td>0.000006</td>\n",
       "      <td>0.000302</td>\n",
       "      <td>0.109967</td>\n",
       "      <td>0.002599</td>\n",
       "      <td>0.045357</td>\n",
       "      <td>0.954643</td>\n",
       "      <td>0.000031</td>\n",
       "      <td>...</td>\n",
       "      <td>0.602344</td>\n",
       "      <td>0.064790</td>\n",
       "      <td>0.000000</td>\n",
       "      <td>0.000000</td>\n",
       "      <td>0.071102</td>\n",
       "      <td>0.028986</td>\n",
       "      <td>0.680448</td>\n",
       "      <td>0.000041</td>\n",
       "      <td>1.496110e-07</td>\n",
       "      <td>0.000166</td>\n",
       "    </tr>\n",
       "    <tr>\n",
       "      <th>1</th>\n",
       "      <td>Adani Enterprises</td>\n",
       "      <td>0.968964</td>\n",
       "      <td>0.957712</td>\n",
       "      <td>0.010590</td>\n",
       "      <td>0.292322</td>\n",
       "      <td>0.101018</td>\n",
       "      <td>0.005199</td>\n",
       "      <td>0.027934</td>\n",
       "      <td>0.972066</td>\n",
       "      <td>0.095318</td>\n",
       "      <td>...</td>\n",
       "      <td>0.639389</td>\n",
       "      <td>0.067519</td>\n",
       "      <td>0.092278</td>\n",
       "      <td>0.048732</td>\n",
       "      <td>0.044145</td>\n",
       "      <td>0.011383</td>\n",
       "      <td>0.705067</td>\n",
       "      <td>0.053855</td>\n",
       "      <td>1.740724e-04</td>\n",
       "      <td>0.072716</td>\n",
       "    </tr>\n",
       "    <tr>\n",
       "      <th>2</th>\n",
       "      <td>Adani Green Energy</td>\n",
       "      <td>0.970560</td>\n",
       "      <td>0.954625</td>\n",
       "      <td>0.012927</td>\n",
       "      <td>0.034160</td>\n",
       "      <td>0.112787</td>\n",
       "      <td>0.007168</td>\n",
       "      <td>0.032954</td>\n",
       "      <td>0.967046</td>\n",
       "      <td>0.028184</td>\n",
       "      <td>...</td>\n",
       "      <td>0.631226</td>\n",
       "      <td>0.057905</td>\n",
       "      <td>0.000000</td>\n",
       "      <td>0.000000</td>\n",
       "      <td>0.015952</td>\n",
       "      <td>0.004401</td>\n",
       "      <td>0.700920</td>\n",
       "      <td>0.005178</td>\n",
       "      <td>1.107121e-05</td>\n",
       "      <td>0.007100</td>\n",
       "    </tr>\n",
       "    <tr>\n",
       "      <th>3</th>\n",
       "      <td>ADHUNIK</td>\n",
       "      <td>0.938283</td>\n",
       "      <td>0.952361</td>\n",
       "      <td>0.000000</td>\n",
       "      <td>0.000000</td>\n",
       "      <td>0.011769</td>\n",
       "      <td>0.000394</td>\n",
       "      <td>0.072528</td>\n",
       "      <td>0.927472</td>\n",
       "      <td>0.000000</td>\n",
       "      <td>...</td>\n",
       "      <td>0.629343</td>\n",
       "      <td>0.130066</td>\n",
       "      <td>0.000000</td>\n",
       "      <td>0.000000</td>\n",
       "      <td>0.006306</td>\n",
       "      <td>0.037024</td>\n",
       "      <td>0.676463</td>\n",
       "      <td>0.000000</td>\n",
       "      <td>0.000000e+00</td>\n",
       "      <td>0.000000</td>\n",
       "    </tr>\n",
       "    <tr>\n",
       "      <th>4</th>\n",
       "      <td>ALOKTEXT</td>\n",
       "      <td>0.966339</td>\n",
       "      <td>0.942484</td>\n",
       "      <td>0.001360</td>\n",
       "      <td>0.281137</td>\n",
       "      <td>0.077847</td>\n",
       "      <td>0.002048</td>\n",
       "      <td>0.122868</td>\n",
       "      <td>0.877132</td>\n",
       "      <td>0.081429</td>\n",
       "      <td>...</td>\n",
       "      <td>0.624529</td>\n",
       "      <td>0.041875</td>\n",
       "      <td>0.000000</td>\n",
       "      <td>0.000000</td>\n",
       "      <td>0.008161</td>\n",
       "      <td>0.012838</td>\n",
       "      <td>0.636708</td>\n",
       "      <td>0.011211</td>\n",
       "      <td>2.296529e-05</td>\n",
       "      <td>0.066837</td>\n",
       "    </tr>\n",
       "    <tr>\n",
       "      <th>...</th>\n",
       "      <td>...</td>\n",
       "      <td>...</td>\n",
       "      <td>...</td>\n",
       "      <td>...</td>\n",
       "      <td>...</td>\n",
       "      <td>...</td>\n",
       "      <td>...</td>\n",
       "      <td>...</td>\n",
       "      <td>...</td>\n",
       "      <td>...</td>\n",
       "      <td>...</td>\n",
       "      <td>...</td>\n",
       "      <td>...</td>\n",
       "      <td>...</td>\n",
       "      <td>...</td>\n",
       "      <td>...</td>\n",
       "      <td>...</td>\n",
       "      <td>...</td>\n",
       "      <td>...</td>\n",
       "      <td>...</td>\n",
       "      <td>...</td>\n",
       "    </tr>\n",
       "    <tr>\n",
       "      <th>99</th>\n",
       "      <td>Vedanta</td>\n",
       "      <td>0.965914</td>\n",
       "      <td>0.965737</td>\n",
       "      <td>0.008079</td>\n",
       "      <td>0.224002</td>\n",
       "      <td>0.083609</td>\n",
       "      <td>0.003545</td>\n",
       "      <td>0.028807</td>\n",
       "      <td>0.971193</td>\n",
       "      <td>0.051561</td>\n",
       "      <td>...</td>\n",
       "      <td>0.661155</td>\n",
       "      <td>0.067519</td>\n",
       "      <td>0.096386</td>\n",
       "      <td>0.070427</td>\n",
       "      <td>0.050822</td>\n",
       "      <td>0.016148</td>\n",
       "      <td>0.704765</td>\n",
       "      <td>0.040360</td>\n",
       "      <td>1.846948e-04</td>\n",
       "      <td>0.059349</td>\n",
       "    </tr>\n",
       "    <tr>\n",
       "      <th>100</th>\n",
       "      <td>VICEROY</td>\n",
       "      <td>0.943142</td>\n",
       "      <td>0.957300</td>\n",
       "      <td>0.000076</td>\n",
       "      <td>0.116082</td>\n",
       "      <td>0.020351</td>\n",
       "      <td>0.001260</td>\n",
       "      <td>0.096243</td>\n",
       "      <td>0.903757</td>\n",
       "      <td>0.012703</td>\n",
       "      <td>...</td>\n",
       "      <td>0.633738</td>\n",
       "      <td>0.067519</td>\n",
       "      <td>0.015882</td>\n",
       "      <td>0.007009</td>\n",
       "      <td>0.007419</td>\n",
       "      <td>0.034150</td>\n",
       "      <td>0.659273</td>\n",
       "      <td>0.005911</td>\n",
       "      <td>1.675643e-05</td>\n",
       "      <td>0.025348</td>\n",
       "    </tr>\n",
       "    <tr>\n",
       "      <th>101</th>\n",
       "      <td>VIDEOIND</td>\n",
       "      <td>0.937077</td>\n",
       "      <td>0.942792</td>\n",
       "      <td>0.000012</td>\n",
       "      <td>0.005441</td>\n",
       "      <td>0.025377</td>\n",
       "      <td>0.000945</td>\n",
       "      <td>0.044011</td>\n",
       "      <td>0.955989</td>\n",
       "      <td>0.000468</td>\n",
       "      <td>...</td>\n",
       "      <td>0.611553</td>\n",
       "      <td>0.067515</td>\n",
       "      <td>0.002191</td>\n",
       "      <td>0.002670</td>\n",
       "      <td>0.025968</td>\n",
       "      <td>0.043861</td>\n",
       "      <td>0.693049</td>\n",
       "      <td>0.000612</td>\n",
       "      <td>2.037702e-04</td>\n",
       "      <td>0.001331</td>\n",
       "    </tr>\n",
       "    <tr>\n",
       "      <th>102</th>\n",
       "      <td>Wipro</td>\n",
       "      <td>0.982797</td>\n",
       "      <td>0.968001</td>\n",
       "      <td>0.039448</td>\n",
       "      <td>0.233676</td>\n",
       "      <td>0.302072</td>\n",
       "      <td>0.022450</td>\n",
       "      <td>0.012003</td>\n",
       "      <td>0.987997</td>\n",
       "      <td>0.105493</td>\n",
       "      <td>...</td>\n",
       "      <td>0.710548</td>\n",
       "      <td>0.067519</td>\n",
       "      <td>0.156900</td>\n",
       "      <td>0.129840</td>\n",
       "      <td>0.207370</td>\n",
       "      <td>0.008183</td>\n",
       "      <td>0.729564</td>\n",
       "      <td>0.093603</td>\n",
       "      <td>5.359066e-04</td>\n",
       "      <td>0.098342</td>\n",
       "    </tr>\n",
       "    <tr>\n",
       "      <th>103</th>\n",
       "      <td>Zee Entertainment Enterprises</td>\n",
       "      <td>0.993474</td>\n",
       "      <td>0.961107</td>\n",
       "      <td>0.042843</td>\n",
       "      <td>0.178053</td>\n",
       "      <td>0.525683</td>\n",
       "      <td>0.010477</td>\n",
       "      <td>0.007711</td>\n",
       "      <td>0.992289</td>\n",
       "      <td>0.095131</td>\n",
       "      <td>...</td>\n",
       "      <td>0.687945</td>\n",
       "      <td>0.068923</td>\n",
       "      <td>0.000000</td>\n",
       "      <td>0.000000</td>\n",
       "      <td>0.468530</td>\n",
       "      <td>0.006874</td>\n",
       "      <td>0.791300</td>\n",
       "      <td>0.109707</td>\n",
       "      <td>1.714318e-03</td>\n",
       "      <td>0.192024</td>\n",
       "    </tr>\n",
       "  </tbody>\n",
       "</table>\n",
       "<p>104 rows × 22 columns</p>\n",
       "</div>"
      ],
      "text/plain": [
       "                         Companies  Net Working Capital/ Tot Assets  \\\n",
       "0                          ABGSHIP                         0.968113   \n",
       "1                Adani Enterprises                         0.968964   \n",
       "2               Adani Green Energy                         0.970560   \n",
       "3                          ADHUNIK                         0.938283   \n",
       "4                         ALOKTEXT                         0.966339   \n",
       "..                             ...                              ...   \n",
       "99                         Vedanta                         0.965914   \n",
       "100                        VICEROY                         0.943142   \n",
       "101                       VIDEOIND                         0.937077   \n",
       "102                          Wipro                         0.982797   \n",
       "103  Zee Entertainment Enterprises                         0.993474   \n",
       "\n",
       "     EBIDTA/ Total Assets  Market Cap/ Total Debt  Revenue/Tot Assets  \\\n",
       "0                0.936722                0.000006            0.000302   \n",
       "1                0.957712                0.010590            0.292322   \n",
       "2                0.954625                0.012927            0.034160   \n",
       "3                0.952361                0.000000            0.000000   \n",
       "4                0.942484                0.001360            0.281137   \n",
       "..                    ...                     ...                 ...   \n",
       "99               0.965737                0.008079            0.224002   \n",
       "100              0.957300                0.000076            0.116082   \n",
       "101              0.942792                0.000012            0.005441   \n",
       "102              0.968001                0.039448            0.233676   \n",
       "103              0.961107                0.042843            0.178053   \n",
       "\n",
       "     Current Ratio  Quick Ratio  D/A Ratio  Equity/Tot Assets  \\\n",
       "0         0.109967     0.002599   0.045357           0.954643   \n",
       "1         0.101018     0.005199   0.027934           0.972066   \n",
       "2         0.112787     0.007168   0.032954           0.967046   \n",
       "3         0.011769     0.000394   0.072528           0.927472   \n",
       "4         0.077847     0.002048   0.122868           0.877132   \n",
       "..             ...          ...        ...                ...   \n",
       "99        0.083609     0.003545   0.028807           0.971193   \n",
       "100       0.020351     0.001260   0.096243           0.903757   \n",
       "101       0.025377     0.000945   0.044011           0.955989   \n",
       "102       0.302072     0.022450   0.012003           0.987997   \n",
       "103       0.525683     0.010477   0.007711           0.992289   \n",
       "\n",
       "     Gross Rev/ Curr Liabilities  ...  EBIDTA/ Tot Liabilities  \\\n",
       "0                       0.000031  ...                 0.602344   \n",
       "1                       0.095318  ...                 0.639389   \n",
       "2                       0.028184  ...                 0.631226   \n",
       "3                       0.000000  ...                 0.629343   \n",
       "4                       0.081429  ...                 0.624529   \n",
       "..                           ...  ...                      ...   \n",
       "99                      0.051561  ...                 0.661155   \n",
       "100                     0.012703  ...                 0.633738   \n",
       "101                     0.000468  ...                 0.611553   \n",
       "102                     0.105493  ...                 0.710548   \n",
       "103                     0.095131  ...                 0.687945   \n",
       "\n",
       "     Net Profit/ Operating Expenses  Operating Expense/ Current Liabilities  \\\n",
       "0                          0.064790                                0.000000   \n",
       "1                          0.067519                                0.092278   \n",
       "2                          0.057905                                0.000000   \n",
       "3                          0.130066                                0.000000   \n",
       "4                          0.041875                                0.000000   \n",
       "..                              ...                                     ...   \n",
       "99                         0.067519                                0.096386   \n",
       "100                        0.067519                                0.015882   \n",
       "101                        0.067515                                0.002191   \n",
       "102                        0.067519                                0.156900   \n",
       "103                        0.068923                                0.000000   \n",
       "\n",
       "     Operating Expenses/ Total Liabilities  Current Assets/ Total Liabilities  \\\n",
       "0                                 0.000000                           0.071102   \n",
       "1                                 0.048732                           0.044145   \n",
       "2                                 0.000000                           0.015952   \n",
       "3                                 0.000000                           0.006306   \n",
       "4                                 0.000000                           0.008161   \n",
       "..                                     ...                                ...   \n",
       "99                                0.070427                           0.050822   \n",
       "100                               0.007009                           0.007419   \n",
       "101                               0.002670                           0.025968   \n",
       "102                               0.129840                           0.207370   \n",
       "103                               0.000000                           0.468530   \n",
       "\n",
       "     Current Liabilities/ Total Assets  Equity/Fixed Assets  \\\n",
       "0                             0.028986             0.680448   \n",
       "1                             0.011383             0.705067   \n",
       "2                             0.004401             0.700920   \n",
       "3                             0.037024             0.676463   \n",
       "4                             0.012838             0.636708   \n",
       "..                                 ...                  ...   \n",
       "99                            0.016148             0.704765   \n",
       "100                           0.034150             0.659273   \n",
       "101                           0.043861             0.693049   \n",
       "102                           0.008183             0.729564   \n",
       "103                           0.006874             0.791300   \n",
       "\n",
       "     Revenue/Liabilities  Revenue/Short-term Liabilities  Revenue/Fixed Assets  \n",
       "0               0.000041                    1.496110e-07              0.000166  \n",
       "1               0.053855                    1.740724e-04              0.072716  \n",
       "2               0.005178                    1.107121e-05              0.007100  \n",
       "3               0.000000                    0.000000e+00              0.000000  \n",
       "4               0.011211                    2.296529e-05              0.066837  \n",
       "..                   ...                             ...                   ...  \n",
       "99              0.040360                    1.846948e-04              0.059349  \n",
       "100             0.005911                    1.675643e-05              0.025348  \n",
       "101             0.000612                    2.037702e-04              0.001331  \n",
       "102             0.093603                    5.359066e-04              0.098342  \n",
       "103             0.109707                    1.714318e-03              0.192024  \n",
       "\n",
       "[104 rows x 22 columns]"
      ]
     },
     "execution_count": 13,
     "metadata": {},
     "output_type": "execute_result"
    }
   ],
   "source": [
    "selected_data"
   ]
  },
  {
   "cell_type": "code",
   "execution_count": 14,
   "id": "eb9a2326",
   "metadata": {},
   "outputs": [],
   "source": [
    "# Save the selected features to a new CSV file\n",
    "selected_data.to_csv('sf_new.csv', index=False)"
   ]
  },
  {
   "cell_type": "markdown",
   "id": "16b19817",
   "metadata": {},
   "source": [
    "**CORRELATION ANALYSIS**"
   ]
  },
  {
   "cell_type": "code",
   "execution_count": 15,
   "id": "d745481d",
   "metadata": {},
   "outputs": [],
   "source": [
    "norm_data=norm_features.copy()\n",
    "norm_data['Label']=labels"
   ]
  },
  {
   "cell_type": "code",
   "execution_count": 16,
   "id": "39df4cba",
   "metadata": {},
   "outputs": [
    {
     "data": {
      "text/html": [
       "<div>\n",
       "<style scoped>\n",
       "    .dataframe tbody tr th:only-of-type {\n",
       "        vertical-align: middle;\n",
       "    }\n",
       "\n",
       "    .dataframe tbody tr th {\n",
       "        vertical-align: top;\n",
       "    }\n",
       "\n",
       "    .dataframe thead th {\n",
       "        text-align: right;\n",
       "    }\n",
       "</style>\n",
       "<table border=\"1\" class=\"dataframe\">\n",
       "  <thead>\n",
       "    <tr style=\"text-align: right;\">\n",
       "      <th></th>\n",
       "      <th>Net Working Capital/ Tot Assets</th>\n",
       "      <th>EBIDTA/ Total Assets</th>\n",
       "      <th>Market Cap/ Total Debt</th>\n",
       "      <th>Revenue/Tot Assets</th>\n",
       "      <th>Current Ratio</th>\n",
       "      <th>Quick Ratio</th>\n",
       "      <th>EBIDTA/ Revenue</th>\n",
       "      <th>D/A Ratio</th>\n",
       "      <th>D/E Ratio</th>\n",
       "      <th>Equity/Tot Assets</th>\n",
       "      <th>...</th>\n",
       "      <th>Operating Expenses/ Total Liabilities</th>\n",
       "      <th>Current Assets/ Total Liabilities</th>\n",
       "      <th>Current Liabilities/ Total Assets</th>\n",
       "      <th>Equity/Fixed Assets</th>\n",
       "      <th>Total Expenses/ Total Revenue</th>\n",
       "      <th>Long-tern Liabilities/ Equity</th>\n",
       "      <th>Revenue/Liabilities</th>\n",
       "      <th>Revenue/Short-term Liabilities</th>\n",
       "      <th>Revenue/Fixed Assets</th>\n",
       "      <th>Label</th>\n",
       "    </tr>\n",
       "  </thead>\n",
       "  <tbody>\n",
       "    <tr>\n",
       "      <th>0</th>\n",
       "      <td>0.968113</td>\n",
       "      <td>0.936722</td>\n",
       "      <td>0.000006</td>\n",
       "      <td>0.000302</td>\n",
       "      <td>0.109967</td>\n",
       "      <td>0.002599</td>\n",
       "      <td>0.952514</td>\n",
       "      <td>0.045357</td>\n",
       "      <td>0.891719</td>\n",
       "      <td>0.954643</td>\n",
       "      <td>...</td>\n",
       "      <td>0.000000</td>\n",
       "      <td>0.071102</td>\n",
       "      <td>0.028986</td>\n",
       "      <td>0.680448</td>\n",
       "      <td>0.078505</td>\n",
       "      <td>0.886010</td>\n",
       "      <td>0.000041</td>\n",
       "      <td>1.496110e-07</td>\n",
       "      <td>0.000166</td>\n",
       "      <td>1</td>\n",
       "    </tr>\n",
       "    <tr>\n",
       "      <th>1</th>\n",
       "      <td>0.968964</td>\n",
       "      <td>0.957712</td>\n",
       "      <td>0.010590</td>\n",
       "      <td>0.292322</td>\n",
       "      <td>0.101018</td>\n",
       "      <td>0.005199</td>\n",
       "      <td>0.999769</td>\n",
       "      <td>0.027934</td>\n",
       "      <td>0.900323</td>\n",
       "      <td>0.972066</td>\n",
       "      <td>...</td>\n",
       "      <td>0.048732</td>\n",
       "      <td>0.044145</td>\n",
       "      <td>0.011383</td>\n",
       "      <td>0.705067</td>\n",
       "      <td>0.000183</td>\n",
       "      <td>0.915449</td>\n",
       "      <td>0.053855</td>\n",
       "      <td>1.740724e-04</td>\n",
       "      <td>0.072716</td>\n",
       "      <td>0</td>\n",
       "    </tr>\n",
       "    <tr>\n",
       "      <th>2</th>\n",
       "      <td>0.970560</td>\n",
       "      <td>0.954625</td>\n",
       "      <td>0.012927</td>\n",
       "      <td>0.034160</td>\n",
       "      <td>0.112787</td>\n",
       "      <td>0.007168</td>\n",
       "      <td>0.999756</td>\n",
       "      <td>0.032954</td>\n",
       "      <td>0.907638</td>\n",
       "      <td>0.967046</td>\n",
       "      <td>...</td>\n",
       "      <td>0.000000</td>\n",
       "      <td>0.015952</td>\n",
       "      <td>0.004401</td>\n",
       "      <td>0.700920</td>\n",
       "      <td>0.000216</td>\n",
       "      <td>0.915643</td>\n",
       "      <td>0.005178</td>\n",
       "      <td>1.107121e-05</td>\n",
       "      <td>0.007100</td>\n",
       "      <td>0</td>\n",
       "    </tr>\n",
       "    <tr>\n",
       "      <th>3</th>\n",
       "      <td>0.938283</td>\n",
       "      <td>0.952361</td>\n",
       "      <td>0.000000</td>\n",
       "      <td>0.000000</td>\n",
       "      <td>0.011769</td>\n",
       "      <td>0.000394</td>\n",
       "      <td>0.000000</td>\n",
       "      <td>0.072528</td>\n",
       "      <td>0.894802</td>\n",
       "      <td>0.927472</td>\n",
       "      <td>...</td>\n",
       "      <td>0.000000</td>\n",
       "      <td>0.006306</td>\n",
       "      <td>0.037024</td>\n",
       "      <td>0.676463</td>\n",
       "      <td>1.000000</td>\n",
       "      <td>0.899767</td>\n",
       "      <td>0.000000</td>\n",
       "      <td>0.000000e+00</td>\n",
       "      <td>0.000000</td>\n",
       "      <td>1</td>\n",
       "    </tr>\n",
       "    <tr>\n",
       "      <th>4</th>\n",
       "      <td>0.966339</td>\n",
       "      <td>0.942484</td>\n",
       "      <td>0.001360</td>\n",
       "      <td>0.281137</td>\n",
       "      <td>0.077847</td>\n",
       "      <td>0.002048</td>\n",
       "      <td>0.999735</td>\n",
       "      <td>0.122868</td>\n",
       "      <td>0.895412</td>\n",
       "      <td>0.877132</td>\n",
       "      <td>...</td>\n",
       "      <td>0.000000</td>\n",
       "      <td>0.008161</td>\n",
       "      <td>0.012838</td>\n",
       "      <td>0.636708</td>\n",
       "      <td>0.000219</td>\n",
       "      <td>0.905401</td>\n",
       "      <td>0.011211</td>\n",
       "      <td>2.296529e-05</td>\n",
       "      <td>0.066837</td>\n",
       "      <td>1</td>\n",
       "    </tr>\n",
       "    <tr>\n",
       "      <th>...</th>\n",
       "      <td>...</td>\n",
       "      <td>...</td>\n",
       "      <td>...</td>\n",
       "      <td>...</td>\n",
       "      <td>...</td>\n",
       "      <td>...</td>\n",
       "      <td>...</td>\n",
       "      <td>...</td>\n",
       "      <td>...</td>\n",
       "      <td>...</td>\n",
       "      <td>...</td>\n",
       "      <td>...</td>\n",
       "      <td>...</td>\n",
       "      <td>...</td>\n",
       "      <td>...</td>\n",
       "      <td>...</td>\n",
       "      <td>...</td>\n",
       "      <td>...</td>\n",
       "      <td>...</td>\n",
       "      <td>...</td>\n",
       "      <td>...</td>\n",
       "    </tr>\n",
       "    <tr>\n",
       "      <th>99</th>\n",
       "      <td>0.965914</td>\n",
       "      <td>0.965737</td>\n",
       "      <td>0.008079</td>\n",
       "      <td>0.224002</td>\n",
       "      <td>0.083609</td>\n",
       "      <td>0.003545</td>\n",
       "      <td>0.999794</td>\n",
       "      <td>0.028807</td>\n",
       "      <td>0.900824</td>\n",
       "      <td>0.971193</td>\n",
       "      <td>...</td>\n",
       "      <td>0.070427</td>\n",
       "      <td>0.050822</td>\n",
       "      <td>0.016148</td>\n",
       "      <td>0.704765</td>\n",
       "      <td>0.000164</td>\n",
       "      <td>0.920793</td>\n",
       "      <td>0.040360</td>\n",
       "      <td>1.846948e-04</td>\n",
       "      <td>0.059349</td>\n",
       "      <td>0</td>\n",
       "    </tr>\n",
       "    <tr>\n",
       "      <th>100</th>\n",
       "      <td>0.943142</td>\n",
       "      <td>0.957300</td>\n",
       "      <td>0.000076</td>\n",
       "      <td>0.116082</td>\n",
       "      <td>0.020351</td>\n",
       "      <td>0.001260</td>\n",
       "      <td>0.999775</td>\n",
       "      <td>0.096243</td>\n",
       "      <td>0.895217</td>\n",
       "      <td>0.903757</td>\n",
       "      <td>...</td>\n",
       "      <td>0.007009</td>\n",
       "      <td>0.007419</td>\n",
       "      <td>0.034150</td>\n",
       "      <td>0.659273</td>\n",
       "      <td>0.000188</td>\n",
       "      <td>0.902674</td>\n",
       "      <td>0.005911</td>\n",
       "      <td>1.675643e-05</td>\n",
       "      <td>0.025348</td>\n",
       "      <td>1</td>\n",
       "    </tr>\n",
       "    <tr>\n",
       "      <th>101</th>\n",
       "      <td>0.937077</td>\n",
       "      <td>0.942792</td>\n",
       "      <td>0.000012</td>\n",
       "      <td>0.005441</td>\n",
       "      <td>0.025377</td>\n",
       "      <td>0.000945</td>\n",
       "      <td>0.998333</td>\n",
       "      <td>0.044011</td>\n",
       "      <td>0.891010</td>\n",
       "      <td>0.955989</td>\n",
       "      <td>...</td>\n",
       "      <td>0.002670</td>\n",
       "      <td>0.025968</td>\n",
       "      <td>0.043861</td>\n",
       "      <td>0.693049</td>\n",
       "      <td>0.002522</td>\n",
       "      <td>0.870340</td>\n",
       "      <td>0.000612</td>\n",
       "      <td>2.037702e-04</td>\n",
       "      <td>0.001331</td>\n",
       "      <td>1</td>\n",
       "    </tr>\n",
       "    <tr>\n",
       "      <th>102</th>\n",
       "      <td>0.982797</td>\n",
       "      <td>0.968001</td>\n",
       "      <td>0.039448</td>\n",
       "      <td>0.233676</td>\n",
       "      <td>0.302072</td>\n",
       "      <td>0.022450</td>\n",
       "      <td>0.999798</td>\n",
       "      <td>0.012003</td>\n",
       "      <td>0.897438</td>\n",
       "      <td>0.987997</td>\n",
       "      <td>...</td>\n",
       "      <td>0.129840</td>\n",
       "      <td>0.207370</td>\n",
       "      <td>0.008183</td>\n",
       "      <td>0.729564</td>\n",
       "      <td>0.000157</td>\n",
       "      <td>0.908593</td>\n",
       "      <td>0.093603</td>\n",
       "      <td>5.359066e-04</td>\n",
       "      <td>0.098342</td>\n",
       "      <td>0</td>\n",
       "    </tr>\n",
       "    <tr>\n",
       "      <th>103</th>\n",
       "      <td>0.993474</td>\n",
       "      <td>0.961107</td>\n",
       "      <td>0.042843</td>\n",
       "      <td>0.178053</td>\n",
       "      <td>0.525683</td>\n",
       "      <td>0.010477</td>\n",
       "      <td>0.999785</td>\n",
       "      <td>0.007711</td>\n",
       "      <td>0.897199</td>\n",
       "      <td>0.992289</td>\n",
       "      <td>...</td>\n",
       "      <td>0.000000</td>\n",
       "      <td>0.468530</td>\n",
       "      <td>0.006874</td>\n",
       "      <td>0.791300</td>\n",
       "      <td>0.000168</td>\n",
       "      <td>0.907960</td>\n",
       "      <td>0.109707</td>\n",
       "      <td>1.714318e-03</td>\n",
       "      <td>0.192024</td>\n",
       "      <td>0</td>\n",
       "    </tr>\n",
       "  </tbody>\n",
       "</table>\n",
       "<p>104 rows × 28 columns</p>\n",
       "</div>"
      ],
      "text/plain": [
       "     Net Working Capital/ Tot Assets  EBIDTA/ Total Assets  \\\n",
       "0                           0.968113              0.936722   \n",
       "1                           0.968964              0.957712   \n",
       "2                           0.970560              0.954625   \n",
       "3                           0.938283              0.952361   \n",
       "4                           0.966339              0.942484   \n",
       "..                               ...                   ...   \n",
       "99                          0.965914              0.965737   \n",
       "100                         0.943142              0.957300   \n",
       "101                         0.937077              0.942792   \n",
       "102                         0.982797              0.968001   \n",
       "103                         0.993474              0.961107   \n",
       "\n",
       "     Market Cap/ Total Debt  Revenue/Tot Assets  Current Ratio  Quick Ratio  \\\n",
       "0                  0.000006            0.000302       0.109967     0.002599   \n",
       "1                  0.010590            0.292322       0.101018     0.005199   \n",
       "2                  0.012927            0.034160       0.112787     0.007168   \n",
       "3                  0.000000            0.000000       0.011769     0.000394   \n",
       "4                  0.001360            0.281137       0.077847     0.002048   \n",
       "..                      ...                 ...            ...          ...   \n",
       "99                 0.008079            0.224002       0.083609     0.003545   \n",
       "100                0.000076            0.116082       0.020351     0.001260   \n",
       "101                0.000012            0.005441       0.025377     0.000945   \n",
       "102                0.039448            0.233676       0.302072     0.022450   \n",
       "103                0.042843            0.178053       0.525683     0.010477   \n",
       "\n",
       "     EBIDTA/ Revenue  D/A Ratio  D/E Ratio  Equity/Tot Assets  ...  \\\n",
       "0           0.952514   0.045357   0.891719           0.954643  ...   \n",
       "1           0.999769   0.027934   0.900323           0.972066  ...   \n",
       "2           0.999756   0.032954   0.907638           0.967046  ...   \n",
       "3           0.000000   0.072528   0.894802           0.927472  ...   \n",
       "4           0.999735   0.122868   0.895412           0.877132  ...   \n",
       "..               ...        ...        ...                ...  ...   \n",
       "99          0.999794   0.028807   0.900824           0.971193  ...   \n",
       "100         0.999775   0.096243   0.895217           0.903757  ...   \n",
       "101         0.998333   0.044011   0.891010           0.955989  ...   \n",
       "102         0.999798   0.012003   0.897438           0.987997  ...   \n",
       "103         0.999785   0.007711   0.897199           0.992289  ...   \n",
       "\n",
       "     Operating Expenses/ Total Liabilities  Current Assets/ Total Liabilities  \\\n",
       "0                                 0.000000                           0.071102   \n",
       "1                                 0.048732                           0.044145   \n",
       "2                                 0.000000                           0.015952   \n",
       "3                                 0.000000                           0.006306   \n",
       "4                                 0.000000                           0.008161   \n",
       "..                                     ...                                ...   \n",
       "99                                0.070427                           0.050822   \n",
       "100                               0.007009                           0.007419   \n",
       "101                               0.002670                           0.025968   \n",
       "102                               0.129840                           0.207370   \n",
       "103                               0.000000                           0.468530   \n",
       "\n",
       "     Current Liabilities/ Total Assets  Equity/Fixed Assets  \\\n",
       "0                             0.028986             0.680448   \n",
       "1                             0.011383             0.705067   \n",
       "2                             0.004401             0.700920   \n",
       "3                             0.037024             0.676463   \n",
       "4                             0.012838             0.636708   \n",
       "..                                 ...                  ...   \n",
       "99                            0.016148             0.704765   \n",
       "100                           0.034150             0.659273   \n",
       "101                           0.043861             0.693049   \n",
       "102                           0.008183             0.729564   \n",
       "103                           0.006874             0.791300   \n",
       "\n",
       "     Total Expenses/ Total Revenue  Long-tern Liabilities/ Equity  \\\n",
       "0                         0.078505                       0.886010   \n",
       "1                         0.000183                       0.915449   \n",
       "2                         0.000216                       0.915643   \n",
       "3                         1.000000                       0.899767   \n",
       "4                         0.000219                       0.905401   \n",
       "..                             ...                            ...   \n",
       "99                        0.000164                       0.920793   \n",
       "100                       0.000188                       0.902674   \n",
       "101                       0.002522                       0.870340   \n",
       "102                       0.000157                       0.908593   \n",
       "103                       0.000168                       0.907960   \n",
       "\n",
       "     Revenue/Liabilities  Revenue/Short-term Liabilities  \\\n",
       "0               0.000041                    1.496110e-07   \n",
       "1               0.053855                    1.740724e-04   \n",
       "2               0.005178                    1.107121e-05   \n",
       "3               0.000000                    0.000000e+00   \n",
       "4               0.011211                    2.296529e-05   \n",
       "..                   ...                             ...   \n",
       "99              0.040360                    1.846948e-04   \n",
       "100             0.005911                    1.675643e-05   \n",
       "101             0.000612                    2.037702e-04   \n",
       "102             0.093603                    5.359066e-04   \n",
       "103             0.109707                    1.714318e-03   \n",
       "\n",
       "     Revenue/Fixed Assets  Label  \n",
       "0                0.000166      1  \n",
       "1                0.072716      0  \n",
       "2                0.007100      0  \n",
       "3                0.000000      1  \n",
       "4                0.066837      1  \n",
       "..                    ...    ...  \n",
       "99               0.059349      0  \n",
       "100              0.025348      1  \n",
       "101              0.001331      1  \n",
       "102              0.098342      0  \n",
       "103              0.192024      0  \n",
       "\n",
       "[104 rows x 28 columns]"
      ]
     },
     "execution_count": 16,
     "metadata": {},
     "output_type": "execute_result"
    }
   ],
   "source": [
    "norm_data"
   ]
  },
  {
   "cell_type": "code",
   "execution_count": 17,
   "id": "c4b6fa17",
   "metadata": {},
   "outputs": [],
   "source": [
    "corr_mat=norm_data.corr()"
   ]
  },
  {
   "cell_type": "code",
   "execution_count": 18,
   "id": "fe1c755f",
   "metadata": {
    "scrolled": true
   },
   "outputs": [
    {
     "data": {
      "text/html": [
       "<div>\n",
       "<style scoped>\n",
       "    .dataframe tbody tr th:only-of-type {\n",
       "        vertical-align: middle;\n",
       "    }\n",
       "\n",
       "    .dataframe tbody tr th {\n",
       "        vertical-align: top;\n",
       "    }\n",
       "\n",
       "    .dataframe thead th {\n",
       "        text-align: right;\n",
       "    }\n",
       "</style>\n",
       "<table border=\"1\" class=\"dataframe\">\n",
       "  <thead>\n",
       "    <tr style=\"text-align: right;\">\n",
       "      <th></th>\n",
       "      <th>Net Working Capital/ Tot Assets</th>\n",
       "      <th>EBIDTA/ Total Assets</th>\n",
       "      <th>Market Cap/ Total Debt</th>\n",
       "      <th>Revenue/Tot Assets</th>\n",
       "      <th>Current Ratio</th>\n",
       "      <th>Quick Ratio</th>\n",
       "      <th>EBIDTA/ Revenue</th>\n",
       "      <th>D/A Ratio</th>\n",
       "      <th>D/E Ratio</th>\n",
       "      <th>Equity/Tot Assets</th>\n",
       "      <th>...</th>\n",
       "      <th>Operating Expenses/ Total Liabilities</th>\n",
       "      <th>Current Assets/ Total Liabilities</th>\n",
       "      <th>Current Liabilities/ Total Assets</th>\n",
       "      <th>Equity/Fixed Assets</th>\n",
       "      <th>Total Expenses/ Total Revenue</th>\n",
       "      <th>Long-tern Liabilities/ Equity</th>\n",
       "      <th>Revenue/Liabilities</th>\n",
       "      <th>Revenue/Short-term Liabilities</th>\n",
       "      <th>Revenue/Fixed Assets</th>\n",
       "      <th>Label</th>\n",
       "    </tr>\n",
       "  </thead>\n",
       "  <tbody>\n",
       "    <tr>\n",
       "      <th>Net Working Capital/ Tot Assets</th>\n",
       "      <td>1.000000</td>\n",
       "      <td>0.857796</td>\n",
       "      <td>0.112063</td>\n",
       "      <td>0.032850</td>\n",
       "      <td>0.285410</td>\n",
       "      <td>0.069551</td>\n",
       "      <td>0.003421</td>\n",
       "      <td>-0.986025</td>\n",
       "      <td>-0.039981</td>\n",
       "      <td>0.986025</td>\n",
       "      <td>...</td>\n",
       "      <td>0.090296</td>\n",
       "      <td>0.225199</td>\n",
       "      <td>-0.996011</td>\n",
       "      <td>0.836786</td>\n",
       "      <td>-0.002699</td>\n",
       "      <td>-0.018233</td>\n",
       "      <td>0.145679</td>\n",
       "      <td>-0.493492</td>\n",
       "      <td>0.147019</td>\n",
       "      <td>-0.271055</td>\n",
       "    </tr>\n",
       "    <tr>\n",
       "      <th>EBIDTA/ Total Assets</th>\n",
       "      <td>0.857796</td>\n",
       "      <td>1.000000</td>\n",
       "      <td>0.111309</td>\n",
       "      <td>0.063290</td>\n",
       "      <td>0.205278</td>\n",
       "      <td>0.043261</td>\n",
       "      <td>-0.012417</td>\n",
       "      <td>-0.846687</td>\n",
       "      <td>-0.009089</td>\n",
       "      <td>0.846687</td>\n",
       "      <td>...</td>\n",
       "      <td>0.104961</td>\n",
       "      <td>0.188877</td>\n",
       "      <td>-0.853743</td>\n",
       "      <td>0.618074</td>\n",
       "      <td>0.012664</td>\n",
       "      <td>0.008109</td>\n",
       "      <td>0.154452</td>\n",
       "      <td>-0.580564</td>\n",
       "      <td>0.101362</td>\n",
       "      <td>-0.265592</td>\n",
       "    </tr>\n",
       "    <tr>\n",
       "      <th>Market Cap/ Total Debt</th>\n",
       "      <td>0.112063</td>\n",
       "      <td>0.111309</td>\n",
       "      <td>1.000000</td>\n",
       "      <td>0.191571</td>\n",
       "      <td>0.640197</td>\n",
       "      <td>0.344426</td>\n",
       "      <td>0.044907</td>\n",
       "      <td>-0.148144</td>\n",
       "      <td>0.029042</td>\n",
       "      <td>0.148144</td>\n",
       "      <td>...</td>\n",
       "      <td>0.144753</td>\n",
       "      <td>0.812784</td>\n",
       "      <td>-0.112743</td>\n",
       "      <td>0.151093</td>\n",
       "      <td>-0.045844</td>\n",
       "      <td>0.041275</td>\n",
       "      <td>0.583899</td>\n",
       "      <td>-0.068445</td>\n",
       "      <td>0.104172</td>\n",
       "      <td>-0.374484</td>\n",
       "    </tr>\n",
       "    <tr>\n",
       "      <th>Revenue/Tot Assets</th>\n",
       "      <td>0.032850</td>\n",
       "      <td>0.063290</td>\n",
       "      <td>0.191571</td>\n",
       "      <td>1.000000</td>\n",
       "      <td>0.109737</td>\n",
       "      <td>-0.066761</td>\n",
       "      <td>0.119365</td>\n",
       "      <td>-0.052492</td>\n",
       "      <td>0.065951</td>\n",
       "      <td>0.052492</td>\n",
       "      <td>...</td>\n",
       "      <td>0.244300</td>\n",
       "      <td>0.192173</td>\n",
       "      <td>-0.016586</td>\n",
       "      <td>0.082700</td>\n",
       "      <td>-0.122008</td>\n",
       "      <td>0.081787</td>\n",
       "      <td>0.551984</td>\n",
       "      <td>0.154412</td>\n",
       "      <td>0.563356</td>\n",
       "      <td>-0.187684</td>\n",
       "    </tr>\n",
       "    <tr>\n",
       "      <th>Current Ratio</th>\n",
       "      <td>0.285410</td>\n",
       "      <td>0.205278</td>\n",
       "      <td>0.640197</td>\n",
       "      <td>0.109737</td>\n",
       "      <td>1.000000</td>\n",
       "      <td>0.253731</td>\n",
       "      <td>0.104480</td>\n",
       "      <td>-0.273468</td>\n",
       "      <td>-0.346415</td>\n",
       "      <td>0.273468</td>\n",
       "      <td>...</td>\n",
       "      <td>0.087538</td>\n",
       "      <td>0.804722</td>\n",
       "      <td>-0.264509</td>\n",
       "      <td>0.340372</td>\n",
       "      <td>-0.104816</td>\n",
       "      <td>-0.331074</td>\n",
       "      <td>0.355327</td>\n",
       "      <td>-0.157181</td>\n",
       "      <td>0.262095</td>\n",
       "      <td>-0.450893</td>\n",
       "    </tr>\n",
       "    <tr>\n",
       "      <th>Quick Ratio</th>\n",
       "      <td>0.069551</td>\n",
       "      <td>0.043261</td>\n",
       "      <td>0.344426</td>\n",
       "      <td>-0.066761</td>\n",
       "      <td>0.253731</td>\n",
       "      <td>1.000000</td>\n",
       "      <td>0.024003</td>\n",
       "      <td>-0.054351</td>\n",
       "      <td>-0.022226</td>\n",
       "      <td>0.054351</td>\n",
       "      <td>...</td>\n",
       "      <td>0.011526</td>\n",
       "      <td>0.239270</td>\n",
       "      <td>-0.052891</td>\n",
       "      <td>0.160899</td>\n",
       "      <td>-0.024448</td>\n",
       "      <td>0.000151</td>\n",
       "      <td>-0.023515</td>\n",
       "      <td>-0.036979</td>\n",
       "      <td>0.284247</td>\n",
       "      <td>-0.175444</td>\n",
       "    </tr>\n",
       "    <tr>\n",
       "      <th>EBIDTA/ Revenue</th>\n",
       "      <td>0.003421</td>\n",
       "      <td>-0.012417</td>\n",
       "      <td>0.044907</td>\n",
       "      <td>0.119365</td>\n",
       "      <td>0.104480</td>\n",
       "      <td>0.024003</td>\n",
       "      <td>1.000000</td>\n",
       "      <td>-0.011944</td>\n",
       "      <td>-0.008296</td>\n",
       "      <td>0.011944</td>\n",
       "      <td>...</td>\n",
       "      <td>0.044041</td>\n",
       "      <td>0.089402</td>\n",
       "      <td>0.009448</td>\n",
       "      <td>0.015547</td>\n",
       "      <td>-0.999528</td>\n",
       "      <td>-0.007278</td>\n",
       "      <td>0.064165</td>\n",
       "      <td>0.024270</td>\n",
       "      <td>0.082080</td>\n",
       "      <td>-0.112999</td>\n",
       "    </tr>\n",
       "    <tr>\n",
       "      <th>D/A Ratio</th>\n",
       "      <td>-0.986025</td>\n",
       "      <td>-0.846687</td>\n",
       "      <td>-0.148144</td>\n",
       "      <td>-0.052492</td>\n",
       "      <td>-0.273468</td>\n",
       "      <td>-0.054351</td>\n",
       "      <td>-0.011944</td>\n",
       "      <td>1.000000</td>\n",
       "      <td>0.007323</td>\n",
       "      <td>-1.000000</td>\n",
       "      <td>...</td>\n",
       "      <td>-0.111596</td>\n",
       "      <td>-0.258009</td>\n",
       "      <td>0.984525</td>\n",
       "      <td>-0.841025</td>\n",
       "      <td>0.011695</td>\n",
       "      <td>-0.012419</td>\n",
       "      <td>-0.178655</td>\n",
       "      <td>0.482012</td>\n",
       "      <td>-0.122184</td>\n",
       "      <td>0.301367</td>\n",
       "    </tr>\n",
       "    <tr>\n",
       "      <th>D/E Ratio</th>\n",
       "      <td>-0.039981</td>\n",
       "      <td>-0.009089</td>\n",
       "      <td>0.029042</td>\n",
       "      <td>0.065951</td>\n",
       "      <td>-0.346415</td>\n",
       "      <td>-0.022226</td>\n",
       "      <td>-0.008296</td>\n",
       "      <td>0.007323</td>\n",
       "      <td>1.000000</td>\n",
       "      <td>-0.007323</td>\n",
       "      <td>...</td>\n",
       "      <td>0.024964</td>\n",
       "      <td>-0.022204</td>\n",
       "      <td>0.021284</td>\n",
       "      <td>0.006728</td>\n",
       "      <td>0.008322</td>\n",
       "      <td>0.981627</td>\n",
       "      <td>0.039554</td>\n",
       "      <td>0.011437</td>\n",
       "      <td>-0.117602</td>\n",
       "      <td>-0.116172</td>\n",
       "    </tr>\n",
       "    <tr>\n",
       "      <th>Equity/Tot Assets</th>\n",
       "      <td>0.986025</td>\n",
       "      <td>0.846687</td>\n",
       "      <td>0.148144</td>\n",
       "      <td>0.052492</td>\n",
       "      <td>0.273468</td>\n",
       "      <td>0.054351</td>\n",
       "      <td>0.011944</td>\n",
       "      <td>-1.000000</td>\n",
       "      <td>-0.007323</td>\n",
       "      <td>1.000000</td>\n",
       "      <td>...</td>\n",
       "      <td>0.111596</td>\n",
       "      <td>0.258009</td>\n",
       "      <td>-0.984525</td>\n",
       "      <td>0.841025</td>\n",
       "      <td>-0.011695</td>\n",
       "      <td>0.012419</td>\n",
       "      <td>0.178655</td>\n",
       "      <td>-0.482012</td>\n",
       "      <td>0.122184</td>\n",
       "      <td>-0.301367</td>\n",
       "    </tr>\n",
       "    <tr>\n",
       "      <th>Gross Rev/ Curr Liabilities</th>\n",
       "      <td>0.154293</td>\n",
       "      <td>0.107809</td>\n",
       "      <td>0.403770</td>\n",
       "      <td>0.401695</td>\n",
       "      <td>0.406154</td>\n",
       "      <td>-0.034389</td>\n",
       "      <td>0.067429</td>\n",
       "      <td>-0.148944</td>\n",
       "      <td>0.057774</td>\n",
       "      <td>0.148944</td>\n",
       "      <td>...</td>\n",
       "      <td>0.031004</td>\n",
       "      <td>0.208183</td>\n",
       "      <td>-0.166935</td>\n",
       "      <td>0.124347</td>\n",
       "      <td>-0.068850</td>\n",
       "      <td>0.050167</td>\n",
       "      <td>0.749997</td>\n",
       "      <td>-0.085425</td>\n",
       "      <td>0.107103</td>\n",
       "      <td>-0.312277</td>\n",
       "    </tr>\n",
       "    <tr>\n",
       "      <th>EBIDTA/ Assets</th>\n",
       "      <td>0.857796</td>\n",
       "      <td>1.000000</td>\n",
       "      <td>0.111309</td>\n",
       "      <td>0.063290</td>\n",
       "      <td>0.205278</td>\n",
       "      <td>0.043261</td>\n",
       "      <td>-0.012417</td>\n",
       "      <td>-0.846687</td>\n",
       "      <td>-0.009089</td>\n",
       "      <td>0.846687</td>\n",
       "      <td>...</td>\n",
       "      <td>0.104961</td>\n",
       "      <td>0.188877</td>\n",
       "      <td>-0.853743</td>\n",
       "      <td>0.618074</td>\n",
       "      <td>0.012664</td>\n",
       "      <td>0.008109</td>\n",
       "      <td>0.154452</td>\n",
       "      <td>-0.580564</td>\n",
       "      <td>0.101362</td>\n",
       "      <td>-0.265592</td>\n",
       "    </tr>\n",
       "    <tr>\n",
       "      <th>Equity-ShareCapital/ Total Assets</th>\n",
       "      <td>0.985471</td>\n",
       "      <td>0.841481</td>\n",
       "      <td>0.150465</td>\n",
       "      <td>0.054916</td>\n",
       "      <td>0.278445</td>\n",
       "      <td>0.056752</td>\n",
       "      <td>0.011814</td>\n",
       "      <td>-0.998754</td>\n",
       "      <td>-0.006714</td>\n",
       "      <td>0.998754</td>\n",
       "      <td>...</td>\n",
       "      <td>0.112931</td>\n",
       "      <td>0.261203</td>\n",
       "      <td>-0.983301</td>\n",
       "      <td>0.839946</td>\n",
       "      <td>-0.011540</td>\n",
       "      <td>0.013512</td>\n",
       "      <td>0.181839</td>\n",
       "      <td>-0.476692</td>\n",
       "      <td>0.125298</td>\n",
       "      <td>-0.312043</td>\n",
       "    </tr>\n",
       "    <tr>\n",
       "      <th>EBIDTA/ Tot Liabilities</th>\n",
       "      <td>0.201712</td>\n",
       "      <td>0.372320</td>\n",
       "      <td>0.408852</td>\n",
       "      <td>0.362888</td>\n",
       "      <td>0.401517</td>\n",
       "      <td>0.027436</td>\n",
       "      <td>0.037105</td>\n",
       "      <td>-0.204776</td>\n",
       "      <td>0.017514</td>\n",
       "      <td>0.204776</td>\n",
       "      <td>...</td>\n",
       "      <td>0.220112</td>\n",
       "      <td>0.435666</td>\n",
       "      <td>-0.191411</td>\n",
       "      <td>0.219587</td>\n",
       "      <td>-0.037608</td>\n",
       "      <td>0.041767</td>\n",
       "      <td>0.615257</td>\n",
       "      <td>-0.160427</td>\n",
       "      <td>0.171598</td>\n",
       "      <td>-0.546881</td>\n",
       "    </tr>\n",
       "    <tr>\n",
       "      <th>Net Profit/ Operating Expenses</th>\n",
       "      <td>0.123522</td>\n",
       "      <td>0.120890</td>\n",
       "      <td>0.036279</td>\n",
       "      <td>-0.039142</td>\n",
       "      <td>0.172885</td>\n",
       "      <td>-0.021465</td>\n",
       "      <td>-0.000906</td>\n",
       "      <td>-0.129594</td>\n",
       "      <td>0.103294</td>\n",
       "      <td>0.129594</td>\n",
       "      <td>...</td>\n",
       "      <td>-0.110342</td>\n",
       "      <td>0.031932</td>\n",
       "      <td>-0.131132</td>\n",
       "      <td>0.195789</td>\n",
       "      <td>0.000025</td>\n",
       "      <td>0.061029</td>\n",
       "      <td>0.083897</td>\n",
       "      <td>-0.082783</td>\n",
       "      <td>0.019144</td>\n",
       "      <td>-0.389352</td>\n",
       "    </tr>\n",
       "    <tr>\n",
       "      <th>Total Liabilities -Cash/ Sales</th>\n",
       "      <td>-0.004509</td>\n",
       "      <td>0.014325</td>\n",
       "      <td>-0.035695</td>\n",
       "      <td>-0.095942</td>\n",
       "      <td>-0.085867</td>\n",
       "      <td>-0.019250</td>\n",
       "      <td>-0.987587</td>\n",
       "      <td>0.015467</td>\n",
       "      <td>0.005340</td>\n",
       "      <td>-0.015467</td>\n",
       "      <td>...</td>\n",
       "      <td>-0.035244</td>\n",
       "      <td>-0.073335</td>\n",
       "      <td>-0.006367</td>\n",
       "      <td>-0.014860</td>\n",
       "      <td>0.986109</td>\n",
       "      <td>0.001814</td>\n",
       "      <td>-0.051300</td>\n",
       "      <td>-0.020956</td>\n",
       "      <td>-0.065769</td>\n",
       "      <td>0.090111</td>\n",
       "    </tr>\n",
       "    <tr>\n",
       "      <th>EBIT/Sales</th>\n",
       "      <td>0.002685</td>\n",
       "      <td>-0.012627</td>\n",
       "      <td>0.045880</td>\n",
       "      <td>0.122033</td>\n",
       "      <td>0.104921</td>\n",
       "      <td>0.024462</td>\n",
       "      <td>0.999509</td>\n",
       "      <td>-0.011675</td>\n",
       "      <td>-0.008319</td>\n",
       "      <td>0.011675</td>\n",
       "      <td>...</td>\n",
       "      <td>0.044989</td>\n",
       "      <td>0.089962</td>\n",
       "      <td>0.009875</td>\n",
       "      <td>0.015862</td>\n",
       "      <td>-0.999998</td>\n",
       "      <td>-0.006827</td>\n",
       "      <td>0.065583</td>\n",
       "      <td>0.024846</td>\n",
       "      <td>0.083885</td>\n",
       "      <td>-0.115452</td>\n",
       "    </tr>\n",
       "    <tr>\n",
       "      <th>Operating Expense/ Current Liabilities</th>\n",
       "      <td>0.102659</td>\n",
       "      <td>0.105212</td>\n",
       "      <td>0.057223</td>\n",
       "      <td>0.232020</td>\n",
       "      <td>0.153073</td>\n",
       "      <td>0.015422</td>\n",
       "      <td>0.044166</td>\n",
       "      <td>-0.105668</td>\n",
       "      <td>0.002528</td>\n",
       "      <td>0.105668</td>\n",
       "      <td>...</td>\n",
       "      <td>0.872409</td>\n",
       "      <td>0.200720</td>\n",
       "      <td>-0.079722</td>\n",
       "      <td>0.141007</td>\n",
       "      <td>-0.045105</td>\n",
       "      <td>0.018108</td>\n",
       "      <td>0.153254</td>\n",
       "      <td>-0.043360</td>\n",
       "      <td>0.323396</td>\n",
       "      <td>-0.154386</td>\n",
       "    </tr>\n",
       "    <tr>\n",
       "      <th>Operating Expenses/ Total Liabilities</th>\n",
       "      <td>0.090296</td>\n",
       "      <td>0.104961</td>\n",
       "      <td>0.144753</td>\n",
       "      <td>0.244300</td>\n",
       "      <td>0.087538</td>\n",
       "      <td>0.011526</td>\n",
       "      <td>0.044041</td>\n",
       "      <td>-0.111596</td>\n",
       "      <td>0.024964</td>\n",
       "      <td>0.111596</td>\n",
       "      <td>...</td>\n",
       "      <td>1.000000</td>\n",
       "      <td>0.271138</td>\n",
       "      <td>-0.064953</td>\n",
       "      <td>0.155310</td>\n",
       "      <td>-0.044996</td>\n",
       "      <td>0.039254</td>\n",
       "      <td>0.189793</td>\n",
       "      <td>-0.041912</td>\n",
       "      <td>0.313429</td>\n",
       "      <td>-0.190277</td>\n",
       "    </tr>\n",
       "    <tr>\n",
       "      <th>Current Assets/ Total Liabilities</th>\n",
       "      <td>0.225199</td>\n",
       "      <td>0.188877</td>\n",
       "      <td>0.812784</td>\n",
       "      <td>0.192173</td>\n",
       "      <td>0.804722</td>\n",
       "      <td>0.239270</td>\n",
       "      <td>0.089402</td>\n",
       "      <td>-0.258009</td>\n",
       "      <td>-0.022204</td>\n",
       "      <td>0.258009</td>\n",
       "      <td>...</td>\n",
       "      <td>0.271138</td>\n",
       "      <td>1.000000</td>\n",
       "      <td>-0.198343</td>\n",
       "      <td>0.318042</td>\n",
       "      <td>-0.089895</td>\n",
       "      <td>0.010398</td>\n",
       "      <td>0.423128</td>\n",
       "      <td>-0.119128</td>\n",
       "      <td>0.275230</td>\n",
       "      <td>-0.449780</td>\n",
       "    </tr>\n",
       "    <tr>\n",
       "      <th>Current Liabilities/ Total Assets</th>\n",
       "      <td>-0.996011</td>\n",
       "      <td>-0.853743</td>\n",
       "      <td>-0.112743</td>\n",
       "      <td>-0.016586</td>\n",
       "      <td>-0.264509</td>\n",
       "      <td>-0.052891</td>\n",
       "      <td>0.009448</td>\n",
       "      <td>0.984525</td>\n",
       "      <td>0.021284</td>\n",
       "      <td>-0.984525</td>\n",
       "      <td>...</td>\n",
       "      <td>-0.064953</td>\n",
       "      <td>-0.198343</td>\n",
       "      <td>1.000000</td>\n",
       "      <td>-0.824998</td>\n",
       "      <td>-0.009857</td>\n",
       "      <td>0.003430</td>\n",
       "      <td>-0.138616</td>\n",
       "      <td>0.500152</td>\n",
       "      <td>-0.089331</td>\n",
       "      <td>0.268278</td>\n",
       "    </tr>\n",
       "    <tr>\n",
       "      <th>Equity/Fixed Assets</th>\n",
       "      <td>0.836786</td>\n",
       "      <td>0.618074</td>\n",
       "      <td>0.151093</td>\n",
       "      <td>0.082700</td>\n",
       "      <td>0.340372</td>\n",
       "      <td>0.160899</td>\n",
       "      <td>0.015547</td>\n",
       "      <td>-0.841025</td>\n",
       "      <td>0.006728</td>\n",
       "      <td>0.841025</td>\n",
       "      <td>...</td>\n",
       "      <td>0.155310</td>\n",
       "      <td>0.318042</td>\n",
       "      <td>-0.824998</td>\n",
       "      <td>1.000000</td>\n",
       "      <td>-0.015872</td>\n",
       "      <td>0.044003</td>\n",
       "      <td>0.168195</td>\n",
       "      <td>-0.435216</td>\n",
       "      <td>0.327265</td>\n",
       "      <td>-0.387517</td>\n",
       "    </tr>\n",
       "    <tr>\n",
       "      <th>Total Expenses/ Total Revenue</th>\n",
       "      <td>-0.002699</td>\n",
       "      <td>0.012664</td>\n",
       "      <td>-0.045844</td>\n",
       "      <td>-0.122008</td>\n",
       "      <td>-0.104816</td>\n",
       "      <td>-0.024448</td>\n",
       "      <td>-0.999528</td>\n",
       "      <td>0.011695</td>\n",
       "      <td>0.008322</td>\n",
       "      <td>-0.011695</td>\n",
       "      <td>...</td>\n",
       "      <td>-0.044996</td>\n",
       "      <td>-0.089895</td>\n",
       "      <td>-0.009857</td>\n",
       "      <td>-0.015872</td>\n",
       "      <td>1.000000</td>\n",
       "      <td>0.006759</td>\n",
       "      <td>-0.065573</td>\n",
       "      <td>-0.024862</td>\n",
       "      <td>-0.083884</td>\n",
       "      <td>0.115357</td>\n",
       "    </tr>\n",
       "    <tr>\n",
       "      <th>Long-tern Liabilities/ Equity</th>\n",
       "      <td>-0.018233</td>\n",
       "      <td>0.008109</td>\n",
       "      <td>0.041275</td>\n",
       "      <td>0.081787</td>\n",
       "      <td>-0.331074</td>\n",
       "      <td>0.000151</td>\n",
       "      <td>-0.007278</td>\n",
       "      <td>-0.012419</td>\n",
       "      <td>0.981627</td>\n",
       "      <td>0.012419</td>\n",
       "      <td>...</td>\n",
       "      <td>0.039254</td>\n",
       "      <td>0.010398</td>\n",
       "      <td>0.003430</td>\n",
       "      <td>0.044003</td>\n",
       "      <td>0.006759</td>\n",
       "      <td>1.000000</td>\n",
       "      <td>0.055945</td>\n",
       "      <td>-0.007126</td>\n",
       "      <td>-0.082950</td>\n",
       "      <td>-0.135311</td>\n",
       "    </tr>\n",
       "    <tr>\n",
       "      <th>Revenue/Liabilities</th>\n",
       "      <td>0.145679</td>\n",
       "      <td>0.154452</td>\n",
       "      <td>0.583899</td>\n",
       "      <td>0.551984</td>\n",
       "      <td>0.355327</td>\n",
       "      <td>-0.023515</td>\n",
       "      <td>0.064165</td>\n",
       "      <td>-0.178655</td>\n",
       "      <td>0.039554</td>\n",
       "      <td>0.178655</td>\n",
       "      <td>...</td>\n",
       "      <td>0.189793</td>\n",
       "      <td>0.423128</td>\n",
       "      <td>-0.138616</td>\n",
       "      <td>0.168195</td>\n",
       "      <td>-0.065573</td>\n",
       "      <td>0.055945</td>\n",
       "      <td>1.000000</td>\n",
       "      <td>-0.066999</td>\n",
       "      <td>0.246485</td>\n",
       "      <td>-0.384062</td>\n",
       "    </tr>\n",
       "    <tr>\n",
       "      <th>Revenue/Short-term Liabilities</th>\n",
       "      <td>-0.493492</td>\n",
       "      <td>-0.580564</td>\n",
       "      <td>-0.068445</td>\n",
       "      <td>0.154412</td>\n",
       "      <td>-0.157181</td>\n",
       "      <td>-0.036979</td>\n",
       "      <td>0.024270</td>\n",
       "      <td>0.482012</td>\n",
       "      <td>0.011437</td>\n",
       "      <td>-0.482012</td>\n",
       "      <td>...</td>\n",
       "      <td>-0.041912</td>\n",
       "      <td>-0.119128</td>\n",
       "      <td>0.500152</td>\n",
       "      <td>-0.435216</td>\n",
       "      <td>-0.024862</td>\n",
       "      <td>-0.007126</td>\n",
       "      <td>-0.066999</td>\n",
       "      <td>1.000000</td>\n",
       "      <td>-0.015905</td>\n",
       "      <td>0.179025</td>\n",
       "    </tr>\n",
       "    <tr>\n",
       "      <th>Revenue/Fixed Assets</th>\n",
       "      <td>0.147019</td>\n",
       "      <td>0.101362</td>\n",
       "      <td>0.104172</td>\n",
       "      <td>0.563356</td>\n",
       "      <td>0.262095</td>\n",
       "      <td>0.284247</td>\n",
       "      <td>0.082080</td>\n",
       "      <td>-0.122184</td>\n",
       "      <td>-0.117602</td>\n",
       "      <td>0.122184</td>\n",
       "      <td>...</td>\n",
       "      <td>0.313429</td>\n",
       "      <td>0.275230</td>\n",
       "      <td>-0.089331</td>\n",
       "      <td>0.327265</td>\n",
       "      <td>-0.083884</td>\n",
       "      <td>-0.082950</td>\n",
       "      <td>0.246485</td>\n",
       "      <td>-0.015905</td>\n",
       "      <td>1.000000</td>\n",
       "      <td>-0.125155</td>\n",
       "    </tr>\n",
       "    <tr>\n",
       "      <th>Label</th>\n",
       "      <td>-0.271055</td>\n",
       "      <td>-0.265592</td>\n",
       "      <td>-0.374484</td>\n",
       "      <td>-0.187684</td>\n",
       "      <td>-0.450893</td>\n",
       "      <td>-0.175444</td>\n",
       "      <td>-0.112999</td>\n",
       "      <td>0.301367</td>\n",
       "      <td>-0.116172</td>\n",
       "      <td>-0.301367</td>\n",
       "      <td>...</td>\n",
       "      <td>-0.190277</td>\n",
       "      <td>-0.449780</td>\n",
       "      <td>0.268278</td>\n",
       "      <td>-0.387517</td>\n",
       "      <td>0.115357</td>\n",
       "      <td>-0.135311</td>\n",
       "      <td>-0.384062</td>\n",
       "      <td>0.179025</td>\n",
       "      <td>-0.125155</td>\n",
       "      <td>1.000000</td>\n",
       "    </tr>\n",
       "  </tbody>\n",
       "</table>\n",
       "<p>28 rows × 28 columns</p>\n",
       "</div>"
      ],
      "text/plain": [
       "                                        Net Working Capital/ Tot Assets  \\\n",
       "Net Working Capital/ Tot Assets                                1.000000   \n",
       "EBIDTA/ Total Assets                                           0.857796   \n",
       "Market Cap/ Total Debt                                         0.112063   \n",
       "Revenue/Tot Assets                                             0.032850   \n",
       "Current Ratio                                                  0.285410   \n",
       "Quick Ratio                                                    0.069551   \n",
       "EBIDTA/ Revenue                                                0.003421   \n",
       "D/A Ratio                                                     -0.986025   \n",
       "D/E Ratio                                                     -0.039981   \n",
       "Equity/Tot Assets                                              0.986025   \n",
       "Gross Rev/ Curr Liabilities                                    0.154293   \n",
       "EBIDTA/ Assets                                                 0.857796   \n",
       "Equity-ShareCapital/ Total Assets                              0.985471   \n",
       "EBIDTA/ Tot Liabilities                                        0.201712   \n",
       "Net Profit/ Operating Expenses                                 0.123522   \n",
       "Total Liabilities -Cash/ Sales                                -0.004509   \n",
       "EBIT/Sales                                                     0.002685   \n",
       "Operating Expense/ Current Liabilities                         0.102659   \n",
       "Operating Expenses/ Total Liabilities                          0.090296   \n",
       "Current Assets/ Total Liabilities                              0.225199   \n",
       "Current Liabilities/ Total Assets                             -0.996011   \n",
       "Equity/Fixed Assets                                            0.836786   \n",
       "Total Expenses/ Total Revenue                                 -0.002699   \n",
       "Long-tern Liabilities/ Equity                                 -0.018233   \n",
       "Revenue/Liabilities                                            0.145679   \n",
       "Revenue/Short-term Liabilities                                -0.493492   \n",
       "Revenue/Fixed Assets                                           0.147019   \n",
       "Label                                                         -0.271055   \n",
       "\n",
       "                                        EBIDTA/ Total Assets  \\\n",
       "Net Working Capital/ Tot Assets                     0.857796   \n",
       "EBIDTA/ Total Assets                                1.000000   \n",
       "Market Cap/ Total Debt                              0.111309   \n",
       "Revenue/Tot Assets                                  0.063290   \n",
       "Current Ratio                                       0.205278   \n",
       "Quick Ratio                                         0.043261   \n",
       "EBIDTA/ Revenue                                    -0.012417   \n",
       "D/A Ratio                                          -0.846687   \n",
       "D/E Ratio                                          -0.009089   \n",
       "Equity/Tot Assets                                   0.846687   \n",
       "Gross Rev/ Curr Liabilities                         0.107809   \n",
       "EBIDTA/ Assets                                      1.000000   \n",
       "Equity-ShareCapital/ Total Assets                   0.841481   \n",
       "EBIDTA/ Tot Liabilities                             0.372320   \n",
       "Net Profit/ Operating Expenses                      0.120890   \n",
       "Total Liabilities -Cash/ Sales                      0.014325   \n",
       "EBIT/Sales                                         -0.012627   \n",
       "Operating Expense/ Current Liabilities              0.105212   \n",
       "Operating Expenses/ Total Liabilities               0.104961   \n",
       "Current Assets/ Total Liabilities                   0.188877   \n",
       "Current Liabilities/ Total Assets                  -0.853743   \n",
       "Equity/Fixed Assets                                 0.618074   \n",
       "Total Expenses/ Total Revenue                       0.012664   \n",
       "Long-tern Liabilities/ Equity                       0.008109   \n",
       "Revenue/Liabilities                                 0.154452   \n",
       "Revenue/Short-term Liabilities                     -0.580564   \n",
       "Revenue/Fixed Assets                                0.101362   \n",
       "Label                                              -0.265592   \n",
       "\n",
       "                                        Market Cap/ Total Debt  \\\n",
       "Net Working Capital/ Tot Assets                       0.112063   \n",
       "EBIDTA/ Total Assets                                  0.111309   \n",
       "Market Cap/ Total Debt                                1.000000   \n",
       "Revenue/Tot Assets                                    0.191571   \n",
       "Current Ratio                                         0.640197   \n",
       "Quick Ratio                                           0.344426   \n",
       "EBIDTA/ Revenue                                       0.044907   \n",
       "D/A Ratio                                            -0.148144   \n",
       "D/E Ratio                                             0.029042   \n",
       "Equity/Tot Assets                                     0.148144   \n",
       "Gross Rev/ Curr Liabilities                           0.403770   \n",
       "EBIDTA/ Assets                                        0.111309   \n",
       "Equity-ShareCapital/ Total Assets                     0.150465   \n",
       "EBIDTA/ Tot Liabilities                               0.408852   \n",
       "Net Profit/ Operating Expenses                        0.036279   \n",
       "Total Liabilities -Cash/ Sales                       -0.035695   \n",
       "EBIT/Sales                                            0.045880   \n",
       "Operating Expense/ Current Liabilities                0.057223   \n",
       "Operating Expenses/ Total Liabilities                 0.144753   \n",
       "Current Assets/ Total Liabilities                     0.812784   \n",
       "Current Liabilities/ Total Assets                    -0.112743   \n",
       "Equity/Fixed Assets                                   0.151093   \n",
       "Total Expenses/ Total Revenue                        -0.045844   \n",
       "Long-tern Liabilities/ Equity                         0.041275   \n",
       "Revenue/Liabilities                                   0.583899   \n",
       "Revenue/Short-term Liabilities                       -0.068445   \n",
       "Revenue/Fixed Assets                                  0.104172   \n",
       "Label                                                -0.374484   \n",
       "\n",
       "                                        Revenue/Tot Assets  Current Ratio  \\\n",
       "Net Working Capital/ Tot Assets                   0.032850       0.285410   \n",
       "EBIDTA/ Total Assets                              0.063290       0.205278   \n",
       "Market Cap/ Total Debt                            0.191571       0.640197   \n",
       "Revenue/Tot Assets                                1.000000       0.109737   \n",
       "Current Ratio                                     0.109737       1.000000   \n",
       "Quick Ratio                                      -0.066761       0.253731   \n",
       "EBIDTA/ Revenue                                   0.119365       0.104480   \n",
       "D/A Ratio                                        -0.052492      -0.273468   \n",
       "D/E Ratio                                         0.065951      -0.346415   \n",
       "Equity/Tot Assets                                 0.052492       0.273468   \n",
       "Gross Rev/ Curr Liabilities                       0.401695       0.406154   \n",
       "EBIDTA/ Assets                                    0.063290       0.205278   \n",
       "Equity-ShareCapital/ Total Assets                 0.054916       0.278445   \n",
       "EBIDTA/ Tot Liabilities                           0.362888       0.401517   \n",
       "Net Profit/ Operating Expenses                   -0.039142       0.172885   \n",
       "Total Liabilities -Cash/ Sales                   -0.095942      -0.085867   \n",
       "EBIT/Sales                                        0.122033       0.104921   \n",
       "Operating Expense/ Current Liabilities            0.232020       0.153073   \n",
       "Operating Expenses/ Total Liabilities             0.244300       0.087538   \n",
       "Current Assets/ Total Liabilities                 0.192173       0.804722   \n",
       "Current Liabilities/ Total Assets                -0.016586      -0.264509   \n",
       "Equity/Fixed Assets                               0.082700       0.340372   \n",
       "Total Expenses/ Total Revenue                    -0.122008      -0.104816   \n",
       "Long-tern Liabilities/ Equity                     0.081787      -0.331074   \n",
       "Revenue/Liabilities                               0.551984       0.355327   \n",
       "Revenue/Short-term Liabilities                    0.154412      -0.157181   \n",
       "Revenue/Fixed Assets                              0.563356       0.262095   \n",
       "Label                                            -0.187684      -0.450893   \n",
       "\n",
       "                                        Quick Ratio  EBIDTA/ Revenue  \\\n",
       "Net Working Capital/ Tot Assets            0.069551         0.003421   \n",
       "EBIDTA/ Total Assets                       0.043261        -0.012417   \n",
       "Market Cap/ Total Debt                     0.344426         0.044907   \n",
       "Revenue/Tot Assets                        -0.066761         0.119365   \n",
       "Current Ratio                              0.253731         0.104480   \n",
       "Quick Ratio                                1.000000         0.024003   \n",
       "EBIDTA/ Revenue                            0.024003         1.000000   \n",
       "D/A Ratio                                 -0.054351        -0.011944   \n",
       "D/E Ratio                                 -0.022226        -0.008296   \n",
       "Equity/Tot Assets                          0.054351         0.011944   \n",
       "Gross Rev/ Curr Liabilities               -0.034389         0.067429   \n",
       "EBIDTA/ Assets                             0.043261        -0.012417   \n",
       "Equity-ShareCapital/ Total Assets          0.056752         0.011814   \n",
       "EBIDTA/ Tot Liabilities                    0.027436         0.037105   \n",
       "Net Profit/ Operating Expenses            -0.021465        -0.000906   \n",
       "Total Liabilities -Cash/ Sales            -0.019250        -0.987587   \n",
       "EBIT/Sales                                 0.024462         0.999509   \n",
       "Operating Expense/ Current Liabilities     0.015422         0.044166   \n",
       "Operating Expenses/ Total Liabilities      0.011526         0.044041   \n",
       "Current Assets/ Total Liabilities          0.239270         0.089402   \n",
       "Current Liabilities/ Total Assets         -0.052891         0.009448   \n",
       "Equity/Fixed Assets                        0.160899         0.015547   \n",
       "Total Expenses/ Total Revenue             -0.024448        -0.999528   \n",
       "Long-tern Liabilities/ Equity              0.000151        -0.007278   \n",
       "Revenue/Liabilities                       -0.023515         0.064165   \n",
       "Revenue/Short-term Liabilities            -0.036979         0.024270   \n",
       "Revenue/Fixed Assets                       0.284247         0.082080   \n",
       "Label                                     -0.175444        -0.112999   \n",
       "\n",
       "                                        D/A Ratio  D/E Ratio  \\\n",
       "Net Working Capital/ Tot Assets         -0.986025  -0.039981   \n",
       "EBIDTA/ Total Assets                    -0.846687  -0.009089   \n",
       "Market Cap/ Total Debt                  -0.148144   0.029042   \n",
       "Revenue/Tot Assets                      -0.052492   0.065951   \n",
       "Current Ratio                           -0.273468  -0.346415   \n",
       "Quick Ratio                             -0.054351  -0.022226   \n",
       "EBIDTA/ Revenue                         -0.011944  -0.008296   \n",
       "D/A Ratio                                1.000000   0.007323   \n",
       "D/E Ratio                                0.007323   1.000000   \n",
       "Equity/Tot Assets                       -1.000000  -0.007323   \n",
       "Gross Rev/ Curr Liabilities             -0.148944   0.057774   \n",
       "EBIDTA/ Assets                          -0.846687  -0.009089   \n",
       "Equity-ShareCapital/ Total Assets       -0.998754  -0.006714   \n",
       "EBIDTA/ Tot Liabilities                 -0.204776   0.017514   \n",
       "Net Profit/ Operating Expenses          -0.129594   0.103294   \n",
       "Total Liabilities -Cash/ Sales           0.015467   0.005340   \n",
       "EBIT/Sales                              -0.011675  -0.008319   \n",
       "Operating Expense/ Current Liabilities  -0.105668   0.002528   \n",
       "Operating Expenses/ Total Liabilities   -0.111596   0.024964   \n",
       "Current Assets/ Total Liabilities       -0.258009  -0.022204   \n",
       "Current Liabilities/ Total Assets        0.984525   0.021284   \n",
       "Equity/Fixed Assets                     -0.841025   0.006728   \n",
       "Total Expenses/ Total Revenue            0.011695   0.008322   \n",
       "Long-tern Liabilities/ Equity           -0.012419   0.981627   \n",
       "Revenue/Liabilities                     -0.178655   0.039554   \n",
       "Revenue/Short-term Liabilities           0.482012   0.011437   \n",
       "Revenue/Fixed Assets                    -0.122184  -0.117602   \n",
       "Label                                    0.301367  -0.116172   \n",
       "\n",
       "                                        Equity/Tot Assets  ...  \\\n",
       "Net Working Capital/ Tot Assets                  0.986025  ...   \n",
       "EBIDTA/ Total Assets                             0.846687  ...   \n",
       "Market Cap/ Total Debt                           0.148144  ...   \n",
       "Revenue/Tot Assets                               0.052492  ...   \n",
       "Current Ratio                                    0.273468  ...   \n",
       "Quick Ratio                                      0.054351  ...   \n",
       "EBIDTA/ Revenue                                  0.011944  ...   \n",
       "D/A Ratio                                       -1.000000  ...   \n",
       "D/E Ratio                                       -0.007323  ...   \n",
       "Equity/Tot Assets                                1.000000  ...   \n",
       "Gross Rev/ Curr Liabilities                      0.148944  ...   \n",
       "EBIDTA/ Assets                                   0.846687  ...   \n",
       "Equity-ShareCapital/ Total Assets                0.998754  ...   \n",
       "EBIDTA/ Tot Liabilities                          0.204776  ...   \n",
       "Net Profit/ Operating Expenses                   0.129594  ...   \n",
       "Total Liabilities -Cash/ Sales                  -0.015467  ...   \n",
       "EBIT/Sales                                       0.011675  ...   \n",
       "Operating Expense/ Current Liabilities           0.105668  ...   \n",
       "Operating Expenses/ Total Liabilities            0.111596  ...   \n",
       "Current Assets/ Total Liabilities                0.258009  ...   \n",
       "Current Liabilities/ Total Assets               -0.984525  ...   \n",
       "Equity/Fixed Assets                              0.841025  ...   \n",
       "Total Expenses/ Total Revenue                   -0.011695  ...   \n",
       "Long-tern Liabilities/ Equity                    0.012419  ...   \n",
       "Revenue/Liabilities                              0.178655  ...   \n",
       "Revenue/Short-term Liabilities                  -0.482012  ...   \n",
       "Revenue/Fixed Assets                             0.122184  ...   \n",
       "Label                                           -0.301367  ...   \n",
       "\n",
       "                                        Operating Expenses/ Total Liabilities  \\\n",
       "Net Working Capital/ Tot Assets                                      0.090296   \n",
       "EBIDTA/ Total Assets                                                 0.104961   \n",
       "Market Cap/ Total Debt                                               0.144753   \n",
       "Revenue/Tot Assets                                                   0.244300   \n",
       "Current Ratio                                                        0.087538   \n",
       "Quick Ratio                                                          0.011526   \n",
       "EBIDTA/ Revenue                                                      0.044041   \n",
       "D/A Ratio                                                           -0.111596   \n",
       "D/E Ratio                                                            0.024964   \n",
       "Equity/Tot Assets                                                    0.111596   \n",
       "Gross Rev/ Curr Liabilities                                          0.031004   \n",
       "EBIDTA/ Assets                                                       0.104961   \n",
       "Equity-ShareCapital/ Total Assets                                    0.112931   \n",
       "EBIDTA/ Tot Liabilities                                              0.220112   \n",
       "Net Profit/ Operating Expenses                                      -0.110342   \n",
       "Total Liabilities -Cash/ Sales                                      -0.035244   \n",
       "EBIT/Sales                                                           0.044989   \n",
       "Operating Expense/ Current Liabilities                               0.872409   \n",
       "Operating Expenses/ Total Liabilities                                1.000000   \n",
       "Current Assets/ Total Liabilities                                    0.271138   \n",
       "Current Liabilities/ Total Assets                                   -0.064953   \n",
       "Equity/Fixed Assets                                                  0.155310   \n",
       "Total Expenses/ Total Revenue                                       -0.044996   \n",
       "Long-tern Liabilities/ Equity                                        0.039254   \n",
       "Revenue/Liabilities                                                  0.189793   \n",
       "Revenue/Short-term Liabilities                                      -0.041912   \n",
       "Revenue/Fixed Assets                                                 0.313429   \n",
       "Label                                                               -0.190277   \n",
       "\n",
       "                                        Current Assets/ Total Liabilities  \\\n",
       "Net Working Capital/ Tot Assets                                  0.225199   \n",
       "EBIDTA/ Total Assets                                             0.188877   \n",
       "Market Cap/ Total Debt                                           0.812784   \n",
       "Revenue/Tot Assets                                               0.192173   \n",
       "Current Ratio                                                    0.804722   \n",
       "Quick Ratio                                                      0.239270   \n",
       "EBIDTA/ Revenue                                                  0.089402   \n",
       "D/A Ratio                                                       -0.258009   \n",
       "D/E Ratio                                                       -0.022204   \n",
       "Equity/Tot Assets                                                0.258009   \n",
       "Gross Rev/ Curr Liabilities                                      0.208183   \n",
       "EBIDTA/ Assets                                                   0.188877   \n",
       "Equity-ShareCapital/ Total Assets                                0.261203   \n",
       "EBIDTA/ Tot Liabilities                                          0.435666   \n",
       "Net Profit/ Operating Expenses                                   0.031932   \n",
       "Total Liabilities -Cash/ Sales                                  -0.073335   \n",
       "EBIT/Sales                                                       0.089962   \n",
       "Operating Expense/ Current Liabilities                           0.200720   \n",
       "Operating Expenses/ Total Liabilities                            0.271138   \n",
       "Current Assets/ Total Liabilities                                1.000000   \n",
       "Current Liabilities/ Total Assets                               -0.198343   \n",
       "Equity/Fixed Assets                                              0.318042   \n",
       "Total Expenses/ Total Revenue                                   -0.089895   \n",
       "Long-tern Liabilities/ Equity                                    0.010398   \n",
       "Revenue/Liabilities                                              0.423128   \n",
       "Revenue/Short-term Liabilities                                  -0.119128   \n",
       "Revenue/Fixed Assets                                             0.275230   \n",
       "Label                                                           -0.449780   \n",
       "\n",
       "                                        Current Liabilities/ Total Assets  \\\n",
       "Net Working Capital/ Tot Assets                                 -0.996011   \n",
       "EBIDTA/ Total Assets                                            -0.853743   \n",
       "Market Cap/ Total Debt                                          -0.112743   \n",
       "Revenue/Tot Assets                                              -0.016586   \n",
       "Current Ratio                                                   -0.264509   \n",
       "Quick Ratio                                                     -0.052891   \n",
       "EBIDTA/ Revenue                                                  0.009448   \n",
       "D/A Ratio                                                        0.984525   \n",
       "D/E Ratio                                                        0.021284   \n",
       "Equity/Tot Assets                                               -0.984525   \n",
       "Gross Rev/ Curr Liabilities                                     -0.166935   \n",
       "EBIDTA/ Assets                                                  -0.853743   \n",
       "Equity-ShareCapital/ Total Assets                               -0.983301   \n",
       "EBIDTA/ Tot Liabilities                                         -0.191411   \n",
       "Net Profit/ Operating Expenses                                  -0.131132   \n",
       "Total Liabilities -Cash/ Sales                                  -0.006367   \n",
       "EBIT/Sales                                                       0.009875   \n",
       "Operating Expense/ Current Liabilities                          -0.079722   \n",
       "Operating Expenses/ Total Liabilities                           -0.064953   \n",
       "Current Assets/ Total Liabilities                               -0.198343   \n",
       "Current Liabilities/ Total Assets                                1.000000   \n",
       "Equity/Fixed Assets                                             -0.824998   \n",
       "Total Expenses/ Total Revenue                                   -0.009857   \n",
       "Long-tern Liabilities/ Equity                                    0.003430   \n",
       "Revenue/Liabilities                                             -0.138616   \n",
       "Revenue/Short-term Liabilities                                   0.500152   \n",
       "Revenue/Fixed Assets                                            -0.089331   \n",
       "Label                                                            0.268278   \n",
       "\n",
       "                                        Equity/Fixed Assets  \\\n",
       "Net Working Capital/ Tot Assets                    0.836786   \n",
       "EBIDTA/ Total Assets                               0.618074   \n",
       "Market Cap/ Total Debt                             0.151093   \n",
       "Revenue/Tot Assets                                 0.082700   \n",
       "Current Ratio                                      0.340372   \n",
       "Quick Ratio                                        0.160899   \n",
       "EBIDTA/ Revenue                                    0.015547   \n",
       "D/A Ratio                                         -0.841025   \n",
       "D/E Ratio                                          0.006728   \n",
       "Equity/Tot Assets                                  0.841025   \n",
       "Gross Rev/ Curr Liabilities                        0.124347   \n",
       "EBIDTA/ Assets                                     0.618074   \n",
       "Equity-ShareCapital/ Total Assets                  0.839946   \n",
       "EBIDTA/ Tot Liabilities                            0.219587   \n",
       "Net Profit/ Operating Expenses                     0.195789   \n",
       "Total Liabilities -Cash/ Sales                    -0.014860   \n",
       "EBIT/Sales                                         0.015862   \n",
       "Operating Expense/ Current Liabilities             0.141007   \n",
       "Operating Expenses/ Total Liabilities              0.155310   \n",
       "Current Assets/ Total Liabilities                  0.318042   \n",
       "Current Liabilities/ Total Assets                 -0.824998   \n",
       "Equity/Fixed Assets                                1.000000   \n",
       "Total Expenses/ Total Revenue                     -0.015872   \n",
       "Long-tern Liabilities/ Equity                      0.044003   \n",
       "Revenue/Liabilities                                0.168195   \n",
       "Revenue/Short-term Liabilities                    -0.435216   \n",
       "Revenue/Fixed Assets                               0.327265   \n",
       "Label                                             -0.387517   \n",
       "\n",
       "                                        Total Expenses/ Total Revenue  \\\n",
       "Net Working Capital/ Tot Assets                             -0.002699   \n",
       "EBIDTA/ Total Assets                                         0.012664   \n",
       "Market Cap/ Total Debt                                      -0.045844   \n",
       "Revenue/Tot Assets                                          -0.122008   \n",
       "Current Ratio                                               -0.104816   \n",
       "Quick Ratio                                                 -0.024448   \n",
       "EBIDTA/ Revenue                                             -0.999528   \n",
       "D/A Ratio                                                    0.011695   \n",
       "D/E Ratio                                                    0.008322   \n",
       "Equity/Tot Assets                                           -0.011695   \n",
       "Gross Rev/ Curr Liabilities                                 -0.068850   \n",
       "EBIDTA/ Assets                                               0.012664   \n",
       "Equity-ShareCapital/ Total Assets                           -0.011540   \n",
       "EBIDTA/ Tot Liabilities                                     -0.037608   \n",
       "Net Profit/ Operating Expenses                               0.000025   \n",
       "Total Liabilities -Cash/ Sales                               0.986109   \n",
       "EBIT/Sales                                                  -0.999998   \n",
       "Operating Expense/ Current Liabilities                      -0.045105   \n",
       "Operating Expenses/ Total Liabilities                       -0.044996   \n",
       "Current Assets/ Total Liabilities                           -0.089895   \n",
       "Current Liabilities/ Total Assets                           -0.009857   \n",
       "Equity/Fixed Assets                                         -0.015872   \n",
       "Total Expenses/ Total Revenue                                1.000000   \n",
       "Long-tern Liabilities/ Equity                                0.006759   \n",
       "Revenue/Liabilities                                         -0.065573   \n",
       "Revenue/Short-term Liabilities                              -0.024862   \n",
       "Revenue/Fixed Assets                                        -0.083884   \n",
       "Label                                                        0.115357   \n",
       "\n",
       "                                        Long-tern Liabilities/ Equity  \\\n",
       "Net Working Capital/ Tot Assets                             -0.018233   \n",
       "EBIDTA/ Total Assets                                         0.008109   \n",
       "Market Cap/ Total Debt                                       0.041275   \n",
       "Revenue/Tot Assets                                           0.081787   \n",
       "Current Ratio                                               -0.331074   \n",
       "Quick Ratio                                                  0.000151   \n",
       "EBIDTA/ Revenue                                             -0.007278   \n",
       "D/A Ratio                                                   -0.012419   \n",
       "D/E Ratio                                                    0.981627   \n",
       "Equity/Tot Assets                                            0.012419   \n",
       "Gross Rev/ Curr Liabilities                                  0.050167   \n",
       "EBIDTA/ Assets                                               0.008109   \n",
       "Equity-ShareCapital/ Total Assets                            0.013512   \n",
       "EBIDTA/ Tot Liabilities                                      0.041767   \n",
       "Net Profit/ Operating Expenses                               0.061029   \n",
       "Total Liabilities -Cash/ Sales                               0.001814   \n",
       "EBIT/Sales                                                  -0.006827   \n",
       "Operating Expense/ Current Liabilities                       0.018108   \n",
       "Operating Expenses/ Total Liabilities                        0.039254   \n",
       "Current Assets/ Total Liabilities                            0.010398   \n",
       "Current Liabilities/ Total Assets                            0.003430   \n",
       "Equity/Fixed Assets                                          0.044003   \n",
       "Total Expenses/ Total Revenue                                0.006759   \n",
       "Long-tern Liabilities/ Equity                                1.000000   \n",
       "Revenue/Liabilities                                          0.055945   \n",
       "Revenue/Short-term Liabilities                              -0.007126   \n",
       "Revenue/Fixed Assets                                        -0.082950   \n",
       "Label                                                       -0.135311   \n",
       "\n",
       "                                        Revenue/Liabilities  \\\n",
       "Net Working Capital/ Tot Assets                    0.145679   \n",
       "EBIDTA/ Total Assets                               0.154452   \n",
       "Market Cap/ Total Debt                             0.583899   \n",
       "Revenue/Tot Assets                                 0.551984   \n",
       "Current Ratio                                      0.355327   \n",
       "Quick Ratio                                       -0.023515   \n",
       "EBIDTA/ Revenue                                    0.064165   \n",
       "D/A Ratio                                         -0.178655   \n",
       "D/E Ratio                                          0.039554   \n",
       "Equity/Tot Assets                                  0.178655   \n",
       "Gross Rev/ Curr Liabilities                        0.749997   \n",
       "EBIDTA/ Assets                                     0.154452   \n",
       "Equity-ShareCapital/ Total Assets                  0.181839   \n",
       "EBIDTA/ Tot Liabilities                            0.615257   \n",
       "Net Profit/ Operating Expenses                     0.083897   \n",
       "Total Liabilities -Cash/ Sales                    -0.051300   \n",
       "EBIT/Sales                                         0.065583   \n",
       "Operating Expense/ Current Liabilities             0.153254   \n",
       "Operating Expenses/ Total Liabilities              0.189793   \n",
       "Current Assets/ Total Liabilities                  0.423128   \n",
       "Current Liabilities/ Total Assets                 -0.138616   \n",
       "Equity/Fixed Assets                                0.168195   \n",
       "Total Expenses/ Total Revenue                     -0.065573   \n",
       "Long-tern Liabilities/ Equity                      0.055945   \n",
       "Revenue/Liabilities                                1.000000   \n",
       "Revenue/Short-term Liabilities                    -0.066999   \n",
       "Revenue/Fixed Assets                               0.246485   \n",
       "Label                                             -0.384062   \n",
       "\n",
       "                                        Revenue/Short-term Liabilities  \\\n",
       "Net Working Capital/ Tot Assets                              -0.493492   \n",
       "EBIDTA/ Total Assets                                         -0.580564   \n",
       "Market Cap/ Total Debt                                       -0.068445   \n",
       "Revenue/Tot Assets                                            0.154412   \n",
       "Current Ratio                                                -0.157181   \n",
       "Quick Ratio                                                  -0.036979   \n",
       "EBIDTA/ Revenue                                               0.024270   \n",
       "D/A Ratio                                                     0.482012   \n",
       "D/E Ratio                                                     0.011437   \n",
       "Equity/Tot Assets                                            -0.482012   \n",
       "Gross Rev/ Curr Liabilities                                  -0.085425   \n",
       "EBIDTA/ Assets                                               -0.580564   \n",
       "Equity-ShareCapital/ Total Assets                            -0.476692   \n",
       "EBIDTA/ Tot Liabilities                                      -0.160427   \n",
       "Net Profit/ Operating Expenses                               -0.082783   \n",
       "Total Liabilities -Cash/ Sales                               -0.020956   \n",
       "EBIT/Sales                                                    0.024846   \n",
       "Operating Expense/ Current Liabilities                       -0.043360   \n",
       "Operating Expenses/ Total Liabilities                        -0.041912   \n",
       "Current Assets/ Total Liabilities                            -0.119128   \n",
       "Current Liabilities/ Total Assets                             0.500152   \n",
       "Equity/Fixed Assets                                          -0.435216   \n",
       "Total Expenses/ Total Revenue                                -0.024862   \n",
       "Long-tern Liabilities/ Equity                                -0.007126   \n",
       "Revenue/Liabilities                                          -0.066999   \n",
       "Revenue/Short-term Liabilities                                1.000000   \n",
       "Revenue/Fixed Assets                                         -0.015905   \n",
       "Label                                                         0.179025   \n",
       "\n",
       "                                        Revenue/Fixed Assets     Label  \n",
       "Net Working Capital/ Tot Assets                     0.147019 -0.271055  \n",
       "EBIDTA/ Total Assets                                0.101362 -0.265592  \n",
       "Market Cap/ Total Debt                              0.104172 -0.374484  \n",
       "Revenue/Tot Assets                                  0.563356 -0.187684  \n",
       "Current Ratio                                       0.262095 -0.450893  \n",
       "Quick Ratio                                         0.284247 -0.175444  \n",
       "EBIDTA/ Revenue                                     0.082080 -0.112999  \n",
       "D/A Ratio                                          -0.122184  0.301367  \n",
       "D/E Ratio                                          -0.117602 -0.116172  \n",
       "Equity/Tot Assets                                   0.122184 -0.301367  \n",
       "Gross Rev/ Curr Liabilities                         0.107103 -0.312277  \n",
       "EBIDTA/ Assets                                      0.101362 -0.265592  \n",
       "Equity-ShareCapital/ Total Assets                   0.125298 -0.312043  \n",
       "EBIDTA/ Tot Liabilities                             0.171598 -0.546881  \n",
       "Net Profit/ Operating Expenses                      0.019144 -0.389352  \n",
       "Total Liabilities -Cash/ Sales                     -0.065769  0.090111  \n",
       "EBIT/Sales                                          0.083885 -0.115452  \n",
       "Operating Expense/ Current Liabilities              0.323396 -0.154386  \n",
       "Operating Expenses/ Total Liabilities               0.313429 -0.190277  \n",
       "Current Assets/ Total Liabilities                   0.275230 -0.449780  \n",
       "Current Liabilities/ Total Assets                  -0.089331  0.268278  \n",
       "Equity/Fixed Assets                                 0.327265 -0.387517  \n",
       "Total Expenses/ Total Revenue                      -0.083884  0.115357  \n",
       "Long-tern Liabilities/ Equity                      -0.082950 -0.135311  \n",
       "Revenue/Liabilities                                 0.246485 -0.384062  \n",
       "Revenue/Short-term Liabilities                     -0.015905  0.179025  \n",
       "Revenue/Fixed Assets                                1.000000 -0.125155  \n",
       "Label                                              -0.125155  1.000000  \n",
       "\n",
       "[28 rows x 28 columns]"
      ]
     },
     "execution_count": 18,
     "metadata": {},
     "output_type": "execute_result"
    }
   ],
   "source": [
    "corr_mat"
   ]
  },
  {
   "cell_type": "code",
   "execution_count": 19,
   "id": "5d7dbbe3",
   "metadata": {},
   "outputs": [],
   "source": [
    "for f in corr_mat['Label'].keys():\n",
    "    if abs(corr_mat['Label'][f])<0.15:\n",
    "        norm_data=norm_data.drop([f],axis=1)\n",
    "        if f=='Label':\n",
    "            continue"
   ]
  },
  {
   "cell_type": "code",
   "execution_count": 20,
   "id": "883b7182",
   "metadata": {
    "scrolled": false
   },
   "outputs": [
    {
     "data": {
      "text/html": [
       "<div>\n",
       "<style scoped>\n",
       "    .dataframe tbody tr th:only-of-type {\n",
       "        vertical-align: middle;\n",
       "    }\n",
       "\n",
       "    .dataframe tbody tr th {\n",
       "        vertical-align: top;\n",
       "    }\n",
       "\n",
       "    .dataframe thead th {\n",
       "        text-align: right;\n",
       "    }\n",
       "</style>\n",
       "<table border=\"1\" class=\"dataframe\">\n",
       "  <thead>\n",
       "    <tr style=\"text-align: right;\">\n",
       "      <th></th>\n",
       "      <th>Net Working Capital/ Tot Assets</th>\n",
       "      <th>EBIDTA/ Total Assets</th>\n",
       "      <th>Market Cap/ Total Debt</th>\n",
       "      <th>Revenue/Tot Assets</th>\n",
       "      <th>Current Ratio</th>\n",
       "      <th>Quick Ratio</th>\n",
       "      <th>D/A Ratio</th>\n",
       "      <th>Equity/Tot Assets</th>\n",
       "      <th>Gross Rev/ Curr Liabilities</th>\n",
       "      <th>EBIDTA/ Assets</th>\n",
       "      <th>...</th>\n",
       "      <th>EBIDTA/ Tot Liabilities</th>\n",
       "      <th>Net Profit/ Operating Expenses</th>\n",
       "      <th>Operating Expense/ Current Liabilities</th>\n",
       "      <th>Operating Expenses/ Total Liabilities</th>\n",
       "      <th>Current Assets/ Total Liabilities</th>\n",
       "      <th>Current Liabilities/ Total Assets</th>\n",
       "      <th>Equity/Fixed Assets</th>\n",
       "      <th>Revenue/Liabilities</th>\n",
       "      <th>Revenue/Short-term Liabilities</th>\n",
       "      <th>Label</th>\n",
       "    </tr>\n",
       "  </thead>\n",
       "  <tbody>\n",
       "    <tr>\n",
       "      <th>0</th>\n",
       "      <td>0.968113</td>\n",
       "      <td>0.936722</td>\n",
       "      <td>0.000006</td>\n",
       "      <td>0.000302</td>\n",
       "      <td>0.109967</td>\n",
       "      <td>0.002599</td>\n",
       "      <td>0.045357</td>\n",
       "      <td>0.954643</td>\n",
       "      <td>0.000031</td>\n",
       "      <td>0.936722</td>\n",
       "      <td>...</td>\n",
       "      <td>0.602344</td>\n",
       "      <td>0.064790</td>\n",
       "      <td>0.000000</td>\n",
       "      <td>0.000000</td>\n",
       "      <td>0.071102</td>\n",
       "      <td>0.028986</td>\n",
       "      <td>0.680448</td>\n",
       "      <td>0.000041</td>\n",
       "      <td>1.496110e-07</td>\n",
       "      <td>1</td>\n",
       "    </tr>\n",
       "    <tr>\n",
       "      <th>1</th>\n",
       "      <td>0.968964</td>\n",
       "      <td>0.957712</td>\n",
       "      <td>0.010590</td>\n",
       "      <td>0.292322</td>\n",
       "      <td>0.101018</td>\n",
       "      <td>0.005199</td>\n",
       "      <td>0.027934</td>\n",
       "      <td>0.972066</td>\n",
       "      <td>0.095318</td>\n",
       "      <td>0.957712</td>\n",
       "      <td>...</td>\n",
       "      <td>0.639389</td>\n",
       "      <td>0.067519</td>\n",
       "      <td>0.092278</td>\n",
       "      <td>0.048732</td>\n",
       "      <td>0.044145</td>\n",
       "      <td>0.011383</td>\n",
       "      <td>0.705067</td>\n",
       "      <td>0.053855</td>\n",
       "      <td>1.740724e-04</td>\n",
       "      <td>0</td>\n",
       "    </tr>\n",
       "    <tr>\n",
       "      <th>2</th>\n",
       "      <td>0.970560</td>\n",
       "      <td>0.954625</td>\n",
       "      <td>0.012927</td>\n",
       "      <td>0.034160</td>\n",
       "      <td>0.112787</td>\n",
       "      <td>0.007168</td>\n",
       "      <td>0.032954</td>\n",
       "      <td>0.967046</td>\n",
       "      <td>0.028184</td>\n",
       "      <td>0.954625</td>\n",
       "      <td>...</td>\n",
       "      <td>0.631226</td>\n",
       "      <td>0.057905</td>\n",
       "      <td>0.000000</td>\n",
       "      <td>0.000000</td>\n",
       "      <td>0.015952</td>\n",
       "      <td>0.004401</td>\n",
       "      <td>0.700920</td>\n",
       "      <td>0.005178</td>\n",
       "      <td>1.107121e-05</td>\n",
       "      <td>0</td>\n",
       "    </tr>\n",
       "    <tr>\n",
       "      <th>3</th>\n",
       "      <td>0.938283</td>\n",
       "      <td>0.952361</td>\n",
       "      <td>0.000000</td>\n",
       "      <td>0.000000</td>\n",
       "      <td>0.011769</td>\n",
       "      <td>0.000394</td>\n",
       "      <td>0.072528</td>\n",
       "      <td>0.927472</td>\n",
       "      <td>0.000000</td>\n",
       "      <td>0.952361</td>\n",
       "      <td>...</td>\n",
       "      <td>0.629343</td>\n",
       "      <td>0.130066</td>\n",
       "      <td>0.000000</td>\n",
       "      <td>0.000000</td>\n",
       "      <td>0.006306</td>\n",
       "      <td>0.037024</td>\n",
       "      <td>0.676463</td>\n",
       "      <td>0.000000</td>\n",
       "      <td>0.000000e+00</td>\n",
       "      <td>1</td>\n",
       "    </tr>\n",
       "    <tr>\n",
       "      <th>4</th>\n",
       "      <td>0.966339</td>\n",
       "      <td>0.942484</td>\n",
       "      <td>0.001360</td>\n",
       "      <td>0.281137</td>\n",
       "      <td>0.077847</td>\n",
       "      <td>0.002048</td>\n",
       "      <td>0.122868</td>\n",
       "      <td>0.877132</td>\n",
       "      <td>0.081429</td>\n",
       "      <td>0.942484</td>\n",
       "      <td>...</td>\n",
       "      <td>0.624529</td>\n",
       "      <td>0.041875</td>\n",
       "      <td>0.000000</td>\n",
       "      <td>0.000000</td>\n",
       "      <td>0.008161</td>\n",
       "      <td>0.012838</td>\n",
       "      <td>0.636708</td>\n",
       "      <td>0.011211</td>\n",
       "      <td>2.296529e-05</td>\n",
       "      <td>1</td>\n",
       "    </tr>\n",
       "    <tr>\n",
       "      <th>...</th>\n",
       "      <td>...</td>\n",
       "      <td>...</td>\n",
       "      <td>...</td>\n",
       "      <td>...</td>\n",
       "      <td>...</td>\n",
       "      <td>...</td>\n",
       "      <td>...</td>\n",
       "      <td>...</td>\n",
       "      <td>...</td>\n",
       "      <td>...</td>\n",
       "      <td>...</td>\n",
       "      <td>...</td>\n",
       "      <td>...</td>\n",
       "      <td>...</td>\n",
       "      <td>...</td>\n",
       "      <td>...</td>\n",
       "      <td>...</td>\n",
       "      <td>...</td>\n",
       "      <td>...</td>\n",
       "      <td>...</td>\n",
       "      <td>...</td>\n",
       "    </tr>\n",
       "    <tr>\n",
       "      <th>99</th>\n",
       "      <td>0.965914</td>\n",
       "      <td>0.965737</td>\n",
       "      <td>0.008079</td>\n",
       "      <td>0.224002</td>\n",
       "      <td>0.083609</td>\n",
       "      <td>0.003545</td>\n",
       "      <td>0.028807</td>\n",
       "      <td>0.971193</td>\n",
       "      <td>0.051561</td>\n",
       "      <td>0.965737</td>\n",
       "      <td>...</td>\n",
       "      <td>0.661155</td>\n",
       "      <td>0.067519</td>\n",
       "      <td>0.096386</td>\n",
       "      <td>0.070427</td>\n",
       "      <td>0.050822</td>\n",
       "      <td>0.016148</td>\n",
       "      <td>0.704765</td>\n",
       "      <td>0.040360</td>\n",
       "      <td>1.846948e-04</td>\n",
       "      <td>0</td>\n",
       "    </tr>\n",
       "    <tr>\n",
       "      <th>100</th>\n",
       "      <td>0.943142</td>\n",
       "      <td>0.957300</td>\n",
       "      <td>0.000076</td>\n",
       "      <td>0.116082</td>\n",
       "      <td>0.020351</td>\n",
       "      <td>0.001260</td>\n",
       "      <td>0.096243</td>\n",
       "      <td>0.903757</td>\n",
       "      <td>0.012703</td>\n",
       "      <td>0.957300</td>\n",
       "      <td>...</td>\n",
       "      <td>0.633738</td>\n",
       "      <td>0.067519</td>\n",
       "      <td>0.015882</td>\n",
       "      <td>0.007009</td>\n",
       "      <td>0.007419</td>\n",
       "      <td>0.034150</td>\n",
       "      <td>0.659273</td>\n",
       "      <td>0.005911</td>\n",
       "      <td>1.675643e-05</td>\n",
       "      <td>1</td>\n",
       "    </tr>\n",
       "    <tr>\n",
       "      <th>101</th>\n",
       "      <td>0.937077</td>\n",
       "      <td>0.942792</td>\n",
       "      <td>0.000012</td>\n",
       "      <td>0.005441</td>\n",
       "      <td>0.025377</td>\n",
       "      <td>0.000945</td>\n",
       "      <td>0.044011</td>\n",
       "      <td>0.955989</td>\n",
       "      <td>0.000468</td>\n",
       "      <td>0.942792</td>\n",
       "      <td>...</td>\n",
       "      <td>0.611553</td>\n",
       "      <td>0.067515</td>\n",
       "      <td>0.002191</td>\n",
       "      <td>0.002670</td>\n",
       "      <td>0.025968</td>\n",
       "      <td>0.043861</td>\n",
       "      <td>0.693049</td>\n",
       "      <td>0.000612</td>\n",
       "      <td>2.037702e-04</td>\n",
       "      <td>1</td>\n",
       "    </tr>\n",
       "    <tr>\n",
       "      <th>102</th>\n",
       "      <td>0.982797</td>\n",
       "      <td>0.968001</td>\n",
       "      <td>0.039448</td>\n",
       "      <td>0.233676</td>\n",
       "      <td>0.302072</td>\n",
       "      <td>0.022450</td>\n",
       "      <td>0.012003</td>\n",
       "      <td>0.987997</td>\n",
       "      <td>0.105493</td>\n",
       "      <td>0.968001</td>\n",
       "      <td>...</td>\n",
       "      <td>0.710548</td>\n",
       "      <td>0.067519</td>\n",
       "      <td>0.156900</td>\n",
       "      <td>0.129840</td>\n",
       "      <td>0.207370</td>\n",
       "      <td>0.008183</td>\n",
       "      <td>0.729564</td>\n",
       "      <td>0.093603</td>\n",
       "      <td>5.359066e-04</td>\n",
       "      <td>0</td>\n",
       "    </tr>\n",
       "    <tr>\n",
       "      <th>103</th>\n",
       "      <td>0.993474</td>\n",
       "      <td>0.961107</td>\n",
       "      <td>0.042843</td>\n",
       "      <td>0.178053</td>\n",
       "      <td>0.525683</td>\n",
       "      <td>0.010477</td>\n",
       "      <td>0.007711</td>\n",
       "      <td>0.992289</td>\n",
       "      <td>0.095131</td>\n",
       "      <td>0.961107</td>\n",
       "      <td>...</td>\n",
       "      <td>0.687945</td>\n",
       "      <td>0.068923</td>\n",
       "      <td>0.000000</td>\n",
       "      <td>0.000000</td>\n",
       "      <td>0.468530</td>\n",
       "      <td>0.006874</td>\n",
       "      <td>0.791300</td>\n",
       "      <td>0.109707</td>\n",
       "      <td>1.714318e-03</td>\n",
       "      <td>0</td>\n",
       "    </tr>\n",
       "  </tbody>\n",
       "</table>\n",
       "<p>104 rows × 21 columns</p>\n",
       "</div>"
      ],
      "text/plain": [
       "     Net Working Capital/ Tot Assets  EBIDTA/ Total Assets  \\\n",
       "0                           0.968113              0.936722   \n",
       "1                           0.968964              0.957712   \n",
       "2                           0.970560              0.954625   \n",
       "3                           0.938283              0.952361   \n",
       "4                           0.966339              0.942484   \n",
       "..                               ...                   ...   \n",
       "99                          0.965914              0.965737   \n",
       "100                         0.943142              0.957300   \n",
       "101                         0.937077              0.942792   \n",
       "102                         0.982797              0.968001   \n",
       "103                         0.993474              0.961107   \n",
       "\n",
       "     Market Cap/ Total Debt  Revenue/Tot Assets  Current Ratio  Quick Ratio  \\\n",
       "0                  0.000006            0.000302       0.109967     0.002599   \n",
       "1                  0.010590            0.292322       0.101018     0.005199   \n",
       "2                  0.012927            0.034160       0.112787     0.007168   \n",
       "3                  0.000000            0.000000       0.011769     0.000394   \n",
       "4                  0.001360            0.281137       0.077847     0.002048   \n",
       "..                      ...                 ...            ...          ...   \n",
       "99                 0.008079            0.224002       0.083609     0.003545   \n",
       "100                0.000076            0.116082       0.020351     0.001260   \n",
       "101                0.000012            0.005441       0.025377     0.000945   \n",
       "102                0.039448            0.233676       0.302072     0.022450   \n",
       "103                0.042843            0.178053       0.525683     0.010477   \n",
       "\n",
       "     D/A Ratio  Equity/Tot Assets  Gross Rev/ Curr Liabilities  \\\n",
       "0     0.045357           0.954643                     0.000031   \n",
       "1     0.027934           0.972066                     0.095318   \n",
       "2     0.032954           0.967046                     0.028184   \n",
       "3     0.072528           0.927472                     0.000000   \n",
       "4     0.122868           0.877132                     0.081429   \n",
       "..         ...                ...                          ...   \n",
       "99    0.028807           0.971193                     0.051561   \n",
       "100   0.096243           0.903757                     0.012703   \n",
       "101   0.044011           0.955989                     0.000468   \n",
       "102   0.012003           0.987997                     0.105493   \n",
       "103   0.007711           0.992289                     0.095131   \n",
       "\n",
       "     EBIDTA/ Assets  ...  EBIDTA/ Tot Liabilities  \\\n",
       "0          0.936722  ...                 0.602344   \n",
       "1          0.957712  ...                 0.639389   \n",
       "2          0.954625  ...                 0.631226   \n",
       "3          0.952361  ...                 0.629343   \n",
       "4          0.942484  ...                 0.624529   \n",
       "..              ...  ...                      ...   \n",
       "99         0.965737  ...                 0.661155   \n",
       "100        0.957300  ...                 0.633738   \n",
       "101        0.942792  ...                 0.611553   \n",
       "102        0.968001  ...                 0.710548   \n",
       "103        0.961107  ...                 0.687945   \n",
       "\n",
       "     Net Profit/ Operating Expenses  Operating Expense/ Current Liabilities  \\\n",
       "0                          0.064790                                0.000000   \n",
       "1                          0.067519                                0.092278   \n",
       "2                          0.057905                                0.000000   \n",
       "3                          0.130066                                0.000000   \n",
       "4                          0.041875                                0.000000   \n",
       "..                              ...                                     ...   \n",
       "99                         0.067519                                0.096386   \n",
       "100                        0.067519                                0.015882   \n",
       "101                        0.067515                                0.002191   \n",
       "102                        0.067519                                0.156900   \n",
       "103                        0.068923                                0.000000   \n",
       "\n",
       "     Operating Expenses/ Total Liabilities  Current Assets/ Total Liabilities  \\\n",
       "0                                 0.000000                           0.071102   \n",
       "1                                 0.048732                           0.044145   \n",
       "2                                 0.000000                           0.015952   \n",
       "3                                 0.000000                           0.006306   \n",
       "4                                 0.000000                           0.008161   \n",
       "..                                     ...                                ...   \n",
       "99                                0.070427                           0.050822   \n",
       "100                               0.007009                           0.007419   \n",
       "101                               0.002670                           0.025968   \n",
       "102                               0.129840                           0.207370   \n",
       "103                               0.000000                           0.468530   \n",
       "\n",
       "     Current Liabilities/ Total Assets  Equity/Fixed Assets  \\\n",
       "0                             0.028986             0.680448   \n",
       "1                             0.011383             0.705067   \n",
       "2                             0.004401             0.700920   \n",
       "3                             0.037024             0.676463   \n",
       "4                             0.012838             0.636708   \n",
       "..                                 ...                  ...   \n",
       "99                            0.016148             0.704765   \n",
       "100                           0.034150             0.659273   \n",
       "101                           0.043861             0.693049   \n",
       "102                           0.008183             0.729564   \n",
       "103                           0.006874             0.791300   \n",
       "\n",
       "     Revenue/Liabilities  Revenue/Short-term Liabilities  Label  \n",
       "0               0.000041                    1.496110e-07      1  \n",
       "1               0.053855                    1.740724e-04      0  \n",
       "2               0.005178                    1.107121e-05      0  \n",
       "3               0.000000                    0.000000e+00      1  \n",
       "4               0.011211                    2.296529e-05      1  \n",
       "..                   ...                             ...    ...  \n",
       "99              0.040360                    1.846948e-04      0  \n",
       "100             0.005911                    1.675643e-05      1  \n",
       "101             0.000612                    2.037702e-04      1  \n",
       "102             0.093603                    5.359066e-04      0  \n",
       "103             0.109707                    1.714318e-03      0  \n",
       "\n",
       "[104 rows x 21 columns]"
      ]
     },
     "execution_count": 20,
     "metadata": {},
     "output_type": "execute_result"
    }
   ],
   "source": [
    "norm_data"
   ]
  },
  {
   "cell_type": "code",
   "execution_count": 21,
   "id": "125a2873",
   "metadata": {},
   "outputs": [
    {
     "data": {
      "text/plain": [
       "['Net Working Capital/ Tot Assets',\n",
       " 'EBIDTA/ Total Assets',\n",
       " 'Market Cap/ Total Debt',\n",
       " 'Revenue/Tot Assets',\n",
       " 'Current Ratio',\n",
       " 'Quick Ratio',\n",
       " 'D/A Ratio',\n",
       " 'Equity/Tot Assets',\n",
       " 'Gross Rev/ Curr Liabilities',\n",
       " 'EBIDTA/ Assets',\n",
       " 'Equity-ShareCapital/ Total Assets',\n",
       " 'EBIDTA/ Tot Liabilities',\n",
       " 'Net Profit/ Operating Expenses',\n",
       " 'Operating Expense/ Current Liabilities',\n",
       " 'Operating Expenses/ Total Liabilities',\n",
       " 'Current Assets/ Total Liabilities',\n",
       " 'Current Liabilities/ Total Assets',\n",
       " 'Equity/Fixed Assets',\n",
       " 'Revenue/Liabilities',\n",
       " 'Revenue/Short-term Liabilities']"
      ]
     },
     "execution_count": 21,
     "metadata": {},
     "output_type": "execute_result"
    }
   ],
   "source": [
    "selected_features1=list(norm_data)\n",
    "selected_features1.remove('Label')\n",
    "selected_features1"
   ]
  },
  {
   "cell_type": "markdown",
   "id": "74761b2b",
   "metadata": {},
   "source": [
    "**INFORMATION GAIN**"
   ]
  },
  {
   "cell_type": "code",
   "execution_count": 22,
   "id": "47ef9500",
   "metadata": {},
   "outputs": [
    {
     "name": "stdout",
     "output_type": "stream",
     "text": [
      "Feature 1: 0.2805460318794901\n",
      "Feature 2: 0.4102619193185706\n",
      "Feature 3: 0.3639753312583702\n",
      "Feature 4: 0.06568142559654011\n",
      "Feature 5: 0.2362874582642247\n",
      "Feature 6: 0.36621331792558687\n",
      "Feature 7: 0.4446695428490661\n",
      "Feature 8: 0.30259299000543827\n",
      "Feature 9: 0.30382036058481554\n",
      "Feature 10: 0.2996167995292478\n",
      "Feature 11: 0.22249804977400278\n",
      "Feature 12: 0.4129252282318796\n",
      "Feature 13: 0.358414422346647\n",
      "Feature 14: 0.4571833645149028\n",
      "Feature 15: 0.48463161389398035\n",
      "Feature 16: 0.2770873429958556\n",
      "Feature 17: 0.44380840428519885\n",
      "Feature 18: 0.0\n",
      "Feature 19: 0.06352088383319132\n",
      "Feature 20: 0.15448563272111948\n",
      "Feature 21: 0.26684308809967106\n",
      "Feature 22: 0.35865730457057343\n",
      "Feature 23: 0.4461000367373502\n",
      "Feature 24: 0.38622232316485006\n",
      "Feature 25: 0.26636330081388704\n",
      "Feature 26: 0.05597172500433789\n",
      "Feature 27: 0.06248775171267229\n",
      "[14 13 22  6 16 11  1 23  5  2 21 12  8  7  9  0 15 20 24]\n"
     ]
    },
    {
     "data": {
      "text/html": [
       "<div>\n",
       "<style scoped>\n",
       "    .dataframe tbody tr th:only-of-type {\n",
       "        vertical-align: middle;\n",
       "    }\n",
       "\n",
       "    .dataframe tbody tr th {\n",
       "        vertical-align: top;\n",
       "    }\n",
       "\n",
       "    .dataframe thead th {\n",
       "        text-align: right;\n",
       "    }\n",
       "</style>\n",
       "<table border=\"1\" class=\"dataframe\">\n",
       "  <thead>\n",
       "    <tr style=\"text-align: right;\">\n",
       "      <th></th>\n",
       "      <th>Net Profit/ Operating Expenses</th>\n",
       "      <th>EBIDTA/ Tot Liabilities</th>\n",
       "      <th>Total Expenses/ Total Revenue</th>\n",
       "      <th>EBIDTA/ Revenue</th>\n",
       "      <th>EBIT/Sales</th>\n",
       "      <th>EBIDTA/ Assets</th>\n",
       "      <th>EBIDTA/ Total Assets</th>\n",
       "      <th>Long-tern Liabilities/ Equity</th>\n",
       "      <th>Quick Ratio</th>\n",
       "      <th>Market Cap/ Total Debt</th>\n",
       "      <th>Equity/Fixed Assets</th>\n",
       "      <th>Equity-ShareCapital/ Total Assets</th>\n",
       "      <th>D/E Ratio</th>\n",
       "      <th>D/A Ratio</th>\n",
       "      <th>Equity/Tot Assets</th>\n",
       "      <th>Net Working Capital/ Tot Assets</th>\n",
       "      <th>Total Liabilities -Cash/ Sales</th>\n",
       "      <th>Current Liabilities/ Total Assets</th>\n",
       "      <th>Revenue/Liabilities</th>\n",
       "    </tr>\n",
       "  </thead>\n",
       "  <tbody>\n",
       "    <tr>\n",
       "      <th>0</th>\n",
       "      <td>0.064790</td>\n",
       "      <td>0.602344</td>\n",
       "      <td>0.078505</td>\n",
       "      <td>0.952514</td>\n",
       "      <td>0.920776</td>\n",
       "      <td>0.936722</td>\n",
       "      <td>0.936722</td>\n",
       "      <td>0.886010</td>\n",
       "      <td>0.002599</td>\n",
       "      <td>0.000006</td>\n",
       "      <td>0.680448</td>\n",
       "      <td>0.953678</td>\n",
       "      <td>0.891719</td>\n",
       "      <td>0.045357</td>\n",
       "      <td>0.954643</td>\n",
       "      <td>0.968113</td>\n",
       "      <td>4.259940e-03</td>\n",
       "      <td>0.028986</td>\n",
       "      <td>0.000041</td>\n",
       "    </tr>\n",
       "    <tr>\n",
       "      <th>1</th>\n",
       "      <td>0.067519</td>\n",
       "      <td>0.639389</td>\n",
       "      <td>0.000183</td>\n",
       "      <td>0.999769</td>\n",
       "      <td>0.999769</td>\n",
       "      <td>0.957712</td>\n",
       "      <td>0.957712</td>\n",
       "      <td>0.915449</td>\n",
       "      <td>0.005199</td>\n",
       "      <td>0.010590</td>\n",
       "      <td>0.705067</td>\n",
       "      <td>0.972214</td>\n",
       "      <td>0.900323</td>\n",
       "      <td>0.027934</td>\n",
       "      <td>0.972066</td>\n",
       "      <td>0.968964</td>\n",
       "      <td>1.955746e-06</td>\n",
       "      <td>0.011383</td>\n",
       "      <td>0.053855</td>\n",
       "    </tr>\n",
       "    <tr>\n",
       "      <th>2</th>\n",
       "      <td>0.057905</td>\n",
       "      <td>0.631226</td>\n",
       "      <td>0.000216</td>\n",
       "      <td>0.999756</td>\n",
       "      <td>0.999756</td>\n",
       "      <td>0.954625</td>\n",
       "      <td>0.954625</td>\n",
       "      <td>0.915643</td>\n",
       "      <td>0.007168</td>\n",
       "      <td>0.012927</td>\n",
       "      <td>0.700920</td>\n",
       "      <td>0.966433</td>\n",
       "      <td>0.907638</td>\n",
       "      <td>0.032954</td>\n",
       "      <td>0.967046</td>\n",
       "      <td>0.970560</td>\n",
       "      <td>2.130297e-05</td>\n",
       "      <td>0.004401</td>\n",
       "      <td>0.005178</td>\n",
       "    </tr>\n",
       "    <tr>\n",
       "      <th>3</th>\n",
       "      <td>0.130066</td>\n",
       "      <td>0.629343</td>\n",
       "      <td>1.000000</td>\n",
       "      <td>0.000000</td>\n",
       "      <td>0.000000</td>\n",
       "      <td>0.952361</td>\n",
       "      <td>0.952361</td>\n",
       "      <td>0.899767</td>\n",
       "      <td>0.000394</td>\n",
       "      <td>0.000000</td>\n",
       "      <td>0.676463</td>\n",
       "      <td>0.925495</td>\n",
       "      <td>0.894802</td>\n",
       "      <td>0.072528</td>\n",
       "      <td>0.927472</td>\n",
       "      <td>0.938283</td>\n",
       "      <td>1.000000e+00</td>\n",
       "      <td>0.037024</td>\n",
       "      <td>0.000000</td>\n",
       "    </tr>\n",
       "    <tr>\n",
       "      <th>4</th>\n",
       "      <td>0.041875</td>\n",
       "      <td>0.624529</td>\n",
       "      <td>0.000219</td>\n",
       "      <td>0.999735</td>\n",
       "      <td>0.999735</td>\n",
       "      <td>0.942484</td>\n",
       "      <td>0.942484</td>\n",
       "      <td>0.905401</td>\n",
       "      <td>0.002048</td>\n",
       "      <td>0.001360</td>\n",
       "      <td>0.636708</td>\n",
       "      <td>0.874223</td>\n",
       "      <td>0.895412</td>\n",
       "      <td>0.122868</td>\n",
       "      <td>0.877132</td>\n",
       "      <td>0.966339</td>\n",
       "      <td>9.964067e-06</td>\n",
       "      <td>0.012838</td>\n",
       "      <td>0.011211</td>\n",
       "    </tr>\n",
       "    <tr>\n",
       "      <th>...</th>\n",
       "      <td>...</td>\n",
       "      <td>...</td>\n",
       "      <td>...</td>\n",
       "      <td>...</td>\n",
       "      <td>...</td>\n",
       "      <td>...</td>\n",
       "      <td>...</td>\n",
       "      <td>...</td>\n",
       "      <td>...</td>\n",
       "      <td>...</td>\n",
       "      <td>...</td>\n",
       "      <td>...</td>\n",
       "      <td>...</td>\n",
       "      <td>...</td>\n",
       "      <td>...</td>\n",
       "      <td>...</td>\n",
       "      <td>...</td>\n",
       "      <td>...</td>\n",
       "      <td>...</td>\n",
       "    </tr>\n",
       "    <tr>\n",
       "      <th>99</th>\n",
       "      <td>0.067519</td>\n",
       "      <td>0.661155</td>\n",
       "      <td>0.000164</td>\n",
       "      <td>0.999794</td>\n",
       "      <td>0.999794</td>\n",
       "      <td>0.965737</td>\n",
       "      <td>0.965737</td>\n",
       "      <td>0.920793</td>\n",
       "      <td>0.003545</td>\n",
       "      <td>0.008079</td>\n",
       "      <td>0.704765</td>\n",
       "      <td>0.971311</td>\n",
       "      <td>0.900824</td>\n",
       "      <td>0.028807</td>\n",
       "      <td>0.971193</td>\n",
       "      <td>0.965914</td>\n",
       "      <td>2.564323e-06</td>\n",
       "      <td>0.016148</td>\n",
       "      <td>0.040360</td>\n",
       "    </tr>\n",
       "    <tr>\n",
       "      <th>100</th>\n",
       "      <td>0.067519</td>\n",
       "      <td>0.633738</td>\n",
       "      <td>0.000188</td>\n",
       "      <td>0.999775</td>\n",
       "      <td>0.999775</td>\n",
       "      <td>0.957300</td>\n",
       "      <td>0.957300</td>\n",
       "      <td>0.902674</td>\n",
       "      <td>0.001260</td>\n",
       "      <td>0.000076</td>\n",
       "      <td>0.659273</td>\n",
       "      <td>0.898071</td>\n",
       "      <td>0.895217</td>\n",
       "      <td>0.096243</td>\n",
       "      <td>0.903757</td>\n",
       "      <td>0.943142</td>\n",
       "      <td>1.833477e-05</td>\n",
       "      <td>0.034150</td>\n",
       "      <td>0.005911</td>\n",
       "    </tr>\n",
       "    <tr>\n",
       "      <th>101</th>\n",
       "      <td>0.067515</td>\n",
       "      <td>0.611553</td>\n",
       "      <td>0.002522</td>\n",
       "      <td>0.998333</td>\n",
       "      <td>0.998333</td>\n",
       "      <td>0.942792</td>\n",
       "      <td>0.942792</td>\n",
       "      <td>0.870340</td>\n",
       "      <td>0.000945</td>\n",
       "      <td>0.000012</td>\n",
       "      <td>0.693049</td>\n",
       "      <td>0.956027</td>\n",
       "      <td>0.891010</td>\n",
       "      <td>0.044011</td>\n",
       "      <td>0.955989</td>\n",
       "      <td>0.937077</td>\n",
       "      <td>1.876603e-04</td>\n",
       "      <td>0.043861</td>\n",
       "      <td>0.000612</td>\n",
       "    </tr>\n",
       "    <tr>\n",
       "      <th>102</th>\n",
       "      <td>0.067519</td>\n",
       "      <td>0.710548</td>\n",
       "      <td>0.000157</td>\n",
       "      <td>0.999798</td>\n",
       "      <td>0.999798</td>\n",
       "      <td>0.968001</td>\n",
       "      <td>0.968001</td>\n",
       "      <td>0.908593</td>\n",
       "      <td>0.022450</td>\n",
       "      <td>0.039448</td>\n",
       "      <td>0.729564</td>\n",
       "      <td>0.987751</td>\n",
       "      <td>0.897438</td>\n",
       "      <td>0.012003</td>\n",
       "      <td>0.987997</td>\n",
       "      <td>0.982797</td>\n",
       "      <td>8.243454e-07</td>\n",
       "      <td>0.008183</td>\n",
       "      <td>0.093603</td>\n",
       "    </tr>\n",
       "    <tr>\n",
       "      <th>103</th>\n",
       "      <td>0.068923</td>\n",
       "      <td>0.687945</td>\n",
       "      <td>0.000168</td>\n",
       "      <td>0.999785</td>\n",
       "      <td>0.999785</td>\n",
       "      <td>0.961107</td>\n",
       "      <td>0.961107</td>\n",
       "      <td>0.907960</td>\n",
       "      <td>0.010477</td>\n",
       "      <td>0.042843</td>\n",
       "      <td>0.791300</td>\n",
       "      <td>0.992087</td>\n",
       "      <td>0.897199</td>\n",
       "      <td>0.007711</td>\n",
       "      <td>0.992289</td>\n",
       "      <td>0.993474</td>\n",
       "      <td>6.832661e-07</td>\n",
       "      <td>0.006874</td>\n",
       "      <td>0.109707</td>\n",
       "    </tr>\n",
       "  </tbody>\n",
       "</table>\n",
       "<p>104 rows × 19 columns</p>\n",
       "</div>"
      ],
      "text/plain": [
       "     Net Profit/ Operating Expenses  EBIDTA/ Tot Liabilities  \\\n",
       "0                          0.064790                 0.602344   \n",
       "1                          0.067519                 0.639389   \n",
       "2                          0.057905                 0.631226   \n",
       "3                          0.130066                 0.629343   \n",
       "4                          0.041875                 0.624529   \n",
       "..                              ...                      ...   \n",
       "99                         0.067519                 0.661155   \n",
       "100                        0.067519                 0.633738   \n",
       "101                        0.067515                 0.611553   \n",
       "102                        0.067519                 0.710548   \n",
       "103                        0.068923                 0.687945   \n",
       "\n",
       "     Total Expenses/ Total Revenue  EBIDTA/ Revenue  EBIT/Sales  \\\n",
       "0                         0.078505         0.952514    0.920776   \n",
       "1                         0.000183         0.999769    0.999769   \n",
       "2                         0.000216         0.999756    0.999756   \n",
       "3                         1.000000         0.000000    0.000000   \n",
       "4                         0.000219         0.999735    0.999735   \n",
       "..                             ...              ...         ...   \n",
       "99                        0.000164         0.999794    0.999794   \n",
       "100                       0.000188         0.999775    0.999775   \n",
       "101                       0.002522         0.998333    0.998333   \n",
       "102                       0.000157         0.999798    0.999798   \n",
       "103                       0.000168         0.999785    0.999785   \n",
       "\n",
       "     EBIDTA/ Assets  EBIDTA/ Total Assets  Long-tern Liabilities/ Equity  \\\n",
       "0          0.936722              0.936722                       0.886010   \n",
       "1          0.957712              0.957712                       0.915449   \n",
       "2          0.954625              0.954625                       0.915643   \n",
       "3          0.952361              0.952361                       0.899767   \n",
       "4          0.942484              0.942484                       0.905401   \n",
       "..              ...                   ...                            ...   \n",
       "99         0.965737              0.965737                       0.920793   \n",
       "100        0.957300              0.957300                       0.902674   \n",
       "101        0.942792              0.942792                       0.870340   \n",
       "102        0.968001              0.968001                       0.908593   \n",
       "103        0.961107              0.961107                       0.907960   \n",
       "\n",
       "     Quick Ratio  Market Cap/ Total Debt  Equity/Fixed Assets  \\\n",
       "0       0.002599                0.000006             0.680448   \n",
       "1       0.005199                0.010590             0.705067   \n",
       "2       0.007168                0.012927             0.700920   \n",
       "3       0.000394                0.000000             0.676463   \n",
       "4       0.002048                0.001360             0.636708   \n",
       "..           ...                     ...                  ...   \n",
       "99      0.003545                0.008079             0.704765   \n",
       "100     0.001260                0.000076             0.659273   \n",
       "101     0.000945                0.000012             0.693049   \n",
       "102     0.022450                0.039448             0.729564   \n",
       "103     0.010477                0.042843             0.791300   \n",
       "\n",
       "     Equity-ShareCapital/ Total Assets  D/E Ratio  D/A Ratio  \\\n",
       "0                             0.953678   0.891719   0.045357   \n",
       "1                             0.972214   0.900323   0.027934   \n",
       "2                             0.966433   0.907638   0.032954   \n",
       "3                             0.925495   0.894802   0.072528   \n",
       "4                             0.874223   0.895412   0.122868   \n",
       "..                                 ...        ...        ...   \n",
       "99                            0.971311   0.900824   0.028807   \n",
       "100                           0.898071   0.895217   0.096243   \n",
       "101                           0.956027   0.891010   0.044011   \n",
       "102                           0.987751   0.897438   0.012003   \n",
       "103                           0.992087   0.897199   0.007711   \n",
       "\n",
       "     Equity/Tot Assets  Net Working Capital/ Tot Assets  \\\n",
       "0             0.954643                         0.968113   \n",
       "1             0.972066                         0.968964   \n",
       "2             0.967046                         0.970560   \n",
       "3             0.927472                         0.938283   \n",
       "4             0.877132                         0.966339   \n",
       "..                 ...                              ...   \n",
       "99            0.971193                         0.965914   \n",
       "100           0.903757                         0.943142   \n",
       "101           0.955989                         0.937077   \n",
       "102           0.987997                         0.982797   \n",
       "103           0.992289                         0.993474   \n",
       "\n",
       "     Total Liabilities -Cash/ Sales  Current Liabilities/ Total Assets  \\\n",
       "0                      4.259940e-03                           0.028986   \n",
       "1                      1.955746e-06                           0.011383   \n",
       "2                      2.130297e-05                           0.004401   \n",
       "3                      1.000000e+00                           0.037024   \n",
       "4                      9.964067e-06                           0.012838   \n",
       "..                              ...                                ...   \n",
       "99                     2.564323e-06                           0.016148   \n",
       "100                    1.833477e-05                           0.034150   \n",
       "101                    1.876603e-04                           0.043861   \n",
       "102                    8.243454e-07                           0.008183   \n",
       "103                    6.832661e-07                           0.006874   \n",
       "\n",
       "     Revenue/Liabilities  \n",
       "0               0.000041  \n",
       "1               0.053855  \n",
       "2               0.005178  \n",
       "3               0.000000  \n",
       "4               0.011211  \n",
       "..                   ...  \n",
       "99              0.040360  \n",
       "100             0.005911  \n",
       "101             0.000612  \n",
       "102             0.093603  \n",
       "103             0.109707  \n",
       "\n",
       "[104 rows x 19 columns]"
      ]
     },
     "execution_count": 22,
     "metadata": {},
     "output_type": "execute_result"
    }
   ],
   "source": [
    "import numpy as np\n",
    "from sklearn.feature_selection import mutual_info_classif\n",
    "\n",
    "info_gain = mutual_info_classif(norm_features, labels)\n",
    "\n",
    "# Print information gain for each feature\n",
    "for i, gain in enumerate(info_gain):\n",
    "    print(f\"Feature {i + 1}: {gain}\")\n",
    "\n",
    "# Select the top k features based on information gain\n",
    "k = 19\n",
    "top_k_indices = np.argsort(info_gain)[::-1][:k]\n",
    "print(top_k_indices)\n",
    "# Extract the selected features\n",
    "selected_features2 = []\n",
    "for i in top_k_indices:\n",
    "    selected_features2.append(norm_features.columns[i])\n",
    "\n",
    "selected_features2\n",
    "\n",
    "df3=pd.DataFrame(norm_features,columns=selected_features2)\n",
    "df3"
   ]
  },
  {
   "cell_type": "markdown",
   "id": "e9d76da9",
   "metadata": {},
   "source": [
    "**COMMON SELECTED FEATURES**"
   ]
  },
  {
   "cell_type": "code",
   "execution_count": 23,
   "id": "19c5499a",
   "metadata": {},
   "outputs": [
    {
     "name": "stdout",
     "output_type": "stream",
     "text": [
      "['Equity/Tot Assets', 'Net Profit/ Operating Expenses', 'Quick Ratio', 'EBIDTA/ Tot Liabilities', 'Market Cap/ Total Debt', 'Equity-ShareCapital/ Total Assets', 'EBIDTA/ Assets', 'Equity/Fixed Assets', 'EBIDTA/ Total Assets', 'Current Liabilities/ Total Assets', 'Net Working Capital/ Tot Assets', 'D/A Ratio', 'Revenue/Liabilities', 'Label']\n"
     ]
    }
   ],
   "source": [
    "sf1=set(selected_feature_columns)\n",
    "sf2=set(selected_features1)\n",
    "sf3=set(selected_features2)\n",
    "final_features=list(sf1.intersection(sf2).intersection(sf3))\n",
    "final_columns=final_features\n",
    "final_columns=final_columns.append('Label')\n",
    "print(final_features)"
   ]
  },
  {
   "cell_type": "code",
   "execution_count": 24,
   "id": "b33d09a7",
   "metadata": {},
   "outputs": [],
   "source": [
    "import os\n",
    "triplet_folder='Triplets/'\n",
    "order=[]\n",
    "for comp in os.listdir(triplet_folder):\n",
    "    order.append(comp[:-4])"
   ]
  },
  {
   "cell_type": "code",
   "execution_count": 25,
   "id": "41cd9e22",
   "metadata": {},
   "outputs": [],
   "source": [
    "norm_data['Dist_Ent_Embedding']=0\n",
    "norm_data['Dist_Rel_Embedding']=0\n",
    "norm_data['Trans_Ent_Embedding']=0\n",
    "norm_data['Trans_Rel_Embedding']=0\n",
    "c=''\n",
    "main_i=0\n",
    "for i in range(102):\n",
    "    c=order[i][:-9]\n",
    "    main_i=data.index[data['Code']==c]\n",
    "    norm_data.loc[data['Code']==c,\"Dist_Ent_Embedding\"]=dist_ent_avg[i]\n",
    "    norm_data.loc[data['Code']==c,\"Dist_Rel_Embedding\"]=dist_rel_avg[i]\n",
    "    norm_data.loc[data['Code']==c,\"Trans_Ent_Embedding\"]=trans_ent_avg[i]\n",
    "    norm_data.loc[data['Code']==c,\"Trans_Rel_Embedding\"]=trans_rel_avg[i]\n",
    "#     norm_data.at[main_i,\"Dist_Ent_embedding\"]=dist_ent_avg[i]\n",
    "#     norm_data.loc[data['Code']==c,\"Dist_Rel_Embedding\"]=dist_rel_avg[i]\n",
    "#     norm_data.loc[data['Code']==c,\"Trans_Ent_Embedding\"]=trans_ent_avg[i]\n",
    "#     norm_data.loc[data['Code']==c,\"Trans_Rel_Embedding\"]=trans_rel_avg[i]\n",
    "final_features.append('Dist_Ent_Embedding')\n",
    "final_features.append('Dist_Rel_Embedding')\n",
    "final_features.append('Trans_Ent_Embedding')\n",
    "final_features.append('Trans_Rel_Embedding')"
   ]
  },
  {
   "cell_type": "markdown",
   "id": "555120a0",
   "metadata": {},
   "source": [
    "**TRAIN-TEST SPLIT**"
   ]
  },
  {
   "cell_type": "code",
   "execution_count": 26,
   "id": "b488f6b7",
   "metadata": {},
   "outputs": [],
   "source": [
    "final_data=norm_data[final_features]\n",
    "temp=scaler.fit_transform(final_data)\n",
    "final_data=pd.DataFrame(temp,columns=list(final_data.columns))\n",
    "train_data=final_data.loc[0:80]\n",
    "test_data=final_data.loc[81:]\n",
    "x_train=train_data.drop('Label',axis=1)\n",
    "y_train=train_data['Label']\n",
    "x_test=test_data.drop('Label',axis=1)\n",
    "y_test=test_data['Label']"
   ]
  },
  {
   "cell_type": "code",
   "execution_count": 27,
   "id": "f7e15875",
   "metadata": {},
   "outputs": [
    {
     "data": {
      "text/html": [
       "<div>\n",
       "<style scoped>\n",
       "    .dataframe tbody tr th:only-of-type {\n",
       "        vertical-align: middle;\n",
       "    }\n",
       "\n",
       "    .dataframe tbody tr th {\n",
       "        vertical-align: top;\n",
       "    }\n",
       "\n",
       "    .dataframe thead th {\n",
       "        text-align: right;\n",
       "    }\n",
       "</style>\n",
       "<table border=\"1\" class=\"dataframe\">\n",
       "  <thead>\n",
       "    <tr style=\"text-align: right;\">\n",
       "      <th></th>\n",
       "      <th>Equity/Tot Assets</th>\n",
       "      <th>Net Profit/ Operating Expenses</th>\n",
       "      <th>Quick Ratio</th>\n",
       "      <th>EBIDTA/ Tot Liabilities</th>\n",
       "      <th>Market Cap/ Total Debt</th>\n",
       "      <th>Equity-ShareCapital/ Total Assets</th>\n",
       "      <th>EBIDTA/ Assets</th>\n",
       "      <th>Equity/Fixed Assets</th>\n",
       "      <th>EBIDTA/ Total Assets</th>\n",
       "      <th>Current Liabilities/ Total Assets</th>\n",
       "      <th>Net Working Capital/ Tot Assets</th>\n",
       "      <th>D/A Ratio</th>\n",
       "      <th>Revenue/Liabilities</th>\n",
       "      <th>Dist_Ent_Embedding</th>\n",
       "      <th>Dist_Rel_Embedding</th>\n",
       "      <th>Trans_Ent_Embedding</th>\n",
       "      <th>Trans_Rel_Embedding</th>\n",
       "    </tr>\n",
       "  </thead>\n",
       "  <tbody>\n",
       "    <tr>\n",
       "      <th>0</th>\n",
       "      <td>0.954643</td>\n",
       "      <td>0.064790</td>\n",
       "      <td>0.002599</td>\n",
       "      <td>0.602344</td>\n",
       "      <td>0.000006</td>\n",
       "      <td>0.953678</td>\n",
       "      <td>0.936722</td>\n",
       "      <td>0.680448</td>\n",
       "      <td>0.936722</td>\n",
       "      <td>0.028986</td>\n",
       "      <td>0.968113</td>\n",
       "      <td>0.045357</td>\n",
       "      <td>0.000041</td>\n",
       "      <td>0.214449</td>\n",
       "      <td>0.533749</td>\n",
       "      <td>0.506666</td>\n",
       "      <td>0.403446</td>\n",
       "    </tr>\n",
       "    <tr>\n",
       "      <th>1</th>\n",
       "      <td>0.972066</td>\n",
       "      <td>0.067519</td>\n",
       "      <td>0.005199</td>\n",
       "      <td>0.639389</td>\n",
       "      <td>0.010590</td>\n",
       "      <td>0.972214</td>\n",
       "      <td>0.957712</td>\n",
       "      <td>0.705067</td>\n",
       "      <td>0.957712</td>\n",
       "      <td>0.011383</td>\n",
       "      <td>0.968964</td>\n",
       "      <td>0.027934</td>\n",
       "      <td>0.053855</td>\n",
       "      <td>0.235585</td>\n",
       "      <td>0.736623</td>\n",
       "      <td>0.330210</td>\n",
       "      <td>0.811761</td>\n",
       "    </tr>\n",
       "    <tr>\n",
       "      <th>2</th>\n",
       "      <td>0.967046</td>\n",
       "      <td>0.057905</td>\n",
       "      <td>0.007168</td>\n",
       "      <td>0.631226</td>\n",
       "      <td>0.012927</td>\n",
       "      <td>0.966433</td>\n",
       "      <td>0.954625</td>\n",
       "      <td>0.700920</td>\n",
       "      <td>0.954625</td>\n",
       "      <td>0.004401</td>\n",
       "      <td>0.970560</td>\n",
       "      <td>0.032954</td>\n",
       "      <td>0.005178</td>\n",
       "      <td>0.543115</td>\n",
       "      <td>0.618184</td>\n",
       "      <td>0.549330</td>\n",
       "      <td>0.586417</td>\n",
       "    </tr>\n",
       "    <tr>\n",
       "      <th>3</th>\n",
       "      <td>0.927472</td>\n",
       "      <td>0.130066</td>\n",
       "      <td>0.000394</td>\n",
       "      <td>0.629343</td>\n",
       "      <td>0.000000</td>\n",
       "      <td>0.925495</td>\n",
       "      <td>0.952361</td>\n",
       "      <td>0.676463</td>\n",
       "      <td>0.952361</td>\n",
       "      <td>0.037024</td>\n",
       "      <td>0.938283</td>\n",
       "      <td>0.072528</td>\n",
       "      <td>0.000000</td>\n",
       "      <td>0.263189</td>\n",
       "      <td>0.313912</td>\n",
       "      <td>0.439111</td>\n",
       "      <td>0.561843</td>\n",
       "    </tr>\n",
       "    <tr>\n",
       "      <th>4</th>\n",
       "      <td>0.877132</td>\n",
       "      <td>0.041875</td>\n",
       "      <td>0.002048</td>\n",
       "      <td>0.624529</td>\n",
       "      <td>0.001360</td>\n",
       "      <td>0.874223</td>\n",
       "      <td>0.942484</td>\n",
       "      <td>0.636708</td>\n",
       "      <td>0.942484</td>\n",
       "      <td>0.012838</td>\n",
       "      <td>0.966339</td>\n",
       "      <td>0.122868</td>\n",
       "      <td>0.011211</td>\n",
       "      <td>0.485080</td>\n",
       "      <td>0.421138</td>\n",
       "      <td>0.395118</td>\n",
       "      <td>0.659524</td>\n",
       "    </tr>\n",
       "    <tr>\n",
       "      <th>...</th>\n",
       "      <td>...</td>\n",
       "      <td>...</td>\n",
       "      <td>...</td>\n",
       "      <td>...</td>\n",
       "      <td>...</td>\n",
       "      <td>...</td>\n",
       "      <td>...</td>\n",
       "      <td>...</td>\n",
       "      <td>...</td>\n",
       "      <td>...</td>\n",
       "      <td>...</td>\n",
       "      <td>...</td>\n",
       "      <td>...</td>\n",
       "      <td>...</td>\n",
       "      <td>...</td>\n",
       "      <td>...</td>\n",
       "      <td>...</td>\n",
       "    </tr>\n",
       "    <tr>\n",
       "      <th>76</th>\n",
       "      <td>0.895282</td>\n",
       "      <td>0.068076</td>\n",
       "      <td>0.004963</td>\n",
       "      <td>0.636459</td>\n",
       "      <td>0.000639</td>\n",
       "      <td>0.895830</td>\n",
       "      <td>0.961313</td>\n",
       "      <td>0.612331</td>\n",
       "      <td>0.961313</td>\n",
       "      <td>0.039242</td>\n",
       "      <td>0.952364</td>\n",
       "      <td>0.104718</td>\n",
       "      <td>0.008806</td>\n",
       "      <td>0.179363</td>\n",
       "      <td>0.672708</td>\n",
       "      <td>0.649377</td>\n",
       "      <td>0.245546</td>\n",
       "    </tr>\n",
       "    <tr>\n",
       "      <th>77</th>\n",
       "      <td>0.957335</td>\n",
       "      <td>0.067511</td>\n",
       "      <td>0.006932</td>\n",
       "      <td>0.551695</td>\n",
       "      <td>0.006475</td>\n",
       "      <td>0.955413</td>\n",
       "      <td>0.908324</td>\n",
       "      <td>0.674430</td>\n",
       "      <td>0.908324</td>\n",
       "      <td>0.039933</td>\n",
       "      <td>0.962012</td>\n",
       "      <td>0.042665</td>\n",
       "      <td>0.072078</td>\n",
       "      <td>0.579224</td>\n",
       "      <td>0.533294</td>\n",
       "      <td>0.223531</td>\n",
       "      <td>0.791211</td>\n",
       "    </tr>\n",
       "    <tr>\n",
       "      <th>78</th>\n",
       "      <td>0.928345</td>\n",
       "      <td>0.067519</td>\n",
       "      <td>0.001891</td>\n",
       "      <td>0.625157</td>\n",
       "      <td>0.000012</td>\n",
       "      <td>0.928241</td>\n",
       "      <td>0.948451</td>\n",
       "      <td>0.675376</td>\n",
       "      <td>0.948451</td>\n",
       "      <td>0.020803</td>\n",
       "      <td>0.956301</td>\n",
       "      <td>0.071655</td>\n",
       "      <td>0.002283</td>\n",
       "      <td>0.543661</td>\n",
       "      <td>0.807263</td>\n",
       "      <td>0.413434</td>\n",
       "      <td>0.628108</td>\n",
       "    </tr>\n",
       "    <tr>\n",
       "      <th>79</th>\n",
       "      <td>0.927218</td>\n",
       "      <td>0.064574</td>\n",
       "      <td>0.010634</td>\n",
       "      <td>0.620971</td>\n",
       "      <td>0.000372</td>\n",
       "      <td>0.923472</td>\n",
       "      <td>0.944130</td>\n",
       "      <td>0.664607</td>\n",
       "      <td>0.944130</td>\n",
       "      <td>0.072592</td>\n",
       "      <td>0.914411</td>\n",
       "      <td>0.072782</td>\n",
       "      <td>0.065188</td>\n",
       "      <td>0.433063</td>\n",
       "      <td>0.707059</td>\n",
       "      <td>0.578316</td>\n",
       "      <td>0.540025</td>\n",
       "    </tr>\n",
       "    <tr>\n",
       "      <th>80</th>\n",
       "      <td>0.768778</td>\n",
       "      <td>0.067519</td>\n",
       "      <td>0.000158</td>\n",
       "      <td>0.621599</td>\n",
       "      <td>0.000029</td>\n",
       "      <td>0.717951</td>\n",
       "      <td>0.922317</td>\n",
       "      <td>0.568651</td>\n",
       "      <td>0.922317</td>\n",
       "      <td>0.230797</td>\n",
       "      <td>0.751711</td>\n",
       "      <td>0.231222</td>\n",
       "      <td>0.003628</td>\n",
       "      <td>0.411949</td>\n",
       "      <td>0.671665</td>\n",
       "      <td>0.557410</td>\n",
       "      <td>0.685935</td>\n",
       "    </tr>\n",
       "  </tbody>\n",
       "</table>\n",
       "<p>81 rows × 17 columns</p>\n",
       "</div>"
      ],
      "text/plain": [
       "    Equity/Tot Assets  Net Profit/ Operating Expenses  Quick Ratio  \\\n",
       "0            0.954643                        0.064790     0.002599   \n",
       "1            0.972066                        0.067519     0.005199   \n",
       "2            0.967046                        0.057905     0.007168   \n",
       "3            0.927472                        0.130066     0.000394   \n",
       "4            0.877132                        0.041875     0.002048   \n",
       "..                ...                             ...          ...   \n",
       "76           0.895282                        0.068076     0.004963   \n",
       "77           0.957335                        0.067511     0.006932   \n",
       "78           0.928345                        0.067519     0.001891   \n",
       "79           0.927218                        0.064574     0.010634   \n",
       "80           0.768778                        0.067519     0.000158   \n",
       "\n",
       "    EBIDTA/ Tot Liabilities  Market Cap/ Total Debt  \\\n",
       "0                  0.602344                0.000006   \n",
       "1                  0.639389                0.010590   \n",
       "2                  0.631226                0.012927   \n",
       "3                  0.629343                0.000000   \n",
       "4                  0.624529                0.001360   \n",
       "..                      ...                     ...   \n",
       "76                 0.636459                0.000639   \n",
       "77                 0.551695                0.006475   \n",
       "78                 0.625157                0.000012   \n",
       "79                 0.620971                0.000372   \n",
       "80                 0.621599                0.000029   \n",
       "\n",
       "    Equity-ShareCapital/ Total Assets  EBIDTA/ Assets  Equity/Fixed Assets  \\\n",
       "0                            0.953678        0.936722             0.680448   \n",
       "1                            0.972214        0.957712             0.705067   \n",
       "2                            0.966433        0.954625             0.700920   \n",
       "3                            0.925495        0.952361             0.676463   \n",
       "4                            0.874223        0.942484             0.636708   \n",
       "..                                ...             ...                  ...   \n",
       "76                           0.895830        0.961313             0.612331   \n",
       "77                           0.955413        0.908324             0.674430   \n",
       "78                           0.928241        0.948451             0.675376   \n",
       "79                           0.923472        0.944130             0.664607   \n",
       "80                           0.717951        0.922317             0.568651   \n",
       "\n",
       "    EBIDTA/ Total Assets  Current Liabilities/ Total Assets  \\\n",
       "0               0.936722                           0.028986   \n",
       "1               0.957712                           0.011383   \n",
       "2               0.954625                           0.004401   \n",
       "3               0.952361                           0.037024   \n",
       "4               0.942484                           0.012838   \n",
       "..                   ...                                ...   \n",
       "76              0.961313                           0.039242   \n",
       "77              0.908324                           0.039933   \n",
       "78              0.948451                           0.020803   \n",
       "79              0.944130                           0.072592   \n",
       "80              0.922317                           0.230797   \n",
       "\n",
       "    Net Working Capital/ Tot Assets  D/A Ratio  Revenue/Liabilities  \\\n",
       "0                          0.968113   0.045357             0.000041   \n",
       "1                          0.968964   0.027934             0.053855   \n",
       "2                          0.970560   0.032954             0.005178   \n",
       "3                          0.938283   0.072528             0.000000   \n",
       "4                          0.966339   0.122868             0.011211   \n",
       "..                              ...        ...                  ...   \n",
       "76                         0.952364   0.104718             0.008806   \n",
       "77                         0.962012   0.042665             0.072078   \n",
       "78                         0.956301   0.071655             0.002283   \n",
       "79                         0.914411   0.072782             0.065188   \n",
       "80                         0.751711   0.231222             0.003628   \n",
       "\n",
       "    Dist_Ent_Embedding  Dist_Rel_Embedding  Trans_Ent_Embedding  \\\n",
       "0             0.214449            0.533749             0.506666   \n",
       "1             0.235585            0.736623             0.330210   \n",
       "2             0.543115            0.618184             0.549330   \n",
       "3             0.263189            0.313912             0.439111   \n",
       "4             0.485080            0.421138             0.395118   \n",
       "..                 ...                 ...                  ...   \n",
       "76            0.179363            0.672708             0.649377   \n",
       "77            0.579224            0.533294             0.223531   \n",
       "78            0.543661            0.807263             0.413434   \n",
       "79            0.433063            0.707059             0.578316   \n",
       "80            0.411949            0.671665             0.557410   \n",
       "\n",
       "    Trans_Rel_Embedding  \n",
       "0              0.403446  \n",
       "1              0.811761  \n",
       "2              0.586417  \n",
       "3              0.561843  \n",
       "4              0.659524  \n",
       "..                  ...  \n",
       "76             0.245546  \n",
       "77             0.791211  \n",
       "78             0.628108  \n",
       "79             0.540025  \n",
       "80             0.685935  \n",
       "\n",
       "[81 rows x 17 columns]"
      ]
     },
     "execution_count": 27,
     "metadata": {},
     "output_type": "execute_result"
    }
   ],
   "source": [
    "x_train"
   ]
  },
  {
   "cell_type": "markdown",
   "id": "74b499b8",
   "metadata": {},
   "source": [
    "**RANDOM FOREST CLASSIFIER**"
   ]
  },
  {
   "cell_type": "code",
   "execution_count": 31,
   "id": "1e042ba7",
   "metadata": {},
   "outputs": [],
   "source": [
    "from sklearn.ensemble import RandomForestClassifier\n",
    "from sklearn import metrics "
   ]
  },
  {
   "cell_type": "code",
   "execution_count": 109,
   "id": "a196a6b0",
   "metadata": {},
   "outputs": [
    {
     "name": "stdout",
     "output_type": "stream",
     "text": [
      "Random Forest Classifier\n",
      "Accuracy :  94.44444444444444 %\n",
      "Sensitivity :  100.0 %\n",
      "Specificity :  90.0 %\n",
      "Classification Report : \n",
      "              precision    recall  f1-score   support\n",
      "\n",
      "         0.0       1.00      0.90      0.95        10\n",
      "         1.0       0.89      1.00      0.94         8\n",
      "\n",
      "    accuracy                           0.94        18\n",
      "   macro avg       0.94      0.95      0.94        18\n",
      "weighted avg       0.95      0.94      0.94        18\n",
      "\n"
     ]
    }
   ],
   "source": [
    "clf = RandomForestClassifier(n_estimators = 100)  \n",
    "clf.fit(x_train, y_train)\n",
    "y_pred = clf.predict(x_test)\n",
    "print(\"Random Forest Classifier\")\n",
    "print(\"Accuracy : \",metrics.accuracy_score(y_test, y_pred)*100,\"%\")\n",
    "print(\"Sensitivity : \", metrics.recall_score(y_test , y_pred)*100,\"%\")\n",
    "print(\"Specificity : \", metrics.recall_score(np.logical_not(y_test) ,np.logical_not(y_pred))*100,\"%\")\n",
    "print(\"Classification Report : \")\n",
    "print(metrics.classification_report(y_test, y_pred))"
   ]
  },
  {
   "cell_type": "code",
   "execution_count": 110,
   "id": "781f0c91",
   "metadata": {},
   "outputs": [],
   "source": [
    "import matplotlib.pyplot as plt\n",
    "\n",
    "def plot_roc_curve(true_y, y_prob):\n",
    "    fpr, tpr, thresholds = metrics.roc_curve(true_y, y_prob)\n",
    "    plt.plot(fpr, tpr)\n",
    "    plt.xlabel('False Positive Rate')\n",
    "    plt.ylabel('True Positive Rate')\n",
    "    plt.title('RANDOM FOREST CLASSIFIER')"
   ]
  },
  {
   "cell_type": "code",
   "execution_count": 111,
   "id": "8a12ef4a",
   "metadata": {},
   "outputs": [
    {
     "data": {
      "image/png": "[encoded data removed]",
      "text/plain": [
       "<Figure size 432x288 with 1 Axes>"
      ]
     },
     "metadata": {
      "needs_background": "light"
     },
     "output_type": "display_data"
    }
   ],
   "source": [
    "plot_roc_curve(y_test,y_pred)"
   ]
  },
  {
   "cell_type": "code",
   "execution_count": 112,
   "id": "6f856eba",
   "metadata": {},
   "outputs": [],
   "source": [
    "# import joblib\n",
    "# joblib.dump((dist_ent_emb,dist_rel_emb,trans_ent_emb,trans_rel_emb), 'variables.joblib')"
   ]
  },
  {
   "cell_type": "markdown",
   "id": "2c1af1ec",
   "metadata": {},
   "source": [
    "**SVM CLASSIFIER**"
   ]
  },
  {
   "cell_type": "code",
   "execution_count": 113,
   "id": "409c1d30",
   "metadata": {},
   "outputs": [],
   "source": [
    "from sklearn.svm import SVC  "
   ]
  },
  {
   "cell_type": "code",
   "execution_count": 114,
   "id": "9d11ebdb",
   "metadata": {},
   "outputs": [
    {
     "name": "stdout",
     "output_type": "stream",
     "text": [
      "SVM Classifier\n",
      "Accuracy :  88.88888888888889 %\n",
      "Sensitivity :  100.0 %\n",
      "Specificity :  80.0 %\n",
      "Classification Report : \n",
      "              precision    recall  f1-score   support\n",
      "\n",
      "         0.0       1.00      0.80      0.89        10\n",
      "         1.0       0.80      1.00      0.89         8\n",
      "\n",
      "    accuracy                           0.89        18\n",
      "   macro avg       0.90      0.90      0.89        18\n",
      "weighted avg       0.91      0.89      0.89        18\n",
      "\n"
     ]
    }
   ],
   "source": [
    "clf = SVC(kernel='poly') \n",
    "clf.fit(x_train, y_train)\n",
    "y_pred = clf.predict(x_test)\n",
    "print(\"SVM Classifier\")\n",
    "print(\"Accuracy : \",metrics.accuracy_score(y_test, y_pred)*100,\"%\")\n",
    "print(\"Sensitivity : \", metrics.recall_score(y_test , y_pred)*100,\"%\")\n",
    "print(\"Specificity : \", metrics.recall_score(np.logical_not(y_test) ,np.logical_not(y_pred))*100,\"%\")\n",
    "print(\"Classification Report : \")\n",
    "print(metrics.classification_report(y_test, y_pred))"
   ]
  },
  {
   "cell_type": "code",
   "execution_count": 115,
   "id": "961195ec",
   "metadata": {},
   "outputs": [],
   "source": [
    "import matplotlib.pyplot as plt\n",
    "\n",
    "def plot_roc_curve(true_y, y_prob):\n",
    "    fpr, tpr, thresholds = metrics.roc_curve(true_y, y_prob)\n",
    "    plt.plot(fpr, tpr)\n",
    "    plt.xlabel('False Positive Rate')\n",
    "    plt.ylabel('True Positive Rate')\n",
    "    plt.title('SVM CLASSIFIER')"
   ]
  },
  {
   "cell_type": "code",
   "execution_count": 116,
   "id": "80a7a463",
   "metadata": {
    "scrolled": true
   },
   "outputs": [
    {
     "data": {
      "image/png": "[encoded data removed]",
      "text/plain": [
       "<Figure size 432x288 with 1 Axes>"
      ]
     },
     "metadata": {
      "needs_background": "light"
     },
     "output_type": "display_data"
    }
   ],
   "source": [
    "plot_roc_curve(y_test,y_pred)"
   ]
  },
  {
   "cell_type": "markdown",
   "id": "2d356440",
   "metadata": {},
   "source": [
    "**XGBOOST CLASSIFIER**"
   ]
  },
  {
   "cell_type": "code",
   "execution_count": 117,
   "id": "5afb5309",
   "metadata": {},
   "outputs": [],
   "source": [
    "from xgboost import XGBClassifier"
   ]
  },
  {
   "cell_type": "code",
   "execution_count": 118,
   "id": "330c7360",
   "metadata": {},
   "outputs": [
    {
     "name": "stdout",
     "output_type": "stream",
     "text": [
      "Requirement already satisfied: xgboost in c:\\users\\raksh\\anaconda3\\lib\\site-packages (2.0.2)\n",
      "Requirement already satisfied: numpy in c:\\users\\raksh\\anaconda3\\lib\\site-packages (from xgboost) (1.24.4)\n",
      "Requirement already satisfied: scipy in c:\\users\\raksh\\anaconda3\\lib\\site-packages (from xgboost) (1.10.1)\n"
     ]
    },
    {
     "name": "stderr",
     "output_type": "stream",
     "text": [
      "\n",
      "[notice] A new release of pip is available: 23.3.2 -> 24.0\n",
      "[notice] To update, run: python.exe -m pip install --upgrade pip\n"
     ]
    }
   ],
   "source": [
    "!pip install xgboost"
   ]
  },
  {
   "cell_type": "code",
   "execution_count": 119,
   "id": "b06a4abc",
   "metadata": {},
   "outputs": [
    {
     "name": "stdout",
     "output_type": "stream",
     "text": [
      "XG Boost Classifier\n",
      "Accuracy :  83.33333333333334 %\n",
      "Sensitivity :  100.0 %\n",
      "Specificity :  70.0 %\n",
      "Classification Report : \n",
      "              precision    recall  f1-score   support\n",
      "\n",
      "         0.0       1.00      0.70      0.82        10\n",
      "         1.0       0.73      1.00      0.84         8\n",
      "\n",
      "    accuracy                           0.83        18\n",
      "   macro avg       0.86      0.85      0.83        18\n",
      "weighted avg       0.88      0.83      0.83        18\n",
      "\n"
     ]
    }
   ],
   "source": [
    "clf = XGBClassifier()\n",
    "clf.fit(x_train, y_train)\n",
    "y_pred = clf.predict(x_test)\n",
    "print(\"XG Boost Classifier\")\n",
    "print(\"Accuracy : \",metrics.accuracy_score(y_test, y_pred)*100,\"%\")\n",
    "print(\"Sensitivity : \", metrics.recall_score(y_test , y_pred)*100,\"%\")\n",
    "print(\"Specificity : \", metrics.recall_score(np.logical_not(y_test) ,np.logical_not(y_pred))*100,\"%\")\n",
    "print(\"Classification Report : \")\n",
    "print(metrics.classification_report(y_test, y_pred))"
   ]
  },
  {
   "cell_type": "code",
   "execution_count": 120,
   "id": "f05c0956",
   "metadata": {},
   "outputs": [],
   "source": [
    "import matplotlib.pyplot as plt\n",
    "\n",
    "def plot_roc_curve(true_y, y_prob):\n",
    "    fpr, tpr, thresholds = metrics.roc_curve(true_y, y_prob)\n",
    "    plt.plot(fpr, tpr)\n",
    "    plt.xlabel('False Positive Rate')\n",
    "    plt.ylabel('True Positive Rate')\n",
    "    plt.title('XG Boost CLASSIFIER')"
   ]
  },
  {
   "cell_type": "code",
   "execution_count": 121,
   "id": "e480d9a2",
   "metadata": {},
   "outputs": [
    {
     "data": {
      "image/png": "[encoded data removed]",
      "text/plain": [
       "<Figure size 432x288 with 1 Axes>"
      ]
     },
     "metadata": {
      "needs_background": "light"
     },
     "output_type": "display_data"
    }
   ],
   "source": [
    "plot_roc_curve(y_test,y_pred)"
   ]
  },
  {
   "cell_type": "markdown",
   "id": "b9f86012",
   "metadata": {},
   "source": [
    "**DECISION TREE CLASSIFIER**"
   ]
  },
  {
   "cell_type": "code",
   "execution_count": 122,
   "id": "fa17f62a",
   "metadata": {},
   "outputs": [],
   "source": [
    "from sklearn import tree"
   ]
  },
  {
   "cell_type": "code",
   "execution_count": 123,
   "id": "ed5335f0",
   "metadata": {},
   "outputs": [
    {
     "name": "stdout",
     "output_type": "stream",
     "text": [
      "Decision Tree Classifier\n",
      "Accuracy :  77.77777777777779 %\n",
      "Sensitivity :  100.0 %\n",
      "Specificity :  60.0 %\n",
      "Classification Report : \n",
      "              precision    recall  f1-score   support\n",
      "\n",
      "         0.0       1.00      0.60      0.75        10\n",
      "         1.0       0.67      1.00      0.80         8\n",
      "\n",
      "    accuracy                           0.78        18\n",
      "   macro avg       0.83      0.80      0.77        18\n",
      "weighted avg       0.85      0.78      0.77        18\n",
      "\n"
     ]
    }
   ],
   "source": [
    "clf = tree.DecisionTreeClassifier()\n",
    "clf.fit(x_train, y_train)\n",
    "y_pred = clf.predict(x_test)\n",
    "print(\"Decision Tree Classifier\")\n",
    "print(\"Accuracy : \",metrics.accuracy_score(y_test, y_pred)*100,\"%\")\n",
    "print(\"Sensitivity : \", metrics.recall_score(y_test , y_pred)*100,\"%\")\n",
    "print(\"Specificity : \", metrics.recall_score(np.logical_not(y_test) ,np.logical_not(y_pred))*100,\"%\")\n",
    "print(\"Classification Report : \")\n",
    "print(metrics.classification_report(y_test, y_pred))"
   ]
  },
  {
   "cell_type": "code",
   "execution_count": 124,
   "id": "12d3b0ad",
   "metadata": {},
   "outputs": [],
   "source": [
    "import matplotlib.pyplot as plt\n",
    "\n",
    "def plot_roc_curve(true_y, y_prob):\n",
    "    fpr, tpr, thresholds = metrics.roc_curve(true_y, y_prob)\n",
    "    plt.plot(fpr, tpr)\n",
    "    plt.xlabel('False Positive Rate')\n",
    "    plt.ylabel('True Positive Rate')\n",
    "    plt.title('Decision Tree  CLASSIFIER')"
   ]
  },
  {
   "cell_type": "code",
   "execution_count": 125,
   "id": "74ef3b99",
   "metadata": {
    "scrolled": true
   },
   "outputs": [
    {
     "data": {
      "image/png": "[encoded data removed]",
      "text/plain": [
       "<Figure size 432x288 with 1 Axes>"
      ]
     },
     "metadata": {
      "needs_background": "light"
     },
     "output_type": "display_data"
    }
   ],
   "source": [
    "plot_roc_curve(y_test,y_pred)"
   ]
  },
  {
   "cell_type": "markdown",
   "id": "726caaeb",
   "metadata": {},
   "source": [
    "**ADABOOST CLASSIFIER**\n"
   ]
  },
  {
   "cell_type": "code",
   "execution_count": 126,
   "id": "e6215d13",
   "metadata": {},
   "outputs": [],
   "source": [
    "from sklearn.ensemble import AdaBoostClassifier"
   ]
  },
  {
   "cell_type": "code",
   "execution_count": 127,
   "id": "a9139ec4",
   "metadata": {},
   "outputs": [
    {
     "name": "stdout",
     "output_type": "stream",
     "text": [
      "Adaboost Classifier\n",
      "Accuracy :  94.44444444444444 %\n",
      "Sensitivity :  100.0 %\n",
      "Specificity :  90.0 %\n",
      "Classification Report : \n",
      "              precision    recall  f1-score   support\n",
      "\n",
      "         0.0       1.00      0.90      0.95        10\n",
      "         1.0       0.89      1.00      0.94         8\n",
      "\n",
      "    accuracy                           0.94        18\n",
      "   macro avg       0.94      0.95      0.94        18\n",
      "weighted avg       0.95      0.94      0.94        18\n",
      "\n"
     ]
    }
   ],
   "source": [
    "clf = AdaBoostClassifier(n_estimators=50, random_state=42)\n",
    "clf.fit(x_train, y_train)\n",
    "y_pred = clf.predict(x_test)\n",
    "print(\"Adaboost Classifier\")\n",
    "print(\"Accuracy : \",metrics.accuracy_score(y_test, y_pred)*100,\"%\")\n",
    "print(\"Sensitivity : \", metrics.recall_score(y_test , y_pred)*100,\"%\")\n",
    "print(\"Specificity : \", metrics.recall_score(np.logical_not(y_test) ,np.logical_not(y_pred))*100,\"%\")\n",
    "print(\"Classification Report : \")\n",
    "print(metrics.classification_report(y_test, y_pred))"
   ]
  },
  {
   "cell_type": "code",
   "execution_count": 128,
   "id": "1f36aadd",
   "metadata": {},
   "outputs": [],
   "source": [
    "import matplotlib.pyplot as plt\n",
    "\n",
    "def plot_roc_curve(true_y, y_prob):\n",
    "    fpr, tpr, thresholds = metrics.roc_curve(true_y, y_prob)\n",
    "    plt.plot(fpr, tpr)\n",
    "    plt.xlabel('False Positive Rate')\n",
    "    plt.ylabel('True Positive Rate')\n",
    "    plt.title('Adaboost Classifier')"
   ]
  },
  {
   "cell_type": "code",
   "execution_count": 129,
   "id": "32e7920f",
   "metadata": {
    "scrolled": false
   },
   "outputs": [
    {
     "data": {
      "image/png": "[encoded data removed]",
      "text/plain": [
       "<Figure size 432x288 with 1 Axes>"
      ]
     },
     "metadata": {
      "needs_background": "light"
     },
     "output_type": "display_data"
    }
   ],
   "source": [
    "plot_roc_curve(y_test,y_pred)"
   ]
  },
  {
   "cell_type": "markdown",
   "id": "d0665fef",
   "metadata": {},
   "source": [
    "**LOGISTIC REGRESSION**"
   ]
  },
  {
   "cell_type": "code",
   "execution_count": 130,
   "id": "8060810b",
   "metadata": {},
   "outputs": [
    {
     "name": "stdout",
     "output_type": "stream",
     "text": [
      "Logistic Regression Model\n",
      "Accuracy:  66.66666666666666 %\n",
      "Sensitivity:  100.0 %\n",
      "Specificity:  40.0 %\n",
      "Classification Report:\n",
      "              precision    recall  f1-score   support\n",
      "\n",
      "         0.0       1.00      0.40      0.57        10\n",
      "         1.0       0.57      1.00      0.73         8\n",
      "\n",
      "    accuracy                           0.67        18\n",
      "   macro avg       0.79      0.70      0.65        18\n",
      "weighted avg       0.81      0.67      0.64        18\n",
      "\n"
     ]
    }
   ],
   "source": [
    "from sklearn.linear_model import LogisticRegression\n",
    "from sklearn.model_selection import train_test_split\n",
    "from sklearn.preprocessing import StandardScaler\n",
    "from sklearn import metrics\n",
    "import pandas as pd\n",
    "\n",
    "logreg = LogisticRegression()\n",
    "\n",
    "logreg.fit(x_train, y_train)\n",
    "\n",
    "y_pred = logreg.predict(x_test)\n",
    "\n",
    "print(\"Logistic Regression Model\")\n",
    "print(\"Accuracy: \", metrics.accuracy_score(y_test, y_pred) * 100, \"%\")\n",
    "print(\"Sensitivity: \", metrics.recall_score(y_test, y_pred) * 100, \"%\")\n",
    "print(\"Specificity: \", metrics.recall_score(np.logical_not(y_test), np.logical_not(y_pred)) * 100, \"%\")  # ~y is the negation of y\n",
    "print(\"Classification Report:\")\n",
    "print(metrics.classification_report(y_test, y_pred))"
   ]
  },
  {
   "cell_type": "code",
   "execution_count": 131,
   "id": "11363627",
   "metadata": {},
   "outputs": [],
   "source": [
    "import matplotlib.pyplot as plt\n",
    "\n",
    "def plot_roc_curve(true_y, y_prob):\n",
    "    fpr, tpr, thresholds = metrics.roc_curve(true_y, y_prob)\n",
    "    plt.plot(fpr, tpr)\n",
    "    plt.xlabel('False Positive Rate')\n",
    "    plt.ylabel('True Positive Rate')\n",
    "    plt.title('Logistic Regression')"
   ]
  },
  {
   "cell_type": "code",
   "execution_count": 132,
   "id": "bc68a92b",
   "metadata": {
    "scrolled": true
   },
   "outputs": [
    {
     "data": {
      "image/png": "[encoded data removed]",
      "text/plain": [
       "<Figure size 432x288 with 1 Axes>"
      ]
     },
     "metadata": {
      "needs_background": "light"
     },
     "output_type": "display_data"
    }
   ],
   "source": [
    "plot_roc_curve(y_test,y_pred)"
   ]
  },
  {
   "cell_type": "markdown",
   "id": "7cc38f48",
   "metadata": {},
   "source": [
    "**K-NEAREST NEIGHBORS ALGORITHM**"
   ]
  },
  {
   "cell_type": "code",
   "execution_count": 133,
   "id": "b51870cd",
   "metadata": {},
   "outputs": [
    {
     "name": "stdout",
     "output_type": "stream",
     "text": [
      "K-Nearest Neighbors (KNN) Model\n",
      "Accuracy:  77.77777777777779 %\n",
      "Sensitivity:  75.0 %\n",
      "Specificity:  80.0 %\n",
      "Classification Report:\n",
      "              precision    recall  f1-score   support\n",
      "\n",
      "         0.0       0.80      0.80      0.80        10\n",
      "         1.0       0.75      0.75      0.75         8\n",
      "\n",
      "    accuracy                           0.78        18\n",
      "   macro avg       0.78      0.78      0.78        18\n",
      "weighted avg       0.78      0.78      0.78        18\n",
      "\n"
     ]
    }
   ],
   "source": [
    "from sklearn.neighbors import KNeighborsClassifier\n",
    "from sklearn.model_selection import train_test_split\n",
    "from sklearn.preprocessing import StandardScaler\n",
    "from sklearn import metrics\n",
    "import pandas as pd\n",
    "\n",
    "# Assuming x_train, x_test, y_train, y_test are already defined\n",
    "\n",
    "# Standardize features using StandardScaler\n",
    "scaler = StandardScaler()\n",
    "x_train_scaled = scaler.fit_transform(x_train)\n",
    "x_test_scaled = scaler.transform(x_test)\n",
    "\n",
    "# Create a KNN classifier\n",
    "knn = KNeighborsClassifier(n_neighbors=5)  # You can adjust the value of n_neighbors\n",
    "\n",
    "# Fit the model to the training data\n",
    "knn.fit(x_train_scaled, y_train)\n",
    "\n",
    "# Make predictions on the test set\n",
    "y_pred = knn.predict(x_test_scaled)\n",
    "\n",
    "# Evaluate the KNN model\n",
    "print(\"K-Nearest Neighbors (KNN) Model\")\n",
    "print(\"Accuracy: \", metrics.accuracy_score(y_test, y_pred) * 100, \"%\")\n",
    "print(\"Sensitivity: \", metrics.recall_score(y_test, y_pred) * 100, \"%\")\n",
    "print(\"Specificity: \", metrics.recall_score(np.logical_not(y_test), np.logical_not(y_pred)) * 100, \"%\")  # ~y is the negation of y\n",
    "print(\"Classification Report:\")\n",
    "print(metrics.classification_report(y_test, y_pred))"
   ]
  },
  {
   "cell_type": "code",
   "execution_count": 134,
   "id": "3cd340a9",
   "metadata": {},
   "outputs": [],
   "source": [
    "import matplotlib.pyplot as plt\n",
    "\n",
    "def plot_roc_curve(true_y, y_prob):\n",
    "    fpr, tpr, thresholds = metrics.roc_curve(true_y, y_prob)\n",
    "    plt.plot(fpr, tpr)\n",
    "    plt.xlabel('False Positive Rate')\n",
    "    plt.ylabel('True Positive Rate')\n",
    "    plt.title('KNN')"
   ]
  },
  {
   "cell_type": "code",
   "execution_count": 135,
   "id": "495ae87e",
   "metadata": {
    "scrolled": true
   },
   "outputs": [
    {
     "data": {
      "image/png": "[encoded data removed]",
      "text/plain": [
       "<Figure size 432x288 with 1 Axes>"
      ]
     },
     "metadata": {
      "needs_background": "light"
     },
     "output_type": "display_data"
    }
   ],
   "source": [
    "plot_roc_curve(y_test,y_pred)"
   ]
  },
  {
   "cell_type": "markdown",
   "id": "a437c630",
   "metadata": {},
   "source": [
    "**GAUSSIAN NAIVE BAYES CLASSIFIER**"
   ]
  },
  {
   "cell_type": "code",
   "execution_count": 28,
   "id": "0e669047",
   "metadata": {},
   "outputs": [],
   "source": [
    "from sklearn.naive_bayes import GaussianNB"
   ]
  },
  {
   "cell_type": "code",
   "execution_count": 29,
   "id": "c2564095",
   "metadata": {},
   "outputs": [],
   "source": [
    "# Create a Gaussian Naive Bayes model\n",
    "gnb = GaussianNB()\n",
    "\n",
    "# Train the model on the training set\n",
    "gnb.fit(x_train, y_train)\n",
    "\n",
    "# Make predictions on the testing set\n",
    "y_pred = gnb.predict(x_test)\n",
    "\n"
   ]
  },
  {
   "cell_type": "code",
   "execution_count": 32,
   "id": "8bb1d551",
   "metadata": {},
   "outputs": [
    {
     "name": "stdout",
     "output_type": "stream",
     "text": [
      "Gaussian Naive Bayes Classifier\n",
      "Accuracy :  91.30434782608695 %\n",
      "Sensitivity :  83.33333333333334 %\n",
      "Specificity :  100.0 %\n",
      "Classification Report : \n",
      "              precision    recall  f1-score   support\n",
      "\n",
      "         0.0       0.85      1.00      0.92        11\n",
      "         1.0       1.00      0.83      0.91        12\n",
      "\n",
      "    accuracy                           0.91        23\n",
      "   macro avg       0.92      0.92      0.91        23\n",
      "weighted avg       0.93      0.91      0.91        23\n",
      "\n"
     ]
    }
   ],
   "source": [
    "print(\"Gaussian Naive Bayes Classifier\")\n",
    "print(\"Accuracy : \",metrics.accuracy_score(y_test, y_pred)*100,\"%\")\n",
    "print(\"Sensitivity : \", metrics.recall_score(y_test , y_pred)*100,\"%\")\n",
    "print(\"Specificity : \", metrics.recall_score(np.logical_not(y_test) ,np.logical_not(y_pred))*100,\"%\")\n",
    "print(\"Classification Report : \")\n",
    "print(metrics.classification_report(y_test, y_pred))"
   ]
  },
  {
   "cell_type": "code",
   "execution_count": 68,
   "id": "aad2b3aa",
   "metadata": {},
   "outputs": [],
   "source": [
    "import matplotlib.pyplot as plt\n",
    "\n",
    "def plot_roc_curve(true_y, y_prob):\n",
    "    fpr, tpr, thresholds = metrics.roc_curve(true_y, y_prob)\n",
    "    plt.plot(fpr, tpr)\n",
    "    plt.xlabel('False Positive Rate')\n",
    "    plt.ylabel('True Positive Rate')\n",
    "    plt.title('GAUSIAN NAIVE BAYES CLASSIFIER')"
   ]
  },
  {
   "cell_type": "code",
   "execution_count": 69,
   "id": "c68d9507",
   "metadata": {},
   "outputs": [
    {
     "data": {
      "image/png": "[encoded data removed]",
      "text/plain": [
       "<Figure size 432x288 with 1 Axes>"
      ]
     },
     "metadata": {
      "needs_background": "light"
     },
     "output_type": "display_data"
    }
   ],
   "source": [
    "plot_roc_curve(y_test,y_pred)"
   ]
  },
  {
   "cell_type": "markdown",
   "id": "85acab75",
   "metadata": {},
   "source": [
    "**LIGHT GBM**"
   ]
  },
  {
   "cell_type": "code",
   "execution_count": 70,
   "id": "0f790d6e",
   "metadata": {},
   "outputs": [
    {
     "name": "stdout",
     "output_type": "stream",
     "text": [
      "Requirement already satisfied: lightgbm in c:\\users\\raksh\\anaconda3\\lib\\site-packages (4.2.0)\n",
      "Requirement already satisfied: numpy in c:\\users\\raksh\\anaconda3\\lib\\site-packages (from lightgbm) (1.24.4)\n",
      "Requirement already satisfied: scipy in c:\\users\\raksh\\anaconda3\\lib\\site-packages (from lightgbm) (1.10.1)\n"
     ]
    },
    {
     "name": "stderr",
     "output_type": "stream",
     "text": [
      "\n",
      "[notice] A new release of pip is available: 23.3.2 -> 24.0\n",
      "[notice] To update, run: python.exe -m pip install --upgrade pip\n"
     ]
    }
   ],
   "source": [
    "!pip install lightgbm"
   ]
  },
  {
   "cell_type": "code",
   "execution_count": 71,
   "id": "345f4f5e",
   "metadata": {
    "scrolled": true
   },
   "outputs": [],
   "source": [
    "import lightgbm as lgb"
   ]
  },
  {
   "cell_type": "code",
   "execution_count": 72,
   "id": "3fe8d501",
   "metadata": {},
   "outputs": [
    {
     "name": "stdout",
     "output_type": "stream",
     "text": [
      "[LightGBM] [Warning] Found whitespace in feature_names, replace with underlines\n",
      "[LightGBM] [Info] Auto-choosing row-wise multi-threading, the overhead of testing was 0.001016 seconds.\n",
      "You can set `force_row_wise=true` to remove the overhead.\n",
      "And if memory is not enough, you can set `force_col_wise=true`.\n",
      "[LightGBM] [Info] Total Bins 459\n",
      "[LightGBM] [Info] Number of data points in the train set: 81, number of used features: 17\n",
      "[LightGBM] [Warning] Found whitespace in feature_names, replace with underlines\n",
      "[LightGBM] [Info] Start training from score -0.839101\n",
      "[LightGBM] [Info] Start training from score -0.565808\n",
      "[LightGBM] [Warning] No further splits with positive gain, best gain: -inf\n",
      "[LightGBM] [Warning] No further splits with positive gain, best gain: -inf\n",
      "[LightGBM] [Warning] No further splits with positive gain, best gain: -inf\n",
      "[LightGBM] [Warning] No further splits with positive gain, best gain: -inf\n",
      "[LightGBM] [Warning] No further splits with positive gain, best gain: -inf\n",
      "[LightGBM] [Warning] No further splits with positive gain, best gain: -inf\n",
      "[LightGBM] [Warning] No further splits with positive gain, best gain: -inf\n",
      "[LightGBM] [Warning] No further splits with positive gain, best gain: -inf\n",
      "[LightGBM] [Warning] No further splits with positive gain, best gain: -inf\n",
      "[LightGBM] [Warning] No further splits with positive gain, best gain: -inf\n",
      "[LightGBM] [Warning] No further splits with positive gain, best gain: -inf\n",
      "[LightGBM] [Warning] No further splits with positive gain, best gain: -inf\n",
      "[LightGBM] [Warning] No further splits with positive gain, best gain: -inf\n",
      "[LightGBM] [Warning] No further splits with positive gain, best gain: -inf\n",
      "[LightGBM] [Warning] No further splits with positive gain, best gain: -inf\n",
      "[LightGBM] [Warning] No further splits with positive gain, best gain: -inf\n",
      "[LightGBM] [Warning] No further splits with positive gain, best gain: -inf\n",
      "[LightGBM] [Warning] No further splits with positive gain, best gain: -inf\n",
      "[LightGBM] [Warning] No further splits with positive gain, best gain: -inf\n",
      "[LightGBM] [Warning] No further splits with positive gain, best gain: -inf\n",
      "[LightGBM] [Warning] No further splits with positive gain, best gain: -inf\n",
      "[LightGBM] [Warning] No further splits with positive gain, best gain: -inf\n",
      "[LightGBM] [Warning] No further splits with positive gain, best gain: -inf\n",
      "[LightGBM] [Warning] No further splits with positive gain, best gain: -inf\n",
      "[LightGBM] [Warning] No further splits with positive gain, best gain: -inf\n",
      "[LightGBM] [Warning] No further splits with positive gain, best gain: -inf\n",
      "[LightGBM] [Warning] No further splits with positive gain, best gain: -inf\n",
      "[LightGBM] [Warning] No further splits with positive gain, best gain: -inf\n",
      "[LightGBM] [Warning] No further splits with positive gain, best gain: -inf\n",
      "[LightGBM] [Warning] No further splits with positive gain, best gain: -inf\n",
      "[LightGBM] [Warning] No further splits with positive gain, best gain: -inf\n",
      "[LightGBM] [Warning] No further splits with positive gain, best gain: -inf\n",
      "[LightGBM] [Warning] No further splits with positive gain, best gain: -inf\n",
      "[LightGBM] [Warning] No further splits with positive gain, best gain: -inf\n",
      "[LightGBM] [Warning] No further splits with positive gain, best gain: -inf\n",
      "[LightGBM] [Warning] No further splits with positive gain, best gain: -inf\n",
      "[LightGBM] [Warning] No further splits with positive gain, best gain: -inf\n",
      "[LightGBM] [Warning] No further splits with positive gain, best gain: -inf\n",
      "[LightGBM] [Warning] No further splits with positive gain, best gain: -inf\n",
      "[LightGBM] [Warning] No further splits with positive gain, best gain: -inf\n",
      "[LightGBM] [Warning] No further splits with positive gain, best gain: -inf\n",
      "[LightGBM] [Warning] No further splits with positive gain, best gain: -inf\n",
      "[LightGBM] [Warning] No further splits with positive gain, best gain: -inf\n",
      "[LightGBM] [Warning] No further splits with positive gain, best gain: -inf\n",
      "[LightGBM] [Warning] No further splits with positive gain, best gain: -inf\n",
      "[LightGBM] [Warning] No further splits with positive gain, best gain: -inf\n",
      "[LightGBM] [Warning] No further splits with positive gain, best gain: -inf\n",
      "[LightGBM] [Warning] No further splits with positive gain, best gain: -inf\n",
      "[LightGBM] [Warning] No further splits with positive gain, best gain: -inf\n",
      "[LightGBM] [Warning] No further splits with positive gain, best gain: -inf\n",
      "[LightGBM] [Warning] No further splits with positive gain, best gain: -inf\n",
      "[LightGBM] [Warning] No further splits with positive gain, best gain: -inf\n",
      "[LightGBM] [Warning] No further splits with positive gain, best gain: -inf\n",
      "[LightGBM] [Warning] No further splits with positive gain, best gain: -inf\n",
      "[LightGBM] [Warning] No further splits with positive gain, best gain: -inf\n",
      "[LightGBM] [Warning] No further splits with positive gain, best gain: -inf\n",
      "[LightGBM] [Warning] No further splits with positive gain, best gain: -inf\n",
      "[LightGBM] [Warning] No further splits with positive gain, best gain: -inf\n",
      "[LightGBM] [Warning] No further splits with positive gain, best gain: -inf\n",
      "[LightGBM] [Warning] No further splits with positive gain, best gain: -inf\n",
      "[LightGBM] [Warning] No further splits with positive gain, best gain: -inf\n",
      "[LightGBM] [Warning] No further splits with positive gain, best gain: -inf\n",
      "[LightGBM] [Warning] No further splits with positive gain, best gain: -inf\n",
      "[LightGBM] [Warning] No further splits with positive gain, best gain: -inf\n",
      "[LightGBM] [Warning] No further splits with positive gain, best gain: -inf\n",
      "[LightGBM] [Warning] No further splits with positive gain, best gain: -inf\n",
      "[LightGBM] [Warning] No further splits with positive gain, best gain: -inf\n",
      "[LightGBM] [Warning] No further splits with positive gain, best gain: -inf\n",
      "[LightGBM] [Warning] No further splits with positive gain, best gain: -inf\n",
      "[LightGBM] [Warning] No further splits with positive gain, best gain: -inf\n",
      "[LightGBM] [Warning] No further splits with positive gain, best gain: -inf\n",
      "[LightGBM] [Warning] No further splits with positive gain, best gain: -inf\n",
      "[LightGBM] [Warning] No further splits with positive gain, best gain: -inf\n",
      "[LightGBM] [Warning] No further splits with positive gain, best gain: -inf\n",
      "[LightGBM] [Warning] No further splits with positive gain, best gain: -inf\n",
      "[LightGBM] [Warning] No further splits with positive gain, best gain: -inf\n",
      "[LightGBM] [Warning] No further splits with positive gain, best gain: -inf\n",
      "[LightGBM] [Warning] No further splits with positive gain, best gain: -inf\n",
      "[LightGBM] [Warning] No further splits with positive gain, best gain: -inf\n",
      "[LightGBM] [Warning] No further splits with positive gain, best gain: -inf\n",
      "[LightGBM] [Warning] No further splits with positive gain, best gain: -inf\n",
      "[LightGBM] [Warning] No further splits with positive gain, best gain: -inf\n",
      "[LightGBM] [Warning] No further splits with positive gain, best gain: -inf\n",
      "[LightGBM] [Warning] No further splits with positive gain, best gain: -inf\n",
      "[LightGBM] [Warning] No further splits with positive gain, best gain: -inf\n",
      "[LightGBM] [Warning] No further splits with positive gain, best gain: -inf\n",
      "[LightGBM] [Warning] No further splits with positive gain, best gain: -inf\n",
      "[LightGBM] [Warning] No further splits with positive gain, best gain: -inf\n",
      "[LightGBM] [Warning] No further splits with positive gain, best gain: -inf\n",
      "[LightGBM] [Warning] No further splits with positive gain, best gain: -inf\n",
      "[LightGBM] [Warning] No further splits with positive gain, best gain: -inf\n",
      "[LightGBM] [Warning] No further splits with positive gain, best gain: -inf\n",
      "[LightGBM] [Warning] No further splits with positive gain, best gain: -inf\n",
      "[LightGBM] [Warning] No further splits with positive gain, best gain: -inf\n",
      "[LightGBM] [Warning] No further splits with positive gain, best gain: -inf\n",
      "[LightGBM] [Warning] No further splits with positive gain, best gain: -inf\n",
      "[LightGBM] [Warning] No further splits with positive gain, best gain: -inf\n",
      "[LightGBM] [Warning] No further splits with positive gain, best gain: -inf\n",
      "[LightGBM] [Warning] No further splits with positive gain, best gain: -inf\n",
      "[LightGBM] [Warning] No further splits with positive gain, best gain: -inf\n",
      "[LightGBM] [Warning] No further splits with positive gain, best gain: -inf\n",
      "[LightGBM] [Warning] No further splits with positive gain, best gain: -inf\n",
      "[LightGBM] [Warning] No further splits with positive gain, best gain: -inf\n",
      "[LightGBM] [Warning] No further splits with positive gain, best gain: -inf\n",
      "[LightGBM] [Warning] No further splits with positive gain, best gain: -inf\n",
      "[LightGBM] [Warning] No further splits with positive gain, best gain: -inf\n",
      "[LightGBM] [Warning] No further splits with positive gain, best gain: -inf\n",
      "[LightGBM] [Warning] No further splits with positive gain, best gain: -inf\n",
      "[LightGBM] [Warning] No further splits with positive gain, best gain: -inf\n",
      "[LightGBM] [Warning] No further splits with positive gain, best gain: -inf\n",
      "[LightGBM] [Warning] No further splits with positive gain, best gain: -inf\n",
      "[LightGBM] [Warning] No further splits with positive gain, best gain: -inf\n",
      "[LightGBM] [Warning] No further splits with positive gain, best gain: -inf\n",
      "[LightGBM] [Warning] No further splits with positive gain, best gain: -inf\n",
      "[LightGBM] [Warning] No further splits with positive gain, best gain: -inf\n",
      "[LightGBM] [Warning] No further splits with positive gain, best gain: -inf\n",
      "[LightGBM] [Warning] No further splits with positive gain, best gain: -inf\n",
      "[LightGBM] [Warning] No further splits with positive gain, best gain: -inf\n",
      "[LightGBM] [Warning] No further splits with positive gain, best gain: -inf\n",
      "[LightGBM] [Warning] No further splits with positive gain, best gain: -inf\n",
      "[LightGBM] [Warning] No further splits with positive gain, best gain: -inf\n",
      "[LightGBM] [Warning] No further splits with positive gain, best gain: -inf\n",
      "[LightGBM] [Warning] No further splits with positive gain, best gain: -inf\n",
      "[LightGBM] [Warning] No further splits with positive gain, best gain: -inf\n",
      "[LightGBM] [Warning] No further splits with positive gain, best gain: -inf\n",
      "[LightGBM] [Warning] No further splits with positive gain, best gain: -inf\n",
      "[LightGBM] [Warning] No further splits with positive gain, best gain: -inf\n",
      "[LightGBM] [Warning] No further splits with positive gain, best gain: -inf\n",
      "[LightGBM] [Warning] No further splits with positive gain, best gain: -inf\n",
      "[LightGBM] [Warning] No further splits with positive gain, best gain: -inf\n",
      "[LightGBM] [Warning] No further splits with positive gain, best gain: -inf\n",
      "[LightGBM] [Warning] No further splits with positive gain, best gain: -inf\n",
      "[LightGBM] [Warning] No further splits with positive gain, best gain: -inf\n",
      "[LightGBM] [Warning] No further splits with positive gain, best gain: -inf\n",
      "[LightGBM] [Warning] No further splits with positive gain, best gain: -inf\n",
      "[LightGBM] [Warning] No further splits with positive gain, best gain: -inf\n",
      "[LightGBM] [Warning] No further splits with positive gain, best gain: -inf\n",
      "[LightGBM] [Warning] No further splits with positive gain, best gain: -inf\n",
      "[LightGBM] [Warning] No further splits with positive gain, best gain: -inf\n",
      "[LightGBM] [Warning] No further splits with positive gain, best gain: -inf\n",
      "[LightGBM] [Warning] No further splits with positive gain, best gain: -inf\n",
      "[LightGBM] [Warning] No further splits with positive gain, best gain: -inf\n",
      "[LightGBM] [Warning] No further splits with positive gain, best gain: -inf\n",
      "[LightGBM] [Warning] No further splits with positive gain, best gain: -inf\n",
      "[LightGBM] [Warning] No further splits with positive gain, best gain: -inf\n",
      "[LightGBM] [Warning] No further splits with positive gain, best gain: -inf\n",
      "[LightGBM] [Warning] No further splits with positive gain, best gain: -inf\n",
      "[LightGBM] [Warning] No further splits with positive gain, best gain: -inf\n",
      "[LightGBM] [Warning] No further splits with positive gain, best gain: -inf\n",
      "[LightGBM] [Warning] No further splits with positive gain, best gain: -inf\n",
      "[LightGBM] [Warning] No further splits with positive gain, best gain: -inf\n",
      "[LightGBM] [Warning] No further splits with positive gain, best gain: -inf\n",
      "[LightGBM] [Warning] No further splits with positive gain, best gain: -inf\n",
      "[LightGBM] [Warning] No further splits with positive gain, best gain: -inf\n",
      "[LightGBM] [Warning] No further splits with positive gain, best gain: -inf\n",
      "[LightGBM] [Warning] No further splits with positive gain, best gain: -inf\n",
      "[LightGBM] [Warning] No further splits with positive gain, best gain: -inf\n",
      "[LightGBM] [Warning] No further splits with positive gain, best gain: -inf\n",
      "[LightGBM] [Warning] No further splits with positive gain, best gain: -inf\n",
      "[LightGBM] [Warning] No further splits with positive gain, best gain: -inf\n",
      "[LightGBM] [Warning] No further splits with positive gain, best gain: -inf\n",
      "[LightGBM] [Warning] No further splits with positive gain, best gain: -inf\n",
      "[LightGBM] [Warning] No further splits with positive gain, best gain: -inf\n",
      "[LightGBM] [Warning] No further splits with positive gain, best gain: -inf\n",
      "[LightGBM] [Warning] No further splits with positive gain, best gain: -inf\n",
      "[LightGBM] [Warning] No further splits with positive gain, best gain: -inf\n",
      "[LightGBM] [Warning] No further splits with positive gain, best gain: -inf\n",
      "[LightGBM] [Warning] No further splits with positive gain, best gain: -inf\n",
      "[LightGBM] [Warning] No further splits with positive gain, best gain: -inf\n",
      "[LightGBM] [Warning] No further splits with positive gain, best gain: -inf\n",
      "[LightGBM] [Warning] No further splits with positive gain, best gain: -inf\n",
      "[LightGBM] [Warning] No further splits with positive gain, best gain: -inf\n",
      "[LightGBM] [Warning] No further splits with positive gain, best gain: -inf\n",
      "[LightGBM] [Warning] No further splits with positive gain, best gain: -inf\n",
      "[LightGBM] [Warning] No further splits with positive gain, best gain: -inf\n",
      "[LightGBM] [Warning] No further splits with positive gain, best gain: -inf\n",
      "[LightGBM] [Warning] No further splits with positive gain, best gain: -inf\n",
      "[LightGBM] [Warning] No further splits with positive gain, best gain: -inf\n",
      "[LightGBM] [Warning] No further splits with positive gain, best gain: -inf\n",
      "[LightGBM] [Warning] No further splits with positive gain, best gain: -inf\n",
      "[LightGBM] [Warning] No further splits with positive gain, best gain: -inf\n",
      "[LightGBM] [Warning] No further splits with positive gain, best gain: -inf\n",
      "[LightGBM] [Warning] No further splits with positive gain, best gain: -inf\n",
      "[LightGBM] [Warning] No further splits with positive gain, best gain: -inf\n",
      "[LightGBM] [Warning] No further splits with positive gain, best gain: -inf\n",
      "[LightGBM] [Warning] No further splits with positive gain, best gain: -inf\n",
      "[LightGBM] [Warning] No further splits with positive gain, best gain: -inf\n",
      "[LightGBM] [Warning] No further splits with positive gain, best gain: -inf\n",
      "[LightGBM] [Warning] No further splits with positive gain, best gain: -inf\n",
      "[LightGBM] [Warning] No further splits with positive gain, best gain: -inf\n",
      "[LightGBM] [Warning] No further splits with positive gain, best gain: -inf\n",
      "[LightGBM] [Warning] No further splits with positive gain, best gain: -inf\n",
      "[LightGBM] [Warning] No further splits with positive gain, best gain: -inf\n",
      "[LightGBM] [Warning] No further splits with positive gain, best gain: -inf\n",
      "[LightGBM] [Warning] No further splits with positive gain, best gain: -inf\n",
      "[LightGBM] [Warning] No further splits with positive gain, best gain: -inf\n",
      "[LightGBM] [Warning] No further splits with positive gain, best gain: -inf\n",
      "[LightGBM] [Warning] No further splits with positive gain, best gain: -inf\n",
      "[LightGBM] [Warning] No further splits with positive gain, best gain: -inf\n",
      "[LightGBM] [Warning] No further splits with positive gain, best gain: -inf\n",
      "Light GBM\n",
      "Accuracy:  91.30434782608695 %\n",
      "Sensitivity:  91.66666666666666 %\n",
      "Specificity:  90.9090909090909 %\n",
      "Classification Report:\n",
      "              precision    recall  f1-score   support\n",
      "\n",
      "         0.0       0.91      0.91      0.91        11\n",
      "         1.0       0.92      0.92      0.92        12\n",
      "\n",
      "    accuracy                           0.91        23\n",
      "   macro avg       0.91      0.91      0.91        23\n",
      "weighted avg       0.91      0.91      0.91        23\n",
      "\n"
     ]
    }
   ],
   "source": [
    "train_data = lgb.Dataset(x_train, label=y_train)\n",
    "test_data = lgb.Dataset(x_test, label=y_test, reference=train_data)\n",
    "params = {\n",
    "    'objective': 'multiclass',\n",
    "    'num_class': 2,\n",
    "    'metric': 'multi_logloss',\n",
    "    'boosting_type': 'gbdt',\n",
    "    'num_leaves': 31,\n",
    "    'learning_rate': 0.05,\n",
    "    'feature_fraction': 0.9\n",
    "}\n",
    "\n",
    "# Train the LightGBM model\n",
    "model = lgb.train(params, train_data, num_boost_round=100, valid_sets=[test_data])\n",
    "\n",
    "# Make predictions on the testing set\n",
    "y_pred = model.predict(x_test, num_iteration=model.best_iteration)\n",
    "y_pred_class = [int(pred.argmax()) for pred in y_pred]\n",
    "\n",
    "print(\"Light GBM\")\n",
    "print(\"Accuracy: \", metrics.accuracy_score(y_test, y_pred_class) * 100, \"%\")\n",
    "print(\"Sensitivity: \", metrics.recall_score(y_test, y_pred_class) * 100, \"%\")\n",
    "print(\"Specificity: \", metrics.recall_score(np.logical_not(y_test), np.logical_not(y_pred_class)) * 100, \"%\")  # ~y is the negation of y\n",
    "print(\"Classification Report:\")\n",
    "print(metrics.classification_report(y_test, y_pred_class))\n"
   ]
  },
  {
   "cell_type": "code",
   "execution_count": 73,
   "id": "7c63ec0d",
   "metadata": {},
   "outputs": [],
   "source": [
    "import matplotlib.pyplot as plt\n",
    "\n",
    "def plot_roc_curve(true_y, y_prob):\n",
    "    fpr, tpr, thresholds = metrics.roc_curve(true_y, y_prob)\n",
    "    plt.plot(fpr, tpr)\n",
    "    plt.xlabel('False Positive Rate')\n",
    "    plt.ylabel('True Positive Rate')\n",
    "    plt.title('Light GBM Classifier')"
   ]
  },
  {
   "cell_type": "code",
   "execution_count": 74,
   "id": "40718020",
   "metadata": {},
   "outputs": [
    {
     "data": {
      "image/png": "[encoded data removed]",
      "text/plain": [
       "<Figure size 432x288 with 1 Axes>"
      ]
     },
     "metadata": {
      "needs_background": "light"
     },
     "output_type": "display_data"
    }
   ],
   "source": [
    "plot_roc_curve(y_test,y_pred_class)"
   ]
  },
  {
   "cell_type": "code",
   "execution_count": null,
   "id": "9f2666da",
   "metadata": {},
   "outputs": [],
   "source": []
  }
 ],
 "metadata": {
  "kernelspec": {
   "display_name": "Python 3",
   "language": "python",
   "name": "python3"
  },
  "language_info": {
   "codemirror_mode": {
    "name": "ipython",
    "version": 3
   },
   "file_extension": ".py",
   "mimetype": "text/x-python",
   "name": "python",
   "nbconvert_exporter": "python",
   "pygments_lexer": "ipython3",
   "version": "3.8.8"
  }
 },
 "nbformat": 4,
 "nbformat_minor": 5
}
